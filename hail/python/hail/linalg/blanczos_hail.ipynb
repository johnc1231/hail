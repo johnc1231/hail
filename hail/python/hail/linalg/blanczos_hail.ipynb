{
 "cells": [
  {
   "cell_type": "code",
   "execution_count": 1,
   "metadata": {},
   "outputs": [],
   "source": [
    "import numpy as np\n",
    "import hail as hl\n",
    "from hail import methods\n",
    "import scipy as sp\n",
    "import pandas as pd\n",
    "from math import sqrt, pi"
   ]
  },
  {
   "cell_type": "markdown",
   "metadata": {},
   "source": [
    "## Create genetic data (and clean/process/edit, these cells are retired now, the code to run is in the last cell at the bottom of the notebook)"
   ]
  },
  {
   "cell_type": "code",
   "execution_count": 4,
   "metadata": {},
   "outputs": [
    {
     "name": "stderr",
     "output_type": "stream",
     "text": [
      "2020-07-27 10:17:45 Hail: INFO: balding_nichols_model: generating genotypes for 3 populations, 100 samples, and 1000 variants...\n",
      "2020-07-27 10:17:45 Hail: INFO: Coerced sorted dataset\n",
      "2020-07-27 10:17:48 Hail: INFO: wrote matrix table with 1000 rows and 100 columns in 8 partitions to balding_nichols_3_100_1000.mt\n"
     ]
    }
   ],
   "source": [
    "# Create genetic data and write to disk\n",
    "bnm_mt = hl.balding_nichols_model(3, 100, 1000)\n",
    "bnm_mt.write(\"balding_nichols_3_100_1000.mt\")"
   ]
  },
  {
   "cell_type": "code",
   "execution_count": 5,
   "metadata": {},
   "outputs": [
    {
     "name": "stderr",
     "output_type": "stream",
     "text": [
      "2020-07-27 10:19:25 Hail: WARN: Name collision: field 'sample' already in object dict. \n",
      "  This field must be referenced with __getitem__ syntax: obj['sample']\n"
     ]
    }
   ],
   "source": [
    "# Read first MatrixTable and clean\n",
    "\n",
    "# entries are now calls: An object that represents an individual’s call at a genomic locus\n",
    "mt = hl.read_matrix_table(\"balding_nichols_3_100_1000.mt\")\n",
    "\n",
    "# don't understand meaning of this: returns the count of non-reference alleles from each call\n",
    "mt = mt.transmute_entries(n_alt = hl.float64(mt.GT.n_alt_alleles())) \n",
    "\n",
    "# Turn MatrixTable into Table\n",
    "\n",
    "ht = mt.localize_entries(\"ent\", \"sample\")"
   ]
  },
  {
   "cell_type": "code",
   "execution_count": 101,
   "metadata": {},
   "outputs": [],
   "source": [
    "# retired - no longer using for data generation\n",
    "def makeData(model_input, group_size):\n",
    "    mt = hl.balding_nichols_model(*model_input)\n",
    "    mt.write(\"balding_nichols_test.mt\")\n",
    "    mt = hl.read_matrix_table(\"balding_nichols_test.mt\")\n",
    "    mt = mt.transmute_entries(n_alt = hl.float64(mt.GT.n_alt_alleles())) \n",
    "    table = mt.localize_entries(\"ent\", \"sample\")\n",
    "    table = matrix_table_to_table_of_ndarrays(mt.n_alt, group_size, tmp_path='/tmp/test_table.ht')\n",
    "#     table = table.key_by(hl.int32(table.row_group_number))\n",
    "    return table\n",
    "    \n",
    "# data = makeData((3, 100, 1000), 4)\n",
    "\n",
    "# (n, m) = (100, 1000)\n",
    "# k = 50\n",
    "# l = k + 2\n",
    "# q = 0\n",
    "\n",
    "# G = hl.nd.array(np.random.normal(0, 1, (n,l)))"
   ]
  },
  {
   "cell_type": "markdown",
   "metadata": {},
   "source": [
    "## Grouping and NDArray methods from Tim and Dan"
   ]
  },
  {
   "cell_type": "code",
   "execution_count": 112,
   "metadata": {},
   "outputs": [],
   "source": [
    "# Functions for operating with Tables of ndarrays in Hail (from Tim)\n",
    "\n",
    "from hail.expr import Expression, ExpressionException, \\\n",
    "    expr_float64, expr_call, expr_any, expr_numeric, expr_array, \\\n",
    "    expr_locus, \\\n",
    "    analyze, check_entry_indexed, check_row_indexed, \\\n",
    "    matrix_table_source, table_source\n",
    "\n",
    "# Only groups by rows, NOT COLUMNS\n",
    "def matrix_table_to_table_of_ndarrays(field, group_size, tmp_path = '/tmp/nd_table.ht'):\n",
    "    \"\"\"\n",
    "\n",
    "    The returned table has two fields: 'row_group_number' and 'ndarray'.\n",
    "\n",
    "    Examples\n",
    "    --------\n",
    "    >>> ht = matrix_table_to_table_of_ndarrays(mt.GT.n_alt_alleles(), 100)\n",
    "\n",
    "    Parameters\n",
    "    ----------\n",
    "    field\n",
    "    group_size\n",
    "    tmp_path\n",
    "\n",
    "    Returns\n",
    "    -------\n",
    "\n",
    "    \"\"\"\n",
    "    mt = matrix_table_source('matrix_table_to_table_of_ndarrays/x', field)\n",
    "    mt = mt.select_entries(x = field)\n",
    "    ht = mt.localize_entries(entries_array_field_name='entries')\n",
    "    # now ht.entries is an array of structs with one field, x\n",
    "\n",
    "    # we'll also want to mean-impute/variance-normalize/etc here\n",
    "    ht = ht.select(xs = ht.entries.map(lambda e: e['x']))\n",
    "    # now ht.xs is an array of float64\n",
    "\n",
    "    # now need to produce groups of G\n",
    "    ht = ht.add_index()\n",
    "    ht = ht.group_by(row_group_number= hl.int32(ht.idx // group_size)) \\\n",
    "        .aggregate(ndarray=hl.nd.array(hl.agg.collect(ht.xs)))\n",
    "    # may require a .T on ndarray\n",
    "\n",
    "    return ht.checkpoint(tmp_path, overwrite=True)\n",
    "\n",
    "def chunk_ndarray(a, group_size):\n",
    "    \"\"\"Chunks a NDarray along the first axis in chunks of `group_size`.\n",
    "    Parameters\n",
    "    ----------\n",
    "    a\n",
    "    group_size\n",
    "    -------\n",
    "\n",
    "    \"\"\"\n",
    "    n_groups = a.shape[0] // group_size\n",
    "    groups = []\n",
    "    for i in range(a.shape[0] // group_size):\n",
    "        start = i * group_size\n",
    "        end = (i + 1) * group_size\n",
    "        groups.append(a[start:end, :])\n",
    "    return groups\n",
    "\n",
    "\n",
    "# Concatenate the ndarrays with a blocked Table\n",
    "def concatBlocked(A):\n",
    "    blocks = A.ndarray.collect()\n",
    "    big_mat = np.concatenate(blocks, axis=0)\n",
    "    ht = ndarray_to_table([big_mat])\n",
    "    \n",
    "    block_shape = blocks[0].shape\n",
    "    \n",
    "    tup = ht.ndarray.collect()[0].shape\n",
    "    assert (tup == (len(blocks) * block_shape[0], block_shape[1]))\n",
    "    \n",
    "    return ht\n",
    "\n",
    "def concatToNumpy(A):\n",
    "    blocks = A.ndarray.collect()\n",
    "    big_mat = np.concatenate(blocks, axis=0)\n",
    "    return big_mat\n",
    "\n",
    "def ndarray_to_table(chunked_arr):\n",
    "    structs = [hl.struct(row_group_number = idx, ndarray = block)\n",
    "               for idx, block in enumerate(chunked_arr)]\n",
    "    ht = hl.Table.parallelize(structs)\n",
    "    ht = ht.key_by('row_group_number')\n",
    "    return ht\n",
    "\n",
    "# function to multiply two blocks, given the two blocks\n",
    "# returns struct in form of array but not ndarray, includes the shape in the struct\n",
    "# to change the result product directly back into a ndarray we need to use from_column_major\n",
    "def block_product(left, right):\n",
    "    product = left @ right\n",
    "    n_rows, n_cols = product.shape\n",
    "    return hl.struct(\n",
    "        shape=product.shape,\n",
    "        block=hl.range(hl.int(n_rows * n_cols)).map(\n",
    "            lambda absolute: product[absolute % n_rows, absolute // n_rows]))\n",
    "\n",
    "# takes in output of block_product\n",
    "def block_aggregate(prod):\n",
    "    shape = prod.shape\n",
    "    block = prod.block\n",
    "    return hl.nd.from_column_major(\n",
    "        hl.agg.array_sum(block),\n",
    "        hl.agg.take(shape, 1)[0])\n",
    "\n",
    "# returns flat array\n",
    "def to_column_major(ndarray):\n",
    "    n_rows, n_cols = ndarray.shape\n",
    "    return hl.range(hl.int(n_rows * n_cols)).map(\n",
    "        lambda absolute: ndarray[absolute % n_rows, absolute // n_rows])\n",
    "\n",
    "# hl.nd.from_column_major(thing.the_sum, thing.the_shape)"
   ]
  },
  {
   "cell_type": "markdown",
   "metadata": {},
   "source": [
    "## Blanczos Algorithm"
   ]
  },
  {
   "cell_type": "code",
   "execution_count": 113,
   "metadata": {
    "scrolled": false
   },
   "outputs": [],
   "source": [
    "# Algorithm step: multiplying H0 = A @ G\n",
    "\n",
    "# METHOD\n",
    "# Multiply a row-blocked matrix by a local non-blocked matrix\n",
    "# First step of algorithm\n",
    "\n",
    "# Usage:\n",
    "# assumes blocks in blocked matrix are named ndarray\n",
    "# A is a table, B is a Hail ndarray\n",
    "\n",
    "# Example:\n",
    "# H0 = matmul_rowblocked_nonblocked(data, G)\n",
    "\n",
    "def matmul_rowblocked_nonblocked(A, B):\n",
    "    temp = A.annotate_globals(mat = B)\n",
    "    temp = temp.annotate(ndarray = temp.ndarray @ temp.mat)\n",
    "    temp = temp.select(temp.ndarray)\n",
    "    temp = temp.drop(temp.mat)\n",
    "    return temp\n",
    "\n",
    "\n",
    "# Algorithm step: intermediate operation of multiplying At @ (A @ G) = At @ H0\n",
    "\n",
    "# METHOD\n",
    "# Multiply a column-blocked matrix by a row-blocked matrix \n",
    "# as a blockmatrix multiplcation and then sum\n",
    "# Second step of algorithm\n",
    "\n",
    "# Usage:\n",
    "# pass in matrix A normally, blocked in rows - this specifically expects A to need to be transposed\n",
    "# assumes blocks in blocked matrix are named ndarray\n",
    "# A and B are both tables\n",
    "\n",
    "# Example:\n",
    "# G1 = matmul_colblocked_rowblocked(data, H0)\n",
    "\n",
    "def matmul_colblocked_rowblocked(A, B):\n",
    "    temp = A.transmute(prod = block_product(A.ndarray.transpose(), B[A.row_group_number].ndarray))\n",
    "    result_arr_sum = temp.aggregate(block_aggregate(temp.prod))\n",
    "    return result_arr_sum\n",
    "\n",
    "\n",
    "def matmul_nonblocked_rowblocked(B, A):\n",
    "    pass\n"
   ]
  },
  {
   "cell_type": "code",
   "execution_count": 124,
   "metadata": {},
   "outputs": [],
   "source": [
    "# Algorithm step: perform QR decomposition of Hq and compute T = Q^T @ A\n",
    "# Perform QR decomposition of a row-blocked matrix\n",
    "# Third and fourth step of algorithm\n",
    "\n",
    "def computeNextH(H, A):\n",
    "    nextG = matmul_colblocked_rowblocked(A, H)\n",
    "    return matmul_rowblocked_nonblocked(A, nextG)\n",
    "\n",
    "\n",
    "def processH(H, A):\n",
    "    \n",
    "    # perform QR decomposition on unblocked version of H\n",
    "    arr_H = concatToNumpy(H)\n",
    "    Q, R = np.linalg.qr(arr_H)\n",
    "    # assert(Q.shape == (m, (q+1)*l))\n",
    "    \n",
    "    # block Q's rows into the same number of blocks that A has\n",
    "    num_blocks = A.count()\n",
    "    tup = hl.eval(Q.shape)\n",
    "    group_size_Q = tup[0] // num_blocks\n",
    "    #assert group_size_Q * num_blocks == m\n",
    "    blocked_Q_table = ndarray_to_table(chunk_ndarray(Q, group_size_Q))\n",
    "    \n",
    "    T = matmul_colblocked_rowblocked(blocked_Q_table, A)\n",
    "    return T, Q, blocked_Q_table\n",
    "\n",
    "\n",
    "# Algorithm step: compute SVD of T such that T = USW^T\n",
    "# 5th step of algorithm\n",
    "\n",
    "def processT(T):\n",
    "    arr_T = T \n",
    "    U, S, W = np.linalg.svd(arr_T, full_matrices=False)\n",
    "    # assert(U.shape == (l, (q+1)*l))\n",
    "    # assert(S.shape == ((q+1)*l,))\n",
    "    # assert(W.shape == ((q+1)*l, n))\n",
    "    return U, S, W\n",
    "\n",
    "\n",
    "# Algorithm step: multiply V = Q @ W\n",
    "# 6th step of algorithm and last step\n",
    "\n",
    "def computeV(U, S, W, Q):\n",
    "    V = matmul_rowblocked_nonblocked(Q, U)\n",
    "    return V, S, W"
   ]
  },
  {
   "cell_type": "code",
   "execution_count": 115,
   "metadata": {},
   "outputs": [],
   "source": [
    "def hailBlanczos(A, G):\n",
    "    H0 = matmul_rowblocked_nonblocked(A, G)\n",
    "    T, Q, table_Q = processH(H0, A)\n",
    "    u, s, w = processT(T)\n",
    "    V, S, W = computeV(u, s, w, table_Q)\n",
    "    return V, S, W"
   ]
  },
  {
   "cell_type": "code",
   "execution_count": 90,
   "metadata": {
    "scrolled": true
   },
   "outputs": [
    {
     "name": "stderr",
     "output_type": "stream",
     "text": [
      "2020-07-27 13:36:06 Hail: INFO: Coerced sorted dataset\n"
     ]
    },
    {
     "name": "stdout",
     "output_type": "stream",
     "text": [
      "Q shape (1000, 52)\n",
      "T.shape (52, 100)\n"
     ]
    },
    {
     "name": "stderr",
     "output_type": "stream",
     "text": [
      "2020-07-27 13:36:08 Hail: INFO: Coerced sorted dataset\n"
     ]
    },
    {
     "name": "stdout",
     "output_type": "stream",
     "text": [
      "V shape: (1000, 52) S shape: (52,) W shape: (52, 100)\n"
     ]
    }
   ],
   "source": [
    "# T, Q, table_Q = processH(H0, data)\n",
    "# print('Q shape', Q.shape)\n",
    "\n",
    "# u, s, w = processT(T)\n",
    "# V, S, W = computeV(u, s, w, table_Q)\n",
    "# arr_V = concatToNumpy(V)\n",
    "# print('V shape:', arr_V.shape, 'S shape:', S.shape, 'W shape:', W.shape)"
   ]
  },
  {
   "cell_type": "markdown",
   "metadata": {},
   "source": [
    "## NumPy implementation from other notebook"
   ]
  },
  {
   "cell_type": "code",
   "execution_count": 127,
   "metadata": {},
   "outputs": [],
   "source": [
    "# ALL TRANSPOSED FROM ABOVE IMPLEMENTATION\n",
    "\n",
    "def hwe_normalize(call_expr):\n",
    "    mt = call_expr._indices.source\n",
    "    mt = mt.select_entries(__gt=call_expr.n_alt_alleles())\n",
    "    mt = mt.annotate_rows(__AC=hl.agg.sum(mt.__gt),\n",
    "                          __n_called=hl.agg.count_where(hl.is_defined(mt.__gt)))\n",
    "    mt = mt.filter_rows((mt.__AC > 0) & (mt.__AC < 2 * mt.__n_called))\n",
    "\n",
    "    n_variants = mt.count_rows()\n",
    "    if n_variants == 0:\n",
    "        raise FatalError(\"hwe_normalized: found 0 variants after filtering out monomorphic sites.\")\n",
    "\n",
    "    mt = mt.annotate_rows(__mean_gt=mt.__AC / mt.__n_called)\n",
    "    mt = mt.annotate_rows(\n",
    "        __hwe_scaled_std_dev=hl.sqrt(mt.__mean_gt * (2 - mt.__mean_gt) * n_variants / 2))\n",
    "    mt = mt.unfilter_entries()\n",
    "\n",
    "    normalized_gt = hl.or_else((mt.__gt - mt.__mean_gt) / mt.__hwe_scaled_std_dev, 0.0)\n",
    "    return normalized_gt\n",
    "\n",
    "#Blanczos paper error bound 4.3\n",
    "def blanczosError(U, S, V, m, n, k, q, A, k1th_sing_val):\n",
    "    norm_diff = np.linalg.norm(A - U @ S @ V.transpose())\n",
    "    bound = 100 * l * (((m-k)/l) ** (1/(4*q + 2))) * k1th_sing_val\n",
    "    return norm_diff <= bound\n",
    "\n",
    "def blanczosSVD(A, m, n, k, l, q, G):\n",
    "\n",
    "    assert l > k\n",
    "    assert (q+1)*l <= (m - k)\n",
    "    assert m <= n\n",
    "\n",
    "    # G = np.random.normal(0, 1, (l, m))\n",
    "    R = G @ A\n",
    "    print(R.shape)\n",
    "    # AtA = A.transpose() @ A\n",
    "#     listR = [R]\n",
    "#     for i in range(0, q):\n",
    "#         Ri = (listR[i] @ A.transpose()) @ A\n",
    "#         listR.append(Ri)\n",
    "#         R = np.concatenate((R, Ri), axis=0)\n",
    "\n",
    "    (Q, S) = np.linalg.qr(R.transpose())\n",
    "    assert(Q.shape == (n, (q+1)*l))\n",
    "    assert(S.shape == ((q+1)*l, (q+1)*l))\n",
    "\n",
    "    T = A @ Q\n",
    "    assert(T.shape == (m, (q+1)*l))\n",
    "    \n",
    "    (Tu, Ts, Tw) = np.linalg.svd(T, full_matrices=False)\n",
    "    assert(Tu.shape, (m, (q+1)*l))\n",
    "    assert(Ts.shape == ((q+1)*l,))\n",
    "    assert(Tw.shape == ((q+1)*l, (q+1)*l))\n",
    "    \n",
    "    \n",
    "    V = Q @ Tw\n",
    "    \n",
    "    bound = blanczosError(Tu, np.diag(Ts), V, m, n, k, q, A, Ts[k])\n",
    "    print(\"Satisfies Blanczos error bound equation 4.3: \", bound)\n",
    "\n",
    "    return (Tu, Ts, V)\n",
    "\n",
    "\n",
    "# mt = hl.balding_nichols_model(3, 10000, 1000)\n",
    "# norm_gt = hwe_normalize(mt.GT)\n",
    "# np_matrix = hl.linalg.BlockMatrix.from_entry_expr(norm_gt).to_numpy()\n",
    "\n",
    "# npA = np.asmatrix(np_matrix)\n",
    "# print(npA.shape)\n",
    "# npm, npn = npA.shape\n",
    "# npk = 50\n",
    "# npl = npk + 2\n",
    "# npq = 0\n",
    "\n",
    "# (blanczosU, blanczosS, blanczosV) = blanczosSVD(npA, npm, npn, npk, npl, npq)"
   ]
  },
  {
   "cell_type": "markdown",
   "metadata": {},
   "source": [
    "## Run NumPy and Hail implementations on the same data"
   ]
  },
  {
   "cell_type": "code",
   "execution_count": 131,
   "metadata": {},
   "outputs": [
    {
     "name": "stderr",
     "output_type": "stream",
     "text": [
      "2020-07-27 15:13:04 Hail: INFO: balding_nichols_model: generating genotypes for 3 populations, 100 samples, and 1000 variants...\n",
      "2020-07-27 15:13:05 Hail: INFO: Coerced sorted dataset\n",
      "2020-07-27 15:13:06 Hail: INFO: wrote matrix table with 1000 rows and 100 columns in 8 partitions to balding_nichols_data.mt\n",
      "2020-07-27 15:13:06 Hail: INFO: Ordering unsorted dataset with network shuffle\n",
      "2020-07-27 15:13:07 Hail: INFO: wrote table with 250 rows in 8 partitions to /tmp/test_table.ht\n"
     ]
    }
   ],
   "source": [
    "def makeSharedData(model_input, block_size):\n",
    "    \n",
    "    # we should have m > n for hail implementation\n",
    "    mt = hl.balding_nichols_model(*model_input)\n",
    "    \n",
    "    mt.write(\"balding_nichols_data.mt\")\n",
    "    mt = hl.read_matrix_table(\"balding_nichols_data.mt\")\n",
    "    \n",
    "    mt = mt.transmute_entries(n_alt = hl.float64(mt.GT.n_alt_alleles())) \n",
    "    table = mt.localize_entries(\"ent\", \"sample\")\n",
    "    table = matrix_table_to_table_of_ndarrays(mt.n_alt, block_size, tmp_path='/tmp/test_table.ht')\n",
    "    # table = table.key_by(hl.int32(table.row_group_number))\n",
    "\n",
    "    # for numpy implementation we want transposed version so m < n\n",
    "    np_matrix = np.asmatrix(concatToNumpy(table).transpose())\n",
    "\n",
    "    return table, np_matrix\n",
    "\n",
    "m = 1000\n",
    "n = 100\n",
    "block_size = 4\n",
    "hailA, numpyA = makeSharedData((3, n, m), block_size)\n",
    "k = 30\n",
    "l = k + 2\n",
    "q = 0\n",
    "\n",
    "G = np.random.normal(0, 1, (n,l))\n",
    "\n",
    "# doesn't account for differences due to transposing\n",
    "# hailV not necessarily supposed to be the same as blanczosU"
   ]
  },
  {
   "cell_type": "code",
   "execution_count": 132,
   "metadata": {},
   "outputs": [
    {
     "name": "stderr",
     "output_type": "stream",
     "text": [
      "2020-07-27 15:13:17 Hail: INFO: Coerced sorted dataset\n"
     ]
    }
   ],
   "source": [
    "hailV, hailS, hailW = hailBlanczos(hailA, hl.nd.array(G))"
   ]
  },
  {
   "cell_type": "code",
   "execution_count": 133,
   "metadata": {},
   "outputs": [
    {
     "name": "stdout",
     "output_type": "stream",
     "text": [
      "(32, 1000)\n",
      "Satisfies Blanczos error bound equation 4.3:  True\n"
     ]
    }
   ],
   "source": [
    "blanczosU, blanczosS, blanczosV = blanczosSVD(numpyA, n, m, k, l, q, G.transpose())"
   ]
  },
  {
   "cell_type": "code",
   "execution_count": 159,
   "metadata": {
    "scrolled": true
   },
   "outputs": [
    {
     "name": "stdout",
     "output_type": "stream",
     "text": [
      "largest singular value from hail: 353.22261106919746\n",
      "smallest singular value from hail: 16.854175379251558\n"
     ]
    },
    {
     "data": {
      "text/plain": [
       "array([-1.13686838e-13, -3.55271368e-14,  7.10542736e-14,  2.84217094e-14,\n",
       "        7.10542736e-15,  3.55271368e-14,  1.42108547e-14, -1.77635684e-14,\n",
       "        1.06581410e-14,  2.13162821e-14,  3.55271368e-14,  0.00000000e+00,\n",
       "        3.55271368e-15,  3.55271368e-15,  3.55271368e-15,  2.13162821e-14,\n",
       "       -3.55271368e-15,  1.42108547e-14,  7.10542736e-15, -2.13162821e-14,\n",
       "        0.00000000e+00,  3.55271368e-15,  3.55271368e-15, -7.10542736e-15,\n",
       "       -1.06581410e-14,  0.00000000e+00, -1.06581410e-14,  1.42108547e-14,\n",
       "        0.00000000e+00, -3.55271368e-15,  3.55271368e-15, -7.10542736e-15])"
      ]
     },
     "execution_count": 159,
     "metadata": {},
     "output_type": "execute_result"
    }
   ],
   "source": [
    "print('largest singular value from hail:', hailS[0])\n",
    "print('smallest singular value from hail:', hailS[k-1])\n",
    "hailS - blanczosS"
   ]
  },
  {
   "cell_type": "code",
   "execution_count": 158,
   "metadata": {},
   "outputs": [
    {
     "name": "stderr",
     "output_type": "stream",
     "text": [
      "2020-07-27 15:39:26 Hail: INFO: Coerced sorted dataset\n"
     ]
    },
    {
     "data": {
      "text/plain": [
       "True"
      ]
     },
     "execution_count": 158,
     "metadata": {},
     "output_type": "execute_result"
    }
   ],
   "source": [
    "blanczosError(concatToNumpy(hailV), np.diag(hailS), hailW.transpose(), m, n, k, q, numpyA.transpose(), hailS[k])"
   ]
  }
 ],
 "metadata": {
  "kernelspec": {
   "display_name": "Python 3",
   "language": "python",
   "name": "python3"
  },
  "language_info": {
   "codemirror_mode": {
    "name": "ipython",
    "version": 3
   },
   "file_extension": ".py",
   "mimetype": "text/x-python",
   "name": "python",
   "nbconvert_exporter": "python",
   "pygments_lexer": "ipython3",
   "version": "3.7.7"
  }
 },
 "nbformat": 4,
 "nbformat_minor": 4
}
