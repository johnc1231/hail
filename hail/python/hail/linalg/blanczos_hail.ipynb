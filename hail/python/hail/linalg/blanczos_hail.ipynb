{
 "cells": [
  {
   "cell_type": "code",
   "execution_count": 1,
   "metadata": {},
   "outputs": [],
   "source": [
    "import numpy as np\n",
    "import hail as hl\n",
    "from hail import methods\n",
    "import scipy as sp\n",
    "import pandas as pd\n",
    "from math import sqrt, pi\n",
    "from "
   ]
  },
  {
   "cell_type": "markdown",
   "metadata": {},
   "source": [
    "## CREATE GENETIC DATA (and clean/process/edit)"
   ]
  },
  {
   "cell_type": "code",
   "execution_count": 2,
   "metadata": {},
   "outputs": [
    {
     "name": "stderr",
     "output_type": "stream",
     "text": [
      "Initializing Hail with default parameters...\n",
      "Running on Apache Spark version 2.4.1\n",
      "SparkUI available at http://annamiras-air:4041\n",
      "Welcome to\n",
      "     __  __     <>__\n",
      "    / /_/ /__  __/ /\n",
      "   / __  / _ `/ / /\n",
      "  /_/ /_/\\_,_/_/_/   version 0.2.46-bf7b7f7082e1\n",
      "LOGGING: writing to /Users/annamira/Documents/GitHub/hail/hail/python/hail/linalg/hail-20200714-0936-0.2.46-bf7b7f7082e1.log\n",
      "2020-07-14 09:37:07 Hail: INFO: balding_nichols_model: generating genotypes for 3 populations, 100 samples, and 1000 variants...\n",
      "2020-07-14 09:37:18 Hail: INFO: Coerced sorted dataset\n",
      "2020-07-14 09:37:21 Hail: INFO: wrote matrix table with 1000 rows and 100 columns in 8 partitions to balding_nichols_3_100_1000.mt\n"
     ]
    }
   ],
   "source": [
    "# Create genetic data and write to disk\n",
    "bnm_mt = hl.balding_nichols_model(3, 100, 1000)\n",
    "bnm_mt.write(\"balding_nichols_3_100_1000.mt\")"
   ]
  },
  {
   "cell_type": "code",
   "execution_count": 3,
   "metadata": {},
   "outputs": [
    {
     "name": "stdout",
     "output_type": "stream",
     "text": [
      "----------------------------------------\n",
      "Global fields:\n",
      "    'bn': struct {\n",
      "        n_populations: int32, \n",
      "        n_samples: int32, \n",
      "        n_variants: int32, \n",
      "        n_partitions: int32, \n",
      "        pop_dist: array<int32>, \n",
      "        fst: array<float64>, \n",
      "        mixture: bool\n",
      "    }\n",
      "----------------------------------------\n",
      "Column fields:\n",
      "    'sample_idx': int32\n",
      "    'pop': int32\n",
      "----------------------------------------\n",
      "Row fields:\n",
      "    'locus': locus<GRCh37>\n",
      "    'alleles': array<str>\n",
      "    'ancestral_af': float64\n",
      "    'af': array<float64>\n",
      "----------------------------------------\n",
      "Entry fields:\n",
      "    'n_alt': float64\n",
      "----------------------------------------\n",
      "Column key: ['sample_idx']\n",
      "Row key: ['locus', 'alleles']\n",
      "----------------------------------------\n"
     ]
    }
   ],
   "source": [
    "# Read first MatrixTable and clean\n",
    "\n",
    "# entries are now calls: An object that represents an individual’s call at a genomic locus\n",
    "mt = hl.read_matrix_table(\"balding_nichols_3_100_1000.mt\")\n",
    "\n",
    "# don't understand meaning of this: returns the count of non-reference alleles from each call\n",
    "mt = mt.transmute_entries(n_alt = hl.float64(mt.GT.n_alt_alleles())) \n",
    "\n",
    "mt.describe()"
   ]
  },
  {
   "cell_type": "code",
   "execution_count": 10,
   "metadata": {},
   "outputs": [
    {
     "name": "stdout",
     "output_type": "stream",
     "text": [
      "----------------------------------------\n",
      "Global fields:\n",
      "    'bn': struct {\n",
      "        n_populations: int32, \n",
      "        n_samples: int32, \n",
      "        n_variants: int32, \n",
      "        n_partitions: int32, \n",
      "        pop_dist: array<int32>, \n",
      "        fst: array<float64>, \n",
      "        mixture: bool\n",
      "    } \n",
      "    'sample': array<struct {\n",
      "        sample_idx: int32, \n",
      "        pop: int32\n",
      "    }> \n",
      "----------------------------------------\n",
      "Row fields:\n",
      "    'locus': locus<GRCh37> \n",
      "    'alleles': array<str> \n",
      "    'ancestral_af': float64 \n",
      "    'af': array<float64> \n",
      "    'ent': array<struct {\n",
      "        n_alt: float64\n",
      "    }> \n",
      "----------------------------------------\n",
      "Key: ['locus', 'alleles']\n",
      "----------------------------------------\n"
     ]
    },
    {
     "name": "stderr",
     "output_type": "stream",
     "text": [
      "2020-07-15 11:09:26 Hail: WARN: Name collision: field 'sample' already in object dict. \n",
      "  This field must be referenced with __getitem__ syntax: obj['sample']\n"
     ]
    }
   ],
   "source": [
    "# Turn MatrixTable into Table\n",
    "\n",
    "ht = mt.localize_entries(\"ent\", \"sample\")\n",
    "ht.describe()"
   ]
  },
  {
<<<<<<< Updated upstream
   "cell_type": "code",
   "execution_count": 12,
   "metadata": {},
   "outputs": [
    {
     "data": {
      "text/html": [
       "<table><thead><tr><td style=\"white-space: nowrap; max-width: 500px; overflow: hidden; text-overflow: ellipsis; \" colspan=\"1\"><div style=\"text-align: left;\"></div></td><td style=\"white-space: nowrap; max-width: 500px; overflow: hidden; text-overflow: ellipsis; \" colspan=\"1\"><div style=\"text-align: left;\"></div></td><td style=\"white-space: nowrap; max-width: 500px; overflow: hidden; text-overflow: ellipsis; \" colspan=\"1\"><div style=\"text-align: left;\"></div></td><td style=\"white-space: nowrap; max-width: 500px; overflow: hidden; text-overflow: ellipsis; \" colspan=\"1\"><div style=\"text-align: left;\"></div></td><td style=\"white-space: nowrap; max-width: 500px; overflow: hidden; text-overflow: ellipsis; \" colspan=\"1\"><div style=\"text-align: left;\"></div></td></tr><tr><td style=\"white-space: nowrap; max-width: 500px; overflow: hidden; text-overflow: ellipsis; \" colspan=\"1\"><div style=\"text-align: left;\"></div></td><td style=\"white-space: nowrap; max-width: 500px; overflow: hidden; text-overflow: ellipsis; \" colspan=\"1\"><div style=\"text-align: left;\"></div></td><td style=\"white-space: nowrap; max-width: 500px; overflow: hidden; text-overflow: ellipsis; \" colspan=\"1\"><div style=\"text-align: left;border-bottom: solid 2px #000; padding-bottom: 5px\">0</div></td><td style=\"white-space: nowrap; max-width: 500px; overflow: hidden; text-overflow: ellipsis; \" colspan=\"1\"><div style=\"text-align: left;border-bottom: solid 2px #000; padding-bottom: 5px\">1</div></td><td style=\"white-space: nowrap; max-width: 500px; overflow: hidden; text-overflow: ellipsis; \" colspan=\"1\"><div style=\"text-align: left;border-bottom: solid 2px #000; padding-bottom: 5px\">2</div></td></tr><tr><td style=\"white-space: nowrap; max-width: 500px; overflow: hidden; text-overflow: ellipsis; \" colspan=\"1\"><div style=\"text-align: left;border-bottom: solid 2px #000; padding-bottom: 5px\">locus</div></td><td style=\"white-space: nowrap; max-width: 500px; overflow: hidden; text-overflow: ellipsis; \" colspan=\"1\"><div style=\"text-align: left;border-bottom: solid 2px #000; padding-bottom: 5px\">alleles</div></td><td style=\"white-space: nowrap; max-width: 500px; overflow: hidden; text-overflow: ellipsis; \" colspan=\"1\"><div style=\"text-align: left;border-bottom: solid 2px #000; padding-bottom: 5px\">n_alt</div></td><td style=\"white-space: nowrap; max-width: 500px; overflow: hidden; text-overflow: ellipsis; \" colspan=\"1\"><div style=\"text-align: left;border-bottom: solid 2px #000; padding-bottom: 5px\">n_alt</div></td><td style=\"white-space: nowrap; max-width: 500px; overflow: hidden; text-overflow: ellipsis; \" colspan=\"1\"><div style=\"text-align: left;border-bottom: solid 2px #000; padding-bottom: 5px\">n_alt</div></td></tr><tr><td style=\"white-space: nowrap; max-width: 500px; overflow: hidden; text-overflow: ellipsis; text-align: left;\">locus&lt;GRCh37&gt;</td><td style=\"white-space: nowrap; max-width: 500px; overflow: hidden; text-overflow: ellipsis; text-align: left;\">array&lt;str&gt;</td><td style=\"white-space: nowrap; max-width: 500px; overflow: hidden; text-overflow: ellipsis; text-align: left;\">float64</td><td style=\"white-space: nowrap; max-width: 500px; overflow: hidden; text-overflow: ellipsis; text-align: left;\">float64</td><td style=\"white-space: nowrap; max-width: 500px; overflow: hidden; text-overflow: ellipsis; text-align: left;\">float64</td></tr>\n",
       "</thead><tbody><tr><td style=\"white-space: nowrap; max-width: 500px; overflow: hidden; text-overflow: ellipsis; \">1:1</td><td style=\"white-space: nowrap; max-width: 500px; overflow: hidden; text-overflow: ellipsis; \">[&quot;A&quot;,&quot;C&quot;]</td><td style=\"white-space: nowrap; max-width: 500px; overflow: hidden; text-overflow: ellipsis; \">1.00e+00</td><td style=\"white-space: nowrap; max-width: 500px; overflow: hidden; text-overflow: ellipsis; \">2.00e+00</td><td style=\"white-space: nowrap; max-width: 500px; overflow: hidden; text-overflow: ellipsis; \">1.00e+00</td></tr>\n",
       "<tr><td style=\"white-space: nowrap; max-width: 500px; overflow: hidden; text-overflow: ellipsis; \">1:2</td><td style=\"white-space: nowrap; max-width: 500px; overflow: hidden; text-overflow: ellipsis; \">[&quot;A&quot;,&quot;C&quot;]</td><td style=\"white-space: nowrap; max-width: 500px; overflow: hidden; text-overflow: ellipsis; \">2.00e+00</td><td style=\"white-space: nowrap; max-width: 500px; overflow: hidden; text-overflow: ellipsis; \">2.00e+00</td><td style=\"white-space: nowrap; max-width: 500px; overflow: hidden; text-overflow: ellipsis; \">1.00e+00</td></tr>\n",
       "<tr><td style=\"white-space: nowrap; max-width: 500px; overflow: hidden; text-overflow: ellipsis; \">1:3</td><td style=\"white-space: nowrap; max-width: 500px; overflow: hidden; text-overflow: ellipsis; \">[&quot;A&quot;,&quot;C&quot;]</td><td style=\"white-space: nowrap; max-width: 500px; overflow: hidden; text-overflow: ellipsis; \">0.00e+00</td><td style=\"white-space: nowrap; max-width: 500px; overflow: hidden; text-overflow: ellipsis; \">1.00e+00</td><td style=\"white-space: nowrap; max-width: 500px; overflow: hidden; text-overflow: ellipsis; \">2.00e+00</td></tr>\n",
       "<tr><td style=\"white-space: nowrap; max-width: 500px; overflow: hidden; text-overflow: ellipsis; \">1:4</td><td style=\"white-space: nowrap; max-width: 500px; overflow: hidden; text-overflow: ellipsis; \">[&quot;A&quot;,&quot;C&quot;]</td><td style=\"white-space: nowrap; max-width: 500px; overflow: hidden; text-overflow: ellipsis; \">2.00e+00</td><td style=\"white-space: nowrap; max-width: 500px; overflow: hidden; text-overflow: ellipsis; \">1.00e+00</td><td style=\"white-space: nowrap; max-width: 500px; overflow: hidden; text-overflow: ellipsis; \">1.00e+00</td></tr>\n",
       "<tr><td style=\"white-space: nowrap; max-width: 500px; overflow: hidden; text-overflow: ellipsis; \">1:5</td><td style=\"white-space: nowrap; max-width: 500px; overflow: hidden; text-overflow: ellipsis; \">[&quot;A&quot;,&quot;C&quot;]</td><td style=\"white-space: nowrap; max-width: 500px; overflow: hidden; text-overflow: ellipsis; \">0.00e+00</td><td style=\"white-space: nowrap; max-width: 500px; overflow: hidden; text-overflow: ellipsis; \">0.00e+00</td><td style=\"white-space: nowrap; max-width: 500px; overflow: hidden; text-overflow: ellipsis; \">1.00e+00</td></tr>\n",
       "<tr><td style=\"white-space: nowrap; max-width: 500px; overflow: hidden; text-overflow: ellipsis; \">1:6</td><td style=\"white-space: nowrap; max-width: 500px; overflow: hidden; text-overflow: ellipsis; \">[&quot;A&quot;,&quot;C&quot;]</td><td style=\"white-space: nowrap; max-width: 500px; overflow: hidden; text-overflow: ellipsis; \">0.00e+00</td><td style=\"white-space: nowrap; max-width: 500px; overflow: hidden; text-overflow: ellipsis; \">2.00e+00</td><td style=\"white-space: nowrap; max-width: 500px; overflow: hidden; text-overflow: ellipsis; \">2.00e+00</td></tr>\n",
       "<tr><td style=\"white-space: nowrap; max-width: 500px; overflow: hidden; text-overflow: ellipsis; \">1:7</td><td style=\"white-space: nowrap; max-width: 500px; overflow: hidden; text-overflow: ellipsis; \">[&quot;A&quot;,&quot;C&quot;]</td><td style=\"white-space: nowrap; max-width: 500px; overflow: hidden; text-overflow: ellipsis; \">0.00e+00</td><td style=\"white-space: nowrap; max-width: 500px; overflow: hidden; text-overflow: ellipsis; \">1.00e+00</td><td style=\"white-space: nowrap; max-width: 500px; overflow: hidden; text-overflow: ellipsis; \">0.00e+00</td></tr>\n",
       "<tr><td style=\"white-space: nowrap; max-width: 500px; overflow: hidden; text-overflow: ellipsis; \">1:8</td><td style=\"white-space: nowrap; max-width: 500px; overflow: hidden; text-overflow: ellipsis; \">[&quot;A&quot;,&quot;C&quot;]</td><td style=\"white-space: nowrap; max-width: 500px; overflow: hidden; text-overflow: ellipsis; \">2.00e+00</td><td style=\"white-space: nowrap; max-width: 500px; overflow: hidden; text-overflow: ellipsis; \">2.00e+00</td><td style=\"white-space: nowrap; max-width: 500px; overflow: hidden; text-overflow: ellipsis; \">2.00e+00</td></tr>\n",
       "<tr><td style=\"white-space: nowrap; max-width: 500px; overflow: hidden; text-overflow: ellipsis; \">1:9</td><td style=\"white-space: nowrap; max-width: 500px; overflow: hidden; text-overflow: ellipsis; \">[&quot;A&quot;,&quot;C&quot;]</td><td style=\"white-space: nowrap; max-width: 500px; overflow: hidden; text-overflow: ellipsis; \">2.00e+00</td><td style=\"white-space: nowrap; max-width: 500px; overflow: hidden; text-overflow: ellipsis; \">2.00e+00</td><td style=\"white-space: nowrap; max-width: 500px; overflow: hidden; text-overflow: ellipsis; \">2.00e+00</td></tr>\n",
       "<tr><td style=\"white-space: nowrap; max-width: 500px; overflow: hidden; text-overflow: ellipsis; \">1:10</td><td style=\"white-space: nowrap; max-width: 500px; overflow: hidden; text-overflow: ellipsis; \">[&quot;A&quot;,&quot;C&quot;]</td><td style=\"white-space: nowrap; max-width: 500px; overflow: hidden; text-overflow: ellipsis; \">2.00e+00</td><td style=\"white-space: nowrap; max-width: 500px; overflow: hidden; text-overflow: ellipsis; \">0.00e+00</td><td style=\"white-space: nowrap; max-width: 500px; overflow: hidden; text-overflow: ellipsis; \">0.00e+00</td></tr>\n",
       "</tbody></table><p style=\"background: #fdd; padding: 0.4em;\">showing top 10 rows</p>\n",
       "<p style=\"background: #fdd; padding: 0.4em;\">showing the first 3 of 100 columns</p>\n"
      ],
      "text/plain": [
       "+---------------+------------+----------+----------+----------+\n",
       "| locus         | alleles    |  0.n_alt |  1.n_alt |  2.n_alt |\n",
       "+---------------+------------+----------+----------+----------+\n",
       "| locus<GRCh37> | array<str> |  float64 |  float64 |  float64 |\n",
       "+---------------+------------+----------+----------+----------+\n",
       "| 1:1           | [\"A\",\"C\"]  | 1.00e+00 | 2.00e+00 | 1.00e+00 |\n",
       "| 1:2           | [\"A\",\"C\"]  | 2.00e+00 | 2.00e+00 | 1.00e+00 |\n",
       "| 1:3           | [\"A\",\"C\"]  | 0.00e+00 | 1.00e+00 | 2.00e+00 |\n",
       "| 1:4           | [\"A\",\"C\"]  | 2.00e+00 | 1.00e+00 | 1.00e+00 |\n",
       "| 1:5           | [\"A\",\"C\"]  | 0.00e+00 | 0.00e+00 | 1.00e+00 |\n",
       "| 1:6           | [\"A\",\"C\"]  | 0.00e+00 | 2.00e+00 | 2.00e+00 |\n",
       "| 1:7           | [\"A\",\"C\"]  | 0.00e+00 | 1.00e+00 | 0.00e+00 |\n",
       "| 1:8           | [\"A\",\"C\"]  | 2.00e+00 | 2.00e+00 | 2.00e+00 |\n",
       "| 1:9           | [\"A\",\"C\"]  | 2.00e+00 | 2.00e+00 | 2.00e+00 |\n",
       "| 1:10          | [\"A\",\"C\"]  | 2.00e+00 | 0.00e+00 | 0.00e+00 |\n",
       "+---------------+------------+----------+----------+----------+\n",
       "showing top 10 rows\n",
       "showing the first 3 of 100 columns"
      ]
     },
     "metadata": {},
     "output_type": "display_data"
    },
    {
     "data": {
      "text/html": [
       "<table><thead><tr><td style=\"white-space: nowrap; max-width: 500px; overflow: hidden; text-overflow: ellipsis; \" colspan=\"1\"><div style=\"text-align: left;\"></div></td><td style=\"white-space: nowrap; max-width: 500px; overflow: hidden; text-overflow: ellipsis; \" colspan=\"1\"><div style=\"text-align: left;\"></div></td><td style=\"white-space: nowrap; max-width: 500px; overflow: hidden; text-overflow: ellipsis; \" colspan=\"1\"><div style=\"text-align: left;\"></div></td><td style=\"white-space: nowrap; max-width: 500px; overflow: hidden; text-overflow: ellipsis; \" colspan=\"1\"><div style=\"text-align: left;\"></div></td><td style=\"white-space: nowrap; max-width: 500px; overflow: hidden; text-overflow: ellipsis; \" colspan=\"1\"><div style=\"text-align: left;\"></div></td></tr><tr><td style=\"white-space: nowrap; max-width: 500px; overflow: hidden; text-overflow: ellipsis; \" colspan=\"1\"><div style=\"text-align: left;border-bottom: solid 2px #000; padding-bottom: 5px\">locus</div></td><td style=\"white-space: nowrap; max-width: 500px; overflow: hidden; text-overflow: ellipsis; \" colspan=\"1\"><div style=\"text-align: left;border-bottom: solid 2px #000; padding-bottom: 5px\">alleles</div></td><td style=\"white-space: nowrap; max-width: 500px; overflow: hidden; text-overflow: ellipsis; \" colspan=\"1\"><div style=\"text-align: left;border-bottom: solid 2px #000; padding-bottom: 5px\">ancestral_af</div></td><td style=\"white-space: nowrap; max-width: 500px; overflow: hidden; text-overflow: ellipsis; \" colspan=\"1\"><div style=\"text-align: left;border-bottom: solid 2px #000; padding-bottom: 5px\">af</div></td><td style=\"white-space: nowrap; max-width: 500px; overflow: hidden; text-overflow: ellipsis; \" colspan=\"1\"><div style=\"text-align: left;border-bottom: solid 2px #000; padding-bottom: 5px\">ent</div></td></tr><tr><td style=\"white-space: nowrap; max-width: 500px; overflow: hidden; text-overflow: ellipsis; text-align: left;\">locus&lt;GRCh37&gt;</td><td style=\"white-space: nowrap; max-width: 500px; overflow: hidden; text-overflow: ellipsis; text-align: left;\">array&lt;str&gt;</td><td style=\"white-space: nowrap; max-width: 500px; overflow: hidden; text-overflow: ellipsis; text-align: left;\">float64</td><td style=\"white-space: nowrap; max-width: 500px; overflow: hidden; text-overflow: ellipsis; text-align: left;\">array&lt;float64&gt;</td><td style=\"white-space: nowrap; max-width: 500px; overflow: hidden; text-overflow: ellipsis; text-align: left;\">array&lt;struct{n_alt: float64}&gt;</td></tr>\n",
       "</thead><tbody><tr><td style=\"white-space: nowrap; max-width: 500px; overflow: hidden; text-overflow: ellipsis; \">1:1</td><td style=\"white-space: nowrap; max-width: 500px; overflow: hidden; text-overflow: ellipsis; \">[&quot;A&quot;,&quot;C&quot;]</td><td style=\"white-space: nowrap; max-width: 500px; overflow: hidden; text-overflow: ellipsis; \">5.39e-01</td><td style=\"white-space: nowrap; max-width: 500px; overflow: hidden; text-overflow: ellipsis; \">[6.64e-01,4.49e-01,6.00e-01]</td><td style=\"white-space: nowrap; max-width: 500px; overflow: hidden; text-overflow: ellipsis; \">[(1.00e+00),(2.00e+00),(1.00e+00),(1.00e+00),(0.00e+00),(0.00e+00),(2.00e+00),(2.00e+00),(1.00e+00),(2.00e+00),(1.00e+00),(0.00e+00),(2.00e+00),(1.00e+00),(1.00e+00),(1.00e+00),(0.00e+00),(1.00e+00),(2.00e+00),(2.00e+00),(1.00e+00),(2.00e+00),(2.00e+00),(2.00e+00),(0.00e+00),(1.00e+00),(1.00e+00),(0.00e+00),(0.00e+00),(1.00e+00),(1.00e+00),(0.00e+00),(1.00e+00),(1.00e+00),(2.00e+00),(1.00e+00),(1.00e+00),(1.00e+00),(0.00e+00),(2.00e+00),(2.00e+00),(1.00e+00),(2.00e+00),(0.00e+00),(1.00e+00),(0.00e+00),(0.00e+00),(2.00e+00),(1.00e+00),(1.00e+00),(2.00e+00),(1.00e+00),(1.00e+00),(2.00e+00),(1.00e+00),(2.00e+00),(1.00e+00),(0.00e+00),(2.00e+00),(1.00e+00),(0.00e+00),(1.00e+00),(1.00e+00),(1.00e+00),(0.00e+00),(1.00e+00),(1.00e+00),(1.00e+00),(2.00e+00),(1.00e+00),(1.00e+00),(1.00e+00),(1.00e+00),(2.00e+00),(2.00e+00),(2.00e+00),(1.00e+00),(2.00e+00),(2.00e+00),(1.00e+00),(2.00e+00),(1.00e+00),(1.00e+00),(1.00e+00),(1.00e+00),(1.00e+00),(1.00e+00),(1.00e+00),(1.00e+00),(2.00e+00),(1.00e+00),(1.00e+00),(2.00e+00),(2.00e+00),(1.00e+00),(1.00e+00),(1.00e+00),(2.00e+00),(2.00e+00),(0.00e+00)]</td></tr>\n",
       "<tr><td style=\"white-space: nowrap; max-width: 500px; overflow: hidden; text-overflow: ellipsis; \">1:2</td><td style=\"white-space: nowrap; max-width: 500px; overflow: hidden; text-overflow: ellipsis; \">[&quot;A&quot;,&quot;C&quot;]</td><td style=\"white-space: nowrap; max-width: 500px; overflow: hidden; text-overflow: ellipsis; \">6.72e-01</td><td style=\"white-space: nowrap; max-width: 500px; overflow: hidden; text-overflow: ellipsis; \">[7.97e-01,5.58e-01,6.04e-01]</td><td style=\"white-space: nowrap; max-width: 500px; overflow: hidden; text-overflow: ellipsis; \">[(2.00e+00),(2.00e+00),(1.00e+00),(0.00e+00),(2.00e+00),(2.00e+00),(2.00e+00),(2.00e+00),(1.00e+00),(2.00e+00),(1.00e+00),(1.00e+00),(1.00e+00),(2.00e+00),(2.00e+00),(2.00e+00),(1.00e+00),(1.00e+00),(1.00e+00),(2.00e+00),(2.00e+00),(1.00e+00),(1.00e+00),(1.00e+00),(2.00e+00),(2.00e+00),(2.00e+00),(0.00e+00),(0.00e+00),(1.00e+00),(2.00e+00),(1.00e+00),(1.00e+00),(1.00e+00),(1.00e+00),(2.00e+00),(0.00e+00),(2.00e+00),(2.00e+00),(1.00e+00),(1.00e+00),(1.00e+00),(2.00e+00),(2.00e+00),(1.00e+00),(1.00e+00),(2.00e+00),(0.00e+00),(2.00e+00),(2.00e+00),(0.00e+00),(1.00e+00),(1.00e+00),(2.00e+00),(1.00e+00),(0.00e+00),(2.00e+00),(1.00e+00),(2.00e+00),(1.00e+00),(1.00e+00),(1.00e+00),(1.00e+00),(2.00e+00),(1.00e+00),(2.00e+00),(2.00e+00),(0.00e+00),(1.00e+00),(1.00e+00),(2.00e+00),(1.00e+00),(2.00e+00),(1.00e+00),(2.00e+00),(2.00e+00),(0.00e+00),(1.00e+00),(1.00e+00),(2.00e+00),(0.00e+00),(2.00e+00),(1.00e+00),(2.00e+00),(1.00e+00),(1.00e+00),(1.00e+00),(1.00e+00),(1.00e+00),(0.00e+00),(1.00e+00),(1.00e+00),(2.00e+00),(1.00e+00),(1.00e+00),(2.00e+00),(2.00e+00),(1.00e+00),(1.00e+00),(1.00e+00)]</td></tr>\n",
       "<tr><td style=\"white-space: nowrap; max-width: 500px; overflow: hidden; text-overflow: ellipsis; \">1:3</td><td style=\"white-space: nowrap; max-width: 500px; overflow: hidden; text-overflow: ellipsis; \">[&quot;A&quot;,&quot;C&quot;]</td><td style=\"white-space: nowrap; max-width: 500px; overflow: hidden; text-overflow: ellipsis; \">5.82e-01</td><td style=\"white-space: nowrap; max-width: 500px; overflow: hidden; text-overflow: ellipsis; \">[5.47e-01,5.82e-01,5.60e-01]</td><td style=\"white-space: nowrap; max-width: 500px; overflow: hidden; text-overflow: ellipsis; \">[(0.00e+00),(1.00e+00),(2.00e+00),(0.00e+00),(1.00e+00),(2.00e+00),(1.00e+00),(2.00e+00),(1.00e+00),(2.00e+00),(2.00e+00),(1.00e+00),(1.00e+00),(1.00e+00),(1.00e+00),(2.00e+00),(2.00e+00),(1.00e+00),(1.00e+00),(2.00e+00),(0.00e+00),(1.00e+00),(2.00e+00),(2.00e+00),(1.00e+00),(1.00e+00),(2.00e+00),(1.00e+00),(2.00e+00),(1.00e+00),(2.00e+00),(0.00e+00),(1.00e+00),(1.00e+00),(0.00e+00),(1.00e+00),(2.00e+00),(2.00e+00),(0.00e+00),(1.00e+00),(2.00e+00),(1.00e+00),(1.00e+00),(2.00e+00),(2.00e+00),(1.00e+00),(2.00e+00),(2.00e+00),(2.00e+00),(2.00e+00),(1.00e+00),(1.00e+00),(2.00e+00),(1.00e+00),(2.00e+00),(0.00e+00),(1.00e+00),(2.00e+00),(1.00e+00),(1.00e+00),(2.00e+00),(1.00e+00),(1.00e+00),(1.00e+00),(1.00e+00),(2.00e+00),(0.00e+00),(2.00e+00),(2.00e+00),(1.00e+00),(1.00e+00),(1.00e+00),(1.00e+00),(0.00e+00),(1.00e+00),(2.00e+00),(0.00e+00),(1.00e+00),(1.00e+00),(0.00e+00),(2.00e+00),(1.00e+00),(1.00e+00),(2.00e+00),(0.00e+00),(0.00e+00),(0.00e+00),(1.00e+00),(2.00e+00),(1.00e+00),(2.00e+00),(2.00e+00),(2.00e+00),(1.00e+00),(2.00e+00),(2.00e+00),(1.00e+00),(1.00e+00),(2.00e+00),(0.00e+00)]</td></tr>\n",
       "<tr><td style=\"white-space: nowrap; max-width: 500px; overflow: hidden; text-overflow: ellipsis; \">1:4</td><td style=\"white-space: nowrap; max-width: 500px; overflow: hidden; text-overflow: ellipsis; \">[&quot;A&quot;,&quot;C&quot;]</td><td style=\"white-space: nowrap; max-width: 500px; overflow: hidden; text-overflow: ellipsis; \">5.36e-01</td><td style=\"white-space: nowrap; max-width: 500px; overflow: hidden; text-overflow: ellipsis; \">[3.40e-01,6.99e-01,4.97e-01]</td><td style=\"white-space: nowrap; max-width: 500px; overflow: hidden; text-overflow: ellipsis; \">[(2.00e+00),(1.00e+00),(1.00e+00),(1.00e+00),(1.00e+00),(1.00e+00),(1.00e+00),(1.00e+00),(2.00e+00),(0.00e+00),(0.00e+00),(2.00e+00),(1.00e+00),(0.00e+00),(0.00e+00),(1.00e+00),(2.00e+00),(1.00e+00),(0.00e+00),(2.00e+00),(1.00e+00),(2.00e+00),(1.00e+00),(1.00e+00),(2.00e+00),(2.00e+00),(2.00e+00),(1.00e+00),(2.00e+00),(2.00e+00),(2.00e+00),(1.00e+00),(2.00e+00),(1.00e+00),(0.00e+00),(1.00e+00),(1.00e+00),(0.00e+00),(1.00e+00),(1.00e+00),(0.00e+00),(2.00e+00),(1.00e+00),(2.00e+00),(0.00e+00),(0.00e+00),(1.00e+00),(2.00e+00),(0.00e+00),(0.00e+00),(2.00e+00),(0.00e+00),(1.00e+00),(1.00e+00),(1.00e+00),(1.00e+00),(1.00e+00),(2.00e+00),(0.00e+00),(0.00e+00),(1.00e+00),(0.00e+00),(0.00e+00),(1.00e+00),(2.00e+00),(2.00e+00),(2.00e+00),(1.00e+00),(1.00e+00),(1.00e+00),(1.00e+00),(2.00e+00),(0.00e+00),(1.00e+00),(1.00e+00),(1.00e+00),(1.00e+00),(0.00e+00),(1.00e+00),(0.00e+00),(0.00e+00),(1.00e+00),(1.00e+00),(1.00e+00),(1.00e+00),(1.00e+00),(0.00e+00),(0.00e+00),(0.00e+00),(1.00e+00),(2.00e+00),(1.00e+00),(0.00e+00),(1.00e+00),(1.00e+00),(2.00e+00),(1.00e+00),(1.00e+00),(1.00e+00),(0.00e+00)]</td></tr>\n",
       "<tr><td style=\"white-space: nowrap; max-width: 500px; overflow: hidden; text-overflow: ellipsis; \">1:5</td><td style=\"white-space: nowrap; max-width: 500px; overflow: hidden; text-overflow: ellipsis; \">[&quot;A&quot;,&quot;C&quot;]</td><td style=\"white-space: nowrap; max-width: 500px; overflow: hidden; text-overflow: ellipsis; \">4.39e-01</td><td style=\"white-space: nowrap; max-width: 500px; overflow: hidden; text-overflow: ellipsis; \">[2.10e-01,2.42e-01,1.93e-01]</td><td style=\"white-space: nowrap; max-width: 500px; overflow: hidden; text-overflow: ellipsis; \">[(0.00e+00),(0.00e+00),(1.00e+00),(0.00e+00),(1.00e+00),(1.00e+00),(1.00e+00),(0.00e+00),(0.00e+00),(0.00e+00),(1.00e+00),(0.00e+00),(1.00e+00),(1.00e+00),(0.00e+00),(0.00e+00),(2.00e+00),(1.00e+00),(2.00e+00),(0.00e+00),(1.00e+00),(1.00e+00),(0.00e+00),(0.00e+00),(1.00e+00),(0.00e+00),(1.00e+00),(0.00e+00),(1.00e+00),(0.00e+00),(1.00e+00),(1.00e+00),(0.00e+00),(0.00e+00),(0.00e+00),(0.00e+00),(0.00e+00),(2.00e+00),(1.00e+00),(1.00e+00),(0.00e+00),(1.00e+00),(0.00e+00),(0.00e+00),(2.00e+00),(1.00e+00),(0.00e+00),(0.00e+00),(2.00e+00),(2.00e+00),(0.00e+00),(1.00e+00),(0.00e+00),(0.00e+00),(0.00e+00),(1.00e+00),(0.00e+00),(0.00e+00),(0.00e+00),(0.00e+00),(0.00e+00),(0.00e+00),(0.00e+00),(0.00e+00),(1.00e+00),(0.00e+00),(0.00e+00),(0.00e+00),(0.00e+00),(1.00e+00),(0.00e+00),(0.00e+00),(1.00e+00),(0.00e+00),(0.00e+00),(0.00e+00),(2.00e+00),(0.00e+00),(2.00e+00),(0.00e+00),(1.00e+00),(0.00e+00),(0.00e+00),(0.00e+00),(0.00e+00),(1.00e+00),(0.00e+00),(1.00e+00),(1.00e+00),(0.00e+00),(0.00e+00),(0.00e+00),(0.00e+00),(1.00e+00),(0.00e+00),(0.00e+00),(0.00e+00),(1.00e+00),(0.00e+00),(1.00e+00)]</td></tr>\n",
       "<tr><td style=\"white-space: nowrap; max-width: 500px; overflow: hidden; text-overflow: ellipsis; \">1:6</td><td style=\"white-space: nowrap; max-width: 500px; overflow: hidden; text-overflow: ellipsis; \">[&quot;A&quot;,&quot;C&quot;]</td><td style=\"white-space: nowrap; max-width: 500px; overflow: hidden; text-overflow: ellipsis; \">6.17e-01</td><td style=\"white-space: nowrap; max-width: 500px; overflow: hidden; text-overflow: ellipsis; \">[5.34e-01,8.19e-01,3.94e-01]</td><td style=\"white-space: nowrap; max-width: 500px; overflow: hidden; text-overflow: ellipsis; \">[(0.00e+00),(2.00e+00),(2.00e+00),(1.00e+00),(2.00e+00),(2.00e+00),(0.00e+00),(1.00e+00),(1.00e+00),(1.00e+00),(2.00e+00),(1.00e+00),(0.00e+00),(1.00e+00),(1.00e+00),(0.00e+00),(1.00e+00),(1.00e+00),(1.00e+00),(2.00e+00),(0.00e+00),(2.00e+00),(1.00e+00),(2.00e+00),(2.00e+00),(1.00e+00),(2.00e+00),(2.00e+00),(2.00e+00),(2.00e+00),(1.00e+00),(1.00e+00),(2.00e+00),(2.00e+00),(2.00e+00),(0.00e+00),(1.00e+00),(1.00e+00),(0.00e+00),(1.00e+00),(1.00e+00),(2.00e+00),(0.00e+00),(1.00e+00),(2.00e+00),(2.00e+00),(1.00e+00),(1.00e+00),(2.00e+00),(1.00e+00),(1.00e+00),(0.00e+00),(2.00e+00),(1.00e+00),(1.00e+00),(0.00e+00),(0.00e+00),(0.00e+00),(1.00e+00),(2.00e+00),(1.00e+00),(2.00e+00),(2.00e+00),(2.00e+00),(2.00e+00),(2.00e+00),(2.00e+00),(2.00e+00),(1.00e+00),(2.00e+00),(2.00e+00),(0.00e+00),(1.00e+00),(0.00e+00),(2.00e+00),(1.00e+00),(0.00e+00),(1.00e+00),(1.00e+00),(1.00e+00),(1.00e+00),(0.00e+00),(2.00e+00),(1.00e+00),(2.00e+00),(2.00e+00),(1.00e+00),(2.00e+00),(1.00e+00),(2.00e+00),(2.00e+00),(0.00e+00),(0.00e+00),(1.00e+00),(2.00e+00),(2.00e+00),(0.00e+00),(2.00e+00),(0.00e+00),(1.00e+00)]</td></tr>\n",
       "<tr><td style=\"white-space: nowrap; max-width: 500px; overflow: hidden; text-overflow: ellipsis; \">1:7</td><td style=\"white-space: nowrap; max-width: 500px; overflow: hidden; text-overflow: ellipsis; \">[&quot;A&quot;,&quot;C&quot;]</td><td style=\"white-space: nowrap; max-width: 500px; overflow: hidden; text-overflow: ellipsis; \">4.50e-01</td><td style=\"white-space: nowrap; max-width: 500px; overflow: hidden; text-overflow: ellipsis; \">[3.51e-01,5.69e-01,1.91e-01]</td><td style=\"white-space: nowrap; max-width: 500px; overflow: hidden; text-overflow: ellipsis; \">[(0.00e+00),(1.00e+00),(0.00e+00),(0.00e+00),(1.00e+00),(1.00e+00),(1.00e+00),(0.00e+00),(1.00e+00),(0.00e+00),(2.00e+00),(1.00e+00),(1.00e+00),(1.00e+00),(1.00e+00),(2.00e+00),(0.00e+00),(1.00e+00),(0.00e+00),(2.00e+00),(0.00e+00),(0.00e+00),(2.00e+00),(0.00e+00),(0.00e+00),(0.00e+00),(2.00e+00),(2.00e+00),(2.00e+00),(2.00e+00),(1.00e+00),(0.00e+00),(1.00e+00),(1.00e+00),(1.00e+00),(0.00e+00),(1.00e+00),(1.00e+00),(0.00e+00),(1.00e+00),(2.00e+00),(1.00e+00),(0.00e+00),(1.00e+00),(1.00e+00),(1.00e+00),(1.00e+00),(0.00e+00),(0.00e+00),(1.00e+00),(1.00e+00),(1.00e+00),(0.00e+00),(0.00e+00),(0.00e+00),(0.00e+00),(1.00e+00),(1.00e+00),(0.00e+00),(0.00e+00),(1.00e+00),(0.00e+00),(0.00e+00),(0.00e+00),(1.00e+00),(1.00e+00),(1.00e+00),(2.00e+00),(0.00e+00),(0.00e+00),(1.00e+00),(1.00e+00),(1.00e+00),(1.00e+00),(1.00e+00),(0.00e+00),(1.00e+00),(0.00e+00),(2.00e+00),(1.00e+00),(1.00e+00),(0.00e+00),(1.00e+00),(1.00e+00),(0.00e+00),(0.00e+00),(0.00e+00),(2.00e+00),(0.00e+00),(1.00e+00),(0.00e+00),(0.00e+00),(1.00e+00),(0.00e+00),(0.00e+00),(1.00e+00),(1.00e+00),(2.00e+00),(0.00e+00),(0.00e+00)]</td></tr>\n",
       "<tr><td style=\"white-space: nowrap; max-width: 500px; overflow: hidden; text-overflow: ellipsis; \">1:8</td><td style=\"white-space: nowrap; max-width: 500px; overflow: hidden; text-overflow: ellipsis; \">[&quot;A&quot;,&quot;C&quot;]</td><td style=\"white-space: nowrap; max-width: 500px; overflow: hidden; text-overflow: ellipsis; \">8.13e-01</td><td style=\"white-space: nowrap; max-width: 500px; overflow: hidden; text-overflow: ellipsis; \">[7.49e-01,9.57e-01,9.47e-01]</td><td style=\"white-space: nowrap; max-width: 500px; overflow: hidden; text-overflow: ellipsis; \">[(2.00e+00),(2.00e+00),(2.00e+00),(2.00e+00),(2.00e+00),(1.00e+00),(1.00e+00),(2.00e+00),(2.00e+00),(2.00e+00),(2.00e+00),(1.00e+00),(2.00e+00),(1.00e+00),(1.00e+00),(2.00e+00),(2.00e+00),(2.00e+00),(2.00e+00),(2.00e+00),(1.00e+00),(2.00e+00),(2.00e+00),(2.00e+00),(2.00e+00),(1.00e+00),(2.00e+00),(2.00e+00),(2.00e+00),(2.00e+00),(1.00e+00),(2.00e+00),(2.00e+00),(2.00e+00),(2.00e+00),(2.00e+00),(2.00e+00),(2.00e+00),(2.00e+00),(2.00e+00),(2.00e+00),(2.00e+00),(2.00e+00),(1.00e+00),(2.00e+00),(2.00e+00),(1.00e+00),(2.00e+00),(1.00e+00),(2.00e+00),(2.00e+00),(1.00e+00),(2.00e+00),(1.00e+00),(2.00e+00),(1.00e+00),(2.00e+00),(1.00e+00),(0.00e+00),(1.00e+00),(2.00e+00),(2.00e+00),(1.00e+00),(2.00e+00),(2.00e+00),(2.00e+00),(2.00e+00),(2.00e+00),(2.00e+00),(2.00e+00),(2.00e+00),(2.00e+00),(1.00e+00),(1.00e+00),(2.00e+00),(2.00e+00),(1.00e+00),(2.00e+00),(2.00e+00),(1.00e+00),(2.00e+00),(2.00e+00),(2.00e+00),(2.00e+00),(2.00e+00),(2.00e+00),(2.00e+00),(2.00e+00),(2.00e+00),(2.00e+00),(2.00e+00),(2.00e+00),(2.00e+00),(1.00e+00),(1.00e+00),(2.00e+00),(1.00e+00),(2.00e+00),(2.00e+00),(2.00e+00)]</td></tr>\n",
       "<tr><td style=\"white-space: nowrap; max-width: 500px; overflow: hidden; text-overflow: ellipsis; \">1:9</td><td style=\"white-space: nowrap; max-width: 500px; overflow: hidden; text-overflow: ellipsis; \">[&quot;A&quot;,&quot;C&quot;]</td><td style=\"white-space: nowrap; max-width: 500px; overflow: hidden; text-overflow: ellipsis; \">8.71e-01</td><td style=\"white-space: nowrap; max-width: 500px; overflow: hidden; text-overflow: ellipsis; \">[9.67e-01,8.87e-01,8.55e-01]</td><td style=\"white-space: nowrap; max-width: 500px; overflow: hidden; text-overflow: ellipsis; \">[(2.00e+00),(2.00e+00),(2.00e+00),(2.00e+00),(1.00e+00),(2.00e+00),(2.00e+00),(2.00e+00),(2.00e+00),(2.00e+00),(1.00e+00),(2.00e+00),(2.00e+00),(2.00e+00),(2.00e+00),(1.00e+00),(2.00e+00),(2.00e+00),(2.00e+00),(2.00e+00),(2.00e+00),(2.00e+00),(2.00e+00),(2.00e+00),(2.00e+00),(2.00e+00),(2.00e+00),(2.00e+00),(1.00e+00),(1.00e+00),(2.00e+00),(2.00e+00),(2.00e+00),(1.00e+00),(2.00e+00),(1.00e+00),(2.00e+00),(1.00e+00),(2.00e+00),(2.00e+00),(2.00e+00),(1.00e+00),(2.00e+00),(2.00e+00),(2.00e+00),(2.00e+00),(2.00e+00),(2.00e+00),(2.00e+00),(2.00e+00),(2.00e+00),(1.00e+00),(2.00e+00),(2.00e+00),(2.00e+00),(2.00e+00),(1.00e+00),(2.00e+00),(2.00e+00),(2.00e+00),(1.00e+00),(2.00e+00),(1.00e+00),(2.00e+00),(2.00e+00),(1.00e+00),(2.00e+00),(2.00e+00),(2.00e+00),(2.00e+00),(2.00e+00),(2.00e+00),(2.00e+00),(2.00e+00),(1.00e+00),(2.00e+00),(2.00e+00),(2.00e+00),(2.00e+00),(1.00e+00),(2.00e+00),(2.00e+00),(1.00e+00),(1.00e+00),(2.00e+00),(2.00e+00),(2.00e+00),(2.00e+00),(1.00e+00),(2.00e+00),(2.00e+00),(1.00e+00),(2.00e+00),(2.00e+00),(2.00e+00),(2.00e+00),(1.00e+00),(2.00e+00),(2.00e+00),(2.00e+00)]</td></tr>\n",
       "<tr><td style=\"white-space: nowrap; max-width: 500px; overflow: hidden; text-overflow: ellipsis; \">1:10</td><td style=\"white-space: nowrap; max-width: 500px; overflow: hidden; text-overflow: ellipsis; \">[&quot;A&quot;,&quot;C&quot;]</td><td style=\"white-space: nowrap; max-width: 500px; overflow: hidden; text-overflow: ellipsis; \">4.07e-01</td><td style=\"white-space: nowrap; max-width: 500px; overflow: hidden; text-overflow: ellipsis; \">[7.29e-01,2.49e-01,4.23e-01]</td><td style=\"white-space: nowrap; max-width: 500px; overflow: hidden; text-overflow: ellipsis; \">[(2.00e+00),(0.00e+00),(0.00e+00),(0.00e+00),(1.00e+00),(1.00e+00),(1.00e+00),(2.00e+00),(0.00e+00),(2.00e+00),(0.00e+00),(0.00e+00),(0.00e+00),(1.00e+00),(0.00e+00),(1.00e+00),(1.00e+00),(2.00e+00),(2.00e+00),(1.00e+00),(1.00e+00),(0.00e+00),(0.00e+00),(2.00e+00),(2.00e+00),(1.00e+00),(1.00e+00),(0.00e+00),(0.00e+00),(1.00e+00),(1.00e+00),(2.00e+00),(0.00e+00),(1.00e+00),(1.00e+00),(1.00e+00),(0.00e+00),(1.00e+00),(2.00e+00),(1.00e+00),(2.00e+00),(0.00e+00),(1.00e+00),(2.00e+00),(2.00e+00),(1.00e+00),(2.00e+00),(1.00e+00),(1.00e+00),(2.00e+00),(0.00e+00),(1.00e+00),(2.00e+00),(1.00e+00),(0.00e+00),(0.00e+00),(2.00e+00),(0.00e+00),(2.00e+00),(1.00e+00),(0.00e+00),(1.00e+00),(0.00e+00),(2.00e+00),(0.00e+00),(1.00e+00),(2.00e+00),(0.00e+00),(1.00e+00),(1.00e+00),(1.00e+00),(1.00e+00),(2.00e+00),(1.00e+00),(0.00e+00),(2.00e+00),(2.00e+00),(0.00e+00),(0.00e+00),(2.00e+00),(0.00e+00),(0.00e+00),(0.00e+00),(2.00e+00),(1.00e+00),(0.00e+00),(1.00e+00),(1.00e+00),(1.00e+00),(2.00e+00),(0.00e+00),(0.00e+00),(2.00e+00),(1.00e+00),(2.00e+00),(1.00e+00),(2.00e+00),(0.00e+00),(0.00e+00),(2.00e+00)]</td></tr>\n",
       "</tbody></table><p style=\"background: #fdd; padding: 0.4em;\">showing top 10 rows</p>\n"
      ],
      "text/plain": [
       "+---------------+------------+--------------+------------------------------+\n",
       "| locus         | alleles    | ancestral_af | af                           |\n",
       "+---------------+------------+--------------+------------------------------+\n",
       "| locus<GRCh37> | array<str> |      float64 | array<float64>               |\n",
       "+---------------+------------+--------------+------------------------------+\n",
       "| 1:1           | [\"A\",\"C\"]  |     5.39e-01 | [6.64e-01,4.49e-01,6.00e-01] |\n",
       "| 1:2           | [\"A\",\"C\"]  |     6.72e-01 | [7.97e-01,5.58e-01,6.04e-01] |\n",
       "| 1:3           | [\"A\",\"C\"]  |     5.82e-01 | [5.47e-01,5.82e-01,5.60e-01] |\n",
       "| 1:4           | [\"A\",\"C\"]  |     5.36e-01 | [3.40e-01,6.99e-01,4.97e-01] |\n",
       "| 1:5           | [\"A\",\"C\"]  |     4.39e-01 | [2.10e-01,2.42e-01,1.93e-01] |\n",
       "| 1:6           | [\"A\",\"C\"]  |     6.17e-01 | [5.34e-01,8.19e-01,3.94e-01] |\n",
       "| 1:7           | [\"A\",\"C\"]  |     4.50e-01 | [3.51e-01,5.69e-01,1.91e-01] |\n",
       "| 1:8           | [\"A\",\"C\"]  |     8.13e-01 | [7.49e-01,9.57e-01,9.47e-01] |\n",
       "| 1:9           | [\"A\",\"C\"]  |     8.71e-01 | [9.67e-01,8.87e-01,8.55e-01] |\n",
       "| 1:10          | [\"A\",\"C\"]  |     4.07e-01 | [7.29e-01,2.49e-01,4.23e-01] |\n",
       "+---------------+------------+--------------+------------------------------+\n",
       "\n",
       "+------------------------------------------------------------------------------+\n",
       "| ent                                                                          |\n",
       "+------------------------------------------------------------------------------+\n",
       "| array<struct{n_alt: float64}>                                                |\n",
       "+------------------------------------------------------------------------------+\n",
       "| [(1.00e+00),(2.00e+00),(1.00e+00),(1.00e+00),(0.00e+00),(0.00e+00),(2.00e... |\n",
       "| [(2.00e+00),(2.00e+00),(1.00e+00),(0.00e+00),(2.00e+00),(2.00e+00),(2.00e... |\n",
       "| [(0.00e+00),(1.00e+00),(2.00e+00),(0.00e+00),(1.00e+00),(2.00e+00),(1.00e... |\n",
       "| [(2.00e+00),(1.00e+00),(1.00e+00),(1.00e+00),(1.00e+00),(1.00e+00),(1.00e... |\n",
       "| [(0.00e+00),(0.00e+00),(1.00e+00),(0.00e+00),(1.00e+00),(1.00e+00),(1.00e... |\n",
       "| [(0.00e+00),(2.00e+00),(2.00e+00),(1.00e+00),(2.00e+00),(2.00e+00),(0.00e... |\n",
       "| [(0.00e+00),(1.00e+00),(0.00e+00),(0.00e+00),(1.00e+00),(1.00e+00),(1.00e... |\n",
       "| [(2.00e+00),(2.00e+00),(2.00e+00),(2.00e+00),(2.00e+00),(1.00e+00),(1.00e... |\n",
       "| [(2.00e+00),(2.00e+00),(2.00e+00),(2.00e+00),(1.00e+00),(2.00e+00),(2.00e... |\n",
       "| [(2.00e+00),(0.00e+00),(0.00e+00),(0.00e+00),(1.00e+00),(1.00e+00),(1.00e... |\n",
       "+------------------------------------------------------------------------------+\n",
       "showing top 10 rows"
      ]
     },
     "metadata": {},
     "output_type": "display_data"
    }
   ],
   "source": [
    "mt.show()\n",
    "ht.show()"
   ]
  },
  {
   "cell_type": "markdown",
   "metadata": {},
   "source": [
    "## Tim's Grouping Methods"
=======
   "cell_type": "markdown",
   "metadata": {},
   "source": [
    "## Grouping and NDArray methods from Tim and Dan"
>>>>>>> Stashed changes
   ]
  },
  {
   "cell_type": "code",
   "execution_count": 16,
   "metadata": {},
   "outputs": [],
   "source": [
    "# Functions for operating with Tables of ndarrays in Hail (from Tim)\n",
    "\n",
    "from hail.expr import Expression, ExpressionException, \\\n",
    "    expr_float64, expr_call, expr_any, expr_numeric, expr_array, \\\n",
    "    expr_locus, \\\n",
    "    analyze, check_entry_indexed, check_row_indexed, \\\n",
    "    matrix_table_source, table_source\n",
    "\n",
    "# Only groups by rows, NOT COLUMNS\n",
    "def matrix_table_to_table_of_ndarrays(field, group_size, tmp_path = '/tmp/nd_table.ht'):\n",
    "    \"\"\"\n",
    "\n",
    "    The returned table has two fields: 'row_group_number' and 'ndarray'.\n",
    "\n",
    "    Examples\n",
    "    --------\n",
    "    >>> ht = matrix_table_to_table_of_ndarrays(mt.GT.n_alt_alleles(), 100)\n",
    "\n",
    "    Parameters\n",
    "    ----------\n",
    "    field\n",
    "    group_size\n",
    "    tmp_path\n",
    "\n",
    "    Returns\n",
    "    -------\n",
    "\n",
    "    \"\"\"\n",
    "    mt = matrix_table_source('matrix_table_to_table_of_ndarrays/x', field)\n",
    "    mt = mt.select_entries(x = field)\n",
    "    ht = mt.localize_entries(entries_array_field_name='entries')\n",
    "    # now ht.entries is an array of structs with one field, x\n",
    "\n",
    "    # we'll also want to mean-impute/variance-normalize/etc here\n",
    "    ht = ht.select(xs = ht.entries.map(lambda e: e['x']))\n",
    "    # now ht.xs is an array of float64\n",
    "\n",
    "    # now need to produce groups of G\n",
    "    ht = ht.add_index()\n",
    "    ht = ht.group_by(row_group_number=ht.idx // group_size) \\\n",
    "        .aggregate(ndarray=hl.nd.array(hl.agg.collect(ht.xs)))\n",
    "    # may require a .T on ndarray\n",
    "\n",
    "    return ht.checkpoint(tmp_path, overwrite=True)\n",
    "\n",
    "def chunk_ndarray(a, group_size):\n",
    "    \"\"\"Chunks a NDarray along the first axis in chunks of `group_size`.\n",
    "    Parameters\n",
    "    ----------\n",
    "    a\n",
    "    group_size\n",
    "\n",
    "    Returns\n",
    "    -------\n",
    "\n",
    "    \"\"\"\n",
    "    n_groups = a.shape[0] // group_size\n",
    "    groups = []\n",
    "    for i in range(a.shape[0] // group_size):\n",
    "        start = i * group_size\n",
    "        end = (i + 1) * group_size\n",
    "        groups.append(a[start:end, :])\n",
    "    return groups"
   ]
  },
  {
   "cell_type": "code",
<<<<<<< Updated upstream
   "execution_count": 34,
=======
   "execution_count": 101,
   "metadata": {},
   "outputs": [],
   "source": [
    "# function to multiply two blocks, given the two blocks\n",
    "# returns struct in form of array but not ndarray? don't understand last line\n",
    "def block_product(left, right):\n",
    "    product = left @ right\n",
    "    n_rows, n_cols = product.shape\n",
    "    return hl.struct(\n",
    "        shape=product.shape,\n",
    "        block=hl.range(hl.int(n_rows * n_cols)).map(\n",
    "            lambda absolute: product[absolute % n_rows, absolute // n_rows]))\n",
    "\n",
    "def block_aggregate(prod):\n",
    "    shape = prod.shape\n",
    "    block = prod.block\n",
    "    return hl.nd.from_column_major(\n",
    "        hl.agg.array_sum(block),\n",
    "        hl.agg.take(shape, 1)[0])\n",
    "\n",
    "def to_column_major(ndarray):\n",
    "    n_rows, n_cols = ndarray.shape\n",
    "    return hl.range(hl.int(n_rows * n_cols)).map(\n",
    "        lambda absolute: ndarray[absolute % n_rows, absolute // n_rows])\n",
    "\n",
    "# hl.nd.from_column_major(thing.the_sum, thing.the_shape)"
   ]
  },
  {
   "cell_type": "code",
   "execution_count": 82,
>>>>>>> Stashed changes
   "metadata": {
    "scrolled": false
   },
   "outputs": [
    {
     "name": "stderr",
     "output_type": "stream",
     "text": [
<<<<<<< Updated upstream
      "2020-07-16 12:57:52 Hail: INFO: Ordering unsorted dataset with network shuffle\n",
      "2020-07-16 12:57:53 Hail: INFO: wrote table with 100 rows in 8 partitions to /tmp/nd_table.ht\n"
     ]
    },
    {
     "data": {
      "text/html": [
       "<table><thead><tr><td style=\"white-space: nowrap; max-width: 500px; overflow: hidden; text-overflow: ellipsis; \" colspan=\"1\"><div style=\"text-align: left;\"></div></td><td style=\"white-space: nowrap; max-width: 500px; overflow: hidden; text-overflow: ellipsis; \" colspan=\"1\"><div style=\"text-align: left;\"></div></td></tr><tr><td style=\"white-space: nowrap; max-width: 500px; overflow: hidden; text-overflow: ellipsis; \" colspan=\"1\"><div style=\"text-align: left;border-bottom: solid 2px #000; padding-bottom: 5px\">row_group_number</div></td><td style=\"white-space: nowrap; max-width: 500px; overflow: hidden; text-overflow: ellipsis; \" colspan=\"1\"><div style=\"text-align: left;border-bottom: solid 2px #000; padding-bottom: 5px\">ndarray</div></td></tr><tr><td style=\"white-space: nowrap; max-width: 500px; overflow: hidden; text-overflow: ellipsis; text-align: left;\">int64</td><td style=\"white-space: nowrap; max-width: 500px; overflow: hidden; text-overflow: ellipsis; text-align: left;\">ndarray&lt;float64, 2&gt;</td></tr>\n",
       "</thead><tbody><tr><td style=\"white-space: nowrap; max-width: 500px; overflow: hidden; text-overflow: ellipsis; \">0</td><td style=\"white-space: nowrap; max-width: 500px; overflow: hidden; text-overflow: ellipsis; \">ndarray{shape=(10, 100), data=[[1.0, 2.0, 1.0, 1.0, 0.0, 0.0, 2.0, 2.0, 1.0, 2.0, 1.0, 0.0, 2.0, 1.0, 1.0, 1.0, 0.0, 1.0, 2.0, 2.0, 1.0, 2.0, 2.0, 2.0, 0.0, 1.0, 1.0, 0.0, 0.0, 1.0, 1.0, 0.0, 1.0, 1.0, 2.0, 1.0, 1.0, 1.0, 0.0, 2.0, 2.0, 1.0, 2.0, 0.0, 1.0, 0.0, 0.0, 2.0, 1.0, 1.0, 2.0, 1.0, 1.0, 2.0, 1.0, 2.0, 1.0, 0.0, 2.0, 1.0, 0.0, 1.0, 1.0, 1.0, 0.0, 1.0, 1.0, 1.0, 2.0, 1.0, 1.0, 1.0, 1.0, 2.0, 2.0, 2.0, 1.0, 2.0, 2.0, 1.0, 2.0, 1.0, 1.0, 1.0, 1.0, 1.0, 1.0, 1.0, 1.0, 2.0, 1.0, 1.0, 2.0, 2.0, 1.0, 1.0, 1.0, 2.0, 2.0, 0.0], [2.0, 2.0, 1.0, 0.0, 2.0, 2.0, 2.0, 2.0, 1.0, 2.0, 1.0, 1.0, 1.0, 2.0, 2.0, 2.0, 1.0, 1.0, 1.0, 2.0, 2.0, 1.0, 1.0, 1.0, 2.0, 2.0, 2.0, 0.0, 0.0, 1.0, 2.0, 1.0, 1.0, 1.0, 1.0, 2.0, 0.0, 2.0, 2.0, 1.0, 1.0, 1.0, 2.0, 2.0, 1.0, 1.0, 2.0, 0.0, 2.0, 2.0, 0.0, 1.0, 1.0, 2.0, 1.0, 0.0, 2.0, 1.0, 2.0, 1.0, 1.0, 1.0, 1.0, 2.0, 1.0, 2.0, 2.0, 0.0, 1.0, 1.0, 2.0, 1.0, 2.0, 1.0, 2.0, 2.0, 0.0, 1.0, 1.0, 2.0, 0.0, 2.0, 1.0, 2.0, 1.0, 1.0, 1.0, 1.0, 1.0, 0.0, 1.0, 1.0, 2.0, 1.0, 1.0, 2.0, 2.0, 1.0, 1.0, 1.0], [0.0, 1.0, 2.0, 0.0, 1.0, 2.0, 1.0, 2.0, 1.0, 2.0, 2.0, 1.0, 1.0, 1.0, 1.0, 2.0, 2.0, 1.0, 1.0, 2.0, 0.0, 1.0, 2.0, 2.0, 1.0, 1.0, 2.0, 1.0, 2.0, 1.0, 2.0, 0.0, 1.0, 1.0, 0.0, 1.0, 2.0, 2.0, 0.0, 1.0, 2.0, 1.0, 1.0, 2.0, 2.0, 1.0, 2.0, 2.0, 2.0, 2.0, 1.0, 1.0, 2.0, 1.0, 2.0, 0.0, 1.0, 2.0, 1.0, 1.0, 2.0, 1.0, 1.0, 1.0, 1.0, 2.0, 0.0, 2.0, 2.0, 1.0, 1.0, 1.0, 1.0, 0.0, 1.0, 2.0, 0.0, 1.0, 1.0, 0.0, 2.0, 1.0, 1.0, 2.0, 0.0, 0.0, 0.0, 1.0, 2.0, 1.0, 2.0, 2.0, 2.0, 1.0, 2.0, 2.0, 1.0, 1.0, 2.0, 0.0], [2.0, 1.0, 1.0, 1.0, 1.0, 1.0, 1.0, 1.0, 2.0, 0.0, 0.0, 2.0, 1.0, 0.0, 0.0, 1.0, 2.0, 1.0, 0.0, 2.0, 1.0, 2.0, 1.0, 1.0, 2.0, 2.0, 2.0, 1.0, 2.0, 2.0, 2.0, 1.0, 2.0, 1.0, 0.0, 1.0, 1.0, 0.0, 1.0, 1.0, 0.0, 2.0, 1.0, 2.0, 0.0, 0.0, 1.0, 2.0, 0.0, 0.0, 2.0, 0.0, 1.0, 1.0, 1.0, 1.0, 1.0, 2.0, 0.0, 0.0, 1.0, 0.0, 0.0, 1.0, 2.0, 2.0, 2.0, 1.0, 1.0, 1.0, 1.0, 2.0, 0.0, 1.0, 1.0, 1.0, 1.0, 0.0, 1.0, 0.0, 0.0, 1.0, 1.0, 1.0, 1.0, 1.0, 0.0, 0.0, 0.0, 1.0, 2.0, 1.0, 0.0, 1.0, 1.0, 2.0, 1.0, 1.0, 1.0, 0.0], [0.0, 0.0, 1.0, 0.0, 1.0, 1.0, 1.0, 0.0, 0.0, 0.0, 1.0, 0.0, 1.0, 1.0, 0.0, 0.0, 2.0, 1.0, 2.0, 0.0, 1.0, 1.0, 0.0, 0.0, 1.0, 0.0, 1.0, 0.0, 1.0, 0.0, 1.0, 1.0, 0.0, 0.0, 0.0, 0.0, 0.0, 2.0, 1.0, 1.0, 0.0, 1.0, 0.0, 0.0, 2.0, 1.0, 0.0, 0.0, 2.0, 2.0, 0.0, 1.0, 0.0, 0.0, 0.0, 1.0, 0.0, 0.0, 0.0, 0.0, 0.0, 0.0, 0.0, 0.0, 1.0, 0.0, 0.0, 0.0, 0.0, 1.0, 0.0, 0.0, 1.0, 0.0, 0.0, 0.0, 2.0, 0.0, 2.0, 0.0, 1.0, 0.0, 0.0, 0.0, 0.0, 1.0, 0.0, 1.0, 1.0, 0.0, 0.0, 0.0, 0.0, 1.0, 0.0, 0.0, 0.0, 1.0, 0.0, 1.0], [0.0, 2.0, 2.0, 1.0, 2.0, 2.0, 0.0, 1.0, 1.0, 1.0, 2.0, 1.0, 0.0, 1.0, 1.0, 0.0, 1.0, 1.0, 1.0, 2.0, 0.0, 2.0, 1.0, 2.0, 2.0, 1.0, 2.0, 2.0, 2.0, 2.0, 1.0, 1.0, 2.0, 2.0, 2.0, 0.0, 1.0, 1.0, 0.0, 1.0, 1.0, 2.0, 0.0, 1.0, 2.0, 2.0, 1.0, 1.0, 2.0, 1.0, 1.0, 0.0, 2.0, 1.0, 1.0, 0.0, 0.0, 0.0, 1.0, 2.0, 1.0, 2.0, 2.0, 2.0, 2.0, 2.0, 2.0, 2.0, 1.0, 2.0, 2.0, 0.0, 1.0, 0.0, 2.0, 1.0, 0.0, 1.0, 1.0, 1.0, 1.0, 0.0, 2.0, 1.0, 2.0, 2.0, 1.0, 2.0, 1.0, 2.0, 2.0, 0.0, 0.0, 1.0, 2.0, 2.0, 0.0, 2.0, 0.0, 1.0], [0.0, 1.0, 0.0, 0.0, 1.0, 1.0, 1.0, 0.0, 1.0, 0.0, 2.0, 1.0, 1.0, 1.0, 1.0, 2.0, 0.0, 1.0, 0.0, 2.0, 0.0, 0.0, 2.0, 0.0, 0.0, 0.0, 2.0, 2.0, 2.0, 2.0, 1.0, 0.0, 1.0, 1.0, 1.0, 0.0, 1.0, 1.0, 0.0, 1.0, 2.0, 1.0, 0.0, 1.0, 1.0, 1.0, 1.0, 0.0, 0.0, 1.0, 1.0, 1.0, 0.0, 0.0, 0.0, 0.0, 1.0, 1.0, 0.0, 0.0, 1.0, 0.0, 0.0, 0.0, 1.0, 1.0, 1.0, 2.0, 0.0, 0.0, 1.0, 1.0, 1.0, 1.0, 1.0, 0.0, 1.0, 0.0, 2.0, 1.0, 1.0, 0.0, 1.0, 1.0, 0.0, 0.0, 0.0, 2.0, 0.0, 1.0, 0.0, 0.0, 1.0, 0.0, 0.0, 1.0, 1.0, 2.0, 0.0, 0.0], [2.0, 2.0, 2.0, 2.0, 2.0, 1.0, 1.0, 2.0, 2.0, 2.0, 2.0, 1.0, 2.0, 1.0, 1.0, 2.0, 2.0, 2.0, 2.0, 2.0, 1.0, 2.0, 2.0, 2.0, 2.0, 1.0, 2.0, 2.0, 2.0, 2.0, 1.0, 2.0, 2.0, 2.0, 2.0, 2.0, 2.0, 2.0, 2.0, 2.0, 2.0, 2.0, 2.0, 1.0, 2.0, 2.0, 1.0, 2.0, 1.0, 2.0, 2.0, 1.0, 2.0, 1.0, 2.0, 1.0, 2.0, 1.0, 0.0, 1.0, 2.0, 2.0, 1.0, 2.0, 2.0, 2.0, 2.0, 2.0, 2.0, 2.0, 2.0, 2.0, 1.0, 1.0, 2.0, 2.0, 1.0, 2.0, 2.0, 1.0, 2.0, 2.0, 2.0, 2.0, 2.0, 2.0, 2.0, 2.0, 2.0, 2.0, 2.0, 2.0, 2.0, 1.0, 1.0, 2.0, 1.0, 2.0, 2.0, 2.0], [2.0, 2.0, 2.0, 2.0, 1.0, 2.0, 2.0, 2.0, 2.0, 2.0, 1.0, 2.0, 2.0, 2.0, 2.0, 1.0, 2.0, 2.0, 2.0, 2.0, 2.0, 2.0, 2.0, 2.0, 2.0, 2.0, 2.0, 2.0, 1.0, 1.0, 2.0, 2.0, 2.0, 1.0, 2.0, 1.0, 2.0, 1.0, 2.0, 2.0, 2.0, 1.0, 2.0, 2.0, 2.0, 2.0, 2.0, 2.0, 2.0, 2.0, 2.0, 1.0, 2.0, 2.0, 2.0, 2.0, 1.0, 2.0, 2.0, 2.0, 1.0, 2.0, 1.0, 2.0, 2.0, 1.0, 2.0, 2.0, 2.0, 2.0, 2.0, 2.0, 2.0, 2.0, 1.0, 2.0, 2.0, 2.0, 2.0, 1.0, 2.0, 2.0, 1.0, 1.0, 2.0, 2.0, 2.0, 2.0, 1.0, 2.0, 2.0, 1.0, 2.0, 2.0, 2.0, 2.0, 1.0, 2.0, 2.0, 2.0], [2.0, 0.0, 0.0, 0.0, 1.0, 1.0, 1.0, 2.0, 0.0, 2.0, 0.0, 0.0, 0.0, 1.0, 0.0, 1.0, 1.0, 2.0, 2.0, 1.0, 1.0, 0.0, 0.0, 2.0, 2.0, 1.0, 1.0, 0.0, 0.0, 1.0, 1.0, 2.0, 0.0, 1.0, 1.0, 1.0, 0.0, 1.0, 2.0, 1.0, 2.0, 0.0, 1.0, 2.0, 2.0, 1.0, 2.0, 1.0, 1.0, 2.0, 0.0, 1.0, 2.0, 1.0, 0.0, 0.0, 2.0, 0.0, 2.0, 1.0, 0.0, 1.0, 0.0, 2.0, 0.0, 1.0, 2.0, 0.0, 1.0, 1.0, 1.0, 1.0, 2.0, 1.0, 0.0, 2.0, 2.0, 0.0, 0.0, 2.0, 0.0, 0.0, 0.0, 2.0, 1.0, 0.0, 1.0, 1.0, 1.0, 2.0, 0.0, 0.0, 2.0, 1.0, 2.0, 1.0, 2.0, 0.0, 0.0, 2.0]]}</td></tr>\n",
       "<tr><td style=\"white-space: nowrap; max-width: 500px; overflow: hidden; text-overflow: ellipsis; \">1</td><td style=\"white-space: nowrap; max-width: 500px; overflow: hidden; text-overflow: ellipsis; \">ndarray{shape=(10, 100), data=[[1.0, 2.0, 0.0, 2.0, 1.0, 2.0, 0.0, 2.0, 0.0, 1.0, 2.0, 2.0, 2.0, 0.0, 2.0, 1.0, 1.0, 2.0, 1.0, 2.0, 2.0, 1.0, 2.0, 2.0, 2.0, 1.0, 2.0, 0.0, 2.0, 2.0, 2.0, 2.0, 0.0, 1.0, 0.0, 0.0, 2.0, 2.0, 0.0, 1.0, 1.0, 2.0, 1.0, 2.0, 1.0, 2.0, 0.0, 2.0, 0.0, 1.0, 1.0, 2.0, 1.0, 2.0, 1.0, 1.0, 2.0, 1.0, 1.0, 2.0, 2.0, 2.0, 2.0, 1.0, 2.0, 2.0, 0.0, 1.0, 2.0, 0.0, 2.0, 2.0, 0.0, 1.0, 2.0, 2.0, 2.0, 1.0, 1.0, 2.0, 1.0, 1.0, 2.0, 1.0, 2.0, 1.0, 2.0, 2.0, 1.0, 2.0, 1.0, 2.0, 1.0, 2.0, 2.0, 1.0, 0.0, 2.0, 1.0, 2.0], [1.0, 1.0, 0.0, 2.0, 0.0, 1.0, 2.0, 2.0, 1.0, 2.0, 1.0, 0.0, 1.0, 2.0, 1.0, 1.0, 2.0, 0.0, 0.0, 0.0, 1.0, 1.0, 1.0, 0.0, 1.0, 1.0, 1.0, 2.0, 1.0, 1.0, 1.0, 2.0, 1.0, 2.0, 2.0, 2.0, 1.0, 1.0, 1.0, 1.0, 2.0, 2.0, 2.0, 2.0, 0.0, 0.0, 0.0, 0.0, 1.0, 2.0, 1.0, 1.0, 1.0, 0.0, 2.0, 1.0, 1.0, 0.0, 1.0, 1.0, 2.0, 2.0, 1.0, 0.0, 2.0, 1.0, 2.0, 2.0, 1.0, 0.0, 2.0, 2.0, 2.0, 2.0, 0.0, 1.0, 0.0, 1.0, 1.0, 2.0, 2.0, 0.0, 2.0, 2.0, 2.0, 2.0, 2.0, 2.0, 2.0, 1.0, 2.0, 2.0, 2.0, 0.0, 1.0, 2.0, 2.0, 0.0, 2.0, 2.0], [0.0, 0.0, 1.0, 1.0, 0.0, 1.0, 0.0, 0.0, 1.0, 1.0, 2.0, 1.0, 1.0, 1.0, 1.0, 1.0, 1.0, 0.0, 0.0, 1.0, 1.0, 2.0, 1.0, 1.0, 1.0, 1.0, 1.0, 2.0, 0.0, 1.0, 1.0, 1.0, 0.0, 1.0, 1.0, 1.0, 1.0, 0.0, 2.0, 1.0, 2.0, 2.0, 0.0, 0.0, 0.0, 0.0, 1.0, 1.0, 0.0, 0.0, 0.0, 1.0, 2.0, 1.0, 1.0, 1.0, 2.0, 1.0, 1.0, 1.0, 2.0, 1.0, 1.0, 1.0, 1.0, 0.0, 0.0, 0.0, 2.0, 1.0, 1.0, 2.0, 0.0, 0.0, 1.0, 2.0, 2.0, 1.0, 1.0, 0.0, 1.0, 0.0, 2.0, 1.0, 0.0, 2.0, 1.0, 1.0, 2.0, 1.0, 1.0, 2.0, 1.0, 0.0, 0.0, 2.0, 2.0, 2.0, 1.0, 1.0], [2.0, 2.0, 1.0, 2.0, 2.0, 1.0, 2.0, 2.0, 1.0, 1.0, 1.0, 2.0, 1.0, 1.0, 1.0, 2.0, 0.0, 1.0, 2.0, 1.0, 2.0, 1.0, 2.0, 2.0, 2.0, 2.0, 1.0, 1.0, 0.0, 1.0, 1.0, 2.0, 1.0, 1.0, 1.0, 2.0, 2.0, 2.0, 2.0, 1.0, 2.0, 2.0, 2.0, 2.0, 2.0, 1.0, 2.0, 1.0, 2.0, 0.0, 1.0, 2.0, 2.0, 1.0, 2.0, 2.0, 2.0, 1.0, 1.0, 1.0, 2.0, 2.0, 2.0, 1.0, 1.0, 2.0, 2.0, 1.0, 2.0, 2.0, 2.0, 2.0, 2.0, 2.0, 1.0, 2.0, 2.0, 1.0, 2.0, 2.0, 1.0, 2.0, 1.0, 2.0, 2.0, 2.0, 2.0, 0.0, 1.0, 2.0, 1.0, 2.0, 2.0, 1.0, 1.0, 1.0, 1.0, 2.0, 2.0, 1.0], [1.0, 1.0, 0.0, 1.0, 0.0, 0.0, 0.0, 0.0, 0.0, 0.0, 0.0, 0.0, 0.0, 0.0, 0.0, 1.0, 0.0, 0.0, 0.0, 0.0, 0.0, 0.0, 1.0, 1.0, 0.0, 0.0, 0.0, 0.0, 0.0, 0.0, 1.0, 0.0, 0.0, 0.0, 0.0, 1.0, 0.0, 0.0, 0.0, 0.0, 0.0, 0.0, 0.0, 0.0, 0.0, 1.0, 0.0, 0.0, 0.0, 0.0, 0.0, 0.0, 0.0, 1.0, 0.0, 0.0, 1.0, 0.0, 0.0, 0.0, 0.0, 0.0, 0.0, 0.0, 0.0, 0.0, 0.0, 0.0, 0.0, 0.0, 0.0, 0.0, 0.0, 0.0, 0.0, 0.0, 0.0, 1.0, 0.0, 0.0, 0.0, 0.0, 2.0, 0.0, 0.0, 0.0, 0.0, 0.0, 0.0, 1.0, 0.0, 0.0, 0.0, 0.0, 0.0, 0.0, 1.0, 0.0, 0.0, 0.0], [1.0, 0.0, 0.0, 0.0, 1.0, 1.0, 0.0, 0.0, 1.0, 1.0, 0.0, 0.0, 0.0, 0.0, 2.0, 1.0, 0.0, 1.0, 1.0, 1.0, 1.0, 0.0, 0.0, 0.0, 0.0, 0.0, 1.0, 0.0, 0.0, 0.0, 0.0, 0.0, 0.0, 0.0, 0.0, 0.0, 1.0, 0.0, 0.0, 0.0, 1.0, 0.0, 1.0, 0.0, 0.0, 0.0, 0.0, 0.0, 0.0, 0.0, 0.0, 2.0, 1.0, 0.0, 0.0, 1.0, 0.0, 0.0, 0.0, 0.0, 0.0, 0.0, 1.0, 0.0, 0.0, 1.0, 1.0, 0.0, 0.0, 0.0, 0.0, 0.0, 0.0, 0.0, 0.0, 1.0, 0.0, 2.0, 0.0, 0.0, 0.0, 1.0, 0.0, 0.0, 1.0, 0.0, 1.0, 0.0, 0.0, 0.0, 0.0, 0.0, 0.0, 0.0, 0.0, 0.0, 0.0, 0.0, 1.0, 1.0], [0.0, 0.0, 0.0, 0.0, 0.0, 0.0, 0.0, 0.0, 0.0, 1.0, 0.0, 1.0, 1.0, 0.0, 0.0, 0.0, 0.0, 1.0, 0.0, 0.0, 1.0, 0.0, 0.0, 0.0, 1.0, 0.0, 0.0, 1.0, 0.0, 0.0, 0.0, 0.0, 1.0, 0.0, 1.0, 0.0, 0.0, 0.0, 0.0, 0.0, 1.0, 0.0, 0.0, 0.0, 0.0, 0.0, 1.0, 0.0, 0.0, 1.0, 1.0, 0.0, 1.0, 0.0, 0.0, 0.0, 1.0, 0.0, 0.0, 0.0, 0.0, 1.0, 0.0, 0.0, 0.0, 1.0, 1.0, 1.0, 0.0, 1.0, 0.0, 1.0, 0.0, 0.0, 1.0, 0.0, 1.0, 0.0, 0.0, 0.0, 0.0, 1.0, 0.0, 0.0, 1.0, 0.0, 1.0, 0.0, 0.0, 0.0, 1.0, 0.0, 0.0, 0.0, 0.0, 0.0, 1.0, 0.0, 0.0, 0.0], [2.0, 1.0, 1.0, 2.0, 2.0, 2.0, 1.0, 2.0, 1.0, 2.0, 1.0, 1.0, 0.0, 1.0, 1.0, 2.0, 2.0, 2.0, 1.0, 1.0, 1.0, 2.0, 2.0, 2.0, 1.0, 2.0, 2.0, 2.0, 1.0, 2.0, 2.0, 1.0, 2.0, 1.0, 2.0, 2.0, 2.0, 2.0, 2.0, 2.0, 2.0, 1.0, 1.0, 2.0, 1.0, 1.0, 0.0, 2.0, 2.0, 2.0, 1.0, 2.0, 2.0, 2.0, 2.0, 2.0, 1.0, 1.0, 2.0, 2.0, 1.0, 2.0, 2.0, 2.0, 1.0, 0.0, 2.0, 0.0, 1.0, 2.0, 2.0, 1.0, 1.0, 2.0, 2.0, 1.0, 2.0, 2.0, 2.0, 2.0, 2.0, 2.0, 2.0, 2.0, 2.0, 1.0, 0.0, 0.0, 2.0, 1.0, 2.0, 2.0, 2.0, 1.0, 1.0, 2.0, 1.0, 2.0, 2.0, 2.0], [1.0, 1.0, 2.0, 0.0, 2.0, 1.0, 1.0, 1.0, 2.0, 1.0, 2.0, 0.0, 1.0, 2.0, 2.0, 1.0, 2.0, 2.0, 2.0, 1.0, 1.0, 2.0, 1.0, 2.0, 1.0, 1.0, 2.0, 1.0, 1.0, 1.0, 2.0, 1.0, 2.0, 1.0, 0.0, 1.0, 2.0, 2.0, 1.0, 2.0, 2.0, 1.0, 1.0, 2.0, 0.0, 1.0, 2.0, 2.0, 2.0, 2.0, 1.0, 2.0, 2.0, 2.0, 1.0, 1.0, 2.0, 2.0, 2.0, 1.0, 1.0, 2.0, 0.0, 0.0, 1.0, 0.0, 1.0, 2.0, 1.0, 1.0, 0.0, 2.0, 0.0, 2.0, 1.0, 1.0, 1.0, 2.0, 1.0, 2.0, 1.0, 1.0, 0.0, 1.0, 2.0, 1.0, 2.0, 2.0, 2.0, 1.0, 2.0, 2.0, 1.0, 1.0, 1.0, 2.0, 2.0, 1.0, 1.0, 2.0], [1.0, 1.0, 2.0, 2.0, 2.0, 2.0, 1.0, 2.0, 2.0, 1.0, 1.0, 2.0, 2.0, 1.0, 1.0, 2.0, 1.0, 2.0, 2.0, 1.0, 2.0, 2.0, 2.0, 1.0, 2.0, 1.0, 1.0, 2.0, 2.0, 2.0, 2.0, 1.0, 2.0, 1.0, 2.0, 2.0, 2.0, 2.0, 1.0, 2.0, 1.0, 2.0, 2.0, 0.0, 2.0, 1.0, 2.0, 0.0, 1.0, 2.0, 1.0, 2.0, 2.0, 2.0, 1.0, 1.0, 2.0, 2.0, 2.0, 2.0, 2.0, 2.0, 2.0, 2.0, 2.0, 2.0, 2.0, 2.0, 2.0, 1.0, 2.0, 2.0, 2.0, 2.0, 2.0, 1.0, 1.0, 2.0, 2.0, 2.0, 2.0, 2.0, 1.0, 2.0, 2.0, 2.0, 2.0, 2.0, 2.0, 1.0, 2.0, 2.0, 1.0, 1.0, 2.0, 2.0, 2.0, 1.0, 1.0, 1.0]]}</td></tr>\n",
       "<tr><td style=\"white-space: nowrap; max-width: 500px; overflow: hidden; text-overflow: ellipsis; \">2</td><td style=\"white-space: nowrap; max-width: 500px; overflow: hidden; text-overflow: ellipsis; \">ndarray{shape=(10, 100), data=[[2.0, 2.0, 2.0, 2.0, 2.0, 2.0, 2.0, 2.0, 2.0, 1.0, 2.0, 2.0, 2.0, 2.0, 2.0, 2.0, 2.0, 2.0, 2.0, 2.0, 2.0, 2.0, 2.0, 2.0, 1.0, 2.0, 2.0, 2.0, 1.0, 2.0, 2.0, 1.0, 2.0, 2.0, 1.0, 2.0, 2.0, 2.0, 2.0, 2.0, 2.0, 1.0, 2.0, 2.0, 2.0, 2.0, 2.0, 2.0, 2.0, 2.0, 2.0, 2.0, 2.0, 2.0, 2.0, 2.0, 2.0, 2.0, 1.0, 2.0, 2.0, 1.0, 2.0, 2.0, 2.0, 1.0, 2.0, 2.0, 2.0, 2.0, 1.0, 2.0, 2.0, 2.0, 2.0, 2.0, 2.0, 2.0, 2.0, 2.0, 2.0, 2.0, 2.0, 2.0, 2.0, 2.0, 2.0, 2.0, 2.0, 2.0, 2.0, 1.0, 2.0, 0.0, 2.0, 2.0, 2.0, 1.0, 2.0, 2.0], [1.0, 2.0, 2.0, 2.0, 0.0, 2.0, 0.0, 1.0, 2.0, 2.0, 1.0, 1.0, 1.0, 1.0, 1.0, 2.0, 1.0, 2.0, 2.0, 1.0, 1.0, 2.0, 2.0, 2.0, 1.0, 2.0, 0.0, 1.0, 0.0, 2.0, 2.0, 2.0, 1.0, 1.0, 0.0, 1.0, 1.0, 1.0, 2.0, 1.0, 2.0, 0.0, 1.0, 2.0, 1.0, 1.0, 1.0, 2.0, 1.0, 2.0, 0.0, 2.0, 0.0, 2.0, 1.0, 1.0, 1.0, 1.0, 1.0, 2.0, 1.0, 2.0, 2.0, 2.0, 1.0, 0.0, 2.0, 2.0, 2.0, 2.0, 2.0, 1.0, 2.0, 1.0, 2.0, 1.0, 1.0, 2.0, 2.0, 2.0, 0.0, 2.0, 2.0, 2.0, 2.0, 2.0, 2.0, 2.0, 1.0, 2.0, 2.0, 2.0, 1.0, 1.0, 1.0, 2.0, 2.0, 2.0, 2.0, 2.0], [1.0, 1.0, 0.0, 2.0, 1.0, 0.0, 1.0, 2.0, 0.0, 2.0, 1.0, 1.0, 2.0, 0.0, 1.0, 2.0, 2.0, 0.0, 1.0, 2.0, 0.0, 1.0, 1.0, 0.0, 1.0, 2.0, 0.0, 1.0, 1.0, 0.0, 0.0, 2.0, 0.0, 1.0, 1.0, 0.0, 2.0, 1.0, 1.0, 0.0, 1.0, 2.0, 1.0, 1.0, 2.0, 1.0, 1.0, 2.0, 1.0, 1.0, 0.0, 2.0, 2.0, 0.0, 0.0, 2.0, 1.0, 1.0, 1.0, 1.0, 2.0, 1.0, 1.0, 1.0, 0.0, 0.0, 2.0, 1.0, 1.0, 1.0, 1.0, 2.0, 0.0, 0.0, 1.0, 0.0, 2.0, 1.0, 2.0, 1.0, 0.0, 2.0, 1.0, 0.0, 2.0, 2.0, 2.0, 1.0, 2.0, 1.0, 2.0, 1.0, 0.0, 2.0, 0.0, 1.0, 2.0, 0.0, 2.0, 1.0], [2.0, 2.0, 1.0, 2.0, 1.0, 0.0, 1.0, 2.0, 1.0, 2.0, 2.0, 1.0, 2.0, 1.0, 2.0, 2.0, 0.0, 2.0, 2.0, 2.0, 2.0, 2.0, 2.0, 2.0, 2.0, 2.0, 0.0, 2.0, 1.0, 1.0, 2.0, 2.0, 1.0, 1.0, 2.0, 2.0, 2.0, 2.0, 2.0, 1.0, 2.0, 2.0, 1.0, 1.0, 1.0, 2.0, 2.0, 2.0, 2.0, 2.0, 1.0, 2.0, 0.0, 2.0, 2.0, 1.0, 2.0, 1.0, 2.0, 2.0, 2.0, 1.0, 2.0, 2.0, 1.0, 2.0, 2.0, 0.0, 1.0, 0.0, 1.0, 2.0, 2.0, 2.0, 1.0, 2.0, 1.0, 2.0, 1.0, 2.0, 1.0, 2.0, 1.0, 2.0, 1.0, 1.0, 2.0, 2.0, 2.0, 2.0, 0.0, 1.0, 2.0, 2.0, 2.0, 1.0, 2.0, 1.0, 2.0, 2.0], [0.0, 1.0, 0.0, 0.0, 0.0, 0.0, 1.0, 1.0, 1.0, 0.0, 1.0, 0.0, 1.0, 0.0, 1.0, 0.0, 0.0, 1.0, 0.0, 1.0, 0.0, 0.0, 0.0, 0.0, 1.0, 0.0, 0.0, 1.0, 0.0, 1.0, 0.0, 0.0, 0.0, 0.0, 1.0, 0.0, 0.0, 1.0, 2.0, 0.0, 0.0, 0.0, 0.0, 1.0, 1.0, 0.0, 0.0, 0.0, 1.0, 2.0, 0.0, 0.0, 1.0, 0.0, 0.0, 0.0, 0.0, 0.0, 0.0, 1.0, 0.0, 0.0, 0.0, 0.0, 0.0, 1.0, 1.0, 0.0, 0.0, 0.0, 0.0, 1.0, 0.0, 0.0, 0.0, 0.0, 1.0, 0.0, 1.0, 0.0, 1.0, 0.0, 0.0, 0.0, 0.0, 0.0, 0.0, 1.0, 0.0, 0.0, 0.0, 1.0, 1.0, 1.0, 2.0, 0.0, 0.0, 2.0, 0.0, 0.0], [1.0, 2.0, 2.0, 1.0, 1.0, 1.0, 1.0, 0.0, 0.0, 2.0, 0.0, 0.0, 1.0, 2.0, 1.0, 2.0, 0.0, 1.0, 2.0, 1.0, 0.0, 2.0, 0.0, 1.0, 2.0, 2.0, 1.0, 0.0, 0.0, 1.0, 2.0, 2.0, 0.0, 0.0, 2.0, 1.0, 0.0, 2.0, 1.0, 1.0, 2.0, 1.0, 1.0, 1.0, 1.0, 2.0, 1.0, 1.0, 1.0, 1.0, 0.0, 1.0, 1.0, 1.0, 1.0, 1.0, 0.0, 1.0, 1.0, 1.0, 1.0, 2.0, 1.0, 1.0, 1.0, 2.0, 1.0, 2.0, 0.0, 1.0, 1.0, 2.0, 2.0, 1.0, 0.0, 2.0, 1.0, 0.0, 0.0, 1.0, 1.0, 2.0, 2.0, 1.0, 1.0, 1.0, 2.0, 0.0, 2.0, 0.0, 0.0, 1.0, 1.0, 2.0, 0.0, 1.0, 1.0, 0.0, 2.0, 1.0], [0.0, 2.0, 0.0, 1.0, 1.0, 1.0, 0.0, 0.0, 0.0, 1.0, 0.0, 0.0, 1.0, 0.0, 0.0, 1.0, 0.0, 0.0, 0.0, 1.0, 1.0, 1.0, 0.0, 1.0, 0.0, 1.0, 0.0, 0.0, 2.0, 2.0, 0.0, 0.0, 1.0, 0.0, 0.0, 0.0, 1.0, 1.0, 0.0, 1.0, 1.0, 0.0, 2.0, 0.0, 0.0, 1.0, 0.0, 1.0, 0.0, 0.0, 1.0, 0.0, 1.0, 0.0, 1.0, 0.0, 0.0, 0.0, 1.0, 0.0, 1.0, 0.0, 1.0, 1.0, 0.0, 2.0, 1.0, 1.0, 1.0, 2.0, 0.0, 1.0, 1.0, 1.0, 1.0, 0.0, 1.0, 0.0, 1.0, 0.0, 1.0, 0.0, 2.0, 0.0, 0.0, 1.0, 0.0, 0.0, 1.0, 0.0, 0.0, 1.0, 1.0, 1.0, 0.0, 0.0, 0.0, 0.0, 1.0, 2.0], [2.0, 2.0, 2.0, 2.0, 2.0, 1.0, 2.0, 2.0, 2.0, 2.0, 2.0, 2.0, 2.0, 2.0, 2.0, 2.0, 2.0, 2.0, 2.0, 2.0, 2.0, 2.0, 2.0, 2.0, 2.0, 2.0, 2.0, 2.0, 2.0, 2.0, 2.0, 2.0, 2.0, 2.0, 2.0, 2.0, 2.0, 2.0, 2.0, 2.0, 2.0, 2.0, 2.0, 2.0, 2.0, 2.0, 2.0, 2.0, 2.0, 2.0, 1.0, 2.0, 2.0, 2.0, 2.0, 2.0, 1.0, 2.0, 2.0, 2.0, 2.0, 2.0, 1.0, 2.0, 2.0, 2.0, 2.0, 2.0, 1.0, 2.0, 2.0, 2.0, 2.0, 2.0, 2.0, 2.0, 2.0, 2.0, 2.0, 2.0, 2.0, 1.0, 1.0, 1.0, 1.0, 2.0, 2.0, 2.0, 2.0, 2.0, 1.0, 2.0, 1.0, 2.0, 2.0, 2.0, 2.0, 2.0, 2.0, 1.0], [1.0, 1.0, 2.0, 1.0, 0.0, 1.0, 2.0, 1.0, 1.0, 1.0, 0.0, 2.0, 1.0, 2.0, 1.0, 1.0, 1.0, 2.0, 2.0, 1.0, 2.0, 1.0, 0.0, 1.0, 0.0, 0.0, 2.0, 1.0, 0.0, 0.0, 0.0, 1.0, 0.0, 2.0, 1.0, 1.0, 0.0, 0.0, 1.0, 1.0, 1.0, 0.0, 1.0, 2.0, 1.0, 1.0, 0.0, 1.0, 0.0, 1.0, 1.0, 2.0, 1.0, 1.0, 1.0, 1.0, 1.0, 1.0, 2.0, 1.0, 1.0, 0.0, 1.0, 0.0, 1.0, 1.0, 1.0, 0.0, 1.0, 1.0, 0.0, 1.0, 2.0, 1.0, 1.0, 2.0, 2.0, 1.0, 0.0, 0.0, 2.0, 0.0, 1.0, 0.0, 0.0, 1.0, 2.0, 2.0, 1.0, 2.0, 0.0, 0.0, 2.0, 1.0, 0.0, 1.0, 0.0, 1.0, 0.0, 0.0], [0.0, 1.0, 2.0, 0.0, 0.0, 0.0, 1.0, 2.0, 0.0, 1.0, 0.0, 0.0, 0.0, 0.0, 0.0, 1.0, 0.0, 0.0, 2.0, 1.0, 1.0, 0.0, 2.0, 0.0, 0.0, 2.0, 1.0, 1.0, 0.0, 0.0, 2.0, 2.0, 0.0, 1.0, 2.0, 1.0, 0.0, 0.0, 0.0, 0.0, 1.0, 1.0, 1.0, 2.0, 0.0, 1.0, 1.0, 1.0, 1.0, 1.0, 1.0, 0.0, 2.0, 1.0, 1.0, 1.0, 1.0, 1.0, 1.0, 2.0, 2.0, 2.0, 0.0, 0.0, 0.0, 0.0, 1.0, 0.0, 1.0, 0.0, 2.0, 0.0, 2.0, 0.0, 1.0, 2.0, 1.0, 1.0, 0.0, 1.0, 1.0, 1.0, 0.0, 1.0, 1.0, 0.0, 0.0, 1.0, 1.0, 1.0, 0.0, 0.0, 0.0, 0.0, 2.0, 0.0, 0.0, 0.0, 0.0, 2.0]]}</td></tr>\n",
       "<tr><td style=\"white-space: nowrap; max-width: 500px; overflow: hidden; text-overflow: ellipsis; \">3</td><td style=\"white-space: nowrap; max-width: 500px; overflow: hidden; text-overflow: ellipsis; \">ndarray{shape=(10, 100), data=[[0.0, 1.0, 0.0, 0.0, 0.0, 0.0, 0.0, 0.0, 0.0, 0.0, 0.0, 0.0, 0.0, 2.0, 0.0, 0.0, 1.0, 2.0, 0.0, 0.0, 0.0, 0.0, 0.0, 1.0, 0.0, 2.0, 0.0, 0.0, 0.0, 0.0, 0.0, 0.0, 0.0, 0.0, 0.0, 1.0, 0.0, 1.0, 0.0, 0.0, 1.0, 0.0, 1.0, 0.0, 0.0, 1.0, 1.0, 0.0, 1.0, 1.0, 0.0, 1.0, 1.0, 0.0, 1.0, 0.0, 1.0, 0.0, 1.0, 1.0, 0.0, 0.0, 2.0, 0.0, 0.0, 0.0, 0.0, 0.0, 0.0, 0.0, 1.0, 0.0, 1.0, 0.0, 0.0, 0.0, 2.0, 0.0, 1.0, 0.0, 0.0, 0.0, 0.0, 0.0, 0.0, 0.0, 0.0, 0.0, 0.0, 1.0, 0.0, 0.0, 1.0, 1.0, 0.0, 0.0, 0.0, 0.0, 0.0, 2.0], [2.0, 1.0, 1.0, 2.0, 1.0, 2.0, 1.0, 2.0, 0.0, 0.0, 1.0, 1.0, 0.0, 1.0, 0.0, 1.0, 1.0, 1.0, 0.0, 1.0, 2.0, 1.0, 1.0, 1.0, 0.0, 2.0, 2.0, 1.0, 1.0, 1.0, 1.0, 1.0, 1.0, 1.0, 2.0, 1.0, 2.0, 1.0, 1.0, 2.0, 2.0, 1.0, 1.0, 1.0, 2.0, 1.0, 0.0, 2.0, 1.0, 1.0, 0.0, 1.0, 2.0, 1.0, 2.0, 0.0, 1.0, 1.0, 2.0, 1.0, 2.0, 1.0, 1.0, 2.0, 2.0, 1.0, 2.0, 2.0, 2.0, 2.0, 2.0, 1.0, 0.0, 2.0, 1.0, 1.0, 1.0, 1.0, 1.0, 2.0, 1.0, 1.0, 1.0, 1.0, 1.0, 0.0, 1.0, 1.0, 2.0, 2.0, 2.0, 1.0, 1.0, 0.0, 2.0, 0.0, 1.0, 0.0, 1.0, 2.0], [2.0, 1.0, 0.0, 2.0, 0.0, 2.0, 0.0, 1.0, 2.0, 2.0, 1.0, 1.0, 1.0, 1.0, 1.0, 1.0, 0.0, 0.0, 1.0, 0.0, 1.0, 1.0, 1.0, 2.0, 2.0, 1.0, 1.0, 0.0, 1.0, 0.0, 2.0, 0.0, 1.0, 1.0, 0.0, 2.0, 0.0, 1.0, 0.0, 1.0, 1.0, 0.0, 1.0, 1.0, 0.0, 1.0, 1.0, 1.0, 1.0, 0.0, 0.0, 2.0, 1.0, 0.0, 0.0, 2.0, 2.0, 2.0, 0.0, 1.0, 1.0, 2.0, 1.0, 0.0, 1.0, 0.0, 1.0, 0.0, 1.0, 2.0, 0.0, 2.0, 1.0, 1.0, 2.0, 1.0, 2.0, 1.0, 1.0, 1.0, 0.0, 1.0, 0.0, 1.0, 2.0, 1.0, 2.0, 0.0, 0.0, 2.0, 2.0, 1.0, 1.0, 2.0, 0.0, 2.0, 2.0, 1.0, 2.0, 1.0], [1.0, 0.0, 0.0, 2.0, 1.0, 2.0, 0.0, 0.0, 0.0, 1.0, 0.0, 0.0, 2.0, 0.0, 0.0, 0.0, 0.0, 0.0, 0.0, 0.0, 1.0, 1.0, 2.0, 2.0, 1.0, 1.0, 0.0, 0.0, 0.0, 1.0, 2.0, 1.0, 0.0, 0.0, 2.0, 1.0, 1.0, 1.0, 0.0, 2.0, 1.0, 2.0, 1.0, 1.0, 0.0, 1.0, 1.0, 0.0, 0.0, 0.0, 2.0, 1.0, 0.0, 1.0, 2.0, 2.0, 0.0, 0.0, 0.0, 0.0, 1.0, 1.0, 1.0, 0.0, 0.0, 1.0, 1.0, 0.0, 1.0, 1.0, 0.0, 1.0, 1.0, 0.0, 1.0, 1.0, 2.0, 1.0, 1.0, 0.0, 0.0, 1.0, 1.0, 1.0, 1.0, 1.0, 2.0, 1.0, 2.0, 0.0, 0.0, 2.0, 0.0, 2.0, 2.0, 0.0, 1.0, 0.0, 1.0, 1.0], [0.0, 0.0, 0.0, 0.0, 0.0, 0.0, 0.0, 0.0, 1.0, 1.0, 1.0, 0.0, 0.0, 1.0, 1.0, 0.0, 0.0, 0.0, 0.0, 0.0, 1.0, 0.0, 0.0, 0.0, 0.0, 1.0, 0.0, 0.0, 0.0, 0.0, 0.0, 0.0, 1.0, 1.0, 0.0, 1.0, 0.0, 0.0, 0.0, 0.0, 0.0, 0.0, 0.0, 0.0, 0.0, 1.0, 0.0, 0.0, 1.0, 0.0, 0.0, 0.0, 0.0, 0.0, 1.0, 0.0, 0.0, 0.0, 0.0, 0.0, 0.0, 0.0, 0.0, 0.0, 0.0, 0.0, 0.0, 0.0, 0.0, 0.0, 0.0, 1.0, 0.0, 1.0, 0.0, 0.0, 0.0, 0.0, 0.0, 0.0, 0.0, 0.0, 0.0, 0.0, 0.0, 0.0, 1.0, 1.0, 0.0, 1.0, 0.0, 0.0, 1.0, 0.0, 0.0, 0.0, 1.0, 0.0, 0.0, 0.0], [2.0, 2.0, 2.0, 0.0, 2.0, 0.0, 2.0, 2.0, 2.0, 2.0, 1.0, 1.0, 2.0, 2.0, 2.0, 0.0, 1.0, 1.0, 2.0, 0.0, 2.0, 2.0, 2.0, 1.0, 1.0, 2.0, 1.0, 1.0, 0.0, 2.0, 2.0, 1.0, 0.0, 2.0, 2.0, 2.0, 0.0, 0.0, 2.0, 2.0, 2.0, 1.0, 2.0, 2.0, 1.0, 2.0, 2.0, 1.0, 2.0, 2.0, 1.0, 1.0, 1.0, 2.0, 1.0, 1.0, 0.0, 2.0, 2.0, 2.0, 0.0, 1.0, 0.0, 2.0, 1.0, 1.0, 2.0, 2.0, 2.0, 1.0, 1.0, 1.0, 2.0, 2.0, 2.0, 2.0, 2.0, 1.0, 0.0, 2.0, 1.0, 0.0, 1.0, 1.0, 1.0, 2.0, 1.0, 1.0, 1.0, 2.0, 1.0, 1.0, 2.0, 0.0, 2.0, 1.0, 2.0, 1.0, 1.0, 0.0], [1.0, 0.0, 1.0, 2.0, 0.0, 0.0, 2.0, 0.0, 2.0, 2.0, 2.0, 1.0, 0.0, 1.0, 2.0, 1.0, 2.0, 1.0, 2.0, 2.0, 2.0, 1.0, 2.0, 1.0, 1.0, 1.0, 1.0, 2.0, 1.0, 0.0, 2.0, 1.0, 1.0, 2.0, 2.0, 1.0, 1.0, 1.0, 2.0, 1.0, 2.0, 1.0, 1.0, 1.0, 1.0, 1.0, 2.0, 1.0, 0.0, 2.0, 0.0, 0.0, 0.0, 1.0, 1.0, 0.0, 2.0, 1.0, 1.0, 2.0, 2.0, 1.0, 1.0, 1.0, 0.0, 1.0, 2.0, 0.0, 1.0, 0.0, 1.0, 0.0, 1.0, 0.0, 0.0, 2.0, 2.0, 1.0, 2.0, 1.0, 0.0, 0.0, 2.0, 0.0, 1.0, 0.0, 1.0, 1.0, 1.0, 2.0, 1.0, 0.0, 2.0, 1.0, 2.0, 1.0, 2.0, 0.0, 0.0, 1.0], [0.0, 0.0, 2.0, 0.0, 1.0, 1.0, 0.0, 2.0, 1.0, 1.0, 2.0, 0.0, 0.0, 1.0, 1.0, 2.0, 2.0, 2.0, 2.0, 2.0, 0.0, 0.0, 1.0, 1.0, 1.0, 0.0, 1.0, 1.0, 1.0, 2.0, 2.0, 0.0, 0.0, 2.0, 1.0, 0.0, 2.0, 2.0, 0.0, 1.0, 0.0, 1.0, 1.0, 2.0, 0.0, 1.0, 1.0, 1.0, 1.0, 1.0, 2.0, 1.0, 2.0, 0.0, 0.0, 0.0, 2.0, 1.0, 1.0, 2.0, 1.0, 0.0, 1.0, 0.0, 2.0, 1.0, 2.0, 1.0, 2.0, 1.0, 2.0, 1.0, 0.0, 1.0, 1.0, 2.0, 1.0, 1.0, 0.0, 1.0, 1.0, 2.0, 1.0, 1.0, 1.0, 1.0, 2.0, 0.0, 1.0, 2.0, 2.0, 1.0, 0.0, 1.0, 2.0, 2.0, 1.0, 1.0, 1.0, 1.0], [2.0, 2.0, 2.0, 2.0, 2.0, 2.0, 2.0, 2.0, 2.0, 2.0, 2.0, 2.0, 2.0, 2.0, 2.0, 2.0, 2.0, 2.0, 2.0, 2.0, 1.0, 2.0, 2.0, 2.0, 2.0, 2.0, 2.0, 2.0, 2.0, 2.0, 1.0, 2.0, 1.0, 2.0, 2.0, 2.0, 2.0, 2.0, 2.0, 1.0, 2.0, 2.0, 2.0, 1.0, 2.0, 2.0, 2.0, 2.0, 2.0, 2.0, 2.0, 2.0, 2.0, 2.0, 1.0, 2.0, 2.0, 2.0, 2.0, 2.0, 2.0, 2.0, 2.0, 2.0, 1.0, 2.0, 2.0, 2.0, 2.0, 2.0, 1.0, 2.0, 2.0, 2.0, 2.0, 2.0, 2.0, 2.0, 2.0, 2.0, 2.0, 1.0, 2.0, 2.0, 2.0, 2.0, 2.0, 2.0, 1.0, 2.0, 2.0, 2.0, 2.0, 2.0, 2.0, 2.0, 2.0, 2.0, 2.0, 2.0], [0.0, 1.0, 1.0, 2.0, 2.0, 2.0, 2.0, 1.0, 2.0, 1.0, 2.0, 1.0, 0.0, 2.0, 2.0, 1.0, 1.0, 1.0, 0.0, 2.0, 0.0, 2.0, 1.0, 0.0, 1.0, 2.0, 2.0, 2.0, 1.0, 1.0, 1.0, 1.0, 0.0, 2.0, 0.0, 1.0, 2.0, 2.0, 1.0, 1.0, 1.0, 0.0, 1.0, 0.0, 2.0, 2.0, 1.0, 1.0, 1.0, 1.0, 2.0, 0.0, 0.0, 1.0, 1.0, 1.0, 1.0, 1.0, 1.0, 0.0, 2.0, 2.0, 1.0, 2.0, 2.0, 0.0, 1.0, 1.0, 2.0, 1.0, 1.0, 1.0, 0.0, 2.0, 1.0, 2.0, 0.0, 2.0, 2.0, 1.0, 2.0, 0.0, 2.0, 1.0, 2.0, 0.0, 2.0, 1.0, 2.0, 1.0, 2.0, 2.0, 1.0, 2.0, 0.0, 2.0, 2.0, 2.0, 2.0, 1.0]]}</td></tr>\n",
       "<tr><td style=\"white-space: nowrap; max-width: 500px; overflow: hidden; text-overflow: ellipsis; \">4</td><td style=\"white-space: nowrap; max-width: 500px; overflow: hidden; text-overflow: ellipsis; \">ndarray{shape=(10, 100), data=[[0.0, 0.0, 0.0, 1.0, 0.0, 0.0, 0.0, 1.0, 0.0, 0.0, 1.0, 0.0, 0.0, 0.0, 0.0, 0.0, 1.0, 0.0, 0.0, 0.0, 1.0, 0.0, 0.0, 1.0, 0.0, 1.0, 1.0, 2.0, 2.0, 0.0, 0.0, 0.0, 2.0, 0.0, 0.0, 2.0, 1.0, 0.0, 1.0, 0.0, 2.0, 2.0, 0.0, 0.0, 0.0, 0.0, 0.0, 1.0, 0.0, 0.0, 0.0, 0.0, 0.0, 0.0, 0.0, 0.0, 1.0, 0.0, 0.0, 0.0, 1.0, 0.0, 0.0, 0.0, 0.0, 1.0, 0.0, 0.0, 0.0, 1.0, 1.0, 0.0, 1.0, 0.0, 0.0, 0.0, 0.0, 1.0, 1.0, 0.0, 1.0, 0.0, 0.0, 0.0, 1.0, 1.0, 1.0, 1.0, 2.0, 1.0, 2.0, 0.0, 0.0, 1.0, 1.0, 1.0, 0.0, 0.0, 1.0, 1.0], [2.0, 1.0, 0.0, 1.0, 0.0, 1.0, 0.0, 0.0, 0.0, 0.0, 0.0, 2.0, 1.0, 1.0, 0.0, 1.0, 2.0, 0.0, 0.0, 1.0, 0.0, 0.0, 0.0, 0.0, 1.0, 0.0, 0.0, 1.0, 0.0, 1.0, 0.0, 0.0, 2.0, 0.0, 1.0, 0.0, 0.0, 1.0, 1.0, 1.0, 1.0, 0.0, 0.0, 0.0, 0.0, 0.0, 0.0, 1.0, 1.0, 0.0, 1.0, 1.0, 0.0, 0.0, 0.0, 0.0, 0.0, 1.0, 0.0, 0.0, 1.0, 0.0, 0.0, 1.0, 0.0, 0.0, 1.0, 1.0, 1.0, 0.0, 1.0, 0.0, 1.0, 1.0, 0.0, 0.0, 1.0, 2.0, 0.0, 2.0, 2.0, 1.0, 2.0, 0.0, 0.0, 2.0, 1.0, 0.0, 0.0, 0.0, 0.0, 2.0, 1.0, 2.0, 1.0, 0.0, 0.0, 0.0, 1.0, 0.0], [1.0, 1.0, 1.0, 1.0, 1.0, 1.0, 2.0, 2.0, 1.0, 2.0, 2.0, 1.0, 1.0, 2.0, 2.0, 1.0, 2.0, 1.0, 2.0, 1.0, 2.0, 2.0, 2.0, 0.0, 1.0, 2.0, 1.0, 2.0, 2.0, 2.0, 2.0, 1.0, 2.0, 1.0, 2.0, 2.0, 1.0, 1.0, 2.0, 1.0, 2.0, 0.0, 2.0, 2.0, 2.0, 2.0, 2.0, 0.0, 2.0, 1.0, 1.0, 1.0, 1.0, 2.0, 1.0, 1.0, 0.0, 2.0, 2.0, 1.0, 2.0, 0.0, 2.0, 1.0, 1.0, 1.0, 2.0, 2.0, 1.0, 1.0, 1.0, 1.0, 2.0, 2.0, 1.0, 1.0, 2.0, 2.0, 1.0, 2.0, 2.0, 1.0, 0.0, 2.0, 2.0, 0.0, 1.0, 1.0, 1.0, 1.0, 0.0, 0.0, 1.0, 1.0, 2.0, 1.0, 2.0, 1.0, 2.0, 1.0], [0.0, 0.0, 0.0, 0.0, 0.0, 0.0, 0.0, 0.0, 0.0, 0.0, 0.0, 0.0, 0.0, 0.0, 0.0, 0.0, 0.0, 0.0, 0.0, 0.0, 1.0, 0.0, 0.0, 0.0, 0.0, 0.0, 0.0, 0.0, 0.0, 0.0, 1.0, 0.0, 0.0, 0.0, 0.0, 0.0, 0.0, 0.0, 0.0, 0.0, 0.0, 0.0, 0.0, 0.0, 0.0, 0.0, 0.0, 0.0, 0.0, 0.0, 0.0, 0.0, 0.0, 0.0, 0.0, 0.0, 0.0, 0.0, 0.0, 0.0, 0.0, 0.0, 0.0, 0.0, 0.0, 0.0, 0.0, 0.0, 0.0, 0.0, 0.0, 0.0, 0.0, 1.0, 0.0, 0.0, 0.0, 1.0, 0.0, 0.0, 0.0, 0.0, 0.0, 0.0, 0.0, 0.0, 0.0, 0.0, 0.0, 0.0, 0.0, 0.0, 0.0, 0.0, 0.0, 0.0, 0.0, 0.0, 0.0, 0.0], [2.0, 1.0, 2.0, 1.0, 1.0, 2.0, 2.0, 2.0, 2.0, 1.0, 1.0, 2.0, 2.0, 0.0, 2.0, 2.0, 0.0, 0.0, 0.0, 1.0, 1.0, 1.0, 2.0, 2.0, 2.0, 1.0, 2.0, 2.0, 0.0, 1.0, 1.0, 0.0, 0.0, 1.0, 2.0, 1.0, 2.0, 1.0, 1.0, 0.0, 1.0, 1.0, 2.0, 1.0, 1.0, 1.0, 1.0, 2.0, 0.0, 1.0, 2.0, 1.0, 0.0, 0.0, 2.0, 2.0, 1.0, 0.0, 1.0, 0.0, 0.0, 2.0, 2.0, 1.0, 2.0, 1.0, 0.0, 0.0, 1.0, 2.0, 2.0, 2.0, 0.0, 0.0, 0.0, 2.0, 0.0, 2.0, 1.0, 0.0, 0.0, 2.0, 2.0, 2.0, 2.0, 1.0, 1.0, 1.0, 1.0, 1.0, 2.0, 2.0, 2.0, 2.0, 1.0, 1.0, 0.0, 1.0, 2.0, 2.0], [0.0, 2.0, 1.0, 2.0, 2.0, 2.0, 0.0, 1.0, 1.0, 0.0, 1.0, 1.0, 1.0, 0.0, 0.0, 2.0, 0.0, 1.0, 0.0, 2.0, 0.0, 2.0, 0.0, 0.0, 2.0, 0.0, 2.0, 2.0, 2.0, 2.0, 1.0, 1.0, 2.0, 1.0, 0.0, 0.0, 2.0, 1.0, 1.0, 2.0, 0.0, 2.0, 1.0, 0.0, 0.0, 1.0, 1.0, 2.0, 0.0, 1.0, 1.0, 2.0, 2.0, 2.0, 1.0, 1.0, 2.0, 1.0, 0.0, 2.0, 1.0, 2.0, 1.0, 2.0, 2.0, 2.0, 1.0, 2.0, 1.0, 2.0, 2.0, 1.0, 1.0, 0.0, 1.0, 1.0, 1.0, 2.0, 2.0, 1.0, 2.0, 2.0, 2.0, 2.0, 1.0, 1.0, 2.0, 1.0, 1.0, 2.0, 2.0, 2.0, 1.0, 2.0, 0.0, 2.0, 1.0, 2.0, 2.0, 1.0], [1.0, 0.0, 0.0, 0.0, 0.0, 0.0, 2.0, 1.0, 0.0, 0.0, 1.0, 0.0, 1.0, 0.0, 0.0, 0.0, 1.0, 0.0, 0.0, 0.0, 0.0, 1.0, 0.0, 2.0, 0.0, 0.0, 0.0, 1.0, 1.0, 1.0, 1.0, 2.0, 0.0, 0.0, 0.0, 0.0, 0.0, 0.0, 2.0, 0.0, 0.0, 0.0, 0.0, 1.0, 0.0, 1.0, 1.0, 0.0, 0.0, 1.0, 1.0, 1.0, 0.0, 0.0, 0.0, 0.0, 0.0, 0.0, 1.0, 0.0, 0.0, 1.0, 1.0, 0.0, 2.0, 0.0, 0.0, 0.0, 1.0, 1.0, 0.0, 2.0, 0.0, 1.0, 0.0, 0.0, 0.0, 2.0, 0.0, 1.0, 1.0, 0.0, 1.0, 0.0, 0.0, 0.0, 0.0, 1.0, 1.0, 1.0, 1.0, 0.0, 0.0, 1.0, 1.0, 0.0, 0.0, 2.0, 1.0, 0.0], [0.0, 0.0, 0.0, 0.0, 0.0, 0.0, 1.0, 1.0, 1.0, 2.0, 0.0, 0.0, 0.0, 0.0, 0.0, 0.0, 0.0, 1.0, 0.0, 0.0, 1.0, 0.0, 1.0, 0.0, 0.0, 0.0, 0.0, 1.0, 0.0, 1.0, 0.0, 2.0, 0.0, 0.0, 2.0, 1.0, 1.0, 0.0, 0.0, 1.0, 0.0, 1.0, 1.0, 1.0, 0.0, 1.0, 1.0, 0.0, 2.0, 0.0, 1.0, 0.0, 1.0, 0.0, 0.0, 0.0, 0.0, 0.0, 0.0, 0.0, 0.0, 0.0, 0.0, 0.0, 0.0, 1.0, 2.0, 0.0, 0.0, 1.0, 0.0, 0.0, 1.0, 0.0, 0.0, 0.0, 2.0, 0.0, 1.0, 0.0, 0.0, 0.0, 1.0, 0.0, 0.0, 0.0, 0.0, 1.0, 0.0, 2.0, 0.0, 0.0, 2.0, 0.0, 1.0, 0.0, 2.0, 0.0, 0.0, 0.0], [1.0, 0.0, 1.0, 1.0, 0.0, 0.0, 0.0, 1.0, 0.0, 0.0, 0.0, 1.0, 1.0, 0.0, 1.0, 1.0, 0.0, 0.0, 0.0, 0.0, 0.0, 1.0, 0.0, 0.0, 0.0, 0.0, 0.0, 1.0, 0.0, 0.0, 2.0, 1.0, 0.0, 0.0, 0.0, 0.0, 0.0, 1.0, 1.0, 0.0, 0.0, 1.0, 1.0, 1.0, 1.0, 0.0, 2.0, 0.0, 1.0, 0.0, 1.0, 1.0, 1.0, 0.0, 0.0, 1.0, 1.0, 0.0, 0.0, 1.0, 0.0, 1.0, 0.0, 0.0, 0.0, 0.0, 1.0, 1.0, 0.0, 0.0, 1.0, 0.0, 1.0, 0.0, 0.0, 0.0, 0.0, 1.0, 0.0, 1.0, 1.0, 1.0, 1.0, 2.0, 1.0, 0.0, 1.0, 1.0, 0.0, 0.0, 0.0, 0.0, 1.0, 0.0, 1.0, 2.0, 0.0, 0.0, 1.0, 0.0], [0.0, 1.0, 2.0, 1.0, 1.0, 0.0, 0.0, 0.0, 1.0, 1.0, 2.0, 2.0, 2.0, 0.0, 0.0, 0.0, 2.0, 0.0, 0.0, 1.0, 1.0, 2.0, 1.0, 1.0, 0.0, 0.0, 1.0, 2.0, 2.0, 2.0, 0.0, 0.0, 2.0, 2.0, 0.0, 1.0, 2.0, 0.0, 0.0, 1.0, 0.0, 2.0, 0.0, 2.0, 2.0, 1.0, 0.0, 1.0, 0.0, 1.0, 0.0, 2.0, 0.0, 2.0, 2.0, 1.0, 1.0, 1.0, 2.0, 0.0, 1.0, 0.0, 1.0, 2.0, 2.0, 1.0, 0.0, 2.0, 1.0, 0.0, 2.0, 0.0, 1.0, 1.0, 2.0, 1.0, 1.0, 1.0, 2.0, 0.0, 1.0, 0.0, 0.0, 0.0, 2.0, 0.0, 1.0, 1.0, 1.0, 1.0, 1.0, 1.0, 0.0, 0.0, 0.0, 2.0, 1.0, 2.0, 1.0, 0.0]]}</td></tr>\n",
       "<tr><td style=\"white-space: nowrap; max-width: 500px; overflow: hidden; text-overflow: ellipsis; \">5</td><td style=\"white-space: nowrap; max-width: 500px; overflow: hidden; text-overflow: ellipsis; \">ndarray{shape=(10, 100), data=[[1.0, 0.0, 1.0, 1.0, 1.0, 1.0, 1.0, 1.0, 1.0, 2.0, 0.0, 1.0, 2.0, 2.0, 2.0, 2.0, 0.0, 2.0, 1.0, 0.0, 1.0, 1.0, 1.0, 0.0, 2.0, 2.0, 0.0, 1.0, 0.0, 0.0, 1.0, 2.0, 0.0, 1.0, 1.0, 2.0, 2.0, 2.0, 0.0, 0.0, 2.0, 1.0, 2.0, 1.0, 2.0, 2.0, 2.0, 1.0, 1.0, 2.0, 0.0, 2.0, 2.0, 2.0, 2.0, 1.0, 2.0, 1.0, 2.0, 2.0, 0.0, 2.0, 2.0, 0.0, 0.0, 1.0, 1.0, 1.0, 2.0, 2.0, 2.0, 2.0, 1.0, 0.0, 0.0, 2.0, 1.0, 1.0, 1.0, 0.0, 0.0, 0.0, 2.0, 2.0, 2.0, 2.0, 1.0, 1.0, 1.0, 1.0, 0.0, 1.0, 2.0, 1.0, 1.0, 0.0, 2.0, 0.0, 1.0, 2.0], [2.0, 1.0, 1.0, 2.0, 0.0, 2.0, 0.0, 0.0, 1.0, 0.0, 0.0, 0.0, 2.0, 1.0, 0.0, 2.0, 0.0, 0.0, 1.0, 1.0, 0.0, 2.0, 2.0, 1.0, 2.0, 2.0, 2.0, 1.0, 1.0, 0.0, 0.0, 0.0, 0.0, 1.0, 2.0, 1.0, 1.0, 1.0, 0.0, 1.0, 0.0, 1.0, 2.0, 0.0, 2.0, 1.0, 1.0, 2.0, 0.0, 0.0, 0.0, 1.0, 1.0, 1.0, 2.0, 2.0, 2.0, 0.0, 1.0, 2.0, 1.0, 1.0, 1.0, 1.0, 1.0, 0.0, 1.0, 2.0, 2.0, 2.0, 2.0, 2.0, 0.0, 1.0, 1.0, 1.0, 1.0, 1.0, 1.0, 1.0, 2.0, 0.0, 2.0, 1.0, 2.0, 2.0, 1.0, 0.0, 2.0, 1.0, 2.0, 2.0, 0.0, 2.0, 1.0, 1.0, 1.0, 2.0, 1.0, 2.0], [2.0, 1.0, 2.0, 2.0, 1.0, 2.0, 2.0, 1.0, 2.0, 2.0, 2.0, 2.0, 1.0, 2.0, 2.0, 2.0, 2.0, 2.0, 2.0, 2.0, 2.0, 2.0, 1.0, 2.0, 2.0, 2.0, 2.0, 2.0, 2.0, 1.0, 2.0, 0.0, 2.0, 2.0, 1.0, 1.0, 2.0, 2.0, 2.0, 2.0, 2.0, 2.0, 2.0, 2.0, 2.0, 1.0, 1.0, 2.0, 2.0, 2.0, 2.0, 2.0, 2.0, 2.0, 2.0, 2.0, 2.0, 2.0, 1.0, 2.0, 2.0, 2.0, 2.0, 2.0, 2.0, 1.0, 1.0, 0.0, 2.0, 2.0, 2.0, 2.0, 1.0, 1.0, 2.0, 2.0, 1.0, 2.0, 2.0, 2.0, 2.0, 2.0, 1.0, 2.0, 2.0, 2.0, 2.0, 2.0, 2.0, 2.0, 2.0, 2.0, 1.0, 2.0, 2.0, 2.0, 2.0, 2.0, 2.0, 2.0], [0.0, 0.0, 0.0, 1.0, 0.0, 0.0, 2.0, 0.0, 0.0, 1.0, 0.0, 1.0, 0.0, 1.0, 1.0, 1.0, 0.0, 0.0, 1.0, 0.0, 0.0, 0.0, 0.0, 2.0, 1.0, 0.0, 0.0, 0.0, 0.0, 0.0, 1.0, 0.0, 0.0, 0.0, 0.0, 0.0, 0.0, 1.0, 1.0, 1.0, 0.0, 0.0, 1.0, 0.0, 0.0, 0.0, 0.0, 0.0, 0.0, 0.0, 0.0, 1.0, 1.0, 0.0, 0.0, 0.0, 1.0, 0.0, 0.0, 1.0, 0.0, 0.0, 1.0, 0.0, 1.0, 0.0, 1.0, 0.0, 0.0, 0.0, 1.0, 1.0, 0.0, 0.0, 0.0, 0.0, 1.0, 0.0, 1.0, 0.0, 0.0, 1.0, 0.0, 0.0, 2.0, 1.0, 0.0, 0.0, 1.0, 2.0, 0.0, 0.0, 0.0, 0.0, 1.0, 0.0, 1.0, 0.0, 0.0, 2.0], [2.0, 0.0, 0.0, 0.0, 1.0, 2.0, 0.0, 0.0, 0.0, 1.0, 1.0, 0.0, 0.0, 2.0, 1.0, 1.0, 1.0, 1.0, 1.0, 0.0, 2.0, 2.0, 1.0, 0.0, 0.0, 1.0, 0.0, 2.0, 1.0, 0.0, 2.0, 1.0, 0.0, 0.0, 1.0, 1.0, 0.0, 0.0, 1.0, 2.0, 1.0, 0.0, 0.0, 1.0, 1.0, 1.0, 0.0, 0.0, 2.0, 0.0, 0.0, 1.0, 0.0, 1.0, 1.0, 1.0, 2.0, 0.0, 1.0, 0.0, 1.0, 0.0, 0.0, 0.0, 1.0, 1.0, 0.0, 1.0, 1.0, 0.0, 0.0, 0.0, 1.0, 2.0, 0.0, 2.0, 1.0, 1.0, 1.0, 1.0, 0.0, 1.0, 0.0, 1.0, 0.0, 1.0, 0.0, 0.0, 1.0, 0.0, 0.0, 0.0, 2.0, 0.0, 1.0, 1.0, 1.0, 1.0, 1.0, 0.0], [1.0, 0.0, 1.0, 0.0, 1.0, 0.0, 2.0, 0.0, 0.0, 2.0, 0.0, 0.0, 0.0, 0.0, 1.0, 1.0, 0.0, 1.0, 1.0, 0.0, 0.0, 0.0, 1.0, 1.0, 1.0, 1.0, 0.0, 1.0, 0.0, 0.0, 1.0, 0.0, 0.0, 0.0, 0.0, 1.0, 0.0, 1.0, 0.0, 0.0, 0.0, 0.0, 2.0, 0.0, 0.0, 1.0, 1.0, 1.0, 0.0, 0.0, 0.0, 0.0, 0.0, 0.0, 0.0, 0.0, 0.0, 0.0, 0.0, 1.0, 0.0, 1.0, 1.0, 0.0, 0.0, 0.0, 1.0, 0.0, 0.0, 2.0, 0.0, 1.0, 0.0, 0.0, 0.0, 0.0, 0.0, 0.0, 0.0, 0.0, 0.0, 1.0, 0.0, 1.0, 0.0, 0.0, 0.0, 0.0, 1.0, 0.0, 0.0, 0.0, 1.0, 1.0, 0.0, 0.0, 0.0, 0.0, 0.0, 0.0], [2.0, 1.0, 1.0, 0.0, 0.0, 1.0, 1.0, 1.0, 1.0, 2.0, 2.0, 1.0, 2.0, 2.0, 2.0, 1.0, 1.0, 2.0, 2.0, 0.0, 1.0, 1.0, 2.0, 1.0, 2.0, 1.0, 0.0, 1.0, 2.0, 1.0, 2.0, 1.0, 1.0, 1.0, 1.0, 2.0, 2.0, 1.0, 2.0, 1.0, 2.0, 1.0, 1.0, 1.0, 2.0, 2.0, 0.0, 0.0, 2.0, 0.0, 2.0, 0.0, 1.0, 1.0, 2.0, 2.0, 0.0, 2.0, 0.0, 0.0, 1.0, 0.0, 2.0, 2.0, 1.0, 2.0, 1.0, 2.0, 0.0, 1.0, 1.0, 2.0, 0.0, 2.0, 0.0, 1.0, 1.0, 0.0, 1.0, 1.0, 1.0, 1.0, 1.0, 1.0, 1.0, 1.0, 1.0, 2.0, 2.0, 1.0, 1.0, 1.0, 2.0, 1.0, 1.0, 1.0, 2.0, 1.0, 2.0, 0.0], [2.0, 0.0, 2.0, 1.0, 1.0, 1.0, 1.0, 2.0, 0.0, 0.0, 0.0, 1.0, 2.0, 1.0, 1.0, 0.0, 1.0, 1.0, 0.0, 0.0, 0.0, 0.0, 2.0, 0.0, 1.0, 1.0, 0.0, 0.0, 1.0, 1.0, 1.0, 1.0, 0.0, 1.0, 0.0, 2.0, 0.0, 0.0, 1.0, 2.0, 1.0, 1.0, 2.0, 1.0, 0.0, 1.0, 0.0, 0.0, 2.0, 0.0, 1.0, 0.0, 2.0, 2.0, 1.0, 0.0, 1.0, 1.0, 2.0, 2.0, 0.0, 0.0, 0.0, 0.0, 1.0, 0.0, 2.0, 0.0, 0.0, 0.0, 2.0, 0.0, 1.0, 1.0, 1.0, 1.0, 1.0, 1.0, 0.0, 2.0, 0.0, 1.0, 0.0, 0.0, 1.0, 0.0, 2.0, 2.0, 0.0, 0.0, 0.0, 1.0, 1.0, 1.0, 0.0, 0.0, 2.0, 0.0, 1.0, 1.0], [1.0, 2.0, 1.0, 0.0, 1.0, 0.0, 2.0, 2.0, 2.0, 0.0, 1.0, 2.0, 1.0, 2.0, 2.0, 0.0, 1.0, 2.0, 1.0, 0.0, 0.0, 0.0, 2.0, 1.0, 0.0, 2.0, 2.0, 1.0, 1.0, 1.0, 0.0, 1.0, 2.0, 0.0, 2.0, 2.0, 1.0, 1.0, 0.0, 1.0, 2.0, 2.0, 2.0, 2.0, 1.0, 0.0, 2.0, 0.0, 2.0, 1.0, 1.0, 1.0, 1.0, 2.0, 0.0, 1.0, 0.0, 1.0, 2.0, 2.0, 0.0, 0.0, 1.0, 0.0, 0.0, 1.0, 1.0, 1.0, 0.0, 0.0, 0.0, 0.0, 2.0, 2.0, 0.0, 2.0, 1.0, 1.0, 2.0, 0.0, 2.0, 0.0, 1.0, 0.0, 0.0, 0.0, 0.0, 2.0, 1.0, 1.0, 2.0, 0.0, 2.0, 0.0, 2.0, 1.0, 2.0, 1.0, 0.0, 1.0], [1.0, 0.0, 0.0, 0.0, 2.0, 1.0, 1.0, 0.0, 2.0, 0.0, 0.0, 2.0, 1.0, 0.0, 1.0, 2.0, 2.0, 1.0, 0.0, 0.0, 2.0, 2.0, 1.0, 0.0, 0.0, 0.0, 2.0, 1.0, 0.0, 1.0, 1.0, 0.0, 1.0, 0.0, 0.0, 0.0, 2.0, 0.0, 1.0, 1.0, 0.0, 1.0, 0.0, 1.0, 1.0, 1.0, 2.0, 0.0, 0.0, 2.0, 1.0, 0.0, 2.0, 1.0, 0.0, 0.0, 1.0, 1.0, 2.0, 1.0, 2.0, 0.0, 0.0, 1.0, 0.0, 1.0, 2.0, 2.0, 0.0, 0.0, 0.0, 0.0, 0.0, 0.0, 1.0, 1.0, 0.0, 2.0, 1.0, 2.0, 2.0, 1.0, 0.0, 0.0, 0.0, 2.0, 2.0, 1.0, 1.0, 0.0, 1.0, 0.0, 1.0, 0.0, 2.0, 2.0, 1.0, 2.0, 0.0, 1.0]]}</td></tr>\n",
       "<tr><td style=\"white-space: nowrap; max-width: 500px; overflow: hidden; text-overflow: ellipsis; \">6</td><td style=\"white-space: nowrap; max-width: 500px; overflow: hidden; text-overflow: ellipsis; \">ndarray{shape=(10, 100), data=[[0.0, 0.0, 0.0, 1.0, 1.0, 1.0, 0.0, 0.0, 2.0, 1.0, 0.0, 1.0, 1.0, 1.0, 0.0, 0.0, 0.0, 0.0, 0.0, 0.0, 1.0, 0.0, 2.0, 0.0, 0.0, 0.0, 1.0, 0.0, 1.0, 1.0, 0.0, 0.0, 0.0, 1.0, 1.0, 0.0, 1.0, 0.0, 0.0, 2.0, 1.0, 0.0, 0.0, 1.0, 0.0, 2.0, 1.0, 0.0, 1.0, 0.0, 1.0, 0.0, 0.0, 1.0, 1.0, 0.0, 0.0, 1.0, 0.0, 2.0, 0.0, 0.0, 0.0, 2.0, 1.0, 1.0, 0.0, 1.0, 1.0, 0.0, 0.0, 1.0, 0.0, 0.0, 0.0, 1.0, 0.0, 0.0, 0.0, 0.0, 0.0, 0.0, 0.0, 0.0, 0.0, 0.0, 0.0, 1.0, 0.0, 0.0, 1.0, 1.0, 0.0, 0.0, 1.0, 1.0, 0.0, 1.0, 0.0, 1.0], [1.0, 1.0, 0.0, 1.0, 0.0, 1.0, 0.0, 1.0, 2.0, 0.0, 0.0, 1.0, 0.0, 1.0, 1.0, 0.0, 1.0, 0.0, 1.0, 1.0, 1.0, 1.0, 1.0, 1.0, 0.0, 2.0, 0.0, 0.0, 1.0, 0.0, 1.0, 1.0, 0.0, 0.0, 1.0, 1.0, 0.0, 1.0, 2.0, 0.0, 0.0, 1.0, 2.0, 2.0, 0.0, 2.0, 0.0, 1.0, 2.0, 1.0, 0.0, 1.0, 1.0, 1.0, 2.0, 1.0, 1.0, 0.0, 0.0, 1.0, 0.0, 0.0, 1.0, 0.0, 0.0, 0.0, 1.0, 0.0, 0.0, 1.0, 0.0, 1.0, 1.0, 1.0, 0.0, 1.0, 2.0, 0.0, 0.0, 0.0, 0.0, 0.0, 1.0, 1.0, 0.0, 1.0, 0.0, 0.0, 0.0, 1.0, 0.0, 1.0, 1.0, 1.0, 1.0, 1.0, 1.0, 0.0, 1.0, 1.0], [1.0, 1.0, 0.0, 1.0, 1.0, 1.0, 1.0, 1.0, 1.0, 0.0, 1.0, 1.0, 0.0, 2.0, 2.0, 1.0, 1.0, 2.0, 1.0, 2.0, 1.0, 0.0, 2.0, 0.0, 1.0, 2.0, 0.0, 2.0, 1.0, 2.0, 1.0, 2.0, 2.0, 0.0, 1.0, 1.0, 2.0, 1.0, 1.0, 1.0, 1.0, 1.0, 2.0, 1.0, 1.0, 2.0, 1.0, 0.0, 1.0, 1.0, 2.0, 1.0, 1.0, 1.0, 0.0, 1.0, 2.0, 2.0, 2.0, 1.0, 2.0, 1.0, 2.0, 1.0, 1.0, 2.0, 1.0, 1.0, 1.0, 2.0, 2.0, 2.0, 2.0, 0.0, 1.0, 1.0, 2.0, 1.0, 1.0, 2.0, 1.0, 2.0, 1.0, 1.0, 2.0, 2.0, 1.0, 0.0, 2.0, 2.0, 0.0, 2.0, 2.0, 1.0, 1.0, 0.0, 1.0, 1.0, 1.0, 1.0], [1.0, 0.0, 0.0, 0.0, 1.0, 0.0, 0.0, 1.0, 1.0, 0.0, 0.0, 0.0, 1.0, 2.0, 0.0, 0.0, 1.0, 1.0, 0.0, 0.0, 0.0, 1.0, 0.0, 0.0, 0.0, 1.0, 0.0, 0.0, 1.0, 0.0, 1.0, 0.0, 0.0, 0.0, 2.0, 1.0, 0.0, 0.0, 0.0, 1.0, 1.0, 0.0, 0.0, 1.0, 1.0, 0.0, 0.0, 0.0, 0.0, 0.0, 0.0, 1.0, 1.0, 0.0, 1.0, 1.0, 0.0, 1.0, 0.0, 0.0, 0.0, 1.0, 1.0, 0.0, 1.0, 1.0, 0.0, 1.0, 1.0, 0.0, 0.0, 0.0, 1.0, 0.0, 0.0, 1.0, 1.0, 0.0, 0.0, 0.0, 0.0, 1.0, 0.0, 1.0, 1.0, 0.0, 0.0, 0.0, 0.0, 1.0, 1.0, 0.0, 1.0, 0.0, 1.0, 2.0, 1.0, 0.0, 1.0, 0.0], [0.0, 1.0, 1.0, 0.0, 0.0, 1.0, 0.0, 0.0, 1.0, 0.0, 0.0, 2.0, 0.0, 0.0, 1.0, 1.0, 0.0, 0.0, 1.0, 1.0, 2.0, 0.0, 0.0, 0.0, 0.0, 0.0, 0.0, 0.0, 1.0, 0.0, 1.0, 0.0, 0.0, 0.0, 0.0, 0.0, 0.0, 0.0, 0.0, 0.0, 1.0, 0.0, 1.0, 1.0, 0.0, 1.0, 1.0, 0.0, 0.0, 0.0, 0.0, 2.0, 0.0, 1.0, 1.0, 1.0, 2.0, 0.0, 0.0, 0.0, 0.0, 1.0, 1.0, 0.0, 0.0, 0.0, 0.0, 1.0, 1.0, 1.0, 1.0, 1.0, 0.0, 1.0, 0.0, 1.0, 1.0, 0.0, 0.0, 1.0, 1.0, 0.0, 1.0, 0.0, 1.0, 0.0, 0.0, 2.0, 1.0, 2.0, 0.0, 0.0, 0.0, 0.0, 1.0, 0.0, 0.0, 1.0, 1.0, 0.0], [0.0, 2.0, 0.0, 1.0, 0.0, 1.0, 1.0, 1.0, 1.0, 2.0, 0.0, 0.0, 0.0, 2.0, 1.0, 1.0, 0.0, 1.0, 0.0, 1.0, 1.0, 1.0, 2.0, 0.0, 1.0, 1.0, 0.0, 0.0, 0.0, 0.0, 1.0, 1.0, 0.0, 0.0, 2.0, 2.0, 1.0, 0.0, 2.0, 0.0, 1.0, 0.0, 1.0, 2.0, 1.0, 2.0, 2.0, 0.0, 1.0, 1.0, 2.0, 1.0, 2.0, 1.0, 1.0, 2.0, 1.0, 1.0, 2.0, 1.0, 0.0, 0.0, 2.0, 1.0, 2.0, 1.0, 2.0, 0.0, 1.0, 1.0, 2.0, 1.0, 2.0, 2.0, 1.0, 1.0, 1.0, 1.0, 1.0, 2.0, 1.0, 1.0, 0.0, 1.0, 0.0, 1.0, 1.0, 1.0, 0.0, 2.0, 0.0, 1.0, 1.0, 1.0, 1.0, 0.0, 0.0, 0.0, 0.0, 1.0], [2.0, 2.0, 2.0, 2.0, 2.0, 1.0, 2.0, 2.0, 2.0, 2.0, 2.0, 2.0, 2.0, 2.0, 2.0, 1.0, 1.0, 2.0, 2.0, 2.0, 2.0, 1.0, 2.0, 2.0, 2.0, 2.0, 2.0, 2.0, 1.0, 2.0, 2.0, 1.0, 2.0, 2.0, 2.0, 1.0, 2.0, 2.0, 2.0, 2.0, 1.0, 2.0, 2.0, 2.0, 1.0, 0.0, 2.0, 1.0, 1.0, 2.0, 2.0, 1.0, 2.0, 1.0, 2.0, 0.0, 2.0, 1.0, 1.0, 1.0, 2.0, 0.0, 2.0, 2.0, 2.0, 1.0, 1.0, 2.0, 1.0, 1.0, 1.0, 2.0, 2.0, 1.0, 2.0, 2.0, 2.0, 2.0, 2.0, 1.0, 2.0, 2.0, 1.0, 2.0, 1.0, 0.0, 1.0, 1.0, 2.0, 2.0, 2.0, 0.0, 2.0, 1.0, 2.0, 1.0, 2.0, 2.0, 1.0, 1.0], [0.0, 1.0, 0.0, 0.0, 0.0, 0.0, 0.0, 0.0, 0.0, 0.0, 0.0, 1.0, 1.0, 0.0, 0.0, 0.0, 0.0, 1.0, 0.0, 0.0, 0.0, 1.0, 0.0, 0.0, 0.0, 0.0, 2.0, 0.0, 0.0, 0.0, 1.0, 0.0, 2.0, 1.0, 0.0, 0.0, 1.0, 0.0, 0.0, 1.0, 0.0, 0.0, 0.0, 0.0, 1.0, 0.0, 0.0, 0.0, 0.0, 2.0, 2.0, 0.0, 1.0, 0.0, 0.0, 0.0, 0.0, 0.0, 1.0, 0.0, 0.0, 0.0, 0.0, 1.0, 1.0, 0.0, 2.0, 0.0, 0.0, 0.0, 0.0, 0.0, 1.0, 0.0, 2.0, 0.0, 0.0, 0.0, 1.0, 0.0, 1.0, 0.0, 0.0, 0.0, 0.0, 0.0, 0.0, 2.0, 0.0, 0.0, 1.0, 0.0, 0.0, 0.0, 0.0, 0.0, 1.0, 0.0, 0.0, 0.0], [2.0, 2.0, 2.0, 2.0, 1.0, 1.0, 2.0, 2.0, 2.0, 2.0, 2.0, 2.0, 2.0, 1.0, 2.0, 2.0, 1.0, 2.0, 2.0, 2.0, 2.0, 2.0, 2.0, 2.0, 2.0, 2.0, 2.0, 1.0, 2.0, 2.0, 1.0, 2.0, 2.0, 2.0, 1.0, 2.0, 2.0, 2.0, 2.0, 1.0, 2.0, 2.0, 2.0, 2.0, 0.0, 2.0, 2.0, 2.0, 2.0, 2.0, 1.0, 2.0, 2.0, 2.0, 2.0, 2.0, 2.0, 1.0, 0.0, 0.0, 2.0, 2.0, 2.0, 2.0, 2.0, 1.0, 2.0, 1.0, 2.0, 1.0, 2.0, 2.0, 1.0, 2.0, 1.0, 2.0, 2.0, 2.0, 1.0, 1.0, 2.0, 2.0, 2.0, 2.0, 2.0, 2.0, 2.0, 2.0, 2.0, 1.0, 2.0, 2.0, 2.0, 2.0, 2.0, 2.0, 2.0, 1.0, 2.0, 2.0], [0.0, 0.0, 0.0, 1.0, 0.0, 1.0, 1.0, 0.0, 0.0, 0.0, 0.0, 1.0, 0.0, 0.0, 0.0, 1.0, 1.0, 1.0, 1.0, 1.0, 0.0, 0.0, 0.0, 2.0, 1.0, 1.0, 1.0, 1.0, 0.0, 0.0, 1.0, 0.0, 0.0, 1.0, 0.0, 0.0, 0.0, 2.0, 1.0, 1.0, 0.0, 0.0, 0.0, 0.0, 0.0, 0.0, 1.0, 2.0, 0.0, 0.0, 0.0, 1.0, 1.0, 0.0, 1.0, 0.0, 2.0, 1.0, 0.0, 0.0, 1.0, 0.0, 0.0, 0.0, 0.0, 0.0, 0.0, 1.0, 1.0, 2.0, 1.0, 1.0, 1.0, 0.0, 0.0, 2.0, 0.0, 2.0, 1.0, 0.0, 0.0, 1.0, 1.0, 0.0, 1.0, 1.0, 1.0, 1.0, 2.0, 1.0, 0.0, 0.0, 1.0, 1.0, 1.0, 0.0, 0.0, 0.0, 1.0, 2.0]]}</td></tr>\n",
       "<tr><td style=\"white-space: nowrap; max-width: 500px; overflow: hidden; text-overflow: ellipsis; \">7</td><td style=\"white-space: nowrap; max-width: 500px; overflow: hidden; text-overflow: ellipsis; \">ndarray{shape=(10, 100), data=[[2.0, 2.0, 1.0, 2.0, 2.0, 2.0, 1.0, 2.0, 2.0, 2.0, 2.0, 2.0, 1.0, 2.0, 2.0, 2.0, 2.0, 1.0, 2.0, 2.0, 2.0, 2.0, 2.0, 2.0, 2.0, 2.0, 2.0, 2.0, 1.0, 2.0, 2.0, 2.0, 2.0, 2.0, 2.0, 1.0, 2.0, 2.0, 2.0, 2.0, 2.0, 2.0, 2.0, 2.0, 2.0, 2.0, 0.0, 2.0, 2.0, 2.0, 2.0, 2.0, 1.0, 0.0, 2.0, 2.0, 2.0, 2.0, 2.0, 1.0, 2.0, 2.0, 2.0, 2.0, 2.0, 2.0, 2.0, 2.0, 2.0, 2.0, 2.0, 2.0, 2.0, 2.0, 2.0, 2.0, 2.0, 2.0, 2.0, 2.0, 2.0, 2.0, 2.0, 2.0, 2.0, 2.0, 2.0, 2.0, 2.0, 2.0, 2.0, 2.0, 1.0, 2.0, 1.0, 2.0, 2.0, 2.0, 2.0, 2.0], [0.0, 1.0, 0.0, 2.0, 2.0, 1.0, 0.0, 1.0, 1.0, 1.0, 1.0, 1.0, 1.0, 1.0, 1.0, 1.0, 1.0, 0.0, 0.0, 0.0, 2.0, 1.0, 0.0, 1.0, 1.0, 1.0, 2.0, 2.0, 0.0, 1.0, 1.0, 1.0, 1.0, 0.0, 0.0, 0.0, 1.0, 1.0, 1.0, 1.0, 1.0, 0.0, 0.0, 0.0, 1.0, 0.0, 1.0, 0.0, 1.0, 1.0, 0.0, 1.0, 0.0, 0.0, 1.0, 2.0, 2.0, 1.0, 1.0, 0.0, 1.0, 2.0, 2.0, 2.0, 1.0, 0.0, 1.0, 0.0, 1.0, 2.0, 2.0, 0.0, 1.0, 1.0, 0.0, 2.0, 0.0, 2.0, 2.0, 1.0, 0.0, 1.0, 1.0, 1.0, 2.0, 0.0, 1.0, 1.0, 1.0, 0.0, 0.0, 2.0, 2.0, 2.0, 0.0, 0.0, 1.0, 2.0, 2.0, 1.0], [2.0, 2.0, 2.0, 1.0, 2.0, 1.0, 2.0, 2.0, 2.0, 2.0, 1.0, 1.0, 2.0, 2.0, 2.0, 2.0, 2.0, 2.0, 2.0, 1.0, 2.0, 2.0, 2.0, 2.0, 2.0, 2.0, 2.0, 1.0, 2.0, 1.0, 2.0, 2.0, 2.0, 2.0, 2.0, 2.0, 2.0, 2.0, 2.0, 2.0, 2.0, 2.0, 2.0, 2.0, 2.0, 1.0, 2.0, 1.0, 2.0, 2.0, 2.0, 2.0, 2.0, 2.0, 2.0, 2.0, 1.0, 2.0, 2.0, 2.0, 1.0, 2.0, 1.0, 1.0, 2.0, 2.0, 2.0, 2.0, 1.0, 2.0, 2.0, 2.0, 1.0, 2.0, 2.0, 2.0, 2.0, 2.0, 2.0, 2.0, 1.0, 2.0, 2.0, 1.0, 2.0, 2.0, 1.0, 2.0, 2.0, 2.0, 2.0, 1.0, 2.0, 2.0, 2.0, 2.0, 2.0, 1.0, 2.0, 1.0], [1.0, 0.0, 2.0, 2.0, 1.0, 2.0, 1.0, 2.0, 1.0, 2.0, 1.0, 2.0, 1.0, 2.0, 1.0, 2.0, 2.0, 1.0, 2.0, 1.0, 1.0, 1.0, 0.0, 1.0, 1.0, 2.0, 1.0, 1.0, 2.0, 1.0, 2.0, 2.0, 2.0, 2.0, 0.0, 2.0, 1.0, 1.0, 1.0, 0.0, 1.0, 1.0, 0.0, 2.0, 2.0, 1.0, 0.0, 2.0, 2.0, 2.0, 1.0, 2.0, 1.0, 1.0, 2.0, 2.0, 2.0, 2.0, 2.0, 1.0, 1.0, 2.0, 1.0, 2.0, 2.0, 0.0, 1.0, 1.0, 2.0, 2.0, 2.0, 2.0, 2.0, 1.0, 2.0, 1.0, 1.0, 2.0, 1.0, 1.0, 1.0, 2.0, 2.0, 2.0, 1.0, 2.0, 2.0, 1.0, 1.0, 1.0, 2.0, 1.0, 2.0, 2.0, 2.0, 2.0, 0.0, 1.0, 2.0, 2.0], [1.0, 2.0, 1.0, 2.0, 1.0, 1.0, 2.0, 1.0, 1.0, 2.0, 0.0, 1.0, 0.0, 2.0, 2.0, 1.0, 0.0, 1.0, 2.0, 1.0, 1.0, 1.0, 2.0, 2.0, 1.0, 2.0, 1.0, 1.0, 0.0, 0.0, 1.0, 1.0, 0.0, 2.0, 1.0, 1.0, 0.0, 2.0, 2.0, 2.0, 0.0, 1.0, 1.0, 2.0, 1.0, 2.0, 2.0, 1.0, 2.0, 1.0, 1.0, 2.0, 2.0, 1.0, 2.0, 0.0, 2.0, 0.0, 1.0, 1.0, 0.0, 2.0, 1.0, 2.0, 2.0, 0.0, 1.0, 1.0, 2.0, 1.0, 2.0, 1.0, 2.0, 1.0, 1.0, 1.0, 2.0, 2.0, 1.0, 1.0, 0.0, 2.0, 0.0, 2.0, 2.0, 2.0, 2.0, 1.0, 2.0, 2.0, 1.0, 1.0, 1.0, 2.0, 2.0, 0.0, 2.0, 2.0, 2.0, 2.0], [0.0, 0.0, 0.0, 0.0, 0.0, 1.0, 0.0, 0.0, 0.0, 0.0, 0.0, 0.0, 0.0, 0.0, 0.0, 1.0, 0.0, 0.0, 0.0, 0.0, 0.0, 0.0, 1.0, 0.0, 0.0, 1.0, 2.0, 0.0, 0.0, 0.0, 1.0, 0.0, 1.0, 0.0, 0.0, 0.0, 0.0, 0.0, 0.0, 1.0, 0.0, 1.0, 1.0, 0.0, 1.0, 0.0, 0.0, 1.0, 1.0, 0.0, 0.0, 0.0, 0.0, 0.0, 0.0, 0.0, 0.0, 0.0, 0.0, 0.0, 0.0, 1.0, 0.0, 0.0, 1.0, 1.0, 1.0, 1.0, 1.0, 1.0, 0.0, 1.0, 1.0, 0.0, 1.0, 1.0, 0.0, 0.0, 0.0, 1.0, 0.0, 0.0, 0.0, 1.0, 0.0, 0.0, 1.0, 0.0, 1.0, 0.0, 0.0, 1.0, 0.0, 0.0, 1.0, 0.0, 1.0, 0.0, 1.0, 0.0], [0.0, 0.0, 1.0, 1.0, 0.0, 2.0, 1.0, 1.0, 1.0, 1.0, 1.0, 1.0, 1.0, 1.0, 2.0, 1.0, 1.0, 0.0, 0.0, 2.0, 1.0, 1.0, 1.0, 2.0, 2.0, 0.0, 2.0, 2.0, 2.0, 0.0, 2.0, 1.0, 1.0, 1.0, 0.0, 0.0, 2.0, 0.0, 2.0, 2.0, 1.0, 1.0, 0.0, 0.0, 1.0, 0.0, 0.0, 2.0, 1.0, 2.0, 1.0, 2.0, 0.0, 0.0, 1.0, 2.0, 0.0, 1.0, 1.0, 0.0, 2.0, 1.0, 1.0, 2.0, 1.0, 1.0, 0.0, 2.0, 1.0, 1.0, 2.0, 1.0, 2.0, 0.0, 1.0, 0.0, 0.0, 2.0, 1.0, 0.0, 0.0, 2.0, 0.0, 0.0, 2.0, 1.0, 2.0, 2.0, 2.0, 0.0, 2.0, 1.0, 0.0, 1.0, 0.0, 2.0, 0.0, 2.0, 1.0, 2.0], [1.0, 0.0, 0.0, 0.0, 0.0, 0.0, 0.0, 1.0, 0.0, 0.0, 0.0, 0.0, 1.0, 0.0, 0.0, 0.0, 0.0, 0.0, 1.0, 0.0, 0.0, 0.0, 1.0, 0.0, 0.0, 0.0, 0.0, 0.0, 1.0, 0.0, 1.0, 0.0, 1.0, 1.0, 0.0, 0.0, 1.0, 1.0, 0.0, 0.0, 0.0, 1.0, 0.0, 0.0, 0.0, 0.0, 0.0, 1.0, 0.0, 0.0, 0.0, 1.0, 0.0, 0.0, 0.0, 0.0, 0.0, 0.0, 0.0, 0.0, 0.0, 0.0, 1.0, 0.0, 0.0, 0.0, 0.0, 0.0, 0.0, 1.0, 2.0, 0.0, 0.0, 1.0, 1.0, 1.0, 0.0, 1.0, 0.0, 0.0, 0.0, 0.0, 0.0, 0.0, 0.0, 1.0, 1.0, 0.0, 0.0, 0.0, 0.0, 1.0, 0.0, 1.0, 0.0, 0.0, 0.0, 1.0, 0.0, 0.0], [1.0, 1.0, 1.0, 1.0, 1.0, 1.0, 0.0, 2.0, 1.0, 1.0, 0.0, 0.0, 1.0, 1.0, 1.0, 1.0, 0.0, 0.0, 1.0, 0.0, 0.0, 1.0, 0.0, 1.0, 1.0, 0.0, 0.0, 2.0, 0.0, 1.0, 0.0, 1.0, 0.0, 1.0, 1.0, 1.0, 2.0, 0.0, 1.0, 2.0, 2.0, 0.0, 1.0, 0.0, 1.0, 1.0, 1.0, 1.0, 1.0, 0.0, 0.0, 1.0, 0.0, 1.0, 1.0, 2.0, 0.0, 1.0, 2.0, 0.0, 2.0, 1.0, 1.0, 1.0, 2.0, 1.0, 0.0, 1.0, 1.0, 1.0, 1.0, 2.0, 1.0, 1.0, 0.0, 0.0, 1.0, 2.0, 1.0, 0.0, 2.0, 2.0, 2.0, 0.0, 1.0, 1.0, 2.0, 0.0, 2.0, 0.0, 1.0, 1.0, 1.0, 2.0, 0.0, 1.0, 0.0, 1.0, 1.0, 2.0], [0.0, 0.0, 0.0, 0.0, 1.0, 0.0, 0.0, 0.0, 1.0, 0.0, 1.0, 1.0, 0.0, 0.0, 0.0, 1.0, 1.0, 0.0, 0.0, 0.0, 0.0, 1.0, 1.0, 1.0, 0.0, 1.0, 0.0, 1.0, 1.0, 1.0, 0.0, 0.0, 1.0, 1.0, 1.0, 0.0, 0.0, 1.0, 2.0, 0.0, 0.0, 0.0, 0.0, 1.0, 1.0, 0.0, 1.0, 1.0, 0.0, 1.0, 1.0, 0.0, 1.0, 0.0, 0.0, 0.0, 0.0, 0.0, 1.0, 0.0, 1.0, 0.0, 0.0, 0.0, 1.0, 0.0, 0.0, 1.0, 1.0, 0.0, 0.0, 1.0, 1.0, 1.0, 1.0, 1.0, 0.0, 0.0, 1.0, 2.0, 0.0, 0.0, 0.0, 1.0, 1.0, 0.0, 1.0, 2.0, 2.0, 1.0, 1.0, 1.0, 0.0, 0.0, 0.0, 2.0, 2.0, 1.0, 1.0, 0.0]]}</td></tr>\n",
       "<tr><td style=\"white-space: nowrap; max-width: 500px; overflow: hidden; text-overflow: ellipsis; \">8</td><td style=\"white-space: nowrap; max-width: 500px; overflow: hidden; text-overflow: ellipsis; \">ndarray{shape=(10, 100), data=[[2.0, 0.0, 0.0, 2.0, 1.0, 1.0, 1.0, 0.0, 0.0, 0.0, 0.0, 0.0, 1.0, 0.0, 1.0, 1.0, 1.0, 2.0, 0.0, 0.0, 0.0, 1.0, 0.0, 1.0, 0.0, 1.0, 0.0, 0.0, 0.0, 0.0, 1.0, 1.0, 0.0, 1.0, 1.0, 1.0, 1.0, 1.0, 0.0, 0.0, 1.0, 1.0, 0.0, 0.0, 0.0, 1.0, 0.0, 1.0, 0.0, 1.0, 0.0, 2.0, 0.0, 0.0, 2.0, 0.0, 1.0, 1.0, 0.0, 2.0, 0.0, 2.0, 1.0, 0.0, 1.0, 0.0, 1.0, 0.0, 0.0, 0.0, 1.0, 0.0, 1.0, 1.0, 0.0, 1.0, 0.0, 1.0, 0.0, 0.0, 0.0, 1.0, 1.0, 1.0, 0.0, 2.0, 1.0, 0.0, 1.0, 0.0, 0.0, 0.0, 0.0, 0.0, 1.0, 0.0, 2.0, 0.0, 0.0, 1.0], [0.0, 0.0, 1.0, 1.0, 1.0, 1.0, 2.0, 1.0, 0.0, 0.0, 1.0, 0.0, 0.0, 1.0, 1.0, 1.0, 1.0, 0.0, 1.0, 0.0, 0.0, 0.0, 1.0, 2.0, 2.0, 0.0, 2.0, 2.0, 1.0, 0.0, 1.0, 1.0, 0.0, 1.0, 0.0, 0.0, 1.0, 1.0, 1.0, 2.0, 0.0, 0.0, 1.0, 1.0, 1.0, 0.0, 0.0, 2.0, 0.0, 0.0, 1.0, 1.0, 1.0, 0.0, 1.0, 1.0, 0.0, 1.0, 1.0, 1.0, 1.0, 0.0, 2.0, 1.0, 2.0, 0.0, 2.0, 1.0, 1.0, 1.0, 2.0, 1.0, 1.0, 1.0, 0.0, 0.0, 2.0, 1.0, 0.0, 1.0, 2.0, 2.0, 1.0, 0.0, 1.0, 2.0, 1.0, 0.0, 1.0, 0.0, 0.0, 2.0, 1.0, 0.0, 2.0, 1.0, 1.0, 1.0, 0.0, 2.0], [0.0, 1.0, 0.0, 0.0, 1.0, 0.0, 0.0, 0.0, 0.0, 2.0, 0.0, 1.0, 0.0, 0.0, 1.0, 0.0, 0.0, 0.0, 0.0, 0.0, 0.0, 0.0, 0.0, 0.0, 1.0, 1.0, 1.0, 0.0, 0.0, 1.0, 0.0, 1.0, 1.0, 0.0, 0.0, 2.0, 0.0, 0.0, 0.0, 0.0, 0.0, 1.0, 1.0, 1.0, 0.0, 0.0, 1.0, 0.0, 0.0, 0.0, 0.0, 0.0, 0.0, 1.0, 0.0, 0.0, 0.0, 0.0, 1.0, 0.0, 0.0, 0.0, 0.0, 0.0, 1.0, 0.0, 0.0, 2.0, 0.0, 0.0, 0.0, 0.0, 0.0, 0.0, 0.0, 1.0, 0.0, 0.0, 0.0, 1.0, 0.0, 0.0, 0.0, 0.0, 0.0, 0.0, 0.0, 1.0, 0.0, 0.0, 1.0, 0.0, 0.0, 0.0, 0.0, 1.0, 0.0, 0.0, 0.0, 0.0], [1.0, 2.0, 0.0, 1.0, 1.0, 1.0, 1.0, 0.0, 0.0, 0.0, 1.0, 0.0, 0.0, 1.0, 1.0, 1.0, 1.0, 1.0, 2.0, 1.0, 1.0, 0.0, 1.0, 1.0, 2.0, 1.0, 2.0, 1.0, 0.0, 0.0, 1.0, 2.0, 0.0, 0.0, 1.0, 2.0, 1.0, 2.0, 1.0, 0.0, 1.0, 0.0, 1.0, 1.0, 1.0, 2.0, 2.0, 1.0, 2.0, 0.0, 1.0, 0.0, 2.0, 1.0, 1.0, 2.0, 1.0, 1.0, 1.0, 2.0, 1.0, 0.0, 2.0, 0.0, 1.0, 2.0, 1.0, 1.0, 1.0, 1.0, 2.0, 0.0, 1.0, 1.0, 0.0, 1.0, 1.0, 2.0, 0.0, 1.0, 0.0, 0.0, 0.0, 1.0, 0.0, 2.0, 1.0, 0.0, 0.0, 1.0, 0.0, 2.0, 2.0, 2.0, 2.0, 0.0, 2.0, 1.0, 1.0, 1.0], [0.0, 0.0, 0.0, 1.0, 2.0, 0.0, 1.0, 0.0, 2.0, 2.0, 0.0, 0.0, 0.0, 0.0, 0.0, 1.0, 0.0, 0.0, 1.0, 2.0, 0.0, 2.0, 0.0, 0.0, 1.0, 0.0, 1.0, 0.0, 1.0, 1.0, 0.0, 1.0, 1.0, 0.0, 1.0, 0.0, 1.0, 1.0, 1.0, 1.0, 1.0, 0.0, 0.0, 1.0, 0.0, 1.0, 1.0, 1.0, 1.0, 1.0, 2.0, 1.0, 1.0, 1.0, 2.0, 0.0, 1.0, 1.0, 1.0, 0.0, 1.0, 1.0, 1.0, 1.0, 1.0, 2.0, 1.0, 2.0, 1.0, 2.0, 2.0, 1.0, 0.0, 2.0, 2.0, 0.0, 2.0, 2.0, 1.0, 0.0, 2.0, 1.0, 1.0, 1.0, 2.0, 1.0, 2.0, 0.0, 2.0, 1.0, 1.0, 2.0, 0.0, 2.0, 1.0, 1.0, 0.0, 0.0, 2.0, 1.0], [0.0, 2.0, 1.0, 0.0, 1.0, 0.0, 1.0, 0.0, 0.0, 0.0, 0.0, 0.0, 0.0, 1.0, 2.0, 1.0, 0.0, 2.0, 0.0, 0.0, 1.0, 0.0, 1.0, 0.0, 2.0, 2.0, 0.0, 0.0, 0.0, 0.0, 1.0, 0.0, 1.0, 0.0, 1.0, 0.0, 0.0, 0.0, 0.0, 1.0, 0.0, 0.0, 0.0, 1.0, 1.0, 0.0, 0.0, 1.0, 1.0, 1.0, 1.0, 1.0, 1.0, 1.0, 0.0, 2.0, 0.0, 0.0, 2.0, 0.0, 1.0, 2.0, 1.0, 1.0, 0.0, 1.0, 0.0, 0.0, 0.0, 1.0, 0.0, 1.0, 1.0, 0.0, 0.0, 0.0, 0.0, 1.0, 2.0, 1.0, 1.0, 0.0, 1.0, 0.0, 0.0, 0.0, 1.0, 0.0, 0.0, 1.0, 0.0, 1.0, 1.0, 1.0, 0.0, 0.0, 2.0, 0.0, 1.0, 1.0], [1.0, 2.0, 0.0, 0.0, 1.0, 0.0, 1.0, 2.0, 1.0, 1.0, 2.0, 2.0, 2.0, 1.0, 2.0, 0.0, 1.0, 1.0, 1.0, 1.0, 2.0, 0.0, 1.0, 0.0, 2.0, 1.0, 1.0, 2.0, 0.0, 1.0, 1.0, 1.0, 0.0, 1.0, 2.0, 1.0, 0.0, 2.0, 0.0, 1.0, 1.0, 0.0, 1.0, 1.0, 0.0, 1.0, 2.0, 1.0, 2.0, 0.0, 1.0, 1.0, 2.0, 0.0, 1.0, 0.0, 1.0, 1.0, 1.0, 1.0, 2.0, 1.0, 1.0, 1.0, 1.0, 2.0, 0.0, 2.0, 1.0, 1.0, 0.0, 1.0, 0.0, 1.0, 0.0, 0.0, 0.0, 1.0, 1.0, 1.0, 1.0, 0.0, 2.0, 0.0, 1.0, 1.0, 1.0, 0.0, 0.0, 0.0, 1.0, 2.0, 1.0, 1.0, 1.0, 1.0, 1.0, 1.0, 0.0, 1.0], [0.0, 0.0, 1.0, 1.0, 0.0, 1.0, 1.0, 0.0, 0.0, 0.0, 0.0, 0.0, 0.0, 0.0, 0.0, 2.0, 1.0, 0.0, 0.0, 0.0, 1.0, 1.0, 0.0, 2.0, 1.0, 1.0, 0.0, 0.0, 0.0, 0.0, 1.0, 0.0, 0.0, 0.0, 0.0, 0.0, 0.0, 2.0, 0.0, 0.0, 0.0, 0.0, 1.0, 0.0, 0.0, 1.0, 0.0, 1.0, 0.0, 1.0, 0.0, 2.0, 0.0, 0.0, 2.0, 0.0, 1.0, 1.0, 0.0, 0.0, 0.0, 1.0, 1.0, 0.0, 0.0, 0.0, 0.0, 0.0, 2.0, 1.0, 1.0, 2.0, 0.0, 0.0, 0.0, 0.0, 0.0, 1.0, 0.0, 0.0, 0.0, 1.0, 1.0, 2.0, 0.0, 2.0, 2.0, 0.0, 1.0, 0.0, 0.0, 0.0, 0.0, 1.0, 0.0, 0.0, 0.0, 0.0, 1.0, 0.0], [0.0, 1.0, 2.0, 1.0, 1.0, 2.0, 2.0, 1.0, 1.0, 1.0, 0.0, 2.0, 2.0, 2.0, 2.0, 2.0, 0.0, 1.0, 1.0, 2.0, 0.0, 0.0, 1.0, 2.0, 2.0, 1.0, 2.0, 0.0, 1.0, 1.0, 1.0, 2.0, 0.0, 1.0, 1.0, 1.0, 2.0, 1.0, 0.0, 1.0, 1.0, 1.0, 0.0, 1.0, 1.0, 1.0, 1.0, 2.0, 1.0, 1.0, 1.0, 2.0, 1.0, 2.0, 1.0, 2.0, 2.0, 1.0, 0.0, 2.0, 1.0, 0.0, 2.0, 0.0, 2.0, 2.0, 1.0, 0.0, 1.0, 1.0, 1.0, 1.0, 2.0, 1.0, 0.0, 1.0, 2.0, 0.0, 1.0, 1.0, 0.0, 2.0, 2.0, 2.0, 2.0, 2.0, 1.0, 2.0, 2.0, 0.0, 0.0, 1.0, 2.0, 0.0, 1.0, 1.0, 0.0, 2.0, 2.0, 1.0], [2.0, 2.0, 2.0, 2.0, 2.0, 1.0, 2.0, 2.0, 2.0, 2.0, 2.0, 0.0, 1.0, 2.0, 0.0, 2.0, 0.0, 2.0, 2.0, 0.0, 2.0, 0.0, 1.0, 0.0, 2.0, 1.0, 1.0, 0.0, 2.0, 2.0, 2.0, 1.0, 1.0, 0.0, 2.0, 2.0, 0.0, 1.0, 2.0, 0.0, 1.0, 2.0, 1.0, 0.0, 2.0, 1.0, 1.0, 1.0, 2.0, 2.0, 2.0, 1.0, 1.0, 2.0, 2.0, 0.0, 2.0, 1.0, 2.0, 1.0, 1.0, 2.0, 1.0, 2.0, 0.0, 0.0, 1.0, 1.0, 1.0, 2.0, 2.0, 1.0, 0.0, 0.0, 2.0, 2.0, 2.0, 0.0, 1.0, 2.0, 1.0, 1.0, 0.0, 1.0, 2.0, 2.0, 2.0, 0.0, 2.0, 2.0, 1.0, 1.0, 2.0, 2.0, 2.0, 1.0, 2.0, 1.0, 0.0, 1.0]]}</td></tr>\n",
       "<tr><td style=\"white-space: nowrap; max-width: 500px; overflow: hidden; text-overflow: ellipsis; \">9</td><td style=\"white-space: nowrap; max-width: 500px; overflow: hidden; text-overflow: ellipsis; \">ndarray{shape=(10, 100), data=[[2.0, 1.0, 1.0, 0.0, 0.0, 1.0, 1.0, 1.0, 1.0, 0.0, 2.0, 0.0, 1.0, 1.0, 2.0, 1.0, 1.0, 0.0, 1.0, 1.0, 1.0, 1.0, 0.0, 2.0, 1.0, 0.0, 1.0, 1.0, 0.0, 0.0, 1.0, 0.0, 0.0, 1.0, 0.0, 0.0, 0.0, 0.0, 0.0, 2.0, 0.0, 1.0, 0.0, 0.0, 2.0, 0.0, 2.0, 2.0, 0.0, 0.0, 1.0, 0.0, 1.0, 1.0, 0.0, 2.0, 0.0, 2.0, 1.0, 1.0, 1.0, 0.0, 0.0, 1.0, 2.0, 2.0, 1.0, 2.0, 0.0, 1.0, 0.0, 1.0, 2.0, 1.0, 0.0, 1.0, 0.0, 1.0, 0.0, 0.0, 1.0, 1.0, 1.0, 0.0, 0.0, 1.0, 1.0, 1.0, 2.0, 1.0, 1.0, 0.0, 0.0, 2.0, 0.0, 0.0, 0.0, 1.0, 0.0, 0.0], [2.0, 2.0, 0.0, 0.0, 1.0, 1.0, 1.0, 2.0, 1.0, 0.0, 2.0, 1.0, 2.0, 2.0, 2.0, 1.0, 2.0, 2.0, 2.0, 1.0, 2.0, 1.0, 2.0, 1.0, 0.0, 1.0, 2.0, 1.0, 0.0, 2.0, 2.0, 2.0, 0.0, 1.0, 2.0, 2.0, 2.0, 1.0, 1.0, 2.0, 2.0, 0.0, 1.0, 1.0, 0.0, 0.0, 1.0, 1.0, 2.0, 2.0, 1.0, 2.0, 1.0, 2.0, 0.0, 1.0, 2.0, 0.0, 2.0, 0.0, 1.0, 2.0, 0.0, 2.0, 2.0, 1.0, 2.0, 1.0, 1.0, 1.0, 1.0, 1.0, 2.0, 2.0, 2.0, 1.0, 1.0, 1.0, 2.0, 2.0, 2.0, 1.0, 2.0, 1.0, 2.0, 1.0, 1.0, 2.0, 1.0, 0.0, 1.0, 2.0, 2.0, 2.0, 2.0, 0.0, 2.0, 0.0, 0.0, 1.0], [0.0, 0.0, 0.0, 0.0, 1.0, 0.0, 0.0, 0.0, 2.0, 0.0, 0.0, 2.0, 0.0, 0.0, 0.0, 0.0, 0.0, 0.0, 1.0, 0.0, 0.0, 1.0, 1.0, 1.0, 1.0, 0.0, 0.0, 1.0, 1.0, 1.0, 0.0, 0.0, 0.0, 0.0, 0.0, 0.0, 1.0, 1.0, 0.0, 1.0, 0.0, 0.0, 0.0, 0.0, 0.0, 0.0, 0.0, 1.0, 0.0, 0.0, 0.0, 1.0, 2.0, 1.0, 0.0, 0.0, 0.0, 0.0, 0.0, 0.0, 0.0, 0.0, 1.0, 1.0, 1.0, 1.0, 0.0, 0.0, 0.0, 0.0, 0.0, 1.0, 0.0, 0.0, 0.0, 0.0, 0.0, 0.0, 0.0, 0.0, 2.0, 1.0, 0.0, 0.0, 0.0, 0.0, 0.0, 0.0, 1.0, 0.0, 0.0, 1.0, 1.0, 0.0, 0.0, 0.0, 1.0, 0.0, 0.0, 1.0], [2.0, 1.0, 1.0, 0.0, 1.0, 0.0, 1.0, 2.0, 1.0, 1.0, 1.0, 1.0, 2.0, 2.0, 1.0, 1.0, 2.0, 1.0, 1.0, 2.0, 2.0, 2.0, 0.0, 1.0, 1.0, 1.0, 1.0, 1.0, 2.0, 1.0, 1.0, 2.0, 1.0, 2.0, 2.0, 2.0, 2.0, 0.0, 2.0, 2.0, 2.0, 2.0, 2.0, 2.0, 2.0, 1.0, 2.0, 1.0, 1.0, 1.0, 2.0, 1.0, 2.0, 2.0, 2.0, 2.0, 1.0, 2.0, 2.0, 1.0, 1.0, 0.0, 1.0, 2.0, 1.0, 2.0, 1.0, 1.0, 1.0, 2.0, 0.0, 1.0, 1.0, 2.0, 2.0, 2.0, 1.0, 2.0, 2.0, 2.0, 2.0, 1.0, 1.0, 2.0, 2.0, 0.0, 2.0, 2.0, 1.0, 1.0, 2.0, 1.0, 2.0, 1.0, 2.0, 1.0, 1.0, 2.0, 0.0, 0.0], [0.0, 1.0, 1.0, 2.0, 2.0, 0.0, 0.0, 1.0, 0.0, 0.0, 1.0, 0.0, 1.0, 0.0, 1.0, 1.0, 1.0, 0.0, 0.0, 1.0, 1.0, 0.0, 1.0, 1.0, 0.0, 0.0, 0.0, 1.0, 1.0, 0.0, 0.0, 0.0, 1.0, 0.0, 1.0, 0.0, 0.0, 1.0, 0.0, 1.0, 2.0, 1.0, 0.0, 1.0, 1.0, 0.0, 2.0, 0.0, 0.0, 1.0, 0.0, 0.0, 1.0, 0.0, 1.0, 0.0, 0.0, 1.0, 0.0, 0.0, 0.0, 1.0, 0.0, 0.0, 0.0, 1.0, 0.0, 1.0, 0.0, 2.0, 1.0, 2.0, 0.0, 0.0, 0.0, 0.0, 1.0, 0.0, 1.0, 1.0, 0.0, 0.0, 1.0, 0.0, 1.0, 1.0, 0.0, 1.0, 1.0, 1.0, 0.0, 1.0, 1.0, 0.0, 1.0, 0.0, 0.0, 1.0, 1.0, 0.0], [0.0, 1.0, 0.0, 0.0, 0.0, 0.0, 1.0, 2.0, 2.0, 1.0, 0.0, 0.0, 0.0, 1.0, 0.0, 1.0, 2.0, 1.0, 0.0, 0.0, 0.0, 1.0, 0.0, 0.0, 0.0, 2.0, 0.0, 0.0, 0.0, 1.0, 1.0, 0.0, 1.0, 1.0, 2.0, 0.0, 0.0, 0.0, 1.0, 0.0, 0.0, 0.0, 0.0, 1.0, 0.0, 0.0, 0.0, 1.0, 0.0, 1.0, 0.0, 1.0, 1.0, 1.0, 0.0, 0.0, 0.0, 1.0, 1.0, 1.0, 0.0, 0.0, 1.0, 1.0, 0.0, 1.0, 1.0, 0.0, 1.0, 1.0, 0.0, 1.0, 0.0, 0.0, 1.0, 1.0, 1.0, 0.0, 0.0, 0.0, 0.0, 1.0, 0.0, 0.0, 1.0, 1.0, 1.0, 0.0, 0.0, 0.0, 0.0, 1.0, 1.0, 1.0, 1.0, 0.0, 0.0, 0.0, 1.0, 1.0], [2.0, 1.0, 2.0, 2.0, 1.0, 0.0, 2.0, 1.0, 1.0, 1.0, 2.0, 2.0, 1.0, 0.0, 2.0, 1.0, 1.0, 2.0, 2.0, 1.0, 1.0, 0.0, 0.0, 1.0, 0.0, 1.0, 2.0, 1.0, 2.0, 1.0, 0.0, 2.0, 1.0, 1.0, 1.0, 1.0, 2.0, 0.0, 2.0, 1.0, 2.0, 1.0, 1.0, 1.0, 1.0, 2.0, 2.0, 1.0, 1.0, 0.0, 1.0, 2.0, 1.0, 0.0, 1.0, 1.0, 2.0, 2.0, 1.0, 2.0, 2.0, 1.0, 1.0, 1.0, 1.0, 1.0, 0.0, 2.0, 0.0, 2.0, 2.0, 2.0, 0.0, 1.0, 1.0, 1.0, 1.0, 1.0, 1.0, 1.0, 2.0, 1.0, 1.0, 2.0, 1.0, 2.0, 1.0, 1.0, 1.0, 1.0, 1.0, 0.0, 2.0, 2.0, 0.0, 1.0, 0.0, 1.0, 1.0, 1.0], [0.0, 0.0, 0.0, 0.0, 0.0, 0.0, 0.0, 0.0, 0.0, 0.0, 0.0, 0.0, 0.0, 1.0, 1.0, 0.0, 0.0, 0.0, 0.0, 0.0, 0.0, 0.0, 0.0, 0.0, 0.0, 0.0, 0.0, 0.0, 0.0, 0.0, 0.0, 0.0, 0.0, 0.0, 0.0, 0.0, 0.0, 0.0, 0.0, 0.0, 1.0, 0.0, 0.0, 0.0, 0.0, 0.0, 0.0, 0.0, 0.0, 0.0, 0.0, 0.0, 0.0, 0.0, 0.0, 0.0, 0.0, 0.0, 0.0, 1.0, 0.0, 0.0, 0.0, 0.0, 0.0, 0.0, 0.0, 0.0, 0.0, 0.0, 0.0, 0.0, 0.0, 0.0, 0.0, 0.0, 0.0, 0.0, 0.0, 0.0, 0.0, 0.0, 0.0, 0.0, 0.0, 0.0, 0.0, 0.0, 0.0, 0.0, 0.0, 0.0, 0.0, 0.0, 1.0, 0.0, 0.0, 0.0, 0.0, 0.0], [2.0, 1.0, 1.0, 1.0, 2.0, 2.0, 2.0, 1.0, 2.0, 2.0, 2.0, 1.0, 2.0, 2.0, 1.0, 2.0, 2.0, 2.0, 0.0, 2.0, 1.0, 1.0, 1.0, 2.0, 2.0, 2.0, 2.0, 2.0, 2.0, 1.0, 1.0, 2.0, 2.0, 1.0, 2.0, 2.0, 2.0, 0.0, 1.0, 2.0, 2.0, 2.0, 2.0, 2.0, 1.0, 1.0, 2.0, 2.0, 1.0, 2.0, 2.0, 1.0, 0.0, 2.0, 2.0, 2.0, 2.0, 2.0, 1.0, 2.0, 0.0, 2.0, 2.0, 2.0, 2.0, 2.0, 1.0, 2.0, 1.0, 2.0, 1.0, 1.0, 1.0, 2.0, 2.0, 2.0, 1.0, 1.0, 1.0, 2.0, 1.0, 0.0, 1.0, 2.0, 1.0, 1.0, 2.0, 2.0, 0.0, 1.0, 2.0, 0.0, 2.0, 1.0, 2.0, 1.0, 1.0, 1.0, 2.0, 0.0], [0.0, 0.0, 0.0, 0.0, 0.0, 0.0, 0.0, 1.0, 0.0, 1.0, 0.0, 0.0, 0.0, 1.0, 1.0, 1.0, 0.0, 0.0, 0.0, 0.0, 0.0, 1.0, 0.0, 1.0, 0.0, 0.0, 0.0, 0.0, 0.0, 0.0, 1.0, 0.0, 0.0, 0.0, 0.0, 0.0, 1.0, 0.0, 0.0, 2.0, 0.0, 1.0, 0.0, 0.0, 0.0, 0.0, 0.0, 0.0, 1.0, 0.0, 0.0, 1.0, 0.0, 0.0, 2.0, 1.0, 0.0, 0.0, 0.0, 0.0, 0.0, 0.0, 1.0, 0.0, 0.0, 0.0, 0.0, 0.0, 0.0, 1.0, 0.0, 0.0, 1.0, 0.0, 0.0, 0.0, 0.0, 1.0, 0.0, 0.0, 0.0, 0.0, 0.0, 1.0, 0.0, 0.0, 0.0, 0.0, 0.0, 0.0, 0.0, 0.0, 0.0, 0.0, 1.0, 0.0, 0.0, 0.0, 0.0, 0.0]]}</td></tr>\n",
       "</tbody></table><p style=\"background: #fdd; padding: 0.4em;\">showing top 10 rows</p>\n"
      ],
      "text/plain": [
       "+------------------+\n",
       "| row_group_number |\n",
       "+------------------+\n",
       "|            int64 |\n",
       "+------------------+\n",
       "|                0 |\n",
       "|                1 |\n",
       "|                2 |\n",
       "|                3 |\n",
       "|                4 |\n",
       "|                5 |\n",
       "|                6 |\n",
       "|                7 |\n",
       "|                8 |\n",
       "|                9 |\n",
       "+------------------+\n",
       "\n",
       "+------------------------------------------------------------------------------+\n",
       "| ndarray                                                                      |\n",
       "+------------------------------------------------------------------------------+\n",
       "| ndarray<float64, 2>                                                          |\n",
       "+------------------------------------------------------------------------------+\n",
       "| ndarray{shape=(10, 100), data=[[1.0, 2.0, 1.0, 1.0, 0.0, 0.0, 2.0, 2.0, 1... |\n",
       "| ndarray{shape=(10, 100), data=[[1.0, 2.0, 0.0, 2.0, 1.0, 2.0, 0.0, 2.0, 0... |\n",
       "| ndarray{shape=(10, 100), data=[[2.0, 2.0, 2.0, 2.0, 2.0, 2.0, 2.0, 2.0, 2... |\n",
       "| ndarray{shape=(10, 100), data=[[0.0, 1.0, 0.0, 0.0, 0.0, 0.0, 0.0, 0.0, 0... |\n",
       "| ndarray{shape=(10, 100), data=[[0.0, 0.0, 0.0, 1.0, 0.0, 0.0, 0.0, 1.0, 0... |\n",
       "| ndarray{shape=(10, 100), data=[[1.0, 0.0, 1.0, 1.0, 1.0, 1.0, 1.0, 1.0, 1... |\n",
       "| ndarray{shape=(10, 100), data=[[0.0, 0.0, 0.0, 1.0, 1.0, 1.0, 0.0, 0.0, 2... |\n",
       "| ndarray{shape=(10, 100), data=[[2.0, 2.0, 1.0, 2.0, 2.0, 2.0, 1.0, 2.0, 2... |\n",
       "| ndarray{shape=(10, 100), data=[[2.0, 0.0, 0.0, 2.0, 1.0, 1.0, 1.0, 0.0, 0... |\n",
       "| ndarray{shape=(10, 100), data=[[2.0, 1.0, 1.0, 0.0, 0.0, 1.0, 1.0, 1.0, 1... |\n",
       "+------------------------------------------------------------------------------+\n",
       "showing top 10 rows"
      ]
     },
     "metadata": {},
     "output_type": "display_data"
    },
    {
     "data": {
      "text/html": [
       "<table><thead><tr><td style=\"white-space: nowrap; max-width: 500px; overflow: hidden; text-overflow: ellipsis; \" colspan=\"1\"><div style=\"text-align: left;\"></div></td><td style=\"white-space: nowrap; max-width: 500px; overflow: hidden; text-overflow: ellipsis; \" colspan=\"1\"><div style=\"text-align: left;\"></div></td><td style=\"white-space: nowrap; max-width: 500px; overflow: hidden; text-overflow: ellipsis; \" colspan=\"1\"><div style=\"text-align: left;\"></div></td><td style=\"white-space: nowrap; max-width: 500px; overflow: hidden; text-overflow: ellipsis; \" colspan=\"1\"><div style=\"text-align: left;\"></div></td><td style=\"white-space: nowrap; max-width: 500px; overflow: hidden; text-overflow: ellipsis; \" colspan=\"1\"><div style=\"text-align: left;\"></div></td></tr><tr><td style=\"white-space: nowrap; max-width: 500px; overflow: hidden; text-overflow: ellipsis; \" colspan=\"1\"><div style=\"text-align: left;\"></div></td><td style=\"white-space: nowrap; max-width: 500px; overflow: hidden; text-overflow: ellipsis; \" colspan=\"1\"><div style=\"text-align: left;\"></div></td><td style=\"white-space: nowrap; max-width: 500px; overflow: hidden; text-overflow: ellipsis; \" colspan=\"1\"><div style=\"text-align: left;border-bottom: solid 2px #000; padding-bottom: 5px\">0</div></td><td style=\"white-space: nowrap; max-width: 500px; overflow: hidden; text-overflow: ellipsis; \" colspan=\"1\"><div style=\"text-align: left;border-bottom: solid 2px #000; padding-bottom: 5px\">1</div></td><td style=\"white-space: nowrap; max-width: 500px; overflow: hidden; text-overflow: ellipsis; \" colspan=\"1\"><div style=\"text-align: left;border-bottom: solid 2px #000; padding-bottom: 5px\">2</div></td></tr><tr><td style=\"white-space: nowrap; max-width: 500px; overflow: hidden; text-overflow: ellipsis; \" colspan=\"1\"><div style=\"text-align: left;border-bottom: solid 2px #000; padding-bottom: 5px\">locus</div></td><td style=\"white-space: nowrap; max-width: 500px; overflow: hidden; text-overflow: ellipsis; \" colspan=\"1\"><div style=\"text-align: left;border-bottom: solid 2px #000; padding-bottom: 5px\">alleles</div></td><td style=\"white-space: nowrap; max-width: 500px; overflow: hidden; text-overflow: ellipsis; \" colspan=\"1\"><div style=\"text-align: left;border-bottom: solid 2px #000; padding-bottom: 5px\">n_alt</div></td><td style=\"white-space: nowrap; max-width: 500px; overflow: hidden; text-overflow: ellipsis; \" colspan=\"1\"><div style=\"text-align: left;border-bottom: solid 2px #000; padding-bottom: 5px\">n_alt</div></td><td style=\"white-space: nowrap; max-width: 500px; overflow: hidden; text-overflow: ellipsis; \" colspan=\"1\"><div style=\"text-align: left;border-bottom: solid 2px #000; padding-bottom: 5px\">n_alt</div></td></tr><tr><td style=\"white-space: nowrap; max-width: 500px; overflow: hidden; text-overflow: ellipsis; text-align: left;\">locus&lt;GRCh37&gt;</td><td style=\"white-space: nowrap; max-width: 500px; overflow: hidden; text-overflow: ellipsis; text-align: left;\">array&lt;str&gt;</td><td style=\"white-space: nowrap; max-width: 500px; overflow: hidden; text-overflow: ellipsis; text-align: left;\">float64</td><td style=\"white-space: nowrap; max-width: 500px; overflow: hidden; text-overflow: ellipsis; text-align: left;\">float64</td><td style=\"white-space: nowrap; max-width: 500px; overflow: hidden; text-overflow: ellipsis; text-align: left;\">float64</td></tr>\n",
       "</thead><tbody><tr><td style=\"white-space: nowrap; max-width: 500px; overflow: hidden; text-overflow: ellipsis; \">1:1</td><td style=\"white-space: nowrap; max-width: 500px; overflow: hidden; text-overflow: ellipsis; \">[&quot;A&quot;,&quot;C&quot;]</td><td style=\"white-space: nowrap; max-width: 500px; overflow: hidden; text-overflow: ellipsis; \">1.00e+00</td><td style=\"white-space: nowrap; max-width: 500px; overflow: hidden; text-overflow: ellipsis; \">2.00e+00</td><td style=\"white-space: nowrap; max-width: 500px; overflow: hidden; text-overflow: ellipsis; \">1.00e+00</td></tr>\n",
       "<tr><td style=\"white-space: nowrap; max-width: 500px; overflow: hidden; text-overflow: ellipsis; \">1:2</td><td style=\"white-space: nowrap; max-width: 500px; overflow: hidden; text-overflow: ellipsis; \">[&quot;A&quot;,&quot;C&quot;]</td><td style=\"white-space: nowrap; max-width: 500px; overflow: hidden; text-overflow: ellipsis; \">2.00e+00</td><td style=\"white-space: nowrap; max-width: 500px; overflow: hidden; text-overflow: ellipsis; \">2.00e+00</td><td style=\"white-space: nowrap; max-width: 500px; overflow: hidden; text-overflow: ellipsis; \">1.00e+00</td></tr>\n",
       "<tr><td style=\"white-space: nowrap; max-width: 500px; overflow: hidden; text-overflow: ellipsis; \">1:3</td><td style=\"white-space: nowrap; max-width: 500px; overflow: hidden; text-overflow: ellipsis; \">[&quot;A&quot;,&quot;C&quot;]</td><td style=\"white-space: nowrap; max-width: 500px; overflow: hidden; text-overflow: ellipsis; \">0.00e+00</td><td style=\"white-space: nowrap; max-width: 500px; overflow: hidden; text-overflow: ellipsis; \">1.00e+00</td><td style=\"white-space: nowrap; max-width: 500px; overflow: hidden; text-overflow: ellipsis; \">2.00e+00</td></tr>\n",
       "<tr><td style=\"white-space: nowrap; max-width: 500px; overflow: hidden; text-overflow: ellipsis; \">1:4</td><td style=\"white-space: nowrap; max-width: 500px; overflow: hidden; text-overflow: ellipsis; \">[&quot;A&quot;,&quot;C&quot;]</td><td style=\"white-space: nowrap; max-width: 500px; overflow: hidden; text-overflow: ellipsis; \">2.00e+00</td><td style=\"white-space: nowrap; max-width: 500px; overflow: hidden; text-overflow: ellipsis; \">1.00e+00</td><td style=\"white-space: nowrap; max-width: 500px; overflow: hidden; text-overflow: ellipsis; \">1.00e+00</td></tr>\n",
       "<tr><td style=\"white-space: nowrap; max-width: 500px; overflow: hidden; text-overflow: ellipsis; \">1:5</td><td style=\"white-space: nowrap; max-width: 500px; overflow: hidden; text-overflow: ellipsis; \">[&quot;A&quot;,&quot;C&quot;]</td><td style=\"white-space: nowrap; max-width: 500px; overflow: hidden; text-overflow: ellipsis; \">0.00e+00</td><td style=\"white-space: nowrap; max-width: 500px; overflow: hidden; text-overflow: ellipsis; \">0.00e+00</td><td style=\"white-space: nowrap; max-width: 500px; overflow: hidden; text-overflow: ellipsis; \">1.00e+00</td></tr>\n",
       "<tr><td style=\"white-space: nowrap; max-width: 500px; overflow: hidden; text-overflow: ellipsis; \">1:6</td><td style=\"white-space: nowrap; max-width: 500px; overflow: hidden; text-overflow: ellipsis; \">[&quot;A&quot;,&quot;C&quot;]</td><td style=\"white-space: nowrap; max-width: 500px; overflow: hidden; text-overflow: ellipsis; \">0.00e+00</td><td style=\"white-space: nowrap; max-width: 500px; overflow: hidden; text-overflow: ellipsis; \">2.00e+00</td><td style=\"white-space: nowrap; max-width: 500px; overflow: hidden; text-overflow: ellipsis; \">2.00e+00</td></tr>\n",
       "<tr><td style=\"white-space: nowrap; max-width: 500px; overflow: hidden; text-overflow: ellipsis; \">1:7</td><td style=\"white-space: nowrap; max-width: 500px; overflow: hidden; text-overflow: ellipsis; \">[&quot;A&quot;,&quot;C&quot;]</td><td style=\"white-space: nowrap; max-width: 500px; overflow: hidden; text-overflow: ellipsis; \">0.00e+00</td><td style=\"white-space: nowrap; max-width: 500px; overflow: hidden; text-overflow: ellipsis; \">1.00e+00</td><td style=\"white-space: nowrap; max-width: 500px; overflow: hidden; text-overflow: ellipsis; \">0.00e+00</td></tr>\n",
       "<tr><td style=\"white-space: nowrap; max-width: 500px; overflow: hidden; text-overflow: ellipsis; \">1:8</td><td style=\"white-space: nowrap; max-width: 500px; overflow: hidden; text-overflow: ellipsis; \">[&quot;A&quot;,&quot;C&quot;]</td><td style=\"white-space: nowrap; max-width: 500px; overflow: hidden; text-overflow: ellipsis; \">2.00e+00</td><td style=\"white-space: nowrap; max-width: 500px; overflow: hidden; text-overflow: ellipsis; \">2.00e+00</td><td style=\"white-space: nowrap; max-width: 500px; overflow: hidden; text-overflow: ellipsis; \">2.00e+00</td></tr>\n",
       "<tr><td style=\"white-space: nowrap; max-width: 500px; overflow: hidden; text-overflow: ellipsis; \">1:9</td><td style=\"white-space: nowrap; max-width: 500px; overflow: hidden; text-overflow: ellipsis; \">[&quot;A&quot;,&quot;C&quot;]</td><td style=\"white-space: nowrap; max-width: 500px; overflow: hidden; text-overflow: ellipsis; \">2.00e+00</td><td style=\"white-space: nowrap; max-width: 500px; overflow: hidden; text-overflow: ellipsis; \">2.00e+00</td><td style=\"white-space: nowrap; max-width: 500px; overflow: hidden; text-overflow: ellipsis; \">2.00e+00</td></tr>\n",
       "<tr><td style=\"white-space: nowrap; max-width: 500px; overflow: hidden; text-overflow: ellipsis; \">1:10</td><td style=\"white-space: nowrap; max-width: 500px; overflow: hidden; text-overflow: ellipsis; \">[&quot;A&quot;,&quot;C&quot;]</td><td style=\"white-space: nowrap; max-width: 500px; overflow: hidden; text-overflow: ellipsis; \">2.00e+00</td><td style=\"white-space: nowrap; max-width: 500px; overflow: hidden; text-overflow: ellipsis; \">0.00e+00</td><td style=\"white-space: nowrap; max-width: 500px; overflow: hidden; text-overflow: ellipsis; \">0.00e+00</td></tr>\n",
       "</tbody></table><p style=\"background: #fdd; padding: 0.4em;\">showing top 10 rows</p>\n",
       "<p style=\"background: #fdd; padding: 0.4em;\">showing the first 3 of 100 columns</p>\n"
      ],
      "text/plain": [
       "+---------------+------------+----------+----------+----------+\n",
       "| locus         | alleles    |  0.n_alt |  1.n_alt |  2.n_alt |\n",
       "+---------------+------------+----------+----------+----------+\n",
       "| locus<GRCh37> | array<str> |  float64 |  float64 |  float64 |\n",
       "+---------------+------------+----------+----------+----------+\n",
       "| 1:1           | [\"A\",\"C\"]  | 1.00e+00 | 2.00e+00 | 1.00e+00 |\n",
       "| 1:2           | [\"A\",\"C\"]  | 2.00e+00 | 2.00e+00 | 1.00e+00 |\n",
       "| 1:3           | [\"A\",\"C\"]  | 0.00e+00 | 1.00e+00 | 2.00e+00 |\n",
       "| 1:4           | [\"A\",\"C\"]  | 2.00e+00 | 1.00e+00 | 1.00e+00 |\n",
       "| 1:5           | [\"A\",\"C\"]  | 0.00e+00 | 0.00e+00 | 1.00e+00 |\n",
       "| 1:6           | [\"A\",\"C\"]  | 0.00e+00 | 2.00e+00 | 2.00e+00 |\n",
       "| 1:7           | [\"A\",\"C\"]  | 0.00e+00 | 1.00e+00 | 0.00e+00 |\n",
       "| 1:8           | [\"A\",\"C\"]  | 2.00e+00 | 2.00e+00 | 2.00e+00 |\n",
       "| 1:9           | [\"A\",\"C\"]  | 2.00e+00 | 2.00e+00 | 2.00e+00 |\n",
       "| 1:10          | [\"A\",\"C\"]  | 2.00e+00 | 0.00e+00 | 0.00e+00 |\n",
       "+---------------+------------+----------+----------+----------+\n",
       "showing top 10 rows\n",
       "showing the first 3 of 100 columns"
      ]
     },
     "metadata": {},
     "output_type": "display_data"
    }
   ],
   "source": [
    "new_ht = matrix_table_to_table_of_ndarrays(mt.n_alt, 10)\n",
    "new_ht.show()\n",
    "mt.show()"
=======
      "2020-07-17 18:00:00 Hail: INFO: Ordering unsorted dataset with network shuffle\n",
      "2020-07-17 18:00:07 Hail: INFO: wrote table with 100 rows in 8 partitions to /tmp/nd_table.ht\n"
     ]
    }
   ],
   "source": [
    "new_ht = matrix_table_to_table_of_ndarrays(mt.n_alt, 10)"
>>>>>>> Stashed changes
   ]
  },
  {
   "cell_type": "code",
   "execution_count": 33,
   "metadata": {},
   "outputs": [
    {
     "name": "stdout",
     "output_type": "stream",
     "text": [
      "----------------------------------------\n",
      "Global fields:\n",
      "    'bn': struct {\n",
      "        n_populations: int32, \n",
      "        n_samples: int32, \n",
      "        n_variants: int32, \n",
      "        n_partitions: int32, \n",
      "        pop_dist: array<int32>, \n",
      "        fst: array<float64>, \n",
      "        mixture: bool\n",
      "    } \n",
      "----------------------------------------\n",
      "Row fields:\n",
      "    'row_group_number': int64 \n",
      "    'ndarray': ndarray<float64, 2> \n",
      "----------------------------------------\n",
      "Key: ['row_group_number']\n",
      "----------------------------------------\n"
     ]
    }
   ],
   "source": [
    "new_ht.describe()"
   ]
  },
  {
   "cell_type": "markdown",
   "metadata": {},
   "source": [
    "## Blanczos Algorithm"
   ]
  },
  {
   "cell_type": "code",
   "execution_count": 42,
   "metadata": {},
   "outputs": [
    {
     "name": "stderr",
     "output_type": "stream",
     "text": [
      "2020-07-16 23:10:55 Hail: INFO: balding_nichols_model: generating genotypes for 3 populations, 100 samples, and 1000 variants...\n",
      "2020-07-16 23:10:56 Hail: INFO: Coerced sorted dataset\n",
      "2020-07-16 23:10:57 Hail: INFO: wrote matrix table with 1000 rows and 100 columns in 8 partitions to balding_nichols_test.mt\n",
      "2020-07-16 23:10:59 Hail: INFO: Ordering unsorted dataset with network shuffle\n",
      "2020-07-16 23:11:02 Hail: INFO: wrote table with 250 rows in 8 partitions to /tmp/test_table.ht\n"
     ]
    }
   ],
   "source": [
    "def makeData(model_input, group_size):\n",
    "    hold_mt = hl.balding_nichols_model(*model_input)\n",
    "    hold_mt.write(\"balding_nichols_test.mt\")\n",
    "    hold_mt = hl.read_matrix_table(\"balding_nichols_test.mt\")\n",
    "    hold_mt = hold_mt.transmute_entries(n_alt = hl.float64(hold_mt.GT.n_alt_alleles())) \n",
    "    table = hold_mt.localize_entries(\"ent\", \"sample\")\n",
<<<<<<< Updated upstream
    "    return matrix_table_to_table_of_ndarrays(hold_mt.n_alt, 4, tmp_path='/tmp/test_table.ht')\n",
    "    \n",
    "data = makeData((3, 100, 1000), 4)"
=======
    "    return matrix_table_to_table_of_ndarrays(hold_mt.n_alt, group_size, tmp_path='/tmp/test_table.ht')\n",
    "    \n",
    "data = makeData((3, 100, 1000), 4)\n"
>>>>>>> Stashed changes
   ]
  },
  {
   "cell_type": "code",
<<<<<<< Updated upstream
   "execution_count": 43,
   "metadata": {},
   "outputs": [],
   "source": [
    "(m, n) = (100, 1000)\n",
=======
   "execution_count": 78,
   "metadata": {},
   "outputs": [],
   "source": [
    "(n, m) = (100, 1000)\n",
>>>>>>> Stashed changes
    "k = 50\n",
    "l = k + 2\n",
    "q = 0"
   ]
  },
  {
   "cell_type": "code",
<<<<<<< Updated upstream
   "execution_count": 45,
=======
   "execution_count": 79,
>>>>>>> Stashed changes
   "metadata": {},
   "outputs": [],
   "source": [
    "G = hl.nd.array(np.random.normal(0, 1, (n,l)))"
   ]
  },
  {
   "cell_type": "code",
<<<<<<< Updated upstream
   "execution_count": 67,
   "metadata": {},
   "outputs": [
    {
     "name": "stdout",
     "output_type": "stream",
     "text": [
      "----------------------------------------\n",
      "Global fields:\n",
      "    'bn': struct {\n",
      "        n_populations: int32, \n",
      "        n_samples: int32, \n",
      "        n_variants: int32, \n",
      "        n_partitions: int32, \n",
      "        pop_dist: array<int32>, \n",
      "        fst: array<float64>, \n",
      "        mixture: bool\n",
      "    } \n",
      "    'G': ndarray<float64, 2> \n",
      "----------------------------------------\n",
      "Row fields:\n",
      "    'row_group_number': int64 \n",
      "    'ndarray': ndarray<float64, 2> \n",
      "    'prod': ndarray<float64, 2> \n",
      "----------------------------------------\n",
      "Key: ['row_group_number']\n",
      "----------------------------------------\n"
     ]
    },
    {
     "ename": "TypeError",
     "evalue": "array_sum: parameter 'expr': expected expression of type array<int64 or float64>, found <NDArrayNumericExpression of type ndarray<float64, 2>>",
=======
   "execution_count": 1,
   "metadata": {
    "scrolled": false
   },
   "outputs": [
    {
     "ename": "NameError",
     "evalue": "name 'data' is not defined",
     "output_type": "error",
     "traceback": [
      "\u001b[0;31m---------------------------------------------------------------------------\u001b[0m",
      "\u001b[0;31mNameError\u001b[0m                                 Traceback (most recent call last)",
      "\u001b[0;32m<ipython-input-1-637ab2d37c90>\u001b[0m in \u001b[0;36m<module>\u001b[0;34m\u001b[0m\n\u001b[1;32m      3\u001b[0m \u001b[0;31m# First step of algorithm\u001b[0m\u001b[0;34m\u001b[0m\u001b[0;34m\u001b[0m\u001b[0;34m\u001b[0m\u001b[0m\n\u001b[1;32m      4\u001b[0m \u001b[0;34m\u001b[0m\u001b[0m\n\u001b[0;32m----> 5\u001b[0;31m \u001b[0mtemp_matrix\u001b[0m \u001b[0;34m=\u001b[0m \u001b[0mdata\u001b[0m\u001b[0;34m.\u001b[0m\u001b[0mannotate_globals\u001b[0m\u001b[0;34m(\u001b[0m\u001b[0mG\u001b[0m \u001b[0;34m=\u001b[0m \u001b[0mG\u001b[0m\u001b[0;34m)\u001b[0m\u001b[0;34m\u001b[0m\u001b[0;34m\u001b[0m\u001b[0m\n\u001b[0m\u001b[1;32m      6\u001b[0m \u001b[0;31m# do matrix multiplication by converting from ndarray to array\u001b[0m\u001b[0;34m\u001b[0m\u001b[0;34m\u001b[0m\u001b[0;34m\u001b[0m\u001b[0m\n\u001b[1;32m      7\u001b[0m \u001b[0mAG\u001b[0m \u001b[0;34m=\u001b[0m \u001b[0mtemp_matrix\u001b[0m\u001b[0;34m.\u001b[0m\u001b[0mannotate\u001b[0m\u001b[0;34m(\u001b[0m\u001b[0mprod\u001b[0m \u001b[0;34m=\u001b[0m \u001b[0mblock_product\u001b[0m\u001b[0;34m(\u001b[0m\u001b[0mtemp_matrix\u001b[0m\u001b[0;34m.\u001b[0m\u001b[0mndarray\u001b[0m\u001b[0;34m,\u001b[0m \u001b[0mtemp_matrix\u001b[0m\u001b[0;34m.\u001b[0m\u001b[0mG\u001b[0m\u001b[0;34m)\u001b[0m\u001b[0;34m)\u001b[0m\u001b[0;34m\u001b[0m\u001b[0;34m\u001b[0m\u001b[0m\n",
      "\u001b[0;31mNameError\u001b[0m: name 'data' is not defined"
     ]
    }
   ],
   "source": [
    "# WANT TO DO H0 = A @ G\n",
    "# Multiply a row-blocked matrix by a local non-blocked matrix\n",
    "# First step of algorithm\n",
    "\n",
    "temp_matrix = data.annotate_globals(G = G)\n",
    "# do matrix multiplication by converting from ndarray to array\n",
    "AG = temp_matrix.annotate(prod = block_product(temp_matrix.ndarray, temp_matrix.G))\n",
    "# convert back to ndarray\n",
    "AG = AG.annotate(ndarray = hl.nd.from_column_major(AG.prod.block, hl.agg.take(AG.prod.shape, 1)[0] ))\n",
    "\n",
    "#AG = AG.group_by(AG.prod).aggregate(result = block_aggregate(AG.prod)) # this actually sums all the blocks up\n",
    "\n",
    "\n",
    "# drop extra information\n",
    "AG = AG.select(AG.ndarray)\n",
    "H0 = AG.drop(AG.G)\n",
    "# final_result.describe()\n",
    "# final_result.show() # NOTE: THIS GIVES KeyError 'row' when called - is this from John's ndarray show bug??\n",
    "\n",
    "# assumes blocks in blocked matrix are named ndarray\n",
    "def matmul_rowblocked_nonblocked(A, B):\n",
    "    temp = A.annotate_globals(mat = B)\n",
    "    temp = temp.annotate(prod = block_product(temp.ndarray, temp.mat))\n",
    "    temp = temp.annotate(ndarray = hl.nd.from_column_major(temp.prod.block, hl.agg.take(temp.prod.shape, 1)[0]))\n",
    "    temp = temp.select(temp.ndarray)\n",
    "    temp = temp.drop(temp.mat)\n",
    "    return temp\n",
    "\n",
    "H0 = matmul_rowblocked_nonblocked(data, G)\n",
    "H0.collect()"
   ]
  },
  {
   "cell_type": "code",
   "execution_count": 127,
   "metadata": {},
   "outputs": [
    {
     "ename": "TypeError",
     "evalue": "annotate_globals: keyword argument 'mat': expected expression of type any, found hail.table.Table: <hail.table.Table object at 0x7fa68e9e14d0>",
>>>>>>> Stashed changes
     "output_type": "error",
     "traceback": [
      "\u001b[0;31m---------------------------------------------------------------------------\u001b[0m",
      "\u001b[0;31mExpressionException\u001b[0m                       Traceback (most recent call last)",
      "\u001b[0;32m~/Documents/GitHub/hail/hail/python/hail/expr/expressions/expression_typecheck.py\u001b[0m in \u001b[0;36mcheck\u001b[0;34m(self, x, caller, param)\u001b[0m\n\u001b[1;32m     76\u001b[0m         \u001b[0;32mtry\u001b[0m\u001b[0;34m:\u001b[0m\u001b[0;34m\u001b[0m\u001b[0;34m\u001b[0m\u001b[0m\n\u001b[0;32m---> 77\u001b[0;31m             \u001b[0;32mreturn\u001b[0m \u001b[0mself\u001b[0m\u001b[0;34m.\u001b[0m\u001b[0mcoerce\u001b[0m\u001b[0;34m(\u001b[0m\u001b[0mto_expr\u001b[0m\u001b[0;34m(\u001b[0m\u001b[0mx\u001b[0m\u001b[0;34m)\u001b[0m\u001b[0;34m)\u001b[0m\u001b[0;34m\u001b[0m\u001b[0;34m\u001b[0m\u001b[0m\n\u001b[0m\u001b[1;32m     78\u001b[0m         \u001b[0;32mexcept\u001b[0m \u001b[0mExpressionException\u001b[0m \u001b[0;32mas\u001b[0m \u001b[0me\u001b[0m\u001b[0;34m:\u001b[0m\u001b[0;34m\u001b[0m\u001b[0;34m\u001b[0m\u001b[0m\n",
<<<<<<< Updated upstream
      "\u001b[0;32m~/Documents/GitHub/hail/hail/python/hail/expr/expressions/expression_typecheck.py\u001b[0m in \u001b[0;36mcoerce\u001b[0;34m(self, x)\u001b[0m\n\u001b[1;32m     61\u001b[0m         \u001b[0;32mif\u001b[0m \u001b[0;32mnot\u001b[0m \u001b[0mself\u001b[0m\u001b[0;34m.\u001b[0m\u001b[0mcan_coerce\u001b[0m\u001b[0;34m(\u001b[0m\u001b[0mx\u001b[0m\u001b[0;34m.\u001b[0m\u001b[0mdtype\u001b[0m\u001b[0;34m)\u001b[0m\u001b[0;34m:\u001b[0m\u001b[0;34m\u001b[0m\u001b[0;34m\u001b[0m\u001b[0m\n\u001b[0;32m---> 62\u001b[0;31m             \u001b[0;32mraise\u001b[0m \u001b[0mExpressionException\u001b[0m\u001b[0;34m(\u001b[0m\u001b[0;34mf\"cannot coerce type '{x.dtype}' to type '{self.str_t}'\"\u001b[0m\u001b[0;34m)\u001b[0m\u001b[0;34m\u001b[0m\u001b[0;34m\u001b[0m\u001b[0m\n\u001b[0m\u001b[1;32m     63\u001b[0m         \u001b[0;32mif\u001b[0m \u001b[0mself\u001b[0m\u001b[0;34m.\u001b[0m\u001b[0m_requires_conversion\u001b[0m\u001b[0;34m(\u001b[0m\u001b[0mx\u001b[0m\u001b[0;34m.\u001b[0m\u001b[0mdtype\u001b[0m\u001b[0;34m)\u001b[0m\u001b[0;34m:\u001b[0m\u001b[0;34m\u001b[0m\u001b[0;34m\u001b[0m\u001b[0m\n",
      "\u001b[0;31mExpressionException\u001b[0m: cannot coerce type 'ndarray<float64, 2>' to type 'array<int64 or float64>'",
      "\nThe above exception was the direct cause of the following exception:\n",
      "\u001b[0;31mTypecheckFailure\u001b[0m                          Traceback (most recent call last)",
      "\u001b[0;32m~/Documents/GitHub/hail/hail/python/hail/typecheck/check.py\u001b[0m in \u001b[0;36mcheck_all\u001b[0;34m(f, args, kwargs, checks, is_method)\u001b[0m\n\u001b[1;32m    540\u001b[0m                         \u001b[0marg\u001b[0m \u001b[0;34m=\u001b[0m \u001b[0margs\u001b[0m\u001b[0;34m[\u001b[0m\u001b[0mi\u001b[0m\u001b[0;34m]\u001b[0m\u001b[0;34m\u001b[0m\u001b[0;34m\u001b[0m\u001b[0m\n\u001b[0;32m--> 541\u001b[0;31m                         \u001b[0margs_\u001b[0m\u001b[0;34m.\u001b[0m\u001b[0mappend\u001b[0m\u001b[0;34m(\u001b[0m\u001b[0mchecker\u001b[0m\u001b[0;34m.\u001b[0m\u001b[0mcheck\u001b[0m\u001b[0;34m(\u001b[0m\u001b[0marg\u001b[0m\u001b[0;34m,\u001b[0m \u001b[0mname\u001b[0m\u001b[0;34m,\u001b[0m \u001b[0marg_name\u001b[0m\u001b[0;34m)\u001b[0m\u001b[0;34m)\u001b[0m\u001b[0;34m\u001b[0m\u001b[0;34m\u001b[0m\u001b[0m\n\u001b[0m\u001b[1;32m    542\u001b[0m                     \u001b[0;31m# passed as keyword\u001b[0m\u001b[0;34m\u001b[0m\u001b[0;34m\u001b[0m\u001b[0;34m\u001b[0m\u001b[0m\n",
=======
      "\u001b[0;32m~/Documents/GitHub/hail/hail/python/hail/expr/expressions/base_expression.py\u001b[0m in \u001b[0;36mto_expr\u001b[0;34m(e, dtype)\u001b[0m\n\u001b[1;32m    206\u001b[0m         \u001b[0;32mreturn\u001b[0m \u001b[0me\u001b[0m\u001b[0;34m\u001b[0m\u001b[0;34m\u001b[0m\u001b[0m\n\u001b[0;32m--> 207\u001b[0;31m     \u001b[0;32mreturn\u001b[0m \u001b[0mcast_expr\u001b[0m\u001b[0;34m(\u001b[0m\u001b[0me\u001b[0m\u001b[0;34m,\u001b[0m \u001b[0mdtype\u001b[0m\u001b[0;34m)\u001b[0m\u001b[0;34m\u001b[0m\u001b[0;34m\u001b[0m\u001b[0m\n\u001b[0m\u001b[1;32m    208\u001b[0m \u001b[0;34m\u001b[0m\u001b[0m\n",
      "\u001b[0;32m~/Documents/GitHub/hail/hail/python/hail/expr/expressions/base_expression.py\u001b[0m in \u001b[0;36mcast_expr\u001b[0;34m(e, dtype)\u001b[0m\n\u001b[1;32m    211\u001b[0m     \u001b[0;32mif\u001b[0m \u001b[0;32mnot\u001b[0m \u001b[0mdtype\u001b[0m\u001b[0;34m:\u001b[0m\u001b[0;34m\u001b[0m\u001b[0;34m\u001b[0m\u001b[0m\n\u001b[0;32m--> 212\u001b[0;31m         \u001b[0mdtype\u001b[0m \u001b[0;34m=\u001b[0m \u001b[0mimpute_type\u001b[0m\u001b[0;34m(\u001b[0m\u001b[0me\u001b[0m\u001b[0;34m)\u001b[0m\u001b[0;34m\u001b[0m\u001b[0;34m\u001b[0m\u001b[0m\n\u001b[0m\u001b[1;32m    213\u001b[0m     \u001b[0mx\u001b[0m \u001b[0;34m=\u001b[0m \u001b[0m_to_expr\u001b[0m\u001b[0;34m(\u001b[0m\u001b[0me\u001b[0m\u001b[0;34m,\u001b[0m \u001b[0mdtype\u001b[0m\u001b[0;34m)\u001b[0m\u001b[0;34m\u001b[0m\u001b[0;34m\u001b[0m\u001b[0m\n",
      "\u001b[0;32m~/Documents/GitHub/hail/hail/python/hail/expr/expressions/base_expression.py\u001b[0m in \u001b[0;36mimpute_type\u001b[0;34m(x)\u001b[0m\n\u001b[1;32m    198\u001b[0m     \u001b[0;32melse\u001b[0m\u001b[0;34m:\u001b[0m\u001b[0;34m\u001b[0m\u001b[0;34m\u001b[0m\u001b[0m\n\u001b[0;32m--> 199\u001b[0;31m         \u001b[0;32mraise\u001b[0m \u001b[0mExpressionException\u001b[0m\u001b[0;34m(\u001b[0m\u001b[0;34m\"Hail cannot automatically impute type of {}: {}\"\u001b[0m\u001b[0;34m.\u001b[0m\u001b[0mformat\u001b[0m\u001b[0;34m(\u001b[0m\u001b[0mtype\u001b[0m\u001b[0;34m(\u001b[0m\u001b[0mx\u001b[0m\u001b[0;34m)\u001b[0m\u001b[0;34m,\u001b[0m \u001b[0mx\u001b[0m\u001b[0;34m)\u001b[0m\u001b[0;34m)\u001b[0m\u001b[0;34m\u001b[0m\u001b[0;34m\u001b[0m\u001b[0m\n\u001b[0m\u001b[1;32m    200\u001b[0m \u001b[0;34m\u001b[0m\u001b[0m\n",
      "\u001b[0;31mExpressionException\u001b[0m: Hail cannot automatically impute type of <class 'hail.table.Table'>: <hail.table.Table object at 0x7fa68e9e14d0>",
      "\nThe above exception was the direct cause of the following exception:\n",
      "\u001b[0;31mTypecheckFailure\u001b[0m                          Traceback (most recent call last)",
      "\u001b[0;32m~/Documents/GitHub/hail/hail/python/hail/typecheck/check.py\u001b[0m in \u001b[0;36mcheck_all\u001b[0;34m(f, args, kwargs, checks, is_method)\u001b[0m\n\u001b[1;32m    588\u001b[0m                 \u001b[0;32mtry\u001b[0m\u001b[0;34m:\u001b[0m\u001b[0;34m\u001b[0m\u001b[0;34m\u001b[0m\u001b[0m\n\u001b[0;32m--> 589\u001b[0;31m                     \u001b[0mkwargs_\u001b[0m\u001b[0;34m[\u001b[0m\u001b[0mkwarg_name\u001b[0m\u001b[0;34m]\u001b[0m \u001b[0;34m=\u001b[0m \u001b[0mchecker\u001b[0m\u001b[0;34m.\u001b[0m\u001b[0mcheck\u001b[0m\u001b[0;34m(\u001b[0m\u001b[0marg\u001b[0m\u001b[0;34m,\u001b[0m \u001b[0mname\u001b[0m\u001b[0;34m,\u001b[0m \u001b[0marg_name\u001b[0m\u001b[0;34m)\u001b[0m\u001b[0;34m\u001b[0m\u001b[0;34m\u001b[0m\u001b[0m\n\u001b[0m\u001b[1;32m    590\u001b[0m                 \u001b[0;32mexcept\u001b[0m \u001b[0mTypecheckFailure\u001b[0m \u001b[0;32mas\u001b[0m \u001b[0me\u001b[0m\u001b[0;34m:\u001b[0m\u001b[0;34m\u001b[0m\u001b[0;34m\u001b[0m\u001b[0m\n",
>>>>>>> Stashed changes
      "\u001b[0;32m~/Documents/GitHub/hail/hail/python/hail/expr/expressions/expression_typecheck.py\u001b[0m in \u001b[0;36mcheck\u001b[0;34m(self, x, caller, param)\u001b[0m\n\u001b[1;32m     78\u001b[0m         \u001b[0;32mexcept\u001b[0m \u001b[0mExpressionException\u001b[0m \u001b[0;32mas\u001b[0m \u001b[0me\u001b[0m\u001b[0;34m:\u001b[0m\u001b[0;34m\u001b[0m\u001b[0;34m\u001b[0m\u001b[0m\n\u001b[0;32m---> 79\u001b[0;31m             \u001b[0;32mraise\u001b[0m \u001b[0mTypecheckFailure\u001b[0m \u001b[0;32mfrom\u001b[0m \u001b[0me\u001b[0m\u001b[0;34m\u001b[0m\u001b[0;34m\u001b[0m\u001b[0m\n\u001b[0m\u001b[1;32m     80\u001b[0m \u001b[0;34m\u001b[0m\u001b[0m\n",
      "\u001b[0;31mTypecheckFailure\u001b[0m: ",
      "\nThe above exception was the direct cause of the following exception:\n",
      "\u001b[0;31mTypeError\u001b[0m                                 Traceback (most recent call last)",
<<<<<<< Updated upstream
      "\u001b[0;32m<ipython-input-67-165cd9370d82>\u001b[0m in \u001b[0;36m<module>\u001b[0;34m\u001b[0m\n\u001b[1;32m      3\u001b[0m \u001b[0mAG\u001b[0m \u001b[0;34m=\u001b[0m \u001b[0mAG\u001b[0m\u001b[0;34m.\u001b[0m\u001b[0mannotate\u001b[0m\u001b[0;34m(\u001b[0m\u001b[0mprod\u001b[0m \u001b[0;34m=\u001b[0m \u001b[0;34m(\u001b[0m\u001b[0mAG\u001b[0m\u001b[0;34m.\u001b[0m\u001b[0mndarray\u001b[0m \u001b[0;34m@\u001b[0m \u001b[0mAG\u001b[0m\u001b[0;34m.\u001b[0m\u001b[0mG\u001b[0m\u001b[0;34m)\u001b[0m\u001b[0;34m)\u001b[0m\u001b[0;34m\u001b[0m\u001b[0;34m\u001b[0m\u001b[0m\n\u001b[1;32m      4\u001b[0m \u001b[0mAG\u001b[0m\u001b[0;34m.\u001b[0m\u001b[0mdescribe\u001b[0m\u001b[0;34m(\u001b[0m\u001b[0;34m)\u001b[0m\u001b[0;34m\u001b[0m\u001b[0;34m\u001b[0m\u001b[0m\n\u001b[0;32m----> 5\u001b[0;31m \u001b[0mmatmul_product\u001b[0m \u001b[0;34m=\u001b[0m \u001b[0mAG\u001b[0m\u001b[0;34m.\u001b[0m\u001b[0maggregate\u001b[0m\u001b[0;34m(\u001b[0m\u001b[0mhl\u001b[0m\u001b[0;34m.\u001b[0m\u001b[0magg\u001b[0m\u001b[0;34m.\u001b[0m\u001b[0marray_sum\u001b[0m\u001b[0;34m(\u001b[0m\u001b[0mAG\u001b[0m\u001b[0;34m.\u001b[0m\u001b[0mprod\u001b[0m\u001b[0;34m)\u001b[0m\u001b[0;34m)\u001b[0m\u001b[0;34m\u001b[0m\u001b[0;34m\u001b[0m\u001b[0m\n\u001b[0m\u001b[1;32m      6\u001b[0m \u001b[0;34m\u001b[0m\u001b[0m\n\u001b[1;32m      7\u001b[0m \u001b[0;31m#(hl.agg.array_sum([data.ndarray @ G]))\u001b[0m\u001b[0;34m\u001b[0m\u001b[0;34m\u001b[0m\u001b[0;34m\u001b[0m\u001b[0m\n",
      "\u001b[0;32m<decorator-gen-1327>\u001b[0m in \u001b[0;36marray_sum\u001b[0;34m(expr)\u001b[0m\n",
      "\u001b[0;32m~/Documents/GitHub/hail/hail/python/hail/typecheck/check.py\u001b[0m in \u001b[0;36mwrapper\u001b[0;34m(__original_func, *args, **kwargs)\u001b[0m\n\u001b[1;32m    611\u001b[0m     \u001b[0;34m@\u001b[0m\u001b[0mdecorator\u001b[0m\u001b[0;34m\u001b[0m\u001b[0;34m\u001b[0m\u001b[0m\n\u001b[1;32m    612\u001b[0m     \u001b[0;32mdef\u001b[0m \u001b[0mwrapper\u001b[0m\u001b[0;34m(\u001b[0m\u001b[0m__original_func\u001b[0m\u001b[0;34m,\u001b[0m \u001b[0;34m*\u001b[0m\u001b[0margs\u001b[0m\u001b[0;34m,\u001b[0m \u001b[0;34m**\u001b[0m\u001b[0mkwargs\u001b[0m\u001b[0;34m)\u001b[0m\u001b[0;34m:\u001b[0m\u001b[0;34m\u001b[0m\u001b[0;34m\u001b[0m\u001b[0m\n\u001b[0;32m--> 613\u001b[0;31m         \u001b[0margs_\u001b[0m\u001b[0;34m,\u001b[0m \u001b[0mkwargs_\u001b[0m \u001b[0;34m=\u001b[0m \u001b[0mcheck_all\u001b[0m\u001b[0;34m(\u001b[0m\u001b[0m__original_func\u001b[0m\u001b[0;34m,\u001b[0m \u001b[0margs\u001b[0m\u001b[0;34m,\u001b[0m \u001b[0mkwargs\u001b[0m\u001b[0;34m,\u001b[0m \u001b[0mcheckers\u001b[0m\u001b[0;34m,\u001b[0m \u001b[0mis_method\u001b[0m\u001b[0;34m=\u001b[0m\u001b[0mis_method\u001b[0m\u001b[0;34m)\u001b[0m\u001b[0;34m\u001b[0m\u001b[0;34m\u001b[0m\u001b[0m\n\u001b[0m\u001b[1;32m    614\u001b[0m         \u001b[0;32mreturn\u001b[0m \u001b[0m__original_func\u001b[0m\u001b[0;34m(\u001b[0m\u001b[0;34m*\u001b[0m\u001b[0margs_\u001b[0m\u001b[0;34m,\u001b[0m \u001b[0;34m**\u001b[0m\u001b[0mkwargs_\u001b[0m\u001b[0;34m)\u001b[0m\u001b[0;34m\u001b[0m\u001b[0;34m\u001b[0m\u001b[0m\n\u001b[1;32m    615\u001b[0m \u001b[0;34m\u001b[0m\u001b[0m\n",
      "\u001b[0;32m~/Documents/GitHub/hail/hail/python/hail/typecheck/check.py\u001b[0m in \u001b[0;36mcheck_all\u001b[0;34m(f, args, kwargs, checks, is_method)\u001b[0m\n\u001b[1;32m    565\u001b[0m                                     \u001b[0mexpected\u001b[0m\u001b[0;34m=\u001b[0m\u001b[0mchecker\u001b[0m\u001b[0;34m.\u001b[0m\u001b[0mexpects\u001b[0m\u001b[0;34m(\u001b[0m\u001b[0;34m)\u001b[0m\u001b[0;34m,\u001b[0m\u001b[0;34m\u001b[0m\u001b[0;34m\u001b[0m\u001b[0m\n\u001b[1;32m    566\u001b[0m                                     \u001b[0mfound\u001b[0m\u001b[0;34m=\u001b[0m\u001b[0mchecker\u001b[0m\u001b[0;34m.\u001b[0m\u001b[0mformat\u001b[0m\u001b[0;34m(\u001b[0m\u001b[0marg\u001b[0m\u001b[0;34m)\u001b[0m\u001b[0;34m\u001b[0m\u001b[0;34m\u001b[0m\u001b[0m\n\u001b[0;32m--> 567\u001b[0;31m                                 )) from e\n\u001b[0m\u001b[1;32m    568\u001b[0m         \u001b[0;32melif\u001b[0m \u001b[0mparam\u001b[0m\u001b[0;34m.\u001b[0m\u001b[0mkind\u001b[0m \u001b[0;34m==\u001b[0m \u001b[0mparam\u001b[0m\u001b[0;34m.\u001b[0m\u001b[0mVAR_POSITIONAL\u001b[0m\u001b[0;34m:\u001b[0m\u001b[0;34m\u001b[0m\u001b[0;34m\u001b[0m\u001b[0m\n\u001b[1;32m    569\u001b[0m             \u001b[0;31m# consume the rest of the positional arguments\u001b[0m\u001b[0;34m\u001b[0m\u001b[0;34m\u001b[0m\u001b[0;34m\u001b[0m\u001b[0m\n",
      "\u001b[0;31mTypeError\u001b[0m: array_sum: parameter 'expr': expected expression of type array<int64 or float64>, found <NDArrayNumericExpression of type ndarray<float64, 2>>"
=======
      "\u001b[0;32m<ipython-input-127-120a86b17758>\u001b[0m in \u001b[0;36m<module>\u001b[0;34m\u001b[0m\n\u001b[1;32m      4\u001b[0m \u001b[0;31m# Second step of algorithm\u001b[0m\u001b[0;34m\u001b[0m\u001b[0;34m\u001b[0m\u001b[0;34m\u001b[0m\u001b[0m\n\u001b[1;32m      5\u001b[0m \u001b[0;34m\u001b[0m\u001b[0m\n\u001b[0;32m----> 6\u001b[0;31m \u001b[0mtemp\u001b[0m \u001b[0;34m=\u001b[0m \u001b[0mdata\u001b[0m\u001b[0;34m.\u001b[0m\u001b[0mannotate_globals\u001b[0m\u001b[0;34m(\u001b[0m\u001b[0mmat\u001b[0m \u001b[0;34m=\u001b[0m \u001b[0mH0\u001b[0m\u001b[0;34m)\u001b[0m\u001b[0;34m\u001b[0m\u001b[0;34m\u001b[0m\u001b[0m\n\u001b[0m\u001b[1;32m      7\u001b[0m \u001b[0mtemp\u001b[0m \u001b[0;34m=\u001b[0m \u001b[0mtemp\u001b[0m\u001b[0;34m.\u001b[0m\u001b[0mannotate\u001b[0m\u001b[0;34m(\u001b[0m\u001b[0mprod\u001b[0m \u001b[0;34m=\u001b[0m \u001b[0mblock_product\u001b[0m\u001b[0;34m(\u001b[0m\u001b[0mtemp\u001b[0m\u001b[0;34m.\u001b[0m\u001b[0mndarray\u001b[0m\u001b[0;34m.\u001b[0m\u001b[0mtranspose\u001b[0m\u001b[0;34m(\u001b[0m\u001b[0;34m)\u001b[0m\u001b[0;34m,\u001b[0m \u001b[0mtemp\u001b[0m\u001b[0;34m.\u001b[0m\u001b[0mmat\u001b[0m\u001b[0;34m)\u001b[0m\u001b[0;34m)\u001b[0m\u001b[0;34m\u001b[0m\u001b[0;34m\u001b[0m\u001b[0m\n\u001b[1;32m      8\u001b[0m \u001b[0mtemp\u001b[0m \u001b[0;34m=\u001b[0m \u001b[0mtemp\u001b[0m\u001b[0;34m.\u001b[0m\u001b[0mgroup_by\u001b[0m\u001b[0;34m(\u001b[0m\u001b[0mtemp\u001b[0m\u001b[0;34m.\u001b[0m\u001b[0mprod\u001b[0m\u001b[0;34m)\u001b[0m\u001b[0;34m.\u001b[0m\u001b[0maggregate\u001b[0m\u001b[0;34m(\u001b[0m\u001b[0mndarray\u001b[0m \u001b[0;34m=\u001b[0m \u001b[0mblock_aggregate\u001b[0m\u001b[0;34m(\u001b[0m\u001b[0mtemp\u001b[0m\u001b[0;34m.\u001b[0m\u001b[0mprod\u001b[0m\u001b[0;34m)\u001b[0m\u001b[0;34m)\u001b[0m\u001b[0;34m\u001b[0m\u001b[0;34m\u001b[0m\u001b[0m\n",
      "\u001b[0;32m<decorator-gen-1069>\u001b[0m in \u001b[0;36mannotate_globals\u001b[0;34m(self, **named_exprs)\u001b[0m\n",
      "\u001b[0;32m~/Documents/GitHub/hail/hail/python/hail/typecheck/check.py\u001b[0m in \u001b[0;36mwrapper\u001b[0;34m(__original_func, *args, **kwargs)\u001b[0m\n\u001b[1;32m    611\u001b[0m     \u001b[0;34m@\u001b[0m\u001b[0mdecorator\u001b[0m\u001b[0;34m\u001b[0m\u001b[0;34m\u001b[0m\u001b[0m\n\u001b[1;32m    612\u001b[0m     \u001b[0;32mdef\u001b[0m \u001b[0mwrapper\u001b[0m\u001b[0;34m(\u001b[0m\u001b[0m__original_func\u001b[0m\u001b[0;34m,\u001b[0m \u001b[0;34m*\u001b[0m\u001b[0margs\u001b[0m\u001b[0;34m,\u001b[0m \u001b[0;34m**\u001b[0m\u001b[0mkwargs\u001b[0m\u001b[0;34m)\u001b[0m\u001b[0;34m:\u001b[0m\u001b[0;34m\u001b[0m\u001b[0;34m\u001b[0m\u001b[0m\n\u001b[0;32m--> 613\u001b[0;31m         \u001b[0margs_\u001b[0m\u001b[0;34m,\u001b[0m \u001b[0mkwargs_\u001b[0m \u001b[0;34m=\u001b[0m \u001b[0mcheck_all\u001b[0m\u001b[0;34m(\u001b[0m\u001b[0m__original_func\u001b[0m\u001b[0;34m,\u001b[0m \u001b[0margs\u001b[0m\u001b[0;34m,\u001b[0m \u001b[0mkwargs\u001b[0m\u001b[0;34m,\u001b[0m \u001b[0mcheckers\u001b[0m\u001b[0;34m,\u001b[0m \u001b[0mis_method\u001b[0m\u001b[0;34m=\u001b[0m\u001b[0mis_method\u001b[0m\u001b[0;34m)\u001b[0m\u001b[0;34m\u001b[0m\u001b[0;34m\u001b[0m\u001b[0m\n\u001b[0m\u001b[1;32m    614\u001b[0m         \u001b[0;32mreturn\u001b[0m \u001b[0m__original_func\u001b[0m\u001b[0;34m(\u001b[0m\u001b[0;34m*\u001b[0m\u001b[0margs_\u001b[0m\u001b[0;34m,\u001b[0m \u001b[0;34m**\u001b[0m\u001b[0mkwargs_\u001b[0m\u001b[0;34m)\u001b[0m\u001b[0;34m\u001b[0m\u001b[0;34m\u001b[0m\u001b[0m\n\u001b[1;32m    615\u001b[0m \u001b[0;34m\u001b[0m\u001b[0m\n",
      "\u001b[0;32m~/Documents/GitHub/hail/hail/python/hail/typecheck/check.py\u001b[0m in \u001b[0;36mcheck_all\u001b[0;34m(f, args, kwargs, checks, is_method)\u001b[0m\n\u001b[1;32m    594\u001b[0m                                         \u001b[0margname\u001b[0m\u001b[0;34m=\u001b[0m\u001b[0mkwarg_name\u001b[0m\u001b[0;34m,\u001b[0m\u001b[0;34m\u001b[0m\u001b[0;34m\u001b[0m\u001b[0m\n\u001b[1;32m    595\u001b[0m                                         \u001b[0mexpected\u001b[0m\u001b[0;34m=\u001b[0m\u001b[0mchecker\u001b[0m\u001b[0;34m.\u001b[0m\u001b[0mexpects\u001b[0m\u001b[0;34m(\u001b[0m\u001b[0;34m)\u001b[0m\u001b[0;34m,\u001b[0m\u001b[0;34m\u001b[0m\u001b[0;34m\u001b[0m\u001b[0m\n\u001b[0;32m--> 596\u001b[0;31m                                         found=checker.format(arg))) from e\n\u001b[0m\u001b[1;32m    597\u001b[0m     \u001b[0;32mreturn\u001b[0m \u001b[0margs_\u001b[0m\u001b[0;34m,\u001b[0m \u001b[0mkwargs_\u001b[0m\u001b[0;34m\u001b[0m\u001b[0;34m\u001b[0m\u001b[0m\n\u001b[1;32m    598\u001b[0m \u001b[0;34m\u001b[0m\u001b[0m\n",
      "\u001b[0;31mTypeError\u001b[0m: annotate_globals: keyword argument 'mat': expected expression of type any, found hail.table.Table: <hail.table.Table object at 0x7fa68e9e14d0>"
>>>>>>> Stashed changes
     ]
    }
   ],
   "source": [
<<<<<<< Updated upstream
    "# WANT TO DO H = data @ G\n",
    "AG = data.annotate_globals(G = G)\n",
    "AG = AG.annotate(prod = (AG.ndarray @ AG.G))\n",
    "AG.describe()\n",
    "matmul_product = AG.aggregate(hl.agg.array_sum(AG.prod))\n",
=======
    "# WANT TO DO intermediate step At @ (A @ G) = At @ H0\n",
    "# Multiply a column-blocked matrix by a row-blocked matrix \n",
    "# as a blockmatrix multiplcation and then sum\n",
    "# Second step of algorithm\n",
    "\n",
    "temp = data.annotate_globals(mat = H0)\n",
    "temp = temp.annotate(prod = block_product(temp.ndarray.transpose(), temp.mat))\n",
    "temp = temp.group_by(temp.prod).aggregate(ndarray = block_aggregate(temp.prod))\n",
    "temp = temp.select(temp.ndarray)\n",
    "temp = temp.drop(temp.mat)\n",
    "\n",
    "\n",
    "# pass in matrix A normally, blocked in rows - this specifically expects A to need to be transposed\n",
    "# assumes blocks in blocked matrix are named ndarray\n",
    "def matmul_colblocked_rowblocked(A, B):\n",
    "    temp = A.annotate_globals(mat = B)\n",
    "    temp = temp.annotate(prod = block_product(temp.ndarray.transpose(), temp.mat))\n",
    "    temp = temp.group_by(temp.prod).aggregate(ndarray = block_aggregate(temp.prod))\n",
    "    temp = temp.select(temp.ndarray)\n",
    "    temp = temp.drop(temp.mat)\n",
    "    return temp\n",
    "\n",
    "#G1 = matmul_colblocked_rowblocked(data, H0)"
   ]
  },
  {
   "cell_type": "code",
   "execution_count": null,
   "metadata": {},
   "outputs": [],
   "source": [
    "data.describe()\n",
    "G.describe()\n",
    "#ht.transmute(ent = ht.ent.map(lambda x: x.n_alt))\n",
    "AG = data.annotate_globals(G = G)\n",
    "AG.describe()\n",
    "AG = AG.annotate(prod = (AG.ndarray @ AG.G))\n",
    "\n",
    "\n",
    "AG.describe()\n",
    "AG.show()\n",
    "matmul_product = AG.aggregate(hl.agg.array_agg(lambda element: hl.agg.sum(element), AG.prod))\n",
>>>>>>> Stashed changes
    "\n",
    "#(hl.agg.array_sum([data.ndarray @ G]))"
   ]
  },
  {
   "cell_type": "markdown",
   "metadata": {},
   "source": [
    "## Practice Scraps - linalg operations on small data, experimenting with Hail"
   ]
  },
  {
   "cell_type": "code",
   "execution_count": 9,
   "metadata": {},
   "outputs": [
    {
     "ename": "AttributeError",
     "evalue": "'NDArrayNumericExpression' object has no attribute 'typ'",
     "output_type": "error",
     "traceback": [
      "\u001b[0;31m---------------------------------------------------------------------------\u001b[0m",
      "\u001b[0;31mAttributeError\u001b[0m                            Traceback (most recent call last)",
      "\u001b[0;32m<ipython-input-9-1aa75dbb41b8>\u001b[0m in \u001b[0;36m<module>\u001b[0;34m\u001b[0m\n\u001b[1;32m      9\u001b[0m \u001b[0;31m# Can reference row and entry fields in aggregations\u001b[0m\u001b[0;34m\u001b[0m\u001b[0;34m\u001b[0m\u001b[0;34m\u001b[0m\u001b[0m\n\u001b[1;32m     10\u001b[0m \u001b[0;34m\u001b[0m\u001b[0m\n\u001b[0;32m---> 11\u001b[0;31m \u001b[0mtest\u001b[0m \u001b[0;34m=\u001b[0m \u001b[0mhl\u001b[0m\u001b[0;34m.\u001b[0m\u001b[0mMatrixTable\u001b[0m\u001b[0;34m(\u001b[0m\u001b[0mmatrix_4_5\u001b[0m\u001b[0;34m)\u001b[0m\u001b[0;34m\u001b[0m\u001b[0;34m\u001b[0m\u001b[0m\n\u001b[0m",
      "\u001b[0;32m~/Documents/GitHub/hail/hail/python/hail/matrixtable.py\u001b[0m in \u001b[0;36m__init__\u001b[0;34m(self, mir)\u001b[0m\n\u001b[1;32m    556\u001b[0m         \u001b[0mself\u001b[0m\u001b[0;34m.\u001b[0m\u001b[0m_entry_indices\u001b[0m \u001b[0;34m=\u001b[0m \u001b[0mIndices\u001b[0m\u001b[0;34m(\u001b[0m\u001b[0mself\u001b[0m\u001b[0;34m,\u001b[0m \u001b[0;34m{\u001b[0m\u001b[0mself\u001b[0m\u001b[0;34m.\u001b[0m\u001b[0m_row_axis\u001b[0m\u001b[0;34m,\u001b[0m \u001b[0mself\u001b[0m\u001b[0;34m.\u001b[0m\u001b[0m_col_axis\u001b[0m\u001b[0;34m}\u001b[0m\u001b[0;34m)\u001b[0m\u001b[0;34m\u001b[0m\u001b[0;34m\u001b[0m\u001b[0m\n\u001b[1;32m    557\u001b[0m \u001b[0;34m\u001b[0m\u001b[0m\n\u001b[0;32m--> 558\u001b[0;31m         \u001b[0mself\u001b[0m\u001b[0;34m.\u001b[0m\u001b[0m_type\u001b[0m \u001b[0;34m=\u001b[0m \u001b[0mself\u001b[0m\u001b[0;34m.\u001b[0m\u001b[0m_mir\u001b[0m\u001b[0;34m.\u001b[0m\u001b[0mtyp\u001b[0m\u001b[0;34m\u001b[0m\u001b[0;34m\u001b[0m\u001b[0m\n\u001b[0m\u001b[1;32m    559\u001b[0m \u001b[0;34m\u001b[0m\u001b[0m\n\u001b[1;32m    560\u001b[0m         \u001b[0mself\u001b[0m\u001b[0;34m.\u001b[0m\u001b[0m_global_type\u001b[0m \u001b[0;34m=\u001b[0m \u001b[0mself\u001b[0m\u001b[0;34m.\u001b[0m\u001b[0m_type\u001b[0m\u001b[0;34m.\u001b[0m\u001b[0mglobal_type\u001b[0m\u001b[0;34m\u001b[0m\u001b[0;34m\u001b[0m\u001b[0m\n",
      "\u001b[0;31mAttributeError\u001b[0m: 'NDArrayNumericExpression' object has no attribute 'typ'"
     ]
    }
   ],
   "source": [
    "# annotate_{rows, cols, entries}\n",
    "# can annotate without aggregating but can also do an aggregation that is called an annotation?\n",
    "\n",
    "# mt.annotate_rows(sum_of_ef1_by_row=hl.agg.sum(mt.ef1))\n",
    "# Aggregate along each row of entries to create a new row annotation. Can\n",
    "# reference column and entry fields in aggregations.\n",
    "\n",
    "# mt.annotate_cols(sum_of_ef1_by_col=hl.agg.sum(mt.ef1))\n",
    "# Aggregate along each column of entries to create a new col annotation.\n",
    "# Can reference row and entry fields in aggregations\n",
    "\n",
    "# need map-like aggregator to create \"new\" MatrixTable that is a product"
   ]
  },
  {
   "cell_type": "code",
   "execution_count": 21,
   "metadata": {},
   "outputs": [],
   "source": [
    "# Practice doing a matrix multiplication and a transpose\n",
    "\n",
    "# Make some python ndarrays\n",
    "a = np.arange(30).reshape((5, 6))\n",
    "b = np.arange(24).reshape((6, 4))\n",
    "\n",
    "# Make Hail ndarrays\n",
    "matrix_5_6 = hl.nd.array(a)\n",
    "matrix_6_4 = hl.nd.array(b)\n",
    "\n",
    "# Make MatrixTables from pandas dataframes\n",
    "dfA = pd.DataFrame(data=a[1:,1:], index=a[1:,0], columns=a[0,1:])\n",
    "dfB = pd.DataFrame(data=b[1:,1:], index=b[1:,0], columns=b[0,1:])\n",
    "\n",
    "# How do these hail ndarrys carry across into MatrixTable use?"
   ]
  },
  {
   "cell_type": "code",
   "execution_count": 22,
   "metadata": {},
   "outputs": [
    {
     "data": {
      "text/plain": [
       "array([[ 0,  1,  2,  3,  4,  5],\n",
       "       [ 6,  7,  8,  9, 10, 11],\n",
       "       [12, 13, 14, 15, 16, 17],\n",
       "       [18, 19, 20, 21, 22, 23],\n",
       "       [24, 25, 26, 27, 28, 29]])"
      ]
     },
     "execution_count": 22,
     "metadata": {},
     "output_type": "execute_result"
    }
   ],
   "source": [
    "hl.eval(matrix_5_6) "
   ]
  },
  {
   "cell_type": "code",
   "execution_count": 24,
   "metadata": {},
   "outputs": [
    {
     "data": {
      "text/html": [
       "<div>\n",
       "<style scoped>\n",
       "    .dataframe tbody tr th:only-of-type {\n",
       "        vertical-align: middle;\n",
       "    }\n",
       "\n",
       "    .dataframe tbody tr th {\n",
       "        vertical-align: top;\n",
       "    }\n",
       "\n",
       "    .dataframe thead th {\n",
       "        text-align: right;\n",
       "    }\n",
       "</style>\n",
       "<table border=\"1\" class=\"dataframe\">\n",
       "  <thead>\n",
       "    <tr style=\"text-align: right;\">\n",
       "      <th></th>\n",
       "      <th>1</th>\n",
       "      <th>2</th>\n",
       "      <th>3</th>\n",
       "      <th>4</th>\n",
       "      <th>5</th>\n",
       "    </tr>\n",
       "  </thead>\n",
       "  <tbody>\n",
       "    <tr>\n",
       "      <th>6</th>\n",
       "      <td>7</td>\n",
       "      <td>8</td>\n",
       "      <td>9</td>\n",
       "      <td>10</td>\n",
       "      <td>11</td>\n",
       "    </tr>\n",
       "    <tr>\n",
       "      <th>12</th>\n",
       "      <td>13</td>\n",
       "      <td>14</td>\n",
       "      <td>15</td>\n",
       "      <td>16</td>\n",
       "      <td>17</td>\n",
       "    </tr>\n",
       "    <tr>\n",
       "      <th>18</th>\n",
       "      <td>19</td>\n",
       "      <td>20</td>\n",
       "      <td>21</td>\n",
       "      <td>22</td>\n",
       "      <td>23</td>\n",
       "    </tr>\n",
       "    <tr>\n",
       "      <th>24</th>\n",
       "      <td>25</td>\n",
       "      <td>26</td>\n",
       "      <td>27</td>\n",
       "      <td>28</td>\n",
       "      <td>29</td>\n",
       "    </tr>\n",
       "  </tbody>\n",
       "</table>\n",
       "</div>"
      ],
      "text/plain": [
       "     1   2   3   4   5\n",
       "6    7   8   9  10  11\n",
       "12  13  14  15  16  17\n",
       "18  19  20  21  22  23\n",
       "24  25  26  27  28  29"
      ]
     },
     "execution_count": 24,
     "metadata": {},
     "output_type": "execute_result"
    }
   ],
   "source": [
    "dfA"
   ]
  },
  {
   "cell_type": "code",
   "execution_count": 25,
   "metadata": {},
   "outputs": [],
   "source": [
    "tableA = hl.Table.from_pandas(dfA)"
   ]
  },
  {
   "cell_type": "code",
   "execution_count": 26,
   "metadata": {},
   "outputs": [
    {
     "data": {
      "text/html": [
       "<table><thead><tr><td style=\"white-space: nowrap; max-width: 500px; overflow: hidden; text-overflow: ellipsis; \" colspan=\"1\"><div style=\"text-align: left;\"></div></td><td style=\"white-space: nowrap; max-width: 500px; overflow: hidden; text-overflow: ellipsis; \" colspan=\"1\"><div style=\"text-align: left;\"></div></td><td style=\"white-space: nowrap; max-width: 500px; overflow: hidden; text-overflow: ellipsis; \" colspan=\"1\"><div style=\"text-align: left;\"></div></td><td style=\"white-space: nowrap; max-width: 500px; overflow: hidden; text-overflow: ellipsis; \" colspan=\"1\"><div style=\"text-align: left;\"></div></td><td style=\"white-space: nowrap; max-width: 500px; overflow: hidden; text-overflow: ellipsis; \" colspan=\"1\"><div style=\"text-align: left;\"></div></td></tr><tr><td style=\"white-space: nowrap; max-width: 500px; overflow: hidden; text-overflow: ellipsis; \" colspan=\"1\"><div style=\"text-align: left;border-bottom: solid 2px #000; padding-bottom: 5px\">1</div></td><td style=\"white-space: nowrap; max-width: 500px; overflow: hidden; text-overflow: ellipsis; \" colspan=\"1\"><div style=\"text-align: left;border-bottom: solid 2px #000; padding-bottom: 5px\">2</div></td><td style=\"white-space: nowrap; max-width: 500px; overflow: hidden; text-overflow: ellipsis; \" colspan=\"1\"><div style=\"text-align: left;border-bottom: solid 2px #000; padding-bottom: 5px\">3</div></td><td style=\"white-space: nowrap; max-width: 500px; overflow: hidden; text-overflow: ellipsis; \" colspan=\"1\"><div style=\"text-align: left;border-bottom: solid 2px #000; padding-bottom: 5px\">4</div></td><td style=\"white-space: nowrap; max-width: 500px; overflow: hidden; text-overflow: ellipsis; \" colspan=\"1\"><div style=\"text-align: left;border-bottom: solid 2px #000; padding-bottom: 5px\">5</div></td></tr><tr><td style=\"white-space: nowrap; max-width: 500px; overflow: hidden; text-overflow: ellipsis; text-align: left;\">int64</td><td style=\"white-space: nowrap; max-width: 500px; overflow: hidden; text-overflow: ellipsis; text-align: left;\">int64</td><td style=\"white-space: nowrap; max-width: 500px; overflow: hidden; text-overflow: ellipsis; text-align: left;\">int64</td><td style=\"white-space: nowrap; max-width: 500px; overflow: hidden; text-overflow: ellipsis; text-align: left;\">int64</td><td style=\"white-space: nowrap; max-width: 500px; overflow: hidden; text-overflow: ellipsis; text-align: left;\">int64</td></tr>\n",
       "</thead><tbody><tr><td style=\"white-space: nowrap; max-width: 500px; overflow: hidden; text-overflow: ellipsis; \">7</td><td style=\"white-space: nowrap; max-width: 500px; overflow: hidden; text-overflow: ellipsis; \">8</td><td style=\"white-space: nowrap; max-width: 500px; overflow: hidden; text-overflow: ellipsis; \">9</td><td style=\"white-space: nowrap; max-width: 500px; overflow: hidden; text-overflow: ellipsis; \">10</td><td style=\"white-space: nowrap; max-width: 500px; overflow: hidden; text-overflow: ellipsis; \">11</td></tr>\n",
       "<tr><td style=\"white-space: nowrap; max-width: 500px; overflow: hidden; text-overflow: ellipsis; \">13</td><td style=\"white-space: nowrap; max-width: 500px; overflow: hidden; text-overflow: ellipsis; \">14</td><td style=\"white-space: nowrap; max-width: 500px; overflow: hidden; text-overflow: ellipsis; \">15</td><td style=\"white-space: nowrap; max-width: 500px; overflow: hidden; text-overflow: ellipsis; \">16</td><td style=\"white-space: nowrap; max-width: 500px; overflow: hidden; text-overflow: ellipsis; \">17</td></tr>\n",
       "<tr><td style=\"white-space: nowrap; max-width: 500px; overflow: hidden; text-overflow: ellipsis; \">19</td><td style=\"white-space: nowrap; max-width: 500px; overflow: hidden; text-overflow: ellipsis; \">20</td><td style=\"white-space: nowrap; max-width: 500px; overflow: hidden; text-overflow: ellipsis; \">21</td><td style=\"white-space: nowrap; max-width: 500px; overflow: hidden; text-overflow: ellipsis; \">22</td><td style=\"white-space: nowrap; max-width: 500px; overflow: hidden; text-overflow: ellipsis; \">23</td></tr>\n",
       "<tr><td style=\"white-space: nowrap; max-width: 500px; overflow: hidden; text-overflow: ellipsis; \">25</td><td style=\"white-space: nowrap; max-width: 500px; overflow: hidden; text-overflow: ellipsis; \">26</td><td style=\"white-space: nowrap; max-width: 500px; overflow: hidden; text-overflow: ellipsis; \">27</td><td style=\"white-space: nowrap; max-width: 500px; overflow: hidden; text-overflow: ellipsis; \">28</td><td style=\"white-space: nowrap; max-width: 500px; overflow: hidden; text-overflow: ellipsis; \">29</td></tr>\n",
       "</tbody></table>"
      ],
      "text/plain": [
       "+-------+-------+-------+-------+-------+\n",
       "|     1 |     2 |     3 |     4 |     5 |\n",
       "+-------+-------+-------+-------+-------+\n",
       "| int64 | int64 | int64 | int64 | int64 |\n",
       "+-------+-------+-------+-------+-------+\n",
       "|     7 |     8 |     9 |    10 |    11 |\n",
       "|    13 |    14 |    15 |    16 |    17 |\n",
       "|    19 |    20 |    21 |    22 |    23 |\n",
       "|    25 |    26 |    27 |    28 |    29 |\n",
       "+-------+-------+-------+-------+-------+"
      ]
     },
     "metadata": {},
     "output_type": "display_data"
    }
   ],
   "source": [
    "tableA.show()"
   ]
  },
  {
   "cell_type": "code",
   "execution_count": 35,
   "metadata": {
    "scrolled": true
   },
   "outputs": [],
   "source": [
    "mtA = tableA.to_matrix_table(row_key=['1'], col_key=['2'])"
   ]
  },
  {
   "cell_type": "code",
   "execution_count": 36,
   "metadata": {},
   "outputs": [
    {
     "name": "stdout",
     "output_type": "stream",
     "text": [
      "----------------------------------------\n",
      "Global fields:\n",
      "    None\n",
      "----------------------------------------\n",
      "Column fields:\n",
      "    '2': int64\n",
      "----------------------------------------\n",
      "Row fields:\n",
      "    '1': int64\n",
      "----------------------------------------\n",
      "Entry fields:\n",
      "    '3': int64\n",
      "    '4': int64\n",
      "    '5': int64\n",
      "----------------------------------------\n",
      "Column key: ['2']\n",
      "Row key: ['1']\n",
      "----------------------------------------\n"
     ]
    },
    {
     "ename": "FatalError",
     "evalue": "HailException: Expected identifier but found integer '2'.\n<input>:1:(TableCount (MatrixColsTable (CastTableToMatrix __uid_34 __uid_33 (`2`) (TableMapGlobals (TableKeyByAndAggregate None 50 (TableMapGlobals (TableKeyBy () False (JavaTable m1)) (InsertFields (SelectFields () (Ref global)) None (__uid_33 (Let __uid_31 (Apply dictToArray () Array[Tuple[Struct{2:Int64},Struct{}]] (LiftMeOut (TableAggregate (TableKeyBy () False (JavaTable m1)) (AggLet __cse_1 False (SelectFields (`1` `2` `3` `4` `5`) (Ref row)) (AggGroupBy False (SelectFields (`2`) (Ref __cse_1)) (Apply indexArray () Struct{} (ApplyAggOp Take ((I32 1)) ((SelectFields () (Ref __cse_1)))) (I32 0) (Str \"  File \\\"<ipython-input-35-f54da47f85f9>\\\", line 1, in <module>\\n    mtA = tableA.to_matrix_table(row_key=['1'], col_key=['2'])\\n\\n  File \\\"<decorator-gen-1131>\\\", line 2, in to_matrix_table\\n\\n  File \\\"/Users/annamira/Documents/GitHub/hail/hail/python/hail/table.py\\\", line 2961, in to_matrix_table\\n    hl.agg.group_by(ht.row.select(*col_key), hl.agg.take(ht.row.select(*col_fields), 1)[0]),\\n\\n  File \\\"/Users/annamira/Documents/GitHub/hail/hail/python/hail/expr/expressions/typed_expressions.py\\\", line 745, in __getitem__\\n    return super().__getitem__(item)\\n\"))))))) (MakeStruct (data (Ref __uid_31)) (key_to_index (Apply dict () Dict[Struct{2:Int64},Int32] (ToArray (StreamMap __uid_32 (ToStream (ToArray (StreamRange (I32 0) (ArrayLen (CastToArray (Ref __uid_31))) (I32 1)))) (MakeTuple (0 1) (GetTupleElement 0 (Apply indexArray () Tuple[Struct{2:Int64},Struct{}] (Ref __uid_31) (Ref __uid_32) (Str \"  File \\\"<ipython-input-35-f54da47f85f9>\\\", line 1, in <module>\\n    mtA = tableA.to_matrix_table(row_key=['1'], col_key=['2'])\\n\\n  File \\\"<decorator-gen-1131>\\\", line 2, in to_matrix_table\\n\\n  File \\\"/Users/annamira/Documents/GitHub/hail/hail/python/hail/table.py\\\", line 2963, in to_matrix_table\\n    lambda data: hl.struct(data=data,\\n\\n  File \\\"/Users/annamira/Documents/GitHub/hail/hail/python/hail/expr/functions.py\\\", line 518, in rbind\\n    return hl.bind(f, *args, _ctx=_ctx)\\n\\n  File \\\"<decorator-gen-747>\\\", line 2, in bind\\n\\n  File \\\"/Users/annamira/Documents/GitHub/hail/hail/python/hail/expr/functions.py\\\", line 467, in bind\\n    lambda_result = to_expr(f(*args))\\n\\n  File \\\"/Users/annamira/Documents/GitHub/hail/hail/python/hail/table.py\\\", line 2964, in <lambda>\\n    key_to_index=hl.dict(hl.range(0, hl.len(data)).map(lambda i: (data[i][0], i))))\\n\\n  File \\\"<decorator-gen-607>\\\", line 2, in map\\n\\n  File \\\"/Users/annamira/Documents/GitHub/hail/hail/python/hail/table.py\\\", line 2964, in <lambda>\\n    key_to_index=hl.dict(hl.range(0, hl.len(data)).map(lambda i: (data[i][0], i))))\\n\"))) (Ref __uid_32))))))))))) (AggLet __cse_2 False (SelectFields (`1` `2` `3` `4` `5`) (Ref row)) (MakeStruct (__uid_34 (Let __uid_35 (Apply dict () Dict[Int32,Struct{3:Int64,4:Int64,5:Int64}] (ApplyAggOp Collect () ((MakeTuple (0 1) (Apply index () Int32 (GetField key_to_index (GetField __uid_33 (Ref global))) (SelectFields (`2`) (Ref __cse_2))) (SelectFields (`3` `4` `5`) (Ref __cse_2)))))) (ToArray (StreamMap __uid_36 (ToStream (ToArray (StreamRange (I32 0) (ArrayLen (CastToArray (Apply dictToArray () Array[Tuple[Struct{2:Int64},Int32]] (GetField key_to_index (GetField __uid_33 (Ref global)))))) (I32 1)))) (Apply get () Struct{3:Int64,4:Int64,5:Int64} (Ref __uid_35) (Ref __uid_36)))))))) (SelectFields (`1`) (InsertFields (SelectFields (`1` `2` `3` `4` `5`) (Ref row)) None))) (InsertFields (SelectFields (__uid_33) (Ref global)) None (__uid_33 (ToArray (StreamMap __uid_37 (ToStream (GetField data (GetField __uid_33 (Ref global)))) (MakeStruct (`2` (GetField `2` (GetTupleElement 0 (Ref __uid_37)))))))))))))\n                                                                                                                                                                                                                                                                                                            ^\n\nJava stack trace:\nis.hail.utils.HailException: Expected identifier but found integer '2'.\n<input>:1:(TableCount (MatrixColsTable (CastTableToMatrix __uid_34 __uid_33 (`2`) (TableMapGlobals (TableKeyByAndAggregate None 50 (TableMapGlobals (TableKeyBy () False (JavaTable m1)) (InsertFields (SelectFields () (Ref global)) None (__uid_33 (Let __uid_31 (Apply dictToArray () Array[Tuple[Struct{2:Int64},Struct{}]] (LiftMeOut (TableAggregate (TableKeyBy () False (JavaTable m1)) (AggLet __cse_1 False (SelectFields (`1` `2` `3` `4` `5`) (Ref row)) (AggGroupBy False (SelectFields (`2`) (Ref __cse_1)) (Apply indexArray () Struct{} (ApplyAggOp Take ((I32 1)) ((SelectFields () (Ref __cse_1)))) (I32 0) (Str \"  File \\\"<ipython-input-35-f54da47f85f9>\\\", line 1, in <module>\\n    mtA = tableA.to_matrix_table(row_key=['1'], col_key=['2'])\\n\\n  File \\\"<decorator-gen-1131>\\\", line 2, in to_matrix_table\\n\\n  File \\\"/Users/annamira/Documents/GitHub/hail/hail/python/hail/table.py\\\", line 2961, in to_matrix_table\\n    hl.agg.group_by(ht.row.select(*col_key), hl.agg.take(ht.row.select(*col_fields), 1)[0]),\\n\\n  File \\\"/Users/annamira/Documents/GitHub/hail/hail/python/hail/expr/expressions/typed_expressions.py\\\", line 745, in __getitem__\\n    return super().__getitem__(item)\\n\"))))))) (MakeStruct (data (Ref __uid_31)) (key_to_index (Apply dict () Dict[Struct{2:Int64},Int32] (ToArray (StreamMap __uid_32 (ToStream (ToArray (StreamRange (I32 0) (ArrayLen (CastToArray (Ref __uid_31))) (I32 1)))) (MakeTuple (0 1) (GetTupleElement 0 (Apply indexArray () Tuple[Struct{2:Int64},Struct{}] (Ref __uid_31) (Ref __uid_32) (Str \"  File \\\"<ipython-input-35-f54da47f85f9>\\\", line 1, in <module>\\n    mtA = tableA.to_matrix_table(row_key=['1'], col_key=['2'])\\n\\n  File \\\"<decorator-gen-1131>\\\", line 2, in to_matrix_table\\n\\n  File \\\"/Users/annamira/Documents/GitHub/hail/hail/python/hail/table.py\\\", line 2963, in to_matrix_table\\n    lambda data: hl.struct(data=data,\\n\\n  File \\\"/Users/annamira/Documents/GitHub/hail/hail/python/hail/expr/functions.py\\\", line 518, in rbind\\n    return hl.bind(f, *args, _ctx=_ctx)\\n\\n  File \\\"<decorator-gen-747>\\\", line 2, in bind\\n\\n  File \\\"/Users/annamira/Documents/GitHub/hail/hail/python/hail/expr/functions.py\\\", line 467, in bind\\n    lambda_result = to_expr(f(*args))\\n\\n  File \\\"/Users/annamira/Documents/GitHub/hail/hail/python/hail/table.py\\\", line 2964, in <lambda>\\n    key_to_index=hl.dict(hl.range(0, hl.len(data)).map(lambda i: (data[i][0], i))))\\n\\n  File \\\"<decorator-gen-607>\\\", line 2, in map\\n\\n  File \\\"/Users/annamira/Documents/GitHub/hail/hail/python/hail/table.py\\\", line 2964, in <lambda>\\n    key_to_index=hl.dict(hl.range(0, hl.len(data)).map(lambda i: (data[i][0], i))))\\n\"))) (Ref __uid_32))))))))))) (AggLet __cse_2 False (SelectFields (`1` `2` `3` `4` `5`) (Ref row)) (MakeStruct (__uid_34 (Let __uid_35 (Apply dict () Dict[Int32,Struct{3:Int64,4:Int64,5:Int64}] (ApplyAggOp Collect () ((MakeTuple (0 1) (Apply index () Int32 (GetField key_to_index (GetField __uid_33 (Ref global))) (SelectFields (`2`) (Ref __cse_2))) (SelectFields (`3` `4` `5`) (Ref __cse_2)))))) (ToArray (StreamMap __uid_36 (ToStream (ToArray (StreamRange (I32 0) (ArrayLen (CastToArray (Apply dictToArray () Array[Tuple[Struct{2:Int64},Int32]] (GetField key_to_index (GetField __uid_33 (Ref global)))))) (I32 1)))) (Apply get () Struct{3:Int64,4:Int64,5:Int64} (Ref __uid_35) (Ref __uid_36)))))))) (SelectFields (`1`) (InsertFields (SelectFields (`1` `2` `3` `4` `5`) (Ref row)) None))) (InsertFields (SelectFields (__uid_33) (Ref global)) None (__uid_33 (ToArray (StreamMap __uid_37 (ToStream (GetField data (GetField __uid_33 (Ref global)))) (MakeStruct (`2` (GetField `2` (GetTupleElement 0 (Ref __uid_37)))))))))))))\n                                                                                                                                                                                                                                                                                                            ^\n\tat is.hail.utils.ErrorHandling$class.fatal(ErrorHandling.scala:9)\n\tat is.hail.utils.package$.fatal(package.scala:77)\n\tat is.hail.expr.ParserUtils$.error(Parser.scala:29)\n\tat is.hail.expr.ir.IRParser$.error(Parser.scala:159)\n\tat is.hail.expr.ir.IRParser$.identifier(Parser.scala:181)\n\tat is.hail.expr.ir.IRParser$.struct_field(Parser.scala:332)\n\tat is.hail.expr.ir.IRParser$.type_field(Parser.scala:346)\n\tat is.hail.expr.ir.IRParser$$anonfun$15.apply(Parser.scala:495)\n\tat is.hail.expr.ir.IRParser$$anonfun$15.apply(Parser.scala:495)\n\tat is.hail.expr.ir.IRParser$.repsepUntil(Parser.scala:283)\n\tat is.hail.expr.ir.IRParser$.type_expr(Parser.scala:495)\n\tat is.hail.expr.ir.IRParser$$anonfun$12.apply(Parser.scala:485)\n\tat is.hail.expr.ir.IRParser$$anonfun$12.apply(Parser.scala:485)\n\tat is.hail.expr.ir.IRParser$.repsepUntil(Parser.scala:283)\n\tat is.hail.expr.ir.IRParser$.type_expr(Parser.scala:485)\n\tat is.hail.expr.ir.IRParser$.type_expr(Parser.scala:461)\n\tat is.hail.expr.ir.IRParser$.ir_value_expr_1(Parser.scala:1137)\n\tat is.hail.expr.ir.IRParser$.ir_value_expr(Parser.scala:716)\n\tat is.hail.expr.ir.IRParser$.ir_value_expr_1(Parser.scala:756)\n\tat is.hail.expr.ir.IRParser$.ir_value_expr(Parser.scala:716)\n\tat is.hail.expr.ir.IRParser$.named_value_ir(Parser.scala:699)\n\tat is.hail.expr.ir.IRParser$$anonfun$named_value_irs$1.apply(Parser.scala:694)\n\tat is.hail.expr.ir.IRParser$$anonfun$named_value_irs$1.apply(Parser.scala:694)\n\tat is.hail.expr.ir.IRParser$.repUntil(Parser.scala:295)\n\tat is.hail.expr.ir.IRParser$.named_value_irs(Parser.scala:694)\n\tat is.hail.expr.ir.IRParser$.ir_value_expr_1(Parser.scala:1106)\n\tat is.hail.expr.ir.IRParser$.ir_value_expr(Parser.scala:716)\n\tat is.hail.expr.ir.IRParser$.table_ir_1(Parser.scala:1364)\n\tat is.hail.expr.ir.IRParser$.table_ir(Parser.scala:1267)\n\tat is.hail.expr.ir.IRParser$.table_ir_1(Parser.scala:1309)\n\tat is.hail.expr.ir.IRParser$.table_ir(Parser.scala:1267)\n\tat is.hail.expr.ir.IRParser$.table_ir_1(Parser.scala:1363)\n\tat is.hail.expr.ir.IRParser$.table_ir(Parser.scala:1267)\n\tat is.hail.expr.ir.IRParser$.matrix_ir_1(Parser.scala:1560)\n\tat is.hail.expr.ir.IRParser$.matrix_ir(Parser.scala:1438)\n\tat is.hail.expr.ir.IRParser$.table_ir_1(Parser.scala:1294)\n\tat is.hail.expr.ir.IRParser$.table_ir(Parser.scala:1267)\n\tat is.hail.expr.ir.IRParser$.ir_value_expr_1(Parser.scala:1144)\n\tat is.hail.expr.ir.IRParser$.ir_value_expr(Parser.scala:716)\n\tat is.hail.expr.ir.IRParser$$anonfun$parse_value_ir$1.apply(Parser.scala:1728)\n\tat is.hail.expr.ir.IRParser$$anonfun$parse_value_ir$1.apply(Parser.scala:1728)\n\tat is.hail.expr.ir.IRParser$.parse(Parser.scala:1725)\n\tat is.hail.expr.ir.IRParser$.parse_value_ir(Parser.scala:1728)\n\tat is.hail.backend.spark.SparkBackend$$anonfun$parse_value_ir$1.apply(SparkBackend.scala:506)\n\tat is.hail.backend.spark.SparkBackend$$anonfun$parse_value_ir$1.apply(SparkBackend.scala:505)\n\tat is.hail.expr.ir.ExecuteContext$$anonfun$scoped$1.apply(ExecuteContext.scala:20)\n\tat is.hail.expr.ir.ExecuteContext$$anonfun$scoped$1.apply(ExecuteContext.scala:18)\n\tat is.hail.utils.package$.using(package.scala:601)\n\tat is.hail.annotations.Region$.scoped(Region.scala:18)\n\tat is.hail.expr.ir.ExecuteContext$.scoped(ExecuteContext.scala:18)\n\tat is.hail.backend.spark.SparkBackend.withExecuteContext(SparkBackend.scala:229)\n\tat is.hail.backend.spark.SparkBackend.parse_value_ir(SparkBackend.scala:505)\n\tat sun.reflect.GeneratedMethodAccessor143.invoke(Unknown Source)\n\tat sun.reflect.DelegatingMethodAccessorImpl.invoke(DelegatingMethodAccessorImpl.java:43)\n\tat java.lang.reflect.Method.invoke(Method.java:498)\n\tat py4j.reflection.MethodInvoker.invoke(MethodInvoker.java:244)\n\tat py4j.reflection.ReflectionEngine.invoke(ReflectionEngine.java:357)\n\tat py4j.Gateway.invoke(Gateway.java:282)\n\tat py4j.commands.AbstractCommand.invokeMethod(AbstractCommand.java:132)\n\tat py4j.commands.CallCommand.execute(CallCommand.java:79)\n\tat py4j.GatewayConnection.run(GatewayConnection.java:238)\n\tat java.lang.Thread.run(Thread.java:748)\n\n\n\nHail version: 0.2.46-bf7b7f7082e1\nError summary: HailException: Expected identifier but found integer '2'.\n<input>:1:(TableCount (MatrixColsTable (CastTableToMatrix __uid_34 __uid_33 (`2`) (TableMapGlobals (TableKeyByAndAggregate None 50 (TableMapGlobals (TableKeyBy () False (JavaTable m1)) (InsertFields (SelectFields () (Ref global)) None (__uid_33 (Let __uid_31 (Apply dictToArray () Array[Tuple[Struct{2:Int64},Struct{}]] (LiftMeOut (TableAggregate (TableKeyBy () False (JavaTable m1)) (AggLet __cse_1 False (SelectFields (`1` `2` `3` `4` `5`) (Ref row)) (AggGroupBy False (SelectFields (`2`) (Ref __cse_1)) (Apply indexArray () Struct{} (ApplyAggOp Take ((I32 1)) ((SelectFields () (Ref __cse_1)))) (I32 0) (Str \"  File \\\"<ipython-input-35-f54da47f85f9>\\\", line 1, in <module>\\n    mtA = tableA.to_matrix_table(row_key=['1'], col_key=['2'])\\n\\n  File \\\"<decorator-gen-1131>\\\", line 2, in to_matrix_table\\n\\n  File \\\"/Users/annamira/Documents/GitHub/hail/hail/python/hail/table.py\\\", line 2961, in to_matrix_table\\n    hl.agg.group_by(ht.row.select(*col_key), hl.agg.take(ht.row.select(*col_fields), 1)[0]),\\n\\n  File \\\"/Users/annamira/Documents/GitHub/hail/hail/python/hail/expr/expressions/typed_expressions.py\\\", line 745, in __getitem__\\n    return super().__getitem__(item)\\n\"))))))) (MakeStruct (data (Ref __uid_31)) (key_to_index (Apply dict () Dict[Struct{2:Int64},Int32] (ToArray (StreamMap __uid_32 (ToStream (ToArray (StreamRange (I32 0) (ArrayLen (CastToArray (Ref __uid_31))) (I32 1)))) (MakeTuple (0 1) (GetTupleElement 0 (Apply indexArray () Tuple[Struct{2:Int64},Struct{}] (Ref __uid_31) (Ref __uid_32) (Str \"  File \\\"<ipython-input-35-f54da47f85f9>\\\", line 1, in <module>\\n    mtA = tableA.to_matrix_table(row_key=['1'], col_key=['2'])\\n\\n  File \\\"<decorator-gen-1131>\\\", line 2, in to_matrix_table\\n\\n  File \\\"/Users/annamira/Documents/GitHub/hail/hail/python/hail/table.py\\\", line 2963, in to_matrix_table\\n    lambda data: hl.struct(data=data,\\n\\n  File \\\"/Users/annamira/Documents/GitHub/hail/hail/python/hail/expr/functions.py\\\", line 518, in rbind\\n    return hl.bind(f, *args, _ctx=_ctx)\\n\\n  File \\\"<decorator-gen-747>\\\", line 2, in bind\\n\\n  File \\\"/Users/annamira/Documents/GitHub/hail/hail/python/hail/expr/functions.py\\\", line 467, in bind\\n    lambda_result = to_expr(f(*args))\\n\\n  File \\\"/Users/annamira/Documents/GitHub/hail/hail/python/hail/table.py\\\", line 2964, in <lambda>\\n    key_to_index=hl.dict(hl.range(0, hl.len(data)).map(lambda i: (data[i][0], i))))\\n\\n  File \\\"<decorator-gen-607>\\\", line 2, in map\\n\\n  File \\\"/Users/annamira/Documents/GitHub/hail/hail/python/hail/table.py\\\", line 2964, in <lambda>\\n    key_to_index=hl.dict(hl.range(0, hl.len(data)).map(lambda i: (data[i][0], i))))\\n\"))) (Ref __uid_32))))))))))) (AggLet __cse_2 False (SelectFields (`1` `2` `3` `4` `5`) (Ref row)) (MakeStruct (__uid_34 (Let __uid_35 (Apply dict () Dict[Int32,Struct{3:Int64,4:Int64,5:Int64}] (ApplyAggOp Collect () ((MakeTuple (0 1) (Apply index () Int32 (GetField key_to_index (GetField __uid_33 (Ref global))) (SelectFields (`2`) (Ref __cse_2))) (SelectFields (`3` `4` `5`) (Ref __cse_2)))))) (ToArray (StreamMap __uid_36 (ToStream (ToArray (StreamRange (I32 0) (ArrayLen (CastToArray (Apply dictToArray () Array[Tuple[Struct{2:Int64},Int32]] (GetField key_to_index (GetField __uid_33 (Ref global)))))) (I32 1)))) (Apply get () Struct{3:Int64,4:Int64,5:Int64} (Ref __uid_35) (Ref __uid_36)))))))) (SelectFields (`1`) (InsertFields (SelectFields (`1` `2` `3` `4` `5`) (Ref row)) None))) (InsertFields (SelectFields (__uid_33) (Ref global)) None (__uid_33 (ToArray (StreamMap __uid_37 (ToStream (GetField data (GetField __uid_33 (Ref global)))) (MakeStruct (`2` (GetField `2` (GetTupleElement 0 (Ref __uid_37)))))))))))))\n                                                                                                                                                                                                                                                                                                            ^",
     "output_type": "error",
     "traceback": [
      "\u001b[0;31m---------------------------------------------------------------------------\u001b[0m",
      "\u001b[0;31mFatalError\u001b[0m                                Traceback (most recent call last)",
      "\u001b[0;32m<ipython-input-36-ec19791897e2>\u001b[0m in \u001b[0;36m<module>\u001b[0;34m\u001b[0m\n\u001b[1;32m      1\u001b[0m \u001b[0mmtA\u001b[0m\u001b[0;34m.\u001b[0m\u001b[0mdescribe\u001b[0m\u001b[0;34m(\u001b[0m\u001b[0;34m)\u001b[0m\u001b[0;34m\u001b[0m\u001b[0;34m\u001b[0m\u001b[0m\n\u001b[0;32m----> 2\u001b[0;31m \u001b[0mmtA\u001b[0m\u001b[0;34m.\u001b[0m\u001b[0mshow\u001b[0m\u001b[0;34m(\u001b[0m\u001b[0;34m)\u001b[0m\u001b[0;34m\u001b[0m\u001b[0;34m\u001b[0m\u001b[0m\n\u001b[0m",
      "\u001b[0;32m<decorator-gen-1225>\u001b[0m in \u001b[0;36mshow\u001b[0;34m(self, n_rows, n_cols, include_row_fields, width, truncate, types, handler)\u001b[0m\n",
      "\u001b[0;32m~/Documents/GitHub/hail/hail/python/hail/typecheck/check.py\u001b[0m in \u001b[0;36mwrapper\u001b[0;34m(__original_func, *args, **kwargs)\u001b[0m\n\u001b[1;32m    612\u001b[0m     \u001b[0;32mdef\u001b[0m \u001b[0mwrapper\u001b[0m\u001b[0;34m(\u001b[0m\u001b[0m__original_func\u001b[0m\u001b[0;34m,\u001b[0m \u001b[0;34m*\u001b[0m\u001b[0margs\u001b[0m\u001b[0;34m,\u001b[0m \u001b[0;34m**\u001b[0m\u001b[0mkwargs\u001b[0m\u001b[0;34m)\u001b[0m\u001b[0;34m:\u001b[0m\u001b[0;34m\u001b[0m\u001b[0;34m\u001b[0m\u001b[0m\n\u001b[1;32m    613\u001b[0m         \u001b[0margs_\u001b[0m\u001b[0;34m,\u001b[0m \u001b[0mkwargs_\u001b[0m \u001b[0;34m=\u001b[0m \u001b[0mcheck_all\u001b[0m\u001b[0;34m(\u001b[0m\u001b[0m__original_func\u001b[0m\u001b[0;34m,\u001b[0m \u001b[0margs\u001b[0m\u001b[0;34m,\u001b[0m \u001b[0mkwargs\u001b[0m\u001b[0;34m,\u001b[0m \u001b[0mcheckers\u001b[0m\u001b[0;34m,\u001b[0m \u001b[0mis_method\u001b[0m\u001b[0;34m=\u001b[0m\u001b[0mis_method\u001b[0m\u001b[0;34m)\u001b[0m\u001b[0;34m\u001b[0m\u001b[0;34m\u001b[0m\u001b[0m\n\u001b[0;32m--> 614\u001b[0;31m         \u001b[0;32mreturn\u001b[0m \u001b[0m__original_func\u001b[0m\u001b[0;34m(\u001b[0m\u001b[0;34m*\u001b[0m\u001b[0margs_\u001b[0m\u001b[0;34m,\u001b[0m \u001b[0;34m**\u001b[0m\u001b[0mkwargs_\u001b[0m\u001b[0;34m)\u001b[0m\u001b[0;34m\u001b[0m\u001b[0;34m\u001b[0m\u001b[0m\n\u001b[0m\u001b[1;32m    615\u001b[0m \u001b[0;34m\u001b[0m\u001b[0m\n\u001b[1;32m    616\u001b[0m     \u001b[0;32mreturn\u001b[0m \u001b[0mwrapper\u001b[0m\u001b[0;34m\u001b[0m\u001b[0;34m\u001b[0m\u001b[0m\n",
      "\u001b[0;32m~/Documents/GitHub/hail/hail/python/hail/matrixtable.py\u001b[0m in \u001b[0;36mshow\u001b[0;34m(self, n_rows, n_cols, include_row_fields, width, truncate, types, handler)\u001b[0m\n\u001b[1;32m   2597\u001b[0m             \u001b[0mcharacters\u001b[0m \u001b[0;34m=\u001b[0m \u001b[0mmax\u001b[0m\u001b[0;34m(\u001b[0m\u001b[0mcharacters\u001b[0m\u001b[0;34m,\u001b[0m \u001b[0;36m0\u001b[0m\u001b[0;34m)\u001b[0m\u001b[0;34m\u001b[0m\u001b[0;34m\u001b[0m\u001b[0m\n\u001b[1;32m   2598\u001b[0m             \u001b[0mn_cols\u001b[0m \u001b[0;34m=\u001b[0m \u001b[0mcharacters\u001b[0m \u001b[0;34m//\u001b[0m \u001b[0;34m(\u001b[0m\u001b[0mestimate_size\u001b[0m\u001b[0;34m(\u001b[0m\u001b[0mself\u001b[0m\u001b[0;34m.\u001b[0m\u001b[0mentry\u001b[0m\u001b[0;34m)\u001b[0m \u001b[0;34m+\u001b[0m \u001b[0;36m4\u001b[0m\u001b[0;34m)\u001b[0m  \u001b[0;31m# 4 for the column index\u001b[0m\u001b[0;34m\u001b[0m\u001b[0;34m\u001b[0m\u001b[0m\n\u001b[0;32m-> 2599\u001b[0;31m         \u001b[0mactual_n_cols\u001b[0m \u001b[0;34m=\u001b[0m \u001b[0mself\u001b[0m\u001b[0;34m.\u001b[0m\u001b[0mcount_cols\u001b[0m\u001b[0;34m(\u001b[0m\u001b[0;34m)\u001b[0m\u001b[0;34m\u001b[0m\u001b[0;34m\u001b[0m\u001b[0m\n\u001b[0m\u001b[1;32m   2600\u001b[0m         \u001b[0mdisplayed_n_cols\u001b[0m \u001b[0;34m=\u001b[0m \u001b[0mmin\u001b[0m\u001b[0;34m(\u001b[0m\u001b[0mactual_n_cols\u001b[0m\u001b[0;34m,\u001b[0m \u001b[0mn_cols\u001b[0m\u001b[0;34m)\u001b[0m\u001b[0;34m\u001b[0m\u001b[0;34m\u001b[0m\u001b[0m\n\u001b[1;32m   2601\u001b[0m \u001b[0;34m\u001b[0m\u001b[0m\n",
      "\u001b[0;32m<decorator-gen-1219>\u001b[0m in \u001b[0;36mcount_cols\u001b[0;34m(self, _localize)\u001b[0m\n",
      "\u001b[0;32m~/Documents/GitHub/hail/hail/python/hail/typecheck/check.py\u001b[0m in \u001b[0;36mwrapper\u001b[0;34m(__original_func, *args, **kwargs)\u001b[0m\n\u001b[1;32m    612\u001b[0m     \u001b[0;32mdef\u001b[0m \u001b[0mwrapper\u001b[0m\u001b[0;34m(\u001b[0m\u001b[0m__original_func\u001b[0m\u001b[0;34m,\u001b[0m \u001b[0;34m*\u001b[0m\u001b[0margs\u001b[0m\u001b[0;34m,\u001b[0m \u001b[0;34m**\u001b[0m\u001b[0mkwargs\u001b[0m\u001b[0;34m)\u001b[0m\u001b[0;34m:\u001b[0m\u001b[0;34m\u001b[0m\u001b[0;34m\u001b[0m\u001b[0m\n\u001b[1;32m    613\u001b[0m         \u001b[0margs_\u001b[0m\u001b[0;34m,\u001b[0m \u001b[0mkwargs_\u001b[0m \u001b[0;34m=\u001b[0m \u001b[0mcheck_all\u001b[0m\u001b[0;34m(\u001b[0m\u001b[0m__original_func\u001b[0m\u001b[0;34m,\u001b[0m \u001b[0margs\u001b[0m\u001b[0;34m,\u001b[0m \u001b[0mkwargs\u001b[0m\u001b[0;34m,\u001b[0m \u001b[0mcheckers\u001b[0m\u001b[0;34m,\u001b[0m \u001b[0mis_method\u001b[0m\u001b[0;34m=\u001b[0m\u001b[0mis_method\u001b[0m\u001b[0;34m)\u001b[0m\u001b[0;34m\u001b[0m\u001b[0;34m\u001b[0m\u001b[0m\n\u001b[0;32m--> 614\u001b[0;31m         \u001b[0;32mreturn\u001b[0m \u001b[0m__original_func\u001b[0m\u001b[0;34m(\u001b[0m\u001b[0;34m*\u001b[0m\u001b[0margs_\u001b[0m\u001b[0;34m,\u001b[0m \u001b[0;34m**\u001b[0m\u001b[0mkwargs_\u001b[0m\u001b[0;34m)\u001b[0m\u001b[0;34m\u001b[0m\u001b[0;34m\u001b[0m\u001b[0m\n\u001b[0m\u001b[1;32m    615\u001b[0m \u001b[0;34m\u001b[0m\u001b[0m\n\u001b[1;32m    616\u001b[0m     \u001b[0;32mreturn\u001b[0m \u001b[0mwrapper\u001b[0m\u001b[0;34m\u001b[0m\u001b[0;34m\u001b[0m\u001b[0m\n",
      "\u001b[0;32m~/Documents/GitHub/hail/hail/python/hail/matrixtable.py\u001b[0m in \u001b[0;36mcount_cols\u001b[0;34m(self, _localize)\u001b[0m\n\u001b[1;32m   2406\u001b[0m         \u001b[0mcount_ir\u001b[0m \u001b[0;34m=\u001b[0m \u001b[0mir\u001b[0m\u001b[0;34m.\u001b[0m\u001b[0mTableCount\u001b[0m\u001b[0;34m(\u001b[0m\u001b[0mir\u001b[0m\u001b[0;34m.\u001b[0m\u001b[0mMatrixColsTable\u001b[0m\u001b[0;34m(\u001b[0m\u001b[0mself\u001b[0m\u001b[0;34m.\u001b[0m\u001b[0m_mir\u001b[0m\u001b[0;34m)\u001b[0m\u001b[0;34m)\u001b[0m\u001b[0;34m\u001b[0m\u001b[0;34m\u001b[0m\u001b[0m\n\u001b[1;32m   2407\u001b[0m         \u001b[0;32mif\u001b[0m \u001b[0m_localize\u001b[0m\u001b[0;34m:\u001b[0m\u001b[0;34m\u001b[0m\u001b[0;34m\u001b[0m\u001b[0m\n\u001b[0;32m-> 2408\u001b[0;31m             \u001b[0;32mreturn\u001b[0m \u001b[0mEnv\u001b[0m\u001b[0;34m.\u001b[0m\u001b[0mbackend\u001b[0m\u001b[0;34m(\u001b[0m\u001b[0;34m)\u001b[0m\u001b[0;34m.\u001b[0m\u001b[0mexecute\u001b[0m\u001b[0;34m(\u001b[0m\u001b[0mcount_ir\u001b[0m\u001b[0;34m)\u001b[0m\u001b[0;34m\u001b[0m\u001b[0;34m\u001b[0m\u001b[0m\n\u001b[0m\u001b[1;32m   2409\u001b[0m         \u001b[0;32melse\u001b[0m\u001b[0;34m:\u001b[0m\u001b[0;34m\u001b[0m\u001b[0;34m\u001b[0m\u001b[0m\n\u001b[1;32m   2410\u001b[0m             \u001b[0;32mreturn\u001b[0m \u001b[0mconstruct_expr\u001b[0m\u001b[0;34m(\u001b[0m\u001b[0mir\u001b[0m\u001b[0;34m.\u001b[0m\u001b[0mLiftMeOut\u001b[0m\u001b[0;34m(\u001b[0m\u001b[0mcount_ir\u001b[0m\u001b[0;34m)\u001b[0m\u001b[0;34m,\u001b[0m \u001b[0mhl\u001b[0m\u001b[0;34m.\u001b[0m\u001b[0mtint64\u001b[0m\u001b[0;34m)\u001b[0m\u001b[0;34m\u001b[0m\u001b[0;34m\u001b[0m\u001b[0m\n",
      "\u001b[0;32m~/Documents/GitHub/hail/hail/python/hail/backend/spark_backend.py\u001b[0m in \u001b[0;36mexecute\u001b[0;34m(self, ir, timed)\u001b[0m\n\u001b[1;32m    292\u001b[0m \u001b[0;34m\u001b[0m\u001b[0m\n\u001b[1;32m    293\u001b[0m     \u001b[0;32mdef\u001b[0m \u001b[0mexecute\u001b[0m\u001b[0;34m(\u001b[0m\u001b[0mself\u001b[0m\u001b[0;34m,\u001b[0m \u001b[0mir\u001b[0m\u001b[0;34m,\u001b[0m \u001b[0mtimed\u001b[0m\u001b[0;34m=\u001b[0m\u001b[0;32mFalse\u001b[0m\u001b[0;34m)\u001b[0m\u001b[0;34m:\u001b[0m\u001b[0;34m\u001b[0m\u001b[0;34m\u001b[0m\u001b[0m\n\u001b[0;32m--> 294\u001b[0;31m         \u001b[0mjir\u001b[0m \u001b[0;34m=\u001b[0m \u001b[0mself\u001b[0m\u001b[0;34m.\u001b[0m\u001b[0m_to_java_value_ir\u001b[0m\u001b[0;34m(\u001b[0m\u001b[0mir\u001b[0m\u001b[0;34m)\u001b[0m\u001b[0;34m\u001b[0m\u001b[0;34m\u001b[0m\u001b[0m\n\u001b[0m\u001b[1;32m    295\u001b[0m         \u001b[0;31m# print(self._hail_package.expr.ir.Pretty.apply(jir, True, -1))\u001b[0m\u001b[0;34m\u001b[0m\u001b[0;34m\u001b[0m\u001b[0;34m\u001b[0m\u001b[0m\n\u001b[1;32m    296\u001b[0m         \u001b[0mresult\u001b[0m \u001b[0;34m=\u001b[0m \u001b[0mjson\u001b[0m\u001b[0;34m.\u001b[0m\u001b[0mloads\u001b[0m\u001b[0;34m(\u001b[0m\u001b[0mself\u001b[0m\u001b[0;34m.\u001b[0m\u001b[0m_jhc\u001b[0m\u001b[0;34m.\u001b[0m\u001b[0mbackend\u001b[0m\u001b[0;34m(\u001b[0m\u001b[0;34m)\u001b[0m\u001b[0;34m.\u001b[0m\u001b[0mexecuteJSON\u001b[0m\u001b[0;34m(\u001b[0m\u001b[0mjir\u001b[0m\u001b[0;34m)\u001b[0m\u001b[0;34m)\u001b[0m\u001b[0;34m\u001b[0m\u001b[0;34m\u001b[0m\u001b[0m\n",
      "\u001b[0;32m~/Documents/GitHub/hail/hail/python/hail/backend/spark_backend.py\u001b[0m in \u001b[0;36m_to_java_value_ir\u001b[0;34m(self, ir)\u001b[0m\n\u001b[1;32m    280\u001b[0m \u001b[0;34m\u001b[0m\u001b[0m\n\u001b[1;32m    281\u001b[0m     \u001b[0;32mdef\u001b[0m \u001b[0m_to_java_value_ir\u001b[0m\u001b[0;34m(\u001b[0m\u001b[0mself\u001b[0m\u001b[0;34m,\u001b[0m \u001b[0mir\u001b[0m\u001b[0;34m)\u001b[0m\u001b[0;34m:\u001b[0m\u001b[0;34m\u001b[0m\u001b[0;34m\u001b[0m\u001b[0m\n\u001b[0;32m--> 282\u001b[0;31m         \u001b[0;32mreturn\u001b[0m \u001b[0mself\u001b[0m\u001b[0;34m.\u001b[0m\u001b[0m_to_java_ir\u001b[0m\u001b[0;34m(\u001b[0m\u001b[0mir\u001b[0m\u001b[0;34m,\u001b[0m \u001b[0mself\u001b[0m\u001b[0;34m.\u001b[0m\u001b[0m_parse_value_ir\u001b[0m\u001b[0;34m)\u001b[0m\u001b[0;34m\u001b[0m\u001b[0;34m\u001b[0m\u001b[0m\n\u001b[0m\u001b[1;32m    283\u001b[0m \u001b[0;34m\u001b[0m\u001b[0m\n\u001b[1;32m    284\u001b[0m     \u001b[0;32mdef\u001b[0m \u001b[0m_to_java_table_ir\u001b[0m\u001b[0;34m(\u001b[0m\u001b[0mself\u001b[0m\u001b[0;34m,\u001b[0m \u001b[0mir\u001b[0m\u001b[0;34m)\u001b[0m\u001b[0;34m:\u001b[0m\u001b[0;34m\u001b[0m\u001b[0;34m\u001b[0m\u001b[0m\n",
      "\u001b[0;32m~/Documents/GitHub/hail/hail/python/hail/backend/spark_backend.py\u001b[0m in \u001b[0;36m_to_java_ir\u001b[0;34m(self, ir, parse)\u001b[0m\n\u001b[1;32m    276\u001b[0m             \u001b[0mr\u001b[0m \u001b[0;34m=\u001b[0m \u001b[0mCSERenderer\u001b[0m\u001b[0;34m(\u001b[0m\u001b[0mstop_at_jir\u001b[0m\u001b[0;34m=\u001b[0m\u001b[0;32mTrue\u001b[0m\u001b[0;34m)\u001b[0m\u001b[0;34m\u001b[0m\u001b[0;34m\u001b[0m\u001b[0m\n\u001b[1;32m    277\u001b[0m             \u001b[0;31m# FIXME parse should be static\u001b[0m\u001b[0;34m\u001b[0m\u001b[0;34m\u001b[0m\u001b[0;34m\u001b[0m\u001b[0m\n\u001b[0;32m--> 278\u001b[0;31m             \u001b[0mir\u001b[0m\u001b[0;34m.\u001b[0m\u001b[0m_jir\u001b[0m \u001b[0;34m=\u001b[0m \u001b[0mparse\u001b[0m\u001b[0;34m(\u001b[0m\u001b[0mr\u001b[0m\u001b[0;34m(\u001b[0m\u001b[0mir\u001b[0m\u001b[0;34m)\u001b[0m\u001b[0;34m,\u001b[0m \u001b[0mir_map\u001b[0m\u001b[0;34m=\u001b[0m\u001b[0mr\u001b[0m\u001b[0;34m.\u001b[0m\u001b[0mjirs\u001b[0m\u001b[0;34m)\u001b[0m\u001b[0;34m\u001b[0m\u001b[0;34m\u001b[0m\u001b[0m\n\u001b[0m\u001b[1;32m    279\u001b[0m         \u001b[0;32mreturn\u001b[0m \u001b[0mir\u001b[0m\u001b[0;34m.\u001b[0m\u001b[0m_jir\u001b[0m\u001b[0;34m\u001b[0m\u001b[0;34m\u001b[0m\u001b[0m\n\u001b[1;32m    280\u001b[0m \u001b[0;34m\u001b[0m\u001b[0m\n",
      "\u001b[0;32m~/Documents/GitHub/hail/hail/python/hail/backend/spark_backend.py\u001b[0m in \u001b[0;36m_parse_value_ir\u001b[0;34m(self, code, ref_map, ir_map)\u001b[0m\n\u001b[1;32m    248\u001b[0m             \u001b[0mcode\u001b[0m\u001b[0;34m,\u001b[0m\u001b[0;34m\u001b[0m\u001b[0;34m\u001b[0m\u001b[0m\n\u001b[1;32m    249\u001b[0m             \u001b[0;34m{\u001b[0m\u001b[0mk\u001b[0m\u001b[0;34m:\u001b[0m \u001b[0mt\u001b[0m\u001b[0;34m.\u001b[0m\u001b[0m_parsable_string\u001b[0m\u001b[0;34m(\u001b[0m\u001b[0;34m)\u001b[0m \u001b[0;32mfor\u001b[0m \u001b[0mk\u001b[0m\u001b[0;34m,\u001b[0m \u001b[0mt\u001b[0m \u001b[0;32min\u001b[0m \u001b[0mref_map\u001b[0m\u001b[0;34m.\u001b[0m\u001b[0mitems\u001b[0m\u001b[0;34m(\u001b[0m\u001b[0;34m)\u001b[0m\u001b[0;34m}\u001b[0m\u001b[0;34m,\u001b[0m\u001b[0;34m\u001b[0m\u001b[0;34m\u001b[0m\u001b[0m\n\u001b[0;32m--> 250\u001b[0;31m             ir_map)\n\u001b[0m\u001b[1;32m    251\u001b[0m \u001b[0;34m\u001b[0m\u001b[0m\n\u001b[1;32m    252\u001b[0m     \u001b[0;32mdef\u001b[0m \u001b[0m_parse_table_ir\u001b[0m\u001b[0;34m(\u001b[0m\u001b[0mself\u001b[0m\u001b[0;34m,\u001b[0m \u001b[0mcode\u001b[0m\u001b[0;34m,\u001b[0m \u001b[0mref_map\u001b[0m\u001b[0;34m=\u001b[0m\u001b[0;34m{\u001b[0m\u001b[0;34m}\u001b[0m\u001b[0;34m,\u001b[0m \u001b[0mir_map\u001b[0m\u001b[0;34m=\u001b[0m\u001b[0;34m{\u001b[0m\u001b[0;34m}\u001b[0m\u001b[0;34m)\u001b[0m\u001b[0;34m:\u001b[0m\u001b[0;34m\u001b[0m\u001b[0;34m\u001b[0m\u001b[0m\n",
      "\u001b[0;32m~/opt/miniconda3/envs/hail/lib/python3.7/site-packages/py4j/java_gateway.py\u001b[0m in \u001b[0;36m__call__\u001b[0;34m(self, *args)\u001b[0m\n\u001b[1;32m   1255\u001b[0m         \u001b[0manswer\u001b[0m \u001b[0;34m=\u001b[0m \u001b[0mself\u001b[0m\u001b[0;34m.\u001b[0m\u001b[0mgateway_client\u001b[0m\u001b[0;34m.\u001b[0m\u001b[0msend_command\u001b[0m\u001b[0;34m(\u001b[0m\u001b[0mcommand\u001b[0m\u001b[0;34m)\u001b[0m\u001b[0;34m\u001b[0m\u001b[0;34m\u001b[0m\u001b[0m\n\u001b[1;32m   1256\u001b[0m         return_value = get_return_value(\n\u001b[0;32m-> 1257\u001b[0;31m             answer, self.gateway_client, self.target_id, self.name)\n\u001b[0m\u001b[1;32m   1258\u001b[0m \u001b[0;34m\u001b[0m\u001b[0m\n\u001b[1;32m   1259\u001b[0m         \u001b[0;32mfor\u001b[0m \u001b[0mtemp_arg\u001b[0m \u001b[0;32min\u001b[0m \u001b[0mtemp_args\u001b[0m\u001b[0;34m:\u001b[0m\u001b[0;34m\u001b[0m\u001b[0;34m\u001b[0m\u001b[0m\n",
      "\u001b[0;32m~/Documents/GitHub/hail/hail/python/hail/backend/spark_backend.py\u001b[0m in \u001b[0;36mdeco\u001b[0;34m(*args, **kwargs)\u001b[0m\n\u001b[1;32m     39\u001b[0m             raise FatalError('%s\\n\\nJava stack trace:\\n%s\\n'\n\u001b[1;32m     40\u001b[0m                              \u001b[0;34m'Hail version: %s\\n'\u001b[0m\u001b[0;34m\u001b[0m\u001b[0;34m\u001b[0m\u001b[0m\n\u001b[0;32m---> 41\u001b[0;31m                              'Error summary: %s' % (deepest, full, hail.__version__, deepest)) from None\n\u001b[0m\u001b[1;32m     42\u001b[0m         \u001b[0;32mexcept\u001b[0m \u001b[0mpyspark\u001b[0m\u001b[0;34m.\u001b[0m\u001b[0msql\u001b[0m\u001b[0;34m.\u001b[0m\u001b[0mutils\u001b[0m\u001b[0;34m.\u001b[0m\u001b[0mCapturedException\u001b[0m \u001b[0;32mas\u001b[0m \u001b[0me\u001b[0m\u001b[0;34m:\u001b[0m\u001b[0;34m\u001b[0m\u001b[0;34m\u001b[0m\u001b[0m\n\u001b[1;32m     43\u001b[0m             raise FatalError('%s\\n\\nJava stack trace:\\n%s\\n'\n",
      "\u001b[0;31mFatalError\u001b[0m: HailException: Expected identifier but found integer '2'.\n<input>:1:(TableCount (MatrixColsTable (CastTableToMatrix __uid_34 __uid_33 (`2`) (TableMapGlobals (TableKeyByAndAggregate None 50 (TableMapGlobals (TableKeyBy () False (JavaTable m1)) (InsertFields (SelectFields () (Ref global)) None (__uid_33 (Let __uid_31 (Apply dictToArray () Array[Tuple[Struct{2:Int64},Struct{}]] (LiftMeOut (TableAggregate (TableKeyBy () False (JavaTable m1)) (AggLet __cse_1 False (SelectFields (`1` `2` `3` `4` `5`) (Ref row)) (AggGroupBy False (SelectFields (`2`) (Ref __cse_1)) (Apply indexArray () Struct{} (ApplyAggOp Take ((I32 1)) ((SelectFields () (Ref __cse_1)))) (I32 0) (Str \"  File \\\"<ipython-input-35-f54da47f85f9>\\\", line 1, in <module>\\n    mtA = tableA.to_matrix_table(row_key=['1'], col_key=['2'])\\n\\n  File \\\"<decorator-gen-1131>\\\", line 2, in to_matrix_table\\n\\n  File \\\"/Users/annamira/Documents/GitHub/hail/hail/python/hail/table.py\\\", line 2961, in to_matrix_table\\n    hl.agg.group_by(ht.row.select(*col_key), hl.agg.take(ht.row.select(*col_fields), 1)[0]),\\n\\n  File \\\"/Users/annamira/Documents/GitHub/hail/hail/python/hail/expr/expressions/typed_expressions.py\\\", line 745, in __getitem__\\n    return super().__getitem__(item)\\n\"))))))) (MakeStruct (data (Ref __uid_31)) (key_to_index (Apply dict () Dict[Struct{2:Int64},Int32] (ToArray (StreamMap __uid_32 (ToStream (ToArray (StreamRange (I32 0) (ArrayLen (CastToArray (Ref __uid_31))) (I32 1)))) (MakeTuple (0 1) (GetTupleElement 0 (Apply indexArray () Tuple[Struct{2:Int64},Struct{}] (Ref __uid_31) (Ref __uid_32) (Str \"  File \\\"<ipython-input-35-f54da47f85f9>\\\", line 1, in <module>\\n    mtA = tableA.to_matrix_table(row_key=['1'], col_key=['2'])\\n\\n  File \\\"<decorator-gen-1131>\\\", line 2, in to_matrix_table\\n\\n  File \\\"/Users/annamira/Documents/GitHub/hail/hail/python/hail/table.py\\\", line 2963, in to_matrix_table\\n    lambda data: hl.struct(data=data,\\n\\n  File \\\"/Users/annamira/Documents/GitHub/hail/hail/python/hail/expr/functions.py\\\", line 518, in rbind\\n    return hl.bind(f, *args, _ctx=_ctx)\\n\\n  File \\\"<decorator-gen-747>\\\", line 2, in bind\\n\\n  File \\\"/Users/annamira/Documents/GitHub/hail/hail/python/hail/expr/functions.py\\\", line 467, in bind\\n    lambda_result = to_expr(f(*args))\\n\\n  File \\\"/Users/annamira/Documents/GitHub/hail/hail/python/hail/table.py\\\", line 2964, in <lambda>\\n    key_to_index=hl.dict(hl.range(0, hl.len(data)).map(lambda i: (data[i][0], i))))\\n\\n  File \\\"<decorator-gen-607>\\\", line 2, in map\\n\\n  File \\\"/Users/annamira/Documents/GitHub/hail/hail/python/hail/table.py\\\", line 2964, in <lambda>\\n    key_to_index=hl.dict(hl.range(0, hl.len(data)).map(lambda i: (data[i][0], i))))\\n\"))) (Ref __uid_32))))))))))) (AggLet __cse_2 False (SelectFields (`1` `2` `3` `4` `5`) (Ref row)) (MakeStruct (__uid_34 (Let __uid_35 (Apply dict () Dict[Int32,Struct{3:Int64,4:Int64,5:Int64}] (ApplyAggOp Collect () ((MakeTuple (0 1) (Apply index () Int32 (GetField key_to_index (GetField __uid_33 (Ref global))) (SelectFields (`2`) (Ref __cse_2))) (SelectFields (`3` `4` `5`) (Ref __cse_2)))))) (ToArray (StreamMap __uid_36 (ToStream (ToArray (StreamRange (I32 0) (ArrayLen (CastToArray (Apply dictToArray () Array[Tuple[Struct{2:Int64},Int32]] (GetField key_to_index (GetField __uid_33 (Ref global)))))) (I32 1)))) (Apply get () Struct{3:Int64,4:Int64,5:Int64} (Ref __uid_35) (Ref __uid_36)))))))) (SelectFields (`1`) (InsertFields (SelectFields (`1` `2` `3` `4` `5`) (Ref row)) None))) (InsertFields (SelectFields (__uid_33) (Ref global)) None (__uid_33 (ToArray (StreamMap __uid_37 (ToStream (GetField data (GetField __uid_33 (Ref global)))) (MakeStruct (`2` (GetField `2` (GetTupleElement 0 (Ref __uid_37)))))))))))))\n                                                                                                                                                                                                                                                                                                            ^\n\nJava stack trace:\nis.hail.utils.HailException: Expected identifier but found integer '2'.\n<input>:1:(TableCount (MatrixColsTable (CastTableToMatrix __uid_34 __uid_33 (`2`) (TableMapGlobals (TableKeyByAndAggregate None 50 (TableMapGlobals (TableKeyBy () False (JavaTable m1)) (InsertFields (SelectFields () (Ref global)) None (__uid_33 (Let __uid_31 (Apply dictToArray () Array[Tuple[Struct{2:Int64},Struct{}]] (LiftMeOut (TableAggregate (TableKeyBy () False (JavaTable m1)) (AggLet __cse_1 False (SelectFields (`1` `2` `3` `4` `5`) (Ref row)) (AggGroupBy False (SelectFields (`2`) (Ref __cse_1)) (Apply indexArray () Struct{} (ApplyAggOp Take ((I32 1)) ((SelectFields () (Ref __cse_1)))) (I32 0) (Str \"  File \\\"<ipython-input-35-f54da47f85f9>\\\", line 1, in <module>\\n    mtA = tableA.to_matrix_table(row_key=['1'], col_key=['2'])\\n\\n  File \\\"<decorator-gen-1131>\\\", line 2, in to_matrix_table\\n\\n  File \\\"/Users/annamira/Documents/GitHub/hail/hail/python/hail/table.py\\\", line 2961, in to_matrix_table\\n    hl.agg.group_by(ht.row.select(*col_key), hl.agg.take(ht.row.select(*col_fields), 1)[0]),\\n\\n  File \\\"/Users/annamira/Documents/GitHub/hail/hail/python/hail/expr/expressions/typed_expressions.py\\\", line 745, in __getitem__\\n    return super().__getitem__(item)\\n\"))))))) (MakeStruct (data (Ref __uid_31)) (key_to_index (Apply dict () Dict[Struct{2:Int64},Int32] (ToArray (StreamMap __uid_32 (ToStream (ToArray (StreamRange (I32 0) (ArrayLen (CastToArray (Ref __uid_31))) (I32 1)))) (MakeTuple (0 1) (GetTupleElement 0 (Apply indexArray () Tuple[Struct{2:Int64},Struct{}] (Ref __uid_31) (Ref __uid_32) (Str \"  File \\\"<ipython-input-35-f54da47f85f9>\\\", line 1, in <module>\\n    mtA = tableA.to_matrix_table(row_key=['1'], col_key=['2'])\\n\\n  File \\\"<decorator-gen-1131>\\\", line 2, in to_matrix_table\\n\\n  File \\\"/Users/annamira/Documents/GitHub/hail/hail/python/hail/table.py\\\", line 2963, in to_matrix_table\\n    lambda data: hl.struct(data=data,\\n\\n  File \\\"/Users/annamira/Documents/GitHub/hail/hail/python/hail/expr/functions.py\\\", line 518, in rbind\\n    return hl.bind(f, *args, _ctx=_ctx)\\n\\n  File \\\"<decorator-gen-747>\\\", line 2, in bind\\n\\n  File \\\"/Users/annamira/Documents/GitHub/hail/hail/python/hail/expr/functions.py\\\", line 467, in bind\\n    lambda_result = to_expr(f(*args))\\n\\n  File \\\"/Users/annamira/Documents/GitHub/hail/hail/python/hail/table.py\\\", line 2964, in <lambda>\\n    key_to_index=hl.dict(hl.range(0, hl.len(data)).map(lambda i: (data[i][0], i))))\\n\\n  File \\\"<decorator-gen-607>\\\", line 2, in map\\n\\n  File \\\"/Users/annamira/Documents/GitHub/hail/hail/python/hail/table.py\\\", line 2964, in <lambda>\\n    key_to_index=hl.dict(hl.range(0, hl.len(data)).map(lambda i: (data[i][0], i))))\\n\"))) (Ref __uid_32))))))))))) (AggLet __cse_2 False (SelectFields (`1` `2` `3` `4` `5`) (Ref row)) (MakeStruct (__uid_34 (Let __uid_35 (Apply dict () Dict[Int32,Struct{3:Int64,4:Int64,5:Int64}] (ApplyAggOp Collect () ((MakeTuple (0 1) (Apply index () Int32 (GetField key_to_index (GetField __uid_33 (Ref global))) (SelectFields (`2`) (Ref __cse_2))) (SelectFields (`3` `4` `5`) (Ref __cse_2)))))) (ToArray (StreamMap __uid_36 (ToStream (ToArray (StreamRange (I32 0) (ArrayLen (CastToArray (Apply dictToArray () Array[Tuple[Struct{2:Int64},Int32]] (GetField key_to_index (GetField __uid_33 (Ref global)))))) (I32 1)))) (Apply get () Struct{3:Int64,4:Int64,5:Int64} (Ref __uid_35) (Ref __uid_36)))))))) (SelectFields (`1`) (InsertFields (SelectFields (`1` `2` `3` `4` `5`) (Ref row)) None))) (InsertFields (SelectFields (__uid_33) (Ref global)) None (__uid_33 (ToArray (StreamMap __uid_37 (ToStream (GetField data (GetField __uid_33 (Ref global)))) (MakeStruct (`2` (GetField `2` (GetTupleElement 0 (Ref __uid_37)))))))))))))\n                                                                                                                                                                                                                                                                                                            ^\n\tat is.hail.utils.ErrorHandling$class.fatal(ErrorHandling.scala:9)\n\tat is.hail.utils.package$.fatal(package.scala:77)\n\tat is.hail.expr.ParserUtils$.error(Parser.scala:29)\n\tat is.hail.expr.ir.IRParser$.error(Parser.scala:159)\n\tat is.hail.expr.ir.IRParser$.identifier(Parser.scala:181)\n\tat is.hail.expr.ir.IRParser$.struct_field(Parser.scala:332)\n\tat is.hail.expr.ir.IRParser$.type_field(Parser.scala:346)\n\tat is.hail.expr.ir.IRParser$$anonfun$15.apply(Parser.scala:495)\n\tat is.hail.expr.ir.IRParser$$anonfun$15.apply(Parser.scala:495)\n\tat is.hail.expr.ir.IRParser$.repsepUntil(Parser.scala:283)\n\tat is.hail.expr.ir.IRParser$.type_expr(Parser.scala:495)\n\tat is.hail.expr.ir.IRParser$$anonfun$12.apply(Parser.scala:485)\n\tat is.hail.expr.ir.IRParser$$anonfun$12.apply(Parser.scala:485)\n\tat is.hail.expr.ir.IRParser$.repsepUntil(Parser.scala:283)\n\tat is.hail.expr.ir.IRParser$.type_expr(Parser.scala:485)\n\tat is.hail.expr.ir.IRParser$.type_expr(Parser.scala:461)\n\tat is.hail.expr.ir.IRParser$.ir_value_expr_1(Parser.scala:1137)\n\tat is.hail.expr.ir.IRParser$.ir_value_expr(Parser.scala:716)\n\tat is.hail.expr.ir.IRParser$.ir_value_expr_1(Parser.scala:756)\n\tat is.hail.expr.ir.IRParser$.ir_value_expr(Parser.scala:716)\n\tat is.hail.expr.ir.IRParser$.named_value_ir(Parser.scala:699)\n\tat is.hail.expr.ir.IRParser$$anonfun$named_value_irs$1.apply(Parser.scala:694)\n\tat is.hail.expr.ir.IRParser$$anonfun$named_value_irs$1.apply(Parser.scala:694)\n\tat is.hail.expr.ir.IRParser$.repUntil(Parser.scala:295)\n\tat is.hail.expr.ir.IRParser$.named_value_irs(Parser.scala:694)\n\tat is.hail.expr.ir.IRParser$.ir_value_expr_1(Parser.scala:1106)\n\tat is.hail.expr.ir.IRParser$.ir_value_expr(Parser.scala:716)\n\tat is.hail.expr.ir.IRParser$.table_ir_1(Parser.scala:1364)\n\tat is.hail.expr.ir.IRParser$.table_ir(Parser.scala:1267)\n\tat is.hail.expr.ir.IRParser$.table_ir_1(Parser.scala:1309)\n\tat is.hail.expr.ir.IRParser$.table_ir(Parser.scala:1267)\n\tat is.hail.expr.ir.IRParser$.table_ir_1(Parser.scala:1363)\n\tat is.hail.expr.ir.IRParser$.table_ir(Parser.scala:1267)\n\tat is.hail.expr.ir.IRParser$.matrix_ir_1(Parser.scala:1560)\n\tat is.hail.expr.ir.IRParser$.matrix_ir(Parser.scala:1438)\n\tat is.hail.expr.ir.IRParser$.table_ir_1(Parser.scala:1294)\n\tat is.hail.expr.ir.IRParser$.table_ir(Parser.scala:1267)\n\tat is.hail.expr.ir.IRParser$.ir_value_expr_1(Parser.scala:1144)\n\tat is.hail.expr.ir.IRParser$.ir_value_expr(Parser.scala:716)\n\tat is.hail.expr.ir.IRParser$$anonfun$parse_value_ir$1.apply(Parser.scala:1728)\n\tat is.hail.expr.ir.IRParser$$anonfun$parse_value_ir$1.apply(Parser.scala:1728)\n\tat is.hail.expr.ir.IRParser$.parse(Parser.scala:1725)\n\tat is.hail.expr.ir.IRParser$.parse_value_ir(Parser.scala:1728)\n\tat is.hail.backend.spark.SparkBackend$$anonfun$parse_value_ir$1.apply(SparkBackend.scala:506)\n\tat is.hail.backend.spark.SparkBackend$$anonfun$parse_value_ir$1.apply(SparkBackend.scala:505)\n\tat is.hail.expr.ir.ExecuteContext$$anonfun$scoped$1.apply(ExecuteContext.scala:20)\n\tat is.hail.expr.ir.ExecuteContext$$anonfun$scoped$1.apply(ExecuteContext.scala:18)\n\tat is.hail.utils.package$.using(package.scala:601)\n\tat is.hail.annotations.Region$.scoped(Region.scala:18)\n\tat is.hail.expr.ir.ExecuteContext$.scoped(ExecuteContext.scala:18)\n\tat is.hail.backend.spark.SparkBackend.withExecuteContext(SparkBackend.scala:229)\n\tat is.hail.backend.spark.SparkBackend.parse_value_ir(SparkBackend.scala:505)\n\tat sun.reflect.GeneratedMethodAccessor143.invoke(Unknown Source)\n\tat sun.reflect.DelegatingMethodAccessorImpl.invoke(DelegatingMethodAccessorImpl.java:43)\n\tat java.lang.reflect.Method.invoke(Method.java:498)\n\tat py4j.reflection.MethodInvoker.invoke(MethodInvoker.java:244)\n\tat py4j.reflection.ReflectionEngine.invoke(ReflectionEngine.java:357)\n\tat py4j.Gateway.invoke(Gateway.java:282)\n\tat py4j.commands.AbstractCommand.invokeMethod(AbstractCommand.java:132)\n\tat py4j.commands.CallCommand.execute(CallCommand.java:79)\n\tat py4j.GatewayConnection.run(GatewayConnection.java:238)\n\tat java.lang.Thread.run(Thread.java:748)\n\n\n\nHail version: 0.2.46-bf7b7f7082e1\nError summary: HailException: Expected identifier but found integer '2'.\n<input>:1:(TableCount (MatrixColsTable (CastTableToMatrix __uid_34 __uid_33 (`2`) (TableMapGlobals (TableKeyByAndAggregate None 50 (TableMapGlobals (TableKeyBy () False (JavaTable m1)) (InsertFields (SelectFields () (Ref global)) None (__uid_33 (Let __uid_31 (Apply dictToArray () Array[Tuple[Struct{2:Int64},Struct{}]] (LiftMeOut (TableAggregate (TableKeyBy () False (JavaTable m1)) (AggLet __cse_1 False (SelectFields (`1` `2` `3` `4` `5`) (Ref row)) (AggGroupBy False (SelectFields (`2`) (Ref __cse_1)) (Apply indexArray () Struct{} (ApplyAggOp Take ((I32 1)) ((SelectFields () (Ref __cse_1)))) (I32 0) (Str \"  File \\\"<ipython-input-35-f54da47f85f9>\\\", line 1, in <module>\\n    mtA = tableA.to_matrix_table(row_key=['1'], col_key=['2'])\\n\\n  File \\\"<decorator-gen-1131>\\\", line 2, in to_matrix_table\\n\\n  File \\\"/Users/annamira/Documents/GitHub/hail/hail/python/hail/table.py\\\", line 2961, in to_matrix_table\\n    hl.agg.group_by(ht.row.select(*col_key), hl.agg.take(ht.row.select(*col_fields), 1)[0]),\\n\\n  File \\\"/Users/annamira/Documents/GitHub/hail/hail/python/hail/expr/expressions/typed_expressions.py\\\", line 745, in __getitem__\\n    return super().__getitem__(item)\\n\"))))))) (MakeStruct (data (Ref __uid_31)) (key_to_index (Apply dict () Dict[Struct{2:Int64},Int32] (ToArray (StreamMap __uid_32 (ToStream (ToArray (StreamRange (I32 0) (ArrayLen (CastToArray (Ref __uid_31))) (I32 1)))) (MakeTuple (0 1) (GetTupleElement 0 (Apply indexArray () Tuple[Struct{2:Int64},Struct{}] (Ref __uid_31) (Ref __uid_32) (Str \"  File \\\"<ipython-input-35-f54da47f85f9>\\\", line 1, in <module>\\n    mtA = tableA.to_matrix_table(row_key=['1'], col_key=['2'])\\n\\n  File \\\"<decorator-gen-1131>\\\", line 2, in to_matrix_table\\n\\n  File \\\"/Users/annamira/Documents/GitHub/hail/hail/python/hail/table.py\\\", line 2963, in to_matrix_table\\n    lambda data: hl.struct(data=data,\\n\\n  File \\\"/Users/annamira/Documents/GitHub/hail/hail/python/hail/expr/functions.py\\\", line 518, in rbind\\n    return hl.bind(f, *args, _ctx=_ctx)\\n\\n  File \\\"<decorator-gen-747>\\\", line 2, in bind\\n\\n  File \\\"/Users/annamira/Documents/GitHub/hail/hail/python/hail/expr/functions.py\\\", line 467, in bind\\n    lambda_result = to_expr(f(*args))\\n\\n  File \\\"/Users/annamira/Documents/GitHub/hail/hail/python/hail/table.py\\\", line 2964, in <lambda>\\n    key_to_index=hl.dict(hl.range(0, hl.len(data)).map(lambda i: (data[i][0], i))))\\n\\n  File \\\"<decorator-gen-607>\\\", line 2, in map\\n\\n  File \\\"/Users/annamira/Documents/GitHub/hail/hail/python/hail/table.py\\\", line 2964, in <lambda>\\n    key_to_index=hl.dict(hl.range(0, hl.len(data)).map(lambda i: (data[i][0], i))))\\n\"))) (Ref __uid_32))))))))))) (AggLet __cse_2 False (SelectFields (`1` `2` `3` `4` `5`) (Ref row)) (MakeStruct (__uid_34 (Let __uid_35 (Apply dict () Dict[Int32,Struct{3:Int64,4:Int64,5:Int64}] (ApplyAggOp Collect () ((MakeTuple (0 1) (Apply index () Int32 (GetField key_to_index (GetField __uid_33 (Ref global))) (SelectFields (`2`) (Ref __cse_2))) (SelectFields (`3` `4` `5`) (Ref __cse_2)))))) (ToArray (StreamMap __uid_36 (ToStream (ToArray (StreamRange (I32 0) (ArrayLen (CastToArray (Apply dictToArray () Array[Tuple[Struct{2:Int64},Int32]] (GetField key_to_index (GetField __uid_33 (Ref global)))))) (I32 1)))) (Apply get () Struct{3:Int64,4:Int64,5:Int64} (Ref __uid_35) (Ref __uid_36)))))))) (SelectFields (`1`) (InsertFields (SelectFields (`1` `2` `3` `4` `5`) (Ref row)) None))) (InsertFields (SelectFields (__uid_33) (Ref global)) None (__uid_33 (ToArray (StreamMap __uid_37 (ToStream (GetField data (GetField __uid_33 (Ref global)))) (MakeStruct (`2` (GetField `2` (GetTupleElement 0 (Ref __uid_37)))))))))))))\n                                                                                                                                                                                                                                                                                                            ^"
     ]
    }
   ],
   "source": [
    "mtA.describe()\n",
    "new_htA = matrix_table_to_table_of_ndarrays(mtA.1, 2, PATH???)"
   ]
  },
  {
   "cell_type": "code",
   "execution_count": 20,
   "metadata": {
    "scrolled": true
   },
   "outputs": [
    {
     "ename": "AttributeError",
     "evalue": "'NDArrayNumericExpression' object has no attribute 'group_by'",
     "output_type": "error",
     "traceback": [
      "\u001b[0;31m---------------------------------------------------------------------------\u001b[0m",
      "\u001b[0;31mAttributeError\u001b[0m                            Traceback (most recent call last)",
      "\u001b[0;32m<ipython-input-20-1850c7645f65>\u001b[0m in \u001b[0;36m<module>\u001b[0;34m\u001b[0m\n\u001b[0;32m----> 1\u001b[0;31m \u001b[0mmatrix_4_5\u001b[0m\u001b[0;34m.\u001b[0m\u001b[0mgroup_by\u001b[0m\u001b[0;34m(\u001b[0m\u001b[0mrow_group_number\u001b[0m\u001b[0;34m=\u001b[0m\u001b[0mmatrix_4_5\u001b[0m\u001b[0;34m.\u001b[0m\u001b[0midx\u001b[0m \u001b[0;34m//\u001b[0m \u001b[0;36m2\u001b[0m\u001b[0;34m)\u001b[0m\u001b[0;34m\u001b[0m\u001b[0;34m\u001b[0m\u001b[0m\n\u001b[0m",
      "\u001b[0;31mAttributeError\u001b[0m: 'NDArrayNumericExpression' object has no attribute 'group_by'"
     ]
    }
   ],
   "source": [
    "tableA.group_by(row_group_number=tableA.idx // 2)"
   ]
  }
 ],
 "metadata": {
  "kernelspec": {
   "display_name": "Python 3",
   "language": "python",
   "name": "python3"
  },
  "language_info": {
   "codemirror_mode": {
    "name": "ipython",
    "version": 3
   },
   "file_extension": ".py",
   "mimetype": "text/x-python",
   "name": "python",
   "nbconvert_exporter": "python",
   "pygments_lexer": "ipython3",
   "version": "3.7.7"
  }
 },
 "nbformat": 4,
 "nbformat_minor": 4
}
