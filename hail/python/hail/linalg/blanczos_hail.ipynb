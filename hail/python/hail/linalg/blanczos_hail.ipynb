{
 "cells": [
  {
   "cell_type": "code",
   "execution_count": 1,
   "metadata": {},
   "outputs": [
    {
     "name": "stdout",
     "output_type": "stream",
     "text": [
      "Collecting matplotlib\n",
      "  Downloading matplotlib-3.3.0-1-cp36-cp36m-manylinux1_x86_64.whl (11.5 MB)\n",
      "\u001b[K     |████████████████████████████████| 11.5 MB 3.5 MB/s eta 0:00:01\n",
      "\u001b[?25hRequirement already satisfied: python-dateutil>=2.1 in /opt/conda/miniconda3/lib/python3.6/site-packages (from matplotlib) (2.8.1)\n",
      "Requirement already satisfied: numpy>=1.15 in /opt/conda/miniconda3/lib/python3.6/site-packages (from matplotlib) (1.18.5)\n",
      "Collecting kiwisolver>=1.0.1\n",
      "  Downloading kiwisolver-1.2.0-cp36-cp36m-manylinux1_x86_64.whl (88 kB)\n",
      "\u001b[K     |████████████████████████████████| 88 kB 7.0 MB/s  eta 0:00:01\n",
      "\u001b[?25hRequirement already satisfied: pyparsing!=2.0.4,!=2.1.2,!=2.1.6,>=2.0.3 in /opt/conda/miniconda3/lib/python3.6/site-packages (from matplotlib) (2.4.7)\n",
      "Collecting cycler>=0.10\n",
      "  Downloading cycler-0.10.0-py2.py3-none-any.whl (6.5 kB)\n",
      "Requirement already satisfied: pillow>=6.2.0 in /opt/conda/miniconda3/lib/python3.6/site-packages (from matplotlib) (7.2.0)\n",
      "Requirement already satisfied: six>=1.5 in /opt/conda/miniconda3/lib/python3.6/site-packages (from python-dateutil>=2.1->matplotlib) (1.15.0)\n",
      "Installing collected packages: kiwisolver, cycler, matplotlib\n",
      "Successfully installed cycler-0.10.0 kiwisolver-1.2.0 matplotlib-3.3.0\n"
     ]
    }
   ],
   "source": [
    "!/opt/conda/default/bin/pip install matplotlib"
   ]
  },
  {
   "cell_type": "code",
   "execution_count": 2,
   "metadata": {},
   "outputs": [],
   "source": [
    "import numpy as np\n",
    "import hail as hl\n",
    "from hail import methods\n",
    "from hail.expr import matrix_table_source\n",
    "import scipy as sp\n",
    "import pandas as pd\n",
    "from math import sqrt, pi, ceil\n",
    "from random import randint, choice\n",
    "import matplotlib.pyplot as plt\n",
    "import pandas as pd\n",
    "import time"
   ]
  },
  {
   "cell_type": "markdown",
   "metadata": {},
   "source": [
    "## Grouping and NDArray methods from Tim and Dan"
   ]
  },
  {
   "cell_type": "code",
   "execution_count": 3,
   "metadata": {},
   "outputs": [],
   "source": [
    "# Functions for operating with Tables of ndarrays in Hail (from Tim)\n",
    "\n",
    "from hail.expr import Expression, ExpressionException, \\\n",
    "    expr_float64, expr_call, expr_any, expr_numeric, expr_array, \\\n",
    "    expr_locus, \\\n",
    "    analyze, check_entry_indexed, check_row_indexed, \\\n",
    "    matrix_table_source, table_source\n",
    "\n",
    "# Only groups by rows, NOT COLUMNS\n",
    "def matrix_table_to_table_of_ndarrays(field, group_size, tmp_path = '/tmp/nd_table.ht'):\n",
    "    \"\"\"\n",
    "\n",
    "    The returned table has two fields: 'row_group_number' and 'ndarray'.\n",
    "\n",
    "    Examples\n",
    "    --------\n",
    "    >>> ht = matrix_table_to_table_of_ndarrays(mt.GT.n_alt_alleles(), 100)\n",
    "\n",
    "    Parameters\n",
    "    ----------\n",
    "    field\n",
    "    group_size\n",
    "    tmp_path\n",
    "\n",
    "    Returns\n",
    "    -------\n",
    "\n",
    "    \"\"\"\n",
    "    mt = matrix_table_source('matrix_table_to_table_of_ndarrays/x', field)\n",
    "    mt = mt.select_entries(x = field)\n",
    "    ht = mt.localize_entries(entries_array_field_name='entries')\n",
    "    # now ht.entries is an array of structs with one field, x\n",
    "\n",
    "    # we'll also want to mean-impute/variance-normalize/etc here\n",
    "    ht = ht.select(xs = ht.entries.map(lambda e: e['x']))\n",
    "    # now ht.xs is an array of float64\n",
    "\n",
    "    # now need to produce groups of G\n",
    "    ht = ht.add_index()\n",
    "    ht = ht.group_by(row_group_number= hl.int32(ht.idx // group_size)) \\\n",
    "        .aggregate(ndarray=hl.nd.array(hl.agg.collect(ht.xs)))\n",
    "    # may require a .T on ndarray\n",
    "\n",
    "    return ht.checkpoint(tmp_path, overwrite=True)\n",
    "\n",
    "def chunk_ndarray(a, group_size):\n",
    "    \"\"\"Chunks a NDarray along the first axis in chunks of `group_size`.\n",
    "    Parameters\n",
    "    ----------\n",
    "    a\n",
    "    group_size\n",
    "    -------\n",
    "\n",
    "    \"\"\"\n",
    "    n_groups = ceil(a.shape[0] / group_size)\n",
    "    groups = []\n",
    "    for i in range(n_groups):\n",
    "        start = i * group_size\n",
    "        if i == n_groups - 1:\n",
    "            end = a.shape[0]\n",
    "        else:\n",
    "            end = (i + 1) * group_size\n",
    "        groups.append(a[start:end, :])\n",
    "    return groups\n",
    "\n",
    "\n",
    "# Concatenate the ndarrays with a blocked Table\n",
    "def concatBlocked(A):\n",
    "    blocks = A.ndarray.collect()\n",
    "    big_mat = np.concatenate(blocks, axis=0)\n",
    "    ht = ndarray_to_table([big_mat])\n",
    "    return ht\n",
    "\n",
    "def concatToNumpy(A):\n",
    "    blocks = A.ndarray.collect()\n",
    "    big_mat = np.concatenate(blocks, axis=0)\n",
    "    return big_mat\n",
    "\n",
    "def ndarray_to_table(chunked_arr):\n",
    "    structs = [hl.struct(row_group_number = idx, ndarray = block)\n",
    "               for idx, block in enumerate(chunked_arr)]\n",
    "    ht = hl.Table.parallelize(structs)\n",
    "    ht = ht.key_by('row_group_number')\n",
    "    return ht\n",
    "\n",
    "# function to multiply two blocks, given the two blocks\n",
    "# returns struct in form of array but not ndarray, includes the shape in the struct\n",
    "# to change the result product directly back into a ndarray we need to use from_column_major\n",
    "def block_product(left, right):\n",
    "    product = left @ right     \n",
    "    n_rows, n_cols = product.shape\n",
    "    return hl.struct(\n",
    "        shape=product.shape,\n",
    "        block=hl.range(hl.int(n_rows * n_cols)).map(\n",
    "            lambda absolute: product[absolute % n_rows, absolute // n_rows]))\n",
    "\n",
    "# takes in output of block_product\n",
    "def block_aggregate(prod):\n",
    "    shape = prod.shape\n",
    "    block = prod.block\n",
    "    return hl.nd.from_column_major(\n",
    "        hl.agg.array_sum(block),\n",
    "        hl.agg.take(shape, 1)[0])\n",
    "\n",
    "# returns flat array\n",
    "def to_column_major(ndarray):\n",
    "    n_rows, n_cols = ndarray.shape\n",
    "    return hl.range(hl.int(n_rows * n_cols)).map(\n",
    "        lambda absolute: ndarray[absolute % n_rows, absolute // n_rows])\n",
    "\n",
    "# hl.nd.from_column_major(thing.the_sum, thing.the_shape)"
   ]
  },
  {
   "cell_type": "markdown",
   "metadata": {},
   "source": [
    "## Blanczos Algorithm"
   ]
  },
  {
   "cell_type": "code",
   "execution_count": 4,
   "metadata": {
    "scrolled": false
   },
   "outputs": [],
   "source": [
    "# Algorithm step: multiplying H0 = A @ G\n",
    "\n",
    "# METHOD\n",
    "# Multiply a row-blocked matrix by a local non-blocked matrix\n",
    "# First step of algorithm\n",
    "\n",
    "# Usage:\n",
    "# assumes blocks in blocked matrix are named ndarray\n",
    "# A is a table, B is a Hail ndarray\n",
    "# returns a table\n",
    "\n",
    "# Example:\n",
    "# H0 = matmul_rowblocked_nonblocked(data, G)\n",
    "\n",
    "def matmul_rowblocked_nonblocked(A, B):\n",
    "    temp = A.annotate_globals(mat = B)\n",
    "    temp = temp.annotate(ndarray = temp.ndarray @ temp.mat)\n",
    "    temp = temp.select(temp.ndarray)\n",
    "    temp = temp.drop(temp.mat)\n",
    "    return temp\n",
    "\n",
    "\n",
    "# Algorithm step: intermediate operation of multiplying At @ (A @ G) = At @ H0\n",
    "\n",
    "# METHOD\n",
    "# Multiply a column-blocked matrix by a row-blocked matrix \n",
    "# as a blockmatrix multiplcation and then sum\n",
    "# Second step of algorithm\n",
    "\n",
    "# Usage:\n",
    "# pass in matrix A normally, blocked in rows - this specifically expects A to need to be transposed\n",
    "# assumes blocks in blocked matrix are named ndarray\n",
    "# A and B are both tables\n",
    "# returns a hail ndarray\n",
    "\n",
    "# Example:\n",
    "# G1 = matmul_colblocked_rowblocked(data, H0)\n",
    "\n",
    "# def matmul_colblocked_rowblocked(A, B):\n",
    "#     temp = A.transmute(ndarray = block_product(A.ndarray.transpose(), B[A.row_group_number].ndarray))\n",
    "#     result_arr_sum = temp.aggregate(block_aggregate(temp.ndarray))\n",
    "#     return result_arr_sum\n",
    "\n",
    "def matmul_colblocked_rowblocked(A, B):\n",
    "    temp = A.transmute(ndarray = A.ndarray.transpose() @ B[A.row_group_number].ndarray)\n",
    "    return temp.aggregate(hl.agg.ndarray_sum(temp.ndarray))\n",
    "\n",
    "# Algorithm step: perform QR decomposition of Hq and compute T = Q^T @ A\n",
    "# Perform QR decomposition of a row-blocked matrix\n",
    "# Third and fourth step of algorithm\n",
    "\n",
    "def computeNextH(A, H):\n",
    "    nextG = matmul_colblocked_rowblocked(A, H)\n",
    "    return matmul_rowblocked_nonblocked(A, nextG)"
   ]
  },
  {
   "cell_type": "code",
   "execution_count": 5,
   "metadata": {},
   "outputs": [],
   "source": [
    "def hailBlanczos(A, G, m, n, k, l, q, block_size):\n",
    "    \n",
    "    # assert l > k\n",
    "    # assert (q+1)*l <= (n - k)\n",
    "    # assert n <= m\n",
    "    \n",
    "    start = time.time()\n",
    "    \n",
    "    Hi = matmul_rowblocked_nonblocked(A, G)\n",
    "    npH = concatToNumpy(Hi)\n",
    "    for j in range(0, q):\n",
    "        Hj = computeNextH(A, Hi)\n",
    "        npH = np.concatenate((npH, concatToNumpy(Hj)), axis=1)\n",
    "        Hi = Hj\n",
    "    \n",
    "    # assert npH.shape == (m, (q+1)*l)\n",
    "    # perform QR decomposition on unblocked version of H\n",
    "    Q, R = np.linalg.qr(npH)\n",
    "    # assert Q.shape == (m, (q+1)*l)\n",
    "    # block Q's rows into the same number of blocks that A has\n",
    "    blocked_Q_table = ndarray_to_table(chunk_ndarray(Q, block_size))\n",
    "    \n",
    "    T = matmul_colblocked_rowblocked(blocked_Q_table, A)\n",
    "    # assert T.shape == ((q+1)*l, n)\n",
    "    \n",
    "    U, S, W = np.linalg.svd(T, full_matrices=False)\n",
    "    # assert U.shape == ((q+1)*l, n)\n",
    "    # assert S.shape == (n,)\n",
    "    # assert W.shape == (n, n)\n",
    "    \n",
    "    sing_val = S[k]\n",
    "    \n",
    "    V = matmul_rowblocked_nonblocked(blocked_Q_table, U)\n",
    "    arr_V = concatToNumpy(V)\n",
    "    \n",
    "    end = time.time()\n",
    "    \n",
    "    truncV = arr_V[:,:k]\n",
    "    truncS = S[:k]\n",
    "    truncW = W[:k,:]\n",
    "    \n",
    "    #bound, satC = blanczosErrorB(truncV, np.diag(truncS), truncW.transpose(), m, n, k, q, concatToNumpy(A), sing_val)\n",
    "    \n",
    "    return truncV, truncS, truncW, sing_val, Q, end - start #, bound, satC\n"
   ]
  },
  {
   "cell_type": "markdown",
   "metadata": {},
   "source": [
    "## NumPy implementation from other notebook"
   ]
  },
  {
   "cell_type": "code",
   "execution_count": 6,
   "metadata": {},
   "outputs": [],
   "source": [
    "# ALL TRANSPOSED FROM ABOVE IMPLEMENTATION\n",
    "\n",
    "def hwe_normalize(call_expr):\n",
    "    mt = call_expr._indices.source\n",
    "    mt = mt.select_entries(__gt=call_expr.n_alt_alleles())\n",
    "    mt = mt.annotate_rows(__AC=hl.agg.sum(mt.__gt),\n",
    "                          __n_called=hl.agg.count_where(hl.is_defined(mt.__gt)))\n",
    "    mt = mt.filter_rows((mt.__AC > 0) & (mt.__AC < 2 * mt.__n_called))\n",
    "\n",
    "    n_variants = mt.count_rows()\n",
    "    if n_variants == 0:\n",
    "        raise FatalError(\"hwe_normalized: found 0 variants after filtering out monomorphic sites.\")\n",
    "\n",
    "    mt = mt.annotate_rows(__mean_gt=mt.__AC / mt.__n_called)\n",
    "    mt = mt.annotate_rows(\n",
    "        __hwe_scaled_std_dev=hl.sqrt(mt.__mean_gt * (2 - mt.__mean_gt) * n_variants / 2))\n",
    "    mt = mt.unfilter_entries()\n",
    "\n",
    "    normalized_gt = hl.or_else((mt.__gt - mt.__mean_gt) / mt.__hwe_scaled_std_dev, 0.0)\n",
    "    return normalized_gt\n",
    "\n",
    "#Blanczos paper error bound 4.23\n",
    "def blanczosErrorA(U, S, V, m, n, k, q, A, k1th_sing_val):\n",
    "    norm_diff = np.linalg.norm(A - U @ S @ V.transpose())\n",
    "    bound = 100 * l * (((m-k)/l) ** (1/(4*q + 2))) * k1th_sing_val\n",
    "    print('value:', norm_diff, 'bound/upper limit:', bound)\n",
    "    return norm_diff <= bound\n",
    "\n",
    "def blanczosErrorB(U, S, V, m, n, k, q, A, k1th_sing_val):\n",
    "    C = 1\n",
    "    norm_diff = np.linalg.norm(A - U @ S @ V.transpose())\n",
    "    bound = C * (m ** (1/(4*q))) * k1th_sing_val\n",
    "    satisfyingC = norm_diff / bound\n",
    "    print('difference A - USV:', norm_diff, 'bound/upper limit:', bound)\n",
    "    print('C constant needed to satisfy bound:', satisfyingC)\n",
    "    return norm_diff <= bound, satisfyingC\n",
    "\n",
    "def normQQtA(A, Q):\n",
    "    return np.linalg.norm(A - Q @ Q.transpose() @ A)\n",
    "\n",
    "def numpyBlanczos(A, m, n, k, l, q, G):\n",
    "\n",
    "    assert l > k\n",
    "    # assert (q+1)*l <= (m - k)\n",
    "    assert m <= n\n",
    "\n",
    "    # G = np.random.normal(0, 1, (l, m))\n",
    "    R = G @ A\n",
    "    # AtA = A.transpose() @ A\n",
    "    listR = [R]\n",
    "    for i in range(0, q):\n",
    "        Ri = (listR[i] @ A.transpose()) @ A\n",
    "        listR.append(Ri)\n",
    "        R = np.concatenate((R, Ri), axis=0)\n",
    "\n",
    "    assert R.shape == ((q+1)*l, n)\n",
    "    (Q, S) = np.linalg.qr(R.transpose())\n",
    "    assert Q.shape == (n, (q+1)*l)\n",
    "    assert S.shape == ((q+1)*l, (q+1)*l)\n",
    "\n",
    "    T = A @ Q\n",
    "    assert T.shape == (m, (q+1)*l)\n",
    "    \n",
    "    (Tu, Ts, Tw) = np.linalg.svd(T, full_matrices=False)\n",
    "    assert Tu.shape, (m, (q+1)*l)\n",
    "    print(Ts.shape, (q+1)*l)\n",
    "    assert Ts.shape == ((q+1)*l,)\n",
    "    assert Tw.shape == ((q+1)*l, (q+1)*l)\n",
    "    \n",
    "    sing_val = Ts[k]\n",
    "    \n",
    "    V = Q @ Tw\n",
    "    \n",
    "    bound = blanczosErrorB(Tu, np.diag(Ts), V, m, n, k, q, A, sing_val)\n",
    "    \n",
    "    return Tu[:,:k], Ts[:k], V[:k,:], sing_val, Q\n"
   ]
  },
  {
   "cell_type": "markdown",
   "metadata": {},
   "source": [
    "## Run NumPy and Hail implementations on the same data"
   ]
  },
  {
   "cell_type": "code",
   "execution_count": 7,
   "metadata": {
    "scrolled": false
   },
   "outputs": [],
   "source": [
    "def makeSharedData(model_input, block_size):\n",
    "    \n",
    "    # we should have m > n for hail implementation\n",
    "    mt = hl.balding_nichols_model(*model_input)\n",
    "    \n",
    "    mt.write(\"balding_nichols_data.mt\", overwrite=True)\n",
    "    mt = hl.read_matrix_table(\"balding_nichols_data.mt\")\n",
    "    \n",
    "    mt = mt.transmute_entries(n_alt = hl.float64(mt.GT.n_alt_alleles())) \n",
    "    table = matrix_table_to_table_of_ndarrays(mt.n_alt, block_size, tmp_path='/tmp/test_table.ht')\n",
    "    \n",
    "    # for numpy implementation we want transposed version so m < n\n",
    "    np_matrix = np.asmatrix(concatToNumpy(table))\n",
    "\n",
    "    return table, np_matrix, mt # THIS WAS PREVIOUSLY JUST RETURNING table, np_matrix\n",
    "\n",
    "# m = 1117\n",
    "# n = 97\n",
    "# block_size = 4\n",
    "# hailA, numpyA = makeSharedData((3, n, m), block_size)\n",
    "\n",
    "# doesn't account for differences due to transposing\n",
    "# hailV not necessarily supposed to be the same as blanczosU"
   ]
  },
  {
   "cell_type": "code",
   "execution_count": 8,
   "metadata": {},
   "outputs": [],
   "source": [
    "# k = 10\n",
    "# l = k + 2\n",
    "# q = 3\n",
    "# G = np.random.normal(0, 1, (n,l))"
   ]
  },
  {
   "cell_type": "code",
   "execution_count": 9,
   "metadata": {},
   "outputs": [],
   "source": [
    "def timeNumpyLibrary(data):\n",
    "    start = time.time()\n",
    "    _, S, _ = np.linalg.svd(data, full_matrices=False)\n",
    "    end = time.time()\n",
    "    return end - start\n",
    "\n",
    "def convertSVDtoPCA(data, U, S, V):\n",
    "    # might need to center data first??\n",
    "    m = data.shape[0]\n",
    "    scores = sqrt(m - 1) * U\n",
    "    loadings = V @ S / sqrt(m - 1)\n",
    "    eigens = S @ S / sqrt(m - 1)\n",
    "    return eigens, scores, loadings"
   ]
  },
  {
   "cell_type": "code",
   "execution_count": 10,
   "metadata": {
    "scrolled": false
   },
   "outputs": [],
   "source": [
    "# hailV, hailS, hailW, hailSingVal, hailQ, _ = hailBlanczos(hailA, hl.nd.array(G), m, n, k, l, q, block_size)"
   ]
  },
  {
   "cell_type": "code",
   "execution_count": 11,
   "metadata": {},
   "outputs": [],
   "source": [
    "# _, npS, _ = np.linalg.svd(numpyA.transpose(), full_matrices=False)\n",
    "\n",
    "# hailS - npS[:k]"
   ]
  },
  {
   "cell_type": "code",
   "execution_count": 12,
   "metadata": {
    "scrolled": true
   },
   "outputs": [],
   "source": [
    "#numpyU, numpyS, numpyV, numpySingVal, numpyQ = numpyBlanczos(numpyA.transpose(), n, m, k, l, q, G.transpose())"
   ]
  },
  {
   "cell_type": "code",
   "execution_count": 13,
   "metadata": {
    "scrolled": true
   },
   "outputs": [],
   "source": [
    "# print('largest singular value from hail:', hailS[0])\n",
    "# print('smallest singular value from hail:', hailS[k-1])\n",
    "# print(hailS.shape)\n",
    "# print(numpyS.shape)\n",
    "# hailS - numpyS"
   ]
  },
  {
   "cell_type": "code",
   "execution_count": 14,
   "metadata": {},
   "outputs": [],
   "source": [
    "# normQQtA(numpyA.transpose(), hailQ)"
   ]
  },
  {
   "cell_type": "code",
   "execution_count": 15,
   "metadata": {},
   "outputs": [],
   "source": [
    "# print(numpyA.shape)\n",
    "# print(numpyQ.shape)\n",
    "# normQQtA(numpyA, numpyQ.transpose())"
   ]
  },
  {
   "cell_type": "code",
   "execution_count": 25,
   "metadata": {
    "scrolled": true
   },
   "outputs": [
    {
     "name": "stderr",
     "output_type": "stream",
     "text": [
      "2020-08-07 22:14:21 Hail: INFO: balding_nichols_model: generating genotypes for 3 populations, 100 samples, and 1000 variants...\n",
      "2020-08-07 22:14:21 Hail: INFO: Coerced sorted dataset\n",
      "2020-08-07 22:14:29 Hail: INFO: wrote matrix table with 1000 rows and 100 columns in 8 partitions to balding_nichols_data.mt\n",
      "2020-08-07 22:14:33 Hail: INFO: Ordering unsorted dataset with network shuffle\n",
      "2020-08-07 22:14:37 Hail: INFO: wrote table with 250 rows in 8 partitions to /tmp/test_table.ht\n",
      "2020-08-07 22:14:38 Hail: INFO: Ordering unsorted dataset with network shuffle\n",
      "2020-08-07 22:14:39 Hail: INFO: Ordering unsorted dataset with network shuffle\n",
      "2020-08-07 22:14:41 Hail: INFO: Ordering unsorted dataset with network shuffle\n",
      "2020-08-07 22:14:42 Hail: INFO: Ordering unsorted dataset with network shuffle\n",
      "2020-08-07 22:14:43 Hail: INFO: Ordering unsorted dataset with network shuffle\n",
      "2020-08-07 22:14:44 Hail: INFO: Ordering unsorted dataset with network shuffle\n",
      "2020-08-07 22:14:44 Hail: INFO: Ordering unsorted dataset with network shuffle\n",
      "2020-08-07 22:14:45 Hail: INFO: Ordering unsorted dataset with network shuffle\n",
      "2020-08-07 22:14:46 Hail: INFO: Coerced sorted dataset\n",
      "2020-08-07 22:14:47 Hail: INFO: Ordering unsorted dataset with network shuffle\n",
      "2020-08-07 22:14:48 Hail: INFO: Coerced sorted dataset\n"
     ]
    },
    {
     "ename": "ValueError",
     "evalue": "matmul: Input operand 1 has a mismatch in its core dimension 0, with gufunc signature (n?,k),(k,m?)->(n?,m?) (size 3 is different from 100)",
     "output_type": "error",
     "traceback": [
      "\u001b[0;31m---------------------------------------------------------------------------\u001b[0m",
      "\u001b[0;31mValueError\u001b[0m                                Traceback (most recent call last)",
      "\u001b[0;32m<ipython-input-25-8c47199dc586>\u001b[0m in \u001b[0;36m<module>\u001b[0;34m\u001b[0m\n\u001b[1;32m     23\u001b[0m     \u001b[0;32mreturn\u001b[0m\u001b[0;34m\u001b[0m\u001b[0;34m\u001b[0m\u001b[0m\n\u001b[1;32m     24\u001b[0m \u001b[0;34m\u001b[0m\u001b[0m\n\u001b[0;32m---> 25\u001b[0;31m \u001b[0mtest_blanczos_against_hail\u001b[0m\u001b[0;34m(\u001b[0m\u001b[0;34m)\u001b[0m\u001b[0;34m\u001b[0m\u001b[0;34m\u001b[0m\u001b[0m\n\u001b[0m",
      "\u001b[0;32m<ipython-input-25-8c47199dc586>\u001b[0m in \u001b[0;36mtest_blanczos_against_hail\u001b[0;34m()\u001b[0m\n\u001b[1;32m     16\u001b[0m \u001b[0;34m\u001b[0m\u001b[0m\n\u001b[1;32m     17\u001b[0m     \u001b[0mblanczos_u\u001b[0m\u001b[0;34m,\u001b[0m \u001b[0mblanczos_s\u001b[0m\u001b[0;34m,\u001b[0m \u001b[0mblanczos_v\u001b[0m \u001b[0;34m=\u001b[0m \u001b[0mhl\u001b[0m\u001b[0;34m.\u001b[0m\u001b[0m_blanczos_pca\u001b[0m\u001b[0;34m(\u001b[0m\u001b[0mhl\u001b[0m\u001b[0;34m.\u001b[0m\u001b[0mint\u001b[0m\u001b[0;34m(\u001b[0m\u001b[0mhl\u001b[0m\u001b[0;34m.\u001b[0m\u001b[0mis_defined\u001b[0m\u001b[0;34m(\u001b[0m\u001b[0mmt\u001b[0m\u001b[0;34m.\u001b[0m\u001b[0mn_alt\u001b[0m\u001b[0;34m)\u001b[0m\u001b[0;34m)\u001b[0m\u001b[0;34m,\u001b[0m \u001b[0mk\u001b[0m\u001b[0;34m=\u001b[0m\u001b[0;36m3\u001b[0m\u001b[0;34m)\u001b[0m\u001b[0;34m\u001b[0m\u001b[0;34m\u001b[0m\u001b[0m\n\u001b[0;32m---> 18\u001b[0;31m     \u001b[0mblanczos_eigens\u001b[0m\u001b[0;34m,\u001b[0m \u001b[0mblanczos_scores\u001b[0m\u001b[0;34m,\u001b[0m \u001b[0mblanczos_loadings\u001b[0m \u001b[0;34m=\u001b[0m \u001b[0mconvertSVDtoPCA\u001b[0m\u001b[0;34m(\u001b[0m\u001b[0mnp_matrix\u001b[0m\u001b[0;34m,\u001b[0m \u001b[0mblanczos_u\u001b[0m\u001b[0;34m,\u001b[0m \u001b[0mblanczos_s\u001b[0m\u001b[0;34m,\u001b[0m \u001b[0mblanczos_v\u001b[0m\u001b[0;34m)\u001b[0m\u001b[0;34m\u001b[0m\u001b[0;34m\u001b[0m\u001b[0m\n\u001b[0m\u001b[1;32m     19\u001b[0m     \u001b[0meigens\u001b[0m\u001b[0;34m,\u001b[0m \u001b[0mscores\u001b[0m\u001b[0;34m,\u001b[0m \u001b[0mloadings\u001b[0m \u001b[0;34m=\u001b[0m \u001b[0mhl\u001b[0m\u001b[0;34m.\u001b[0m\u001b[0mpca\u001b[0m\u001b[0;34m(\u001b[0m\u001b[0mhl\u001b[0m\u001b[0;34m.\u001b[0m\u001b[0mint\u001b[0m\u001b[0;34m(\u001b[0m\u001b[0mhl\u001b[0m\u001b[0;34m.\u001b[0m\u001b[0mis_defined\u001b[0m\u001b[0;34m(\u001b[0m\u001b[0mmt\u001b[0m\u001b[0;34m.\u001b[0m\u001b[0mn_alt\u001b[0m\u001b[0;34m)\u001b[0m\u001b[0;34m)\u001b[0m\u001b[0;34m,\u001b[0m \u001b[0mk\u001b[0m\u001b[0;34m=\u001b[0m\u001b[0;36m3\u001b[0m\u001b[0;34m)\u001b[0m\u001b[0;34m\u001b[0m\u001b[0;34m\u001b[0m\u001b[0m\n\u001b[1;32m     20\u001b[0m     \u001b[0;31m#diff = blanczos_vals - np_vals\u001b[0m\u001b[0;34m\u001b[0m\u001b[0;34m\u001b[0m\u001b[0;34m\u001b[0m\u001b[0m\n",
      "\u001b[0;32m<ipython-input-23-6bce7fecc911>\u001b[0m in \u001b[0;36mconvertSVDtoPCA\u001b[0;34m(data, U, S, V)\u001b[0m\n\u001b[1;32m      9\u001b[0m     \u001b[0mm\u001b[0m \u001b[0;34m=\u001b[0m \u001b[0mdata\u001b[0m\u001b[0;34m.\u001b[0m\u001b[0mshape\u001b[0m\u001b[0;34m[\u001b[0m\u001b[0;36m0\u001b[0m\u001b[0;34m]\u001b[0m\u001b[0;34m\u001b[0m\u001b[0;34m\u001b[0m\u001b[0m\n\u001b[1;32m     10\u001b[0m     \u001b[0mscores\u001b[0m \u001b[0;34m=\u001b[0m \u001b[0msqrt\u001b[0m\u001b[0;34m(\u001b[0m\u001b[0mm\u001b[0m \u001b[0;34m-\u001b[0m \u001b[0;36m1\u001b[0m\u001b[0;34m)\u001b[0m \u001b[0;34m*\u001b[0m \u001b[0mU\u001b[0m\u001b[0;34m\u001b[0m\u001b[0;34m\u001b[0m\u001b[0m\n\u001b[0;32m---> 11\u001b[0;31m     \u001b[0mloadings\u001b[0m \u001b[0;34m=\u001b[0m \u001b[0mV\u001b[0m \u001b[0;34m@\u001b[0m \u001b[0mS\u001b[0m \u001b[0;34m/\u001b[0m \u001b[0msqrt\u001b[0m\u001b[0;34m(\u001b[0m\u001b[0mm\u001b[0m \u001b[0;34m-\u001b[0m \u001b[0;36m1\u001b[0m\u001b[0;34m)\u001b[0m\u001b[0;34m\u001b[0m\u001b[0;34m\u001b[0m\u001b[0m\n\u001b[0m\u001b[1;32m     12\u001b[0m     \u001b[0meigens\u001b[0m \u001b[0;34m=\u001b[0m \u001b[0mS\u001b[0m \u001b[0;34m@\u001b[0m \u001b[0mS\u001b[0m \u001b[0;34m/\u001b[0m \u001b[0msqrt\u001b[0m\u001b[0;34m(\u001b[0m\u001b[0mm\u001b[0m \u001b[0;34m-\u001b[0m \u001b[0;36m1\u001b[0m\u001b[0;34m)\u001b[0m\u001b[0;34m\u001b[0m\u001b[0;34m\u001b[0m\u001b[0m\n\u001b[1;32m     13\u001b[0m     \u001b[0;32mreturn\u001b[0m \u001b[0meigens\u001b[0m\u001b[0;34m,\u001b[0m \u001b[0mscores\u001b[0m\u001b[0;34m,\u001b[0m \u001b[0mloadings\u001b[0m\u001b[0;34m\u001b[0m\u001b[0;34m\u001b[0m\u001b[0m\n",
      "\u001b[0;31mValueError\u001b[0m: matmul: Input operand 1 has a mismatch in its core dimension 0, with gufunc signature (n?,k),(k,m?)->(n?,m?) (size 3 is different from 100)"
     ]
    }
   ],
   "source": [
    "def test_blanczos_against_hail():\n",
    "        \n",
    "#     hl.utils.get_1kg('data/')\n",
    "#     hl.import_vcf('data/1kg.vcf.bgz').write('data/1kg.mt', overwrite=True)\n",
    "#     mt = hl.read_matrix_table('data/1kg.mt')\n",
    "    \n",
    "#     mt = hl.balding_nichols_model(3, 100, 1000)\n",
    "#     mt = mt.transmute_entries(n_alt = hl.float64(mt.GT.n_alt_alleles()))\n",
    "\n",
    "#     ht = mt.localize_entries(\"ent\", \"sample\") \n",
    "#     ht = ht.transmute(n_alt = hl.nd.array(mt.n_alt))\n",
    "#     rows = ht.n_alt.collect()\n",
    "#     np_matrix = np.asmatrix(np.concatenate(rows, axis=0))\n",
    "\n",
    "    _, np_matrix, mt = makeSharedData((3, 100, 1000), 4)\n",
    "\n",
    "    blanczos_u, blanczos_s, blanczos_v = hl._blanczos_pca(hl.int(hl.is_defined(mt.n_alt)), k=3)\n",
    "    blanczos_eigens, blanczos_scores, blanczos_loadings = convertSVDtoPCA(np_matrix, blanczos_u, blanczos_s, blanczos_v)\n",
    "    eigens, scores, loadings = hl.pca(hl.int(hl.is_defined(mt.n_alt)), k=3)\n",
    "    #diff = blanczos_vals - np_vals\n",
    "    print(blanczos_vals)\n",
    "    #print(hail_vals)\n",
    "    return \n",
    "\n",
    "test_blanczos_against_hail()"
   ]
  },
  {
   "cell_type": "code",
   "execution_count": 17,
   "metadata": {},
   "outputs": [
    {
     "name": "stderr",
     "output_type": "stream",
     "text": [
      "2020-08-09 19:34:28 Hail: INFO: 1KG files found\n",
      "2020-08-09 19:34:29 Hail: INFO: Coerced sorted dataset\n",
      "2020-08-09 19:34:42 Hail: INFO: wrote matrix table with 10879 rows and 284 columns in 1 partition to data/1kg.mt\n"
     ]
    },
    {
     "name": "stdout",
     "output_type": "stream",
     "text": [
      "----------------------------------------\n",
      "Global fields:\n",
      "    None\n",
      "----------------------------------------\n",
      "Column fields:\n",
      "    's': str\n",
      "----------------------------------------\n",
      "Row fields:\n",
      "    'locus': locus<GRCh37>\n",
      "    'alleles': array<str>\n",
      "    'rsid': str\n",
      "    'qual': float64\n",
      "    'filters': set<str>\n",
      "    'info': struct {\n",
      "        AC: array<int32>, \n",
      "        AF: array<float64>, \n",
      "        AN: int32, \n",
      "        BaseQRankSum: float64, \n",
      "        ClippingRankSum: float64, \n",
      "        DP: int32, \n",
      "        DS: bool, \n",
      "        FS: float64, \n",
      "        HaplotypeScore: float64, \n",
      "        InbreedingCoeff: float64, \n",
      "        MLEAC: array<int32>, \n",
      "        MLEAF: array<float64>, \n",
      "        MQ: float64, \n",
      "        MQ0: int32, \n",
      "        MQRankSum: float64, \n",
      "        QD: float64, \n",
      "        ReadPosRankSum: float64, \n",
      "        set: str\n",
      "    }\n",
      "    '__AC': int64\n",
      "    '__n_called': int64\n",
      "    '__mean_gt': float32\n",
      "    '__hwe_scaled_std_dev': float64\n",
      "----------------------------------------\n",
      "Entry fields:\n",
      "    '__gt': int32\n",
      "----------------------------------------\n",
      "Column key: ['s']\n",
      "Row key: ['locus', 'alleles']\n",
      "----------------------------------------\n"
     ]
    }
   ],
   "source": [
    "hl.utils.get_1kg('data/')\n",
    "hl.import_vcf('data/1kg.vcf.bgz').write('data/1kg.mt', overwrite=True)\n",
    "mt = hl.read_matrix_table('data/1kg.mt')\n",
    "\n",
    "def cleanMissingData(mt):\n",
    "\n",
    "    call_expr = mt.GT\n",
    "    mt = call_expr._indices.source\n",
    "    mt = mt.select_entries(__gt=call_expr.n_alt_alleles())\n",
    "    mt = mt.annotate_rows(__AC=hl.agg.sum(mt.__gt),\n",
    "                          __n_called=hl.agg.count_where(hl.is_defined(mt.__gt)))\n",
    "    mt = mt.filter_rows((mt.__AC > 0) & (mt.__AC < 2 * mt.__n_called))\n",
    "\n",
    "    n_variants = mt.count_rows()\n",
    "    if n_variants == 0:\n",
    "        raise FatalError(\"hwe_normalized: found 0 variants after filtering out monomorphic sites.\")\n",
    "\n",
    "    mt = mt.annotate_rows(__mean_gt=mt.__AC / mt.__n_called)\n",
    "    mt = mt.annotate_rows(__hwe_scaled_std_dev=hl.sqrt(mt.__mean_gt * (2 - mt.__mean_gt) * n_variants / 2))\n",
    "    mt = mt.unfilter_entries()\n",
    "\n",
    "    mt = matrix_table_source('hwe_normalized_pca/call_expr', hl.or_else((mt.__gt - mt.__mean_gt) / mt.__hwe_scaled_std_dev, 0.0))\n",
    "    # normalized_gt = hl.or_else((mt.__gt - mt.__mean_gt) / mt.__hwe_scaled_std_dev, 0.0)\n",
    "\n",
    "    # mt = hl.linalg.BlockMatrix.from_entry_expr(normalized_gt)\n",
    "\n",
    "    return mt\n",
    "\n",
    "cleanMissingData(mt).describe()"
   ]
  },
  {
   "cell_type": "code",
   "execution_count": null,
   "metadata": {
    "scrolled": true
   },
   "outputs": [
    {
     "name": "stdout",
     "output_type": "stream",
     "text": [
      "loop attempt  0  with m: 100 , n: 10 , m*n = 1000 , and q: 1\n"
     ]
    },
    {
     "name": "stderr",
     "output_type": "stream",
     "text": [
      "2020-08-05 17:49:37 Hail: INFO: balding_nichols_model: generating genotypes for 3 populations, 10 samples, and 100 variants...\n",
      "2020-08-05 17:49:38 Hail: INFO: Coerced sorted dataset\n",
      "2020-08-05 17:49:47 Hail: INFO: wrote matrix table with 100 rows and 10 columns in 8 partitions to balding_nichols_data.mt\n",
      "2020-08-05 17:49:48 Hail: INFO: Ordering unsorted dataset with network shuffle\n",
      "2020-08-05 17:49:52 Hail: INFO: wrote table with 50 rows in 8 partitions to /tmp/test_table.ht\n",
      "2020-08-05 17:49:53 Hail: INFO: Coerced sorted dataset\n"
     ]
    },
    {
     "name": "stdout",
     "output_type": "stream",
     "text": [
      "index 10 is out of bounds for axis 0 with size 10\n",
      "failed during blanczos algorithm with  (100, 10)\n",
      "loop attempt  1  with m: 100 , n: 10 , m*n = 1000 , and q: 1\n"
     ]
    },
    {
     "name": "stderr",
     "output_type": "stream",
     "text": [
      "2020-08-05 17:49:53 Hail: INFO: balding_nichols_model: generating genotypes for 3 populations, 10 samples, and 100 variants...\n",
      "2020-08-05 17:49:53 Hail: INFO: Coerced sorted dataset\n",
      "2020-08-05 17:49:59 Hail: INFO: wrote matrix table with 100 rows and 10 columns in 8 partitions to balding_nichols_data.mt\n",
      "2020-08-05 17:50:03 Hail: INFO: Ordering unsorted dataset with network shuffle\n",
      "2020-08-05 17:50:06 Hail: INFO: wrote table with 25 rows in 8 partitions to /tmp/test_table.ht\n",
      "2020-08-05 17:50:07 Hail: INFO: Coerced sorted dataset\n"
     ]
    },
    {
     "name": "stdout",
     "output_type": "stream",
     "text": [
      "index 10 is out of bounds for axis 0 with size 10\n",
      "failed during blanczos algorithm with  (100, 10)\n",
      "loop attempt  2  with m: 100 , n: 10 , m*n = 1000 , and q: 1\n"
     ]
    },
    {
     "name": "stderr",
     "output_type": "stream",
     "text": [
      "2020-08-05 17:50:07 Hail: INFO: balding_nichols_model: generating genotypes for 3 populations, 10 samples, and 100 variants...\n",
      "2020-08-05 17:50:07 Hail: INFO: Coerced sorted dataset\n",
      "2020-08-05 17:50:14 Hail: INFO: wrote matrix table with 100 rows and 10 columns in 8 partitions to balding_nichols_data.mt\n",
      "2020-08-05 17:50:15 Hail: INFO: Ordering unsorted dataset with network shuffle\n",
      "2020-08-05 17:50:18 Hail: INFO: wrote table with 13 rows in 8 partitions to /tmp/test_table.ht\n",
      "2020-08-05 17:50:19 Hail: INFO: Coerced sorted dataset\n"
     ]
    },
    {
     "name": "stdout",
     "output_type": "stream",
     "text": [
      "index 10 is out of bounds for axis 0 with size 10\n",
      "failed during blanczos algorithm with  (100, 10)\n",
      "loop attempt  3  with m: 100 , n: 10 , m*n = 1000 , and q: 1\n"
     ]
    },
    {
     "name": "stderr",
     "output_type": "stream",
     "text": [
      "2020-08-05 17:50:19 Hail: INFO: balding_nichols_model: generating genotypes for 3 populations, 10 samples, and 100 variants...\n",
      "2020-08-05 17:50:19 Hail: INFO: Coerced sorted dataset\n",
      "2020-08-05 17:50:25 Hail: INFO: wrote matrix table with 100 rows and 10 columns in 8 partitions to balding_nichols_data.mt\n",
      "2020-08-05 17:50:26 Hail: INFO: Coerced sorted dataset\n",
      "2020-08-05 17:50:26 Hail: INFO: Coerced dataset with out-of-order partitions.\n",
      "2020-08-05 17:50:30 Hail: INFO: wrote table with 7 rows in 5 partitions to /tmp/test_table.ht\n",
      "2020-08-05 17:50:31 Hail: INFO: Coerced sorted dataset\n"
     ]
    },
    {
     "name": "stdout",
     "output_type": "stream",
     "text": [
      "index 10 is out of bounds for axis 0 with size 10\n",
      "failed during blanczos algorithm with  (100, 10)\n",
      "loop attempt  4  with m: 100 , n: 10 , m*n = 1000 , and q: 1\n"
     ]
    },
    {
     "name": "stderr",
     "output_type": "stream",
     "text": [
      "2020-08-05 17:50:31 Hail: INFO: balding_nichols_model: generating genotypes for 3 populations, 10 samples, and 100 variants...\n",
      "2020-08-05 17:50:31 Hail: INFO: Coerced sorted dataset\n",
      "2020-08-05 17:50:37 Hail: INFO: wrote matrix table with 100 rows and 10 columns in 8 partitions to balding_nichols_data.mt\n",
      "2020-08-05 17:50:37 Hail: INFO: Coerced sorted dataset\n",
      "2020-08-05 17:50:37 Hail: INFO: Coerced dataset with out-of-order partitions.\n",
      "2020-08-05 17:50:41 Hail: INFO: wrote table with 4 rows in 3 partitions to /tmp/test_table.ht\n",
      "2020-08-05 17:50:41 Hail: INFO: Coerced sorted dataset\n"
     ]
    },
    {
     "name": "stdout",
     "output_type": "stream",
     "text": [
      "index 10 is out of bounds for axis 0 with size 10\n",
      "failed during blanczos algorithm with  (100, 10)\n",
      "loop attempt  5  with m: 100 , n: 50 , m*n = 5000 , and q: 1\n"
     ]
    },
    {
     "name": "stderr",
     "output_type": "stream",
     "text": [
      "2020-08-05 17:50:42 Hail: INFO: balding_nichols_model: generating genotypes for 3 populations, 50 samples, and 100 variants...\n",
      "2020-08-05 17:50:42 Hail: INFO: Coerced sorted dataset\n",
      "2020-08-05 17:50:47 Hail: INFO: wrote matrix table with 100 rows and 50 columns in 8 partitions to balding_nichols_data.mt\n",
      "2020-08-05 17:50:48 Hail: INFO: Ordering unsorted dataset with network shuffle\n",
      "2020-08-05 17:50:51 Hail: INFO: wrote table with 50 rows in 8 partitions to /tmp/test_table.ht\n",
      "2020-08-05 17:50:53 Hail: INFO: Coerced sorted dataset\n",
      "2020-08-05 17:50:53 Hail: INFO: Coerced sorted dataset\n",
      "2020-08-05 17:50:53 Hail: INFO: balding_nichols_model: generating genotypes for 3 populations, 50 samples, and 100 variants...\n"
     ]
    },
    {
     "name": "stdout",
     "output_type": "stream",
     "text": [
      "loop attempt  6  with m: 100 , n: 50 , m*n = 5000 , and q: 1\n"
     ]
    },
    {
     "name": "stderr",
     "output_type": "stream",
     "text": [
      "2020-08-05 17:50:53 Hail: INFO: Coerced sorted dataset\n",
      "2020-08-05 17:50:58 Hail: INFO: wrote matrix table with 100 rows and 50 columns in 8 partitions to balding_nichols_data.mt\n",
      "2020-08-05 17:50:59 Hail: INFO: Ordering unsorted dataset with network shuffle\n",
      "2020-08-05 17:51:02 Hail: INFO: wrote table with 25 rows in 8 partitions to /tmp/test_table.ht\n",
      "2020-08-05 17:51:03 Hail: INFO: Coerced sorted dataset\n",
      "2020-08-05 17:51:03 Hail: INFO: Coerced sorted dataset\n",
      "2020-08-05 17:51:03 Hail: INFO: balding_nichols_model: generating genotypes for 3 populations, 50 samples, and 100 variants...\n"
     ]
    },
    {
     "name": "stdout",
     "output_type": "stream",
     "text": [
      "loop attempt  7  with m: 100 , n: 50 , m*n = 5000 , and q: 1\n"
     ]
    },
    {
     "name": "stderr",
     "output_type": "stream",
     "text": [
      "2020-08-05 17:51:03 Hail: INFO: Coerced sorted dataset\n",
      "2020-08-05 17:51:09 Hail: INFO: wrote matrix table with 100 rows and 50 columns in 8 partitions to balding_nichols_data.mt\n",
      "2020-08-05 17:51:09 Hail: INFO: Ordering unsorted dataset with network shuffle\n",
      "2020-08-05 17:51:11 Hail: INFO: wrote table with 13 rows in 8 partitions to /tmp/test_table.ht\n",
      "2020-08-05 17:51:12 Hail: INFO: Coerced sorted dataset\n",
      "2020-08-05 17:51:13 Hail: INFO: Coerced sorted dataset\n",
      "2020-08-05 17:51:13 Hail: INFO: balding_nichols_model: generating genotypes for 3 populations, 50 samples, and 100 variants...\n"
     ]
    },
    {
     "name": "stdout",
     "output_type": "stream",
     "text": [
      "loop attempt  8  with m: 100 , n: 50 , m*n = 5000 , and q: 1\n"
     ]
    },
    {
     "name": "stderr",
     "output_type": "stream",
     "text": [
      "2020-08-05 17:51:13 Hail: INFO: Coerced sorted dataset\n",
      "2020-08-05 17:51:19 Hail: INFO: wrote matrix table with 100 rows and 50 columns in 8 partitions to balding_nichols_data.mt\n",
      "2020-08-05 17:51:20 Hail: INFO: Coerced sorted dataset\n",
      "2020-08-05 17:51:20 Hail: INFO: Coerced dataset with out-of-order partitions.\n",
      "2020-08-05 17:51:24 Hail: INFO: wrote table with 7 rows in 5 partitions to /tmp/test_table.ht\n",
      "2020-08-05 17:51:25 Hail: INFO: Coerced sorted dataset\n",
      "2020-08-05 17:51:25 Hail: INFO: Coerced sorted dataset\n",
      "2020-08-05 17:51:25 Hail: INFO: balding_nichols_model: generating genotypes for 3 populations, 50 samples, and 100 variants...\n"
     ]
    },
    {
     "name": "stdout",
     "output_type": "stream",
     "text": [
      "loop attempt  9  with m: 100 , n: 50 , m*n = 5000 , and q: 1\n"
     ]
    },
    {
     "name": "stderr",
     "output_type": "stream",
     "text": [
      "2020-08-05 17:51:25 Hail: INFO: Coerced sorted dataset\n",
      "2020-08-05 17:51:33 Hail: INFO: wrote matrix table with 100 rows and 50 columns in 8 partitions to balding_nichols_data.mt\n",
      "2020-08-05 17:51:33 Hail: INFO: Coerced sorted dataset\n",
      "2020-08-05 17:51:33 Hail: INFO: Coerced dataset with out-of-order partitions.\n",
      "2020-08-05 17:51:36 Hail: INFO: wrote table with 4 rows in 3 partitions to /tmp/test_table.ht\n",
      "2020-08-05 17:51:37 Hail: INFO: Coerced sorted dataset\n",
      "2020-08-05 17:51:37 Hail: INFO: Coerced sorted dataset\n",
      "2020-08-05 17:51:37 Hail: INFO: balding_nichols_model: generating genotypes for 3 populations, 100 samples, and 100 variants...\n"
     ]
    },
    {
     "name": "stdout",
     "output_type": "stream",
     "text": [
      "loop attempt  10  with m: 100 , n: 100 , m*n = 10000 , and q: 1\n"
     ]
    },
    {
     "name": "stderr",
     "output_type": "stream",
     "text": [
      "2020-08-05 17:51:38 Hail: INFO: Coerced sorted dataset\n",
      "2020-08-05 17:51:45 Hail: INFO: wrote matrix table with 100 rows and 100 columns in 8 partitions to balding_nichols_data.mt\n",
      "2020-08-05 17:51:46 Hail: INFO: Ordering unsorted dataset with network shuffle\n",
      "2020-08-05 17:51:49 Hail: INFO: wrote table with 50 rows in 8 partitions to /tmp/test_table.ht\n",
      "2020-08-05 17:51:50 Hail: INFO: Coerced sorted dataset\n",
      "2020-08-05 17:51:50 Hail: INFO: Coerced sorted dataset\n",
      "2020-08-05 17:51:50 Hail: INFO: balding_nichols_model: generating genotypes for 3 populations, 100 samples, and 100 variants...\n"
     ]
    },
    {
     "name": "stdout",
     "output_type": "stream",
     "text": [
      "loop attempt  11  with m: 100 , n: 100 , m*n = 10000 , and q: 1\n"
     ]
    },
    {
     "name": "stderr",
     "output_type": "stream",
     "text": [
      "2020-08-05 17:51:51 Hail: INFO: Coerced sorted dataset\n",
      "2020-08-05 17:51:58 Hail: INFO: wrote matrix table with 100 rows and 100 columns in 8 partitions to balding_nichols_data.mt\n",
      "2020-08-05 17:51:58 Hail: INFO: Ordering unsorted dataset with network shuffle\n",
      "2020-08-05 17:52:02 Hail: INFO: wrote table with 25 rows in 8 partitions to /tmp/test_table.ht\n",
      "2020-08-05 17:52:03 Hail: INFO: Coerced sorted dataset\n",
      "2020-08-05 17:52:03 Hail: INFO: Coerced sorted dataset\n",
      "2020-08-05 17:52:03 Hail: INFO: balding_nichols_model: generating genotypes for 3 populations, 100 samples, and 100 variants...\n"
     ]
    },
    {
     "name": "stdout",
     "output_type": "stream",
     "text": [
      "loop attempt  12  with m: 100 , n: 100 , m*n = 10000 , and q: 1\n"
     ]
    },
    {
     "name": "stderr",
     "output_type": "stream",
     "text": [
      "2020-08-05 17:52:04 Hail: INFO: Coerced sorted dataset\n",
      "2020-08-05 17:52:11 Hail: INFO: wrote matrix table with 100 rows and 100 columns in 8 partitions to balding_nichols_data.mt\n",
      "2020-08-05 17:52:12 Hail: INFO: Ordering unsorted dataset with network shuffle\n",
      "2020-08-05 17:52:14 Hail: INFO: wrote table with 13 rows in 8 partitions to /tmp/test_table.ht\n",
      "2020-08-05 17:52:15 Hail: INFO: Coerced sorted dataset\n",
      "2020-08-05 17:52:16 Hail: INFO: Coerced sorted dataset\n",
      "2020-08-05 17:52:16 Hail: INFO: balding_nichols_model: generating genotypes for 3 populations, 100 samples, and 100 variants...\n"
     ]
    },
    {
     "name": "stdout",
     "output_type": "stream",
     "text": [
      "loop attempt  13  with m: 100 , n: 100 , m*n = 10000 , and q: 1\n"
     ]
    },
    {
     "name": "stderr",
     "output_type": "stream",
     "text": [
      "2020-08-05 17:52:16 Hail: INFO: Coerced sorted dataset\n",
      "2020-08-05 17:52:23 Hail: INFO: wrote matrix table with 100 rows and 100 columns in 8 partitions to balding_nichols_data.mt\n",
      "2020-08-05 17:52:24 Hail: INFO: Coerced sorted dataset\n",
      "2020-08-05 17:52:24 Hail: INFO: Coerced dataset with out-of-order partitions.\n",
      "2020-08-05 17:52:27 Hail: INFO: wrote table with 7 rows in 5 partitions to /tmp/test_table.ht\n",
      "2020-08-05 17:52:28 Hail: INFO: Coerced sorted dataset\n",
      "2020-08-05 17:52:28 Hail: INFO: Coerced sorted dataset\n",
      "2020-08-05 17:52:28 Hail: INFO: balding_nichols_model: generating genotypes for 3 populations, 100 samples, and 100 variants...\n"
     ]
    },
    {
     "name": "stdout",
     "output_type": "stream",
     "text": [
      "loop attempt  14  with m: 100 , n: 100 , m*n = 10000 , and q: 1\n"
     ]
    },
    {
     "name": "stderr",
     "output_type": "stream",
     "text": [
      "2020-08-05 17:52:28 Hail: INFO: Coerced sorted dataset\n",
      "2020-08-05 17:52:36 Hail: INFO: wrote matrix table with 100 rows and 100 columns in 8 partitions to balding_nichols_data.mt\n",
      "2020-08-05 17:52:36 Hail: INFO: Coerced sorted dataset\n",
      "2020-08-05 17:52:36 Hail: INFO: Coerced dataset with out-of-order partitions.\n",
      "2020-08-05 17:52:40 Hail: INFO: wrote table with 4 rows in 3 partitions to /tmp/test_table.ht\n",
      "2020-08-05 17:52:41 Hail: INFO: Coerced sorted dataset\n",
      "2020-08-05 17:52:41 Hail: INFO: Coerced sorted dataset\n",
      "2020-08-05 17:52:41 Hail: INFO: balding_nichols_model: generating genotypes for 3 populations, 10 samples, and 500 variants...\n"
     ]
    },
    {
     "name": "stdout",
     "output_type": "stream",
     "text": [
      "loop attempt  15  with m: 100 , n: 500 , m*n = 50000 , and q: 1\n",
      "\n",
      "loop attempt  16  with m: 100 , n: 500 , m*n = 50000 , and q: 1\n",
      "\n",
      "loop attempt  17  with m: 100 , n: 500 , m*n = 50000 , and q: 1\n",
      "\n",
      "loop attempt  18  with m: 100 , n: 500 , m*n = 50000 , and q: 1\n",
      "\n",
      "loop attempt  19  with m: 100 , n: 500 , m*n = 50000 , and q: 1\n",
      "\n",
      "loop attempt  20  with m: 500 , n: 10 , m*n = 5000 , and q: 1\n"
     ]
    },
    {
     "name": "stderr",
     "output_type": "stream",
     "text": [
      "2020-08-05 17:52:41 Hail: INFO: Coerced sorted dataset\n",
      "2020-08-05 17:52:49 Hail: INFO: wrote matrix table with 500 rows and 10 columns in 8 partitions to balding_nichols_data.mt\n",
      "2020-08-05 17:52:50 Hail: INFO: Ordering unsorted dataset with network shuffle\n",
      "2020-08-05 17:52:53 Hail: INFO: wrote table with 250 rows in 8 partitions to /tmp/test_table.ht\n",
      "2020-08-05 17:52:54 Hail: INFO: Coerced sorted dataset\n"
     ]
    },
    {
     "name": "stdout",
     "output_type": "stream",
     "text": [
      "index 10 is out of bounds for axis 0 with size 10\n",
      "failed during blanczos algorithm with  (500, 10)\n",
      "loop attempt  21  with m: 500 , n: 10 , m*n = 5000 , and q: 1\n"
     ]
    },
    {
     "name": "stderr",
     "output_type": "stream",
     "text": [
      "2020-08-05 17:52:54 Hail: INFO: balding_nichols_model: generating genotypes for 3 populations, 10 samples, and 500 variants...\n",
      "2020-08-05 17:52:55 Hail: INFO: Coerced sorted dataset\n",
      "2020-08-05 17:53:02 Hail: INFO: wrote matrix table with 500 rows and 10 columns in 8 partitions to balding_nichols_data.mt\n",
      "2020-08-05 17:53:03 Hail: INFO: Ordering unsorted dataset with network shuffle\n",
      "2020-08-05 17:53:06 Hail: INFO: wrote table with 125 rows in 8 partitions to /tmp/test_table.ht\n",
      "2020-08-05 17:53:07 Hail: INFO: Coerced sorted dataset\n"
     ]
    },
    {
     "name": "stdout",
     "output_type": "stream",
     "text": [
      "index 10 is out of bounds for axis 0 with size 10\n",
      "failed during blanczos algorithm with  (500, 10)\n",
      "loop attempt  22  with m: 500 , n: 10 , m*n = 5000 , and q: 1\n"
     ]
    },
    {
     "name": "stderr",
     "output_type": "stream",
     "text": [
      "2020-08-05 17:53:07 Hail: INFO: balding_nichols_model: generating genotypes for 3 populations, 10 samples, and 500 variants...\n",
      "2020-08-05 17:53:08 Hail: INFO: Coerced sorted dataset\n",
      "2020-08-05 17:53:15 Hail: INFO: wrote matrix table with 500 rows and 10 columns in 8 partitions to balding_nichols_data.mt\n",
      "2020-08-05 17:53:16 Hail: INFO: Ordering unsorted dataset with network shuffle\n",
      "2020-08-05 17:53:19 Hail: INFO: wrote table with 63 rows in 8 partitions to /tmp/test_table.ht\n",
      "2020-08-05 17:53:20 Hail: INFO: Coerced sorted dataset\n"
     ]
    },
    {
     "name": "stdout",
     "output_type": "stream",
     "text": [
      "index 10 is out of bounds for axis 0 with size 10\n",
      "failed during blanczos algorithm with  (500, 10)\n",
      "loop attempt  23  with m: 500 , n: 10 , m*n = 5000 , and q: 1\n"
     ]
    },
    {
     "name": "stderr",
     "output_type": "stream",
     "text": [
      "2020-08-05 17:53:21 Hail: INFO: balding_nichols_model: generating genotypes for 3 populations, 10 samples, and 500 variants...\n",
      "2020-08-05 17:53:21 Hail: INFO: Coerced sorted dataset\n",
      "2020-08-05 17:53:28 Hail: INFO: wrote matrix table with 500 rows and 10 columns in 8 partitions to balding_nichols_data.mt\n",
      "2020-08-05 17:53:29 Hail: INFO: Ordering unsorted dataset with network shuffle\n",
      "2020-08-05 17:53:32 Hail: INFO: wrote table with 32 rows in 8 partitions to /tmp/test_table.ht\n",
      "2020-08-05 17:53:33 Hail: INFO: Coerced sorted dataset\n"
     ]
    },
    {
     "name": "stdout",
     "output_type": "stream",
     "text": [
      "index 10 is out of bounds for axis 0 with size 10\n",
      "failed during blanczos algorithm with  (500, 10)\n",
      "loop attempt  24  with m: 500 , n: 10 , m*n = 5000 , and q: 1\n"
     ]
    },
    {
     "name": "stderr",
     "output_type": "stream",
     "text": [
      "2020-08-05 17:53:33 Hail: INFO: balding_nichols_model: generating genotypes for 3 populations, 10 samples, and 500 variants...\n",
      "2020-08-05 17:53:33 Hail: INFO: Coerced sorted dataset\n",
      "2020-08-05 17:53:40 Hail: INFO: wrote matrix table with 500 rows and 10 columns in 8 partitions to balding_nichols_data.mt\n",
      "2020-08-05 17:53:41 Hail: INFO: Ordering unsorted dataset with network shuffle\n",
      "2020-08-05 17:53:44 Hail: INFO: wrote table with 16 rows in 8 partitions to /tmp/test_table.ht\n",
      "2020-08-05 17:53:45 Hail: INFO: Coerced sorted dataset\n"
     ]
    },
    {
     "name": "stdout",
     "output_type": "stream",
     "text": [
      "index 10 is out of bounds for axis 0 with size 10\n",
      "failed during blanczos algorithm with  (500, 10)\n",
      "loop attempt  25  with m: 500 , n: 50 , m*n = 25000 , and q: 1\n"
     ]
    },
    {
     "name": "stderr",
     "output_type": "stream",
     "text": [
      "2020-08-05 17:53:45 Hail: INFO: balding_nichols_model: generating genotypes for 3 populations, 50 samples, and 500 variants...\n",
      "2020-08-05 17:53:45 Hail: INFO: Coerced sorted dataset\n",
      "2020-08-05 17:53:53 Hail: INFO: wrote matrix table with 500 rows and 50 columns in 8 partitions to balding_nichols_data.mt\n",
      "2020-08-05 17:53:54 Hail: INFO: Ordering unsorted dataset with network shuffle\n",
      "2020-08-05 17:53:57 Hail: INFO: wrote table with 250 rows in 8 partitions to /tmp/test_table.ht\n",
      "2020-08-05 17:53:58 Hail: INFO: Coerced sorted dataset\n",
      "2020-08-05 17:53:59 Hail: INFO: Coerced sorted dataset\n"
     ]
    },
    {
     "name": "stdout",
     "output_type": "stream",
     "text": [
      "loop attempt  26  with m: 500 , n: 50 , m*n = 25000 , and q: 1\n"
     ]
    },
    {
     "name": "stderr",
     "output_type": "stream",
     "text": [
      "2020-08-05 17:53:59 Hail: INFO: balding_nichols_model: generating genotypes for 3 populations, 50 samples, and 500 variants...\n",
      "2020-08-05 17:53:59 Hail: INFO: Coerced sorted dataset\n",
      "2020-08-05 17:54:06 Hail: INFO: wrote matrix table with 500 rows and 50 columns in 8 partitions to balding_nichols_data.mt\n",
      "2020-08-05 17:54:07 Hail: INFO: Ordering unsorted dataset with network shuffle\n",
      "2020-08-05 17:54:11 Hail: INFO: wrote table with 125 rows in 8 partitions to /tmp/test_table.ht\n",
      "2020-08-05 17:54:12 Hail: INFO: Coerced sorted dataset\n",
      "2020-08-05 17:54:12 Hail: INFO: Coerced sorted dataset\n"
     ]
    },
    {
     "name": "stdout",
     "output_type": "stream",
     "text": [
      "loop attempt  27  with m: 500 , n: 50 , m*n = 25000 , and q: 1\n"
     ]
    },
    {
     "name": "stderr",
     "output_type": "stream",
     "text": [
      "2020-08-05 17:54:13 Hail: INFO: balding_nichols_model: generating genotypes for 3 populations, 50 samples, and 500 variants...\n",
      "2020-08-05 17:54:13 Hail: INFO: Coerced sorted dataset\n",
      "2020-08-05 17:54:20 Hail: INFO: wrote matrix table with 500 rows and 50 columns in 8 partitions to balding_nichols_data.mt\n",
      "2020-08-05 17:54:21 Hail: INFO: Ordering unsorted dataset with network shuffle\n",
      "2020-08-05 17:54:25 Hail: INFO: wrote table with 63 rows in 8 partitions to /tmp/test_table.ht\n",
      "2020-08-05 17:54:26 Hail: INFO: Coerced sorted dataset\n",
      "2020-08-05 17:54:26 Hail: INFO: Coerced sorted dataset\n",
      "2020-08-05 17:54:26 Hail: INFO: balding_nichols_model: generating genotypes for 3 populations, 50 samples, and 500 variants...\n"
     ]
    },
    {
     "name": "stdout",
     "output_type": "stream",
     "text": [
      "loop attempt  28  with m: 500 , n: 50 , m*n = 25000 , and q: 1\n"
     ]
    },
    {
     "name": "stderr",
     "output_type": "stream",
     "text": [
      "2020-08-05 17:54:27 Hail: INFO: Coerced sorted dataset\n",
      "2020-08-05 17:54:32 Hail: INFO: wrote matrix table with 500 rows and 50 columns in 8 partitions to balding_nichols_data.mt\n",
      "2020-08-05 17:54:33 Hail: INFO: Ordering unsorted dataset with network shuffle\n",
      "2020-08-05 17:54:36 Hail: INFO: wrote table with 32 rows in 8 partitions to /tmp/test_table.ht\n",
      "2020-08-05 17:54:37 Hail: INFO: Coerced sorted dataset\n",
      "2020-08-05 17:54:37 Hail: INFO: Coerced sorted dataset\n",
      "2020-08-05 17:54:37 Hail: INFO: balding_nichols_model: generating genotypes for 3 populations, 50 samples, and 500 variants...\n"
     ]
    },
    {
     "name": "stdout",
     "output_type": "stream",
     "text": [
      "loop attempt  29  with m: 500 , n: 50 , m*n = 25000 , and q: 1\n"
     ]
    },
    {
     "name": "stderr",
     "output_type": "stream",
     "text": [
      "2020-08-05 17:54:37 Hail: INFO: Coerced sorted dataset\n",
      "2020-08-05 17:54:44 Hail: INFO: wrote matrix table with 500 rows and 50 columns in 8 partitions to balding_nichols_data.mt\n",
      "2020-08-05 17:54:45 Hail: INFO: Ordering unsorted dataset with network shuffle\n",
      "2020-08-05 17:54:48 Hail: INFO: wrote table with 16 rows in 8 partitions to /tmp/test_table.ht\n",
      "2020-08-05 17:54:49 Hail: INFO: Coerced sorted dataset\n",
      "2020-08-05 17:54:50 Hail: INFO: Coerced sorted dataset\n",
      "2020-08-05 17:54:50 Hail: INFO: balding_nichols_model: generating genotypes for 3 populations, 100 samples, and 500 variants...\n"
     ]
    },
    {
     "name": "stdout",
     "output_type": "stream",
     "text": [
      "loop attempt  30  with m: 500 , n: 100 , m*n = 50000 , and q: 1\n"
     ]
    },
    {
     "name": "stderr",
     "output_type": "stream",
     "text": [
      "2020-08-05 17:54:50 Hail: INFO: Coerced sorted dataset\n",
      "2020-08-05 17:54:56 Hail: INFO: wrote matrix table with 500 rows and 100 columns in 8 partitions to balding_nichols_data.mt\n",
      "2020-08-05 17:54:57 Hail: INFO: Ordering unsorted dataset with network shuffle\n",
      "2020-08-05 17:55:00 Hail: INFO: wrote table with 250 rows in 8 partitions to /tmp/test_table.ht\n",
      "2020-08-05 17:55:01 Hail: INFO: Coerced sorted dataset\n",
      "2020-08-05 17:55:02 Hail: INFO: Coerced sorted dataset\n"
     ]
    },
    {
     "name": "stdout",
     "output_type": "stream",
     "text": [
      "loop attempt  31  with m: 500 , n: 100 , m*n = 50000 , and q: 1\n"
     ]
    },
    {
     "name": "stderr",
     "output_type": "stream",
     "text": [
      "2020-08-05 17:55:02 Hail: INFO: balding_nichols_model: generating genotypes for 3 populations, 100 samples, and 500 variants...\n",
      "2020-08-05 17:55:02 Hail: INFO: Coerced sorted dataset\n",
      "2020-08-05 17:55:08 Hail: INFO: wrote matrix table with 500 rows and 100 columns in 8 partitions to balding_nichols_data.mt\n",
      "2020-08-05 17:55:08 Hail: INFO: Ordering unsorted dataset with network shuffle\n",
      "2020-08-05 17:55:11 Hail: INFO: wrote table with 125 rows in 8 partitions to /tmp/test_table.ht\n",
      "2020-08-05 17:55:12 Hail: INFO: Coerced sorted dataset\n",
      "2020-08-05 17:55:12 Hail: INFO: Coerced sorted dataset\n",
      "2020-08-05 17:55:13 Hail: INFO: balding_nichols_model: generating genotypes for 3 populations, 100 samples, and 500 variants...\n"
     ]
    },
    {
     "name": "stdout",
     "output_type": "stream",
     "text": [
      "loop attempt  32  with m: 500 , n: 100 , m*n = 50000 , and q: 1\n"
     ]
    },
    {
     "name": "stderr",
     "output_type": "stream",
     "text": [
      "2020-08-05 17:55:13 Hail: INFO: Coerced sorted dataset\n",
      "2020-08-05 17:55:20 Hail: INFO: wrote matrix table with 500 rows and 100 columns in 8 partitions to balding_nichols_data.mt\n",
      "2020-08-05 17:55:21 Hail: INFO: Ordering unsorted dataset with network shuffle\n",
      "2020-08-05 17:55:24 Hail: INFO: wrote table with 63 rows in 8 partitions to /tmp/test_table.ht\n",
      "2020-08-05 17:55:26 Hail: INFO: Coerced sorted dataset\n",
      "2020-08-05 17:55:26 Hail: INFO: Coerced sorted dataset\n",
      "2020-08-05 17:55:26 Hail: INFO: balding_nichols_model: generating genotypes for 3 populations, 100 samples, and 500 variants...\n"
     ]
    },
    {
     "name": "stdout",
     "output_type": "stream",
     "text": [
      "loop attempt  33  with m: 500 , n: 100 , m*n = 50000 , and q: 1\n"
     ]
    },
    {
     "name": "stderr",
     "output_type": "stream",
     "text": [
      "2020-08-05 17:55:26 Hail: INFO: Coerced sorted dataset\n",
      "2020-08-05 17:55:33 Hail: INFO: wrote matrix table with 500 rows and 100 columns in 8 partitions to balding_nichols_data.mt\n",
      "2020-08-05 17:55:34 Hail: INFO: Ordering unsorted dataset with network shuffle\n",
      "2020-08-05 17:55:38 Hail: INFO: wrote table with 32 rows in 8 partitions to /tmp/test_table.ht\n",
      "2020-08-05 17:55:39 Hail: INFO: Coerced sorted dataset\n",
      "2020-08-05 17:55:39 Hail: INFO: Coerced sorted dataset\n",
      "2020-08-05 17:55:40 Hail: INFO: balding_nichols_model: generating genotypes for 3 populations, 100 samples, and 500 variants...\n"
     ]
    },
    {
     "name": "stdout",
     "output_type": "stream",
     "text": [
      "loop attempt  34  with m: 500 , n: 100 , m*n = 50000 , and q: 1\n"
     ]
    },
    {
     "name": "stderr",
     "output_type": "stream",
     "text": [
      "2020-08-05 17:55:40 Hail: INFO: Coerced sorted dataset\n",
      "2020-08-05 17:55:47 Hail: INFO: wrote matrix table with 500 rows and 100 columns in 8 partitions to balding_nichols_data.mt\n",
      "2020-08-05 17:55:48 Hail: INFO: Ordering unsorted dataset with network shuffle\n",
      "2020-08-05 17:55:51 Hail: INFO: wrote table with 16 rows in 8 partitions to /tmp/test_table.ht\n",
      "2020-08-05 17:55:52 Hail: INFO: Coerced sorted dataset\n",
      "2020-08-05 17:55:53 Hail: INFO: Coerced sorted dataset\n",
      "2020-08-05 17:55:53 Hail: INFO: balding_nichols_model: generating genotypes for 3 populations, 500 samples, and 500 variants...\n"
     ]
    },
    {
     "name": "stdout",
     "output_type": "stream",
     "text": [
      "loop attempt  35  with m: 500 , n: 500 , m*n = 250000 , and q: 1\n"
     ]
    },
    {
     "name": "stderr",
     "output_type": "stream",
     "text": [
      "2020-08-05 17:55:53 Hail: INFO: Coerced sorted dataset\n",
      "2020-08-05 17:55:59 Hail: INFO: wrote matrix table with 500 rows and 500 columns in 8 partitions to balding_nichols_data.mt\n",
      "2020-08-05 17:56:00 Hail: INFO: Ordering unsorted dataset with network shuffle\n",
      "2020-08-05 17:56:03 Hail: INFO: wrote table with 250 rows in 8 partitions to /tmp/test_table.ht\n",
      "2020-08-05 17:56:05 Hail: INFO: Coerced sorted dataset\n",
      "2020-08-05 17:56:06 Hail: INFO: Coerced sorted dataset\n"
     ]
    },
    {
     "name": "stdout",
     "output_type": "stream",
     "text": [
      "loop attempt  36  with m: 500 , n: 500 , m*n = 250000 , and q: 1\n"
     ]
    },
    {
     "name": "stderr",
     "output_type": "stream",
     "text": [
      "2020-08-05 17:56:06 Hail: INFO: balding_nichols_model: generating genotypes for 3 populations, 500 samples, and 500 variants...\n",
      "2020-08-05 17:56:06 Hail: INFO: Coerced sorted dataset\n",
      "2020-08-05 17:56:12 Hail: INFO: wrote matrix table with 500 rows and 500 columns in 8 partitions to balding_nichols_data.mt\n",
      "2020-08-05 17:56:13 Hail: INFO: Ordering unsorted dataset with network shuffle\n",
      "2020-08-05 17:56:16 Hail: INFO: wrote table with 125 rows in 8 partitions to /tmp/test_table.ht\n",
      "2020-08-05 17:56:18 Hail: INFO: Coerced sorted dataset\n",
      "2020-08-05 17:56:18 Hail: INFO: Coerced sorted dataset\n"
     ]
    },
    {
     "name": "stdout",
     "output_type": "stream",
     "text": [
      "loop attempt  37  with m: 500 , n: 500 , m*n = 250000 , and q: 1\n"
     ]
    },
    {
     "name": "stderr",
     "output_type": "stream",
     "text": [
      "2020-08-05 17:56:19 Hail: INFO: balding_nichols_model: generating genotypes for 3 populations, 500 samples, and 500 variants...\n",
      "2020-08-05 17:56:19 Hail: INFO: Coerced sorted dataset\n",
      "2020-08-05 17:56:24 Hail: INFO: wrote matrix table with 500 rows and 500 columns in 8 partitions to balding_nichols_data.mt\n",
      "2020-08-05 17:56:25 Hail: INFO: Ordering unsorted dataset with network shuffle\n",
      "2020-08-05 17:56:29 Hail: INFO: wrote table with 63 rows in 8 partitions to /tmp/test_table.ht\n",
      "2020-08-05 17:56:30 Hail: INFO: Coerced sorted dataset\n",
      "2020-08-05 17:56:31 Hail: INFO: Coerced sorted dataset\n"
     ]
    },
    {
     "name": "stdout",
     "output_type": "stream",
     "text": [
      "loop attempt  38  with m: 500 , n: 500 , m*n = 250000 , and q: 1\n"
     ]
    },
    {
     "name": "stderr",
     "output_type": "stream",
     "text": [
      "2020-08-05 17:56:31 Hail: INFO: balding_nichols_model: generating genotypes for 3 populations, 500 samples, and 500 variants...\n",
      "2020-08-05 17:56:31 Hail: INFO: Coerced sorted dataset\n",
      "2020-08-05 17:56:38 Hail: INFO: wrote matrix table with 500 rows and 500 columns in 8 partitions to balding_nichols_data.mt\n",
      "2020-08-05 17:56:38 Hail: INFO: Ordering unsorted dataset with network shuffle\n",
      "2020-08-05 17:56:41 Hail: INFO: wrote table with 32 rows in 8 partitions to /tmp/test_table.ht\n",
      "2020-08-05 17:56:43 Hail: INFO: Coerced sorted dataset\n",
      "2020-08-05 17:56:44 Hail: INFO: Coerced sorted dataset\n"
     ]
    },
    {
     "name": "stdout",
     "output_type": "stream",
     "text": [
      "loop attempt  39  with m: 500 , n: 500 , m*n = 250000 , and q: 1\n"
     ]
    },
    {
     "name": "stderr",
     "output_type": "stream",
     "text": [
      "2020-08-05 17:56:44 Hail: INFO: balding_nichols_model: generating genotypes for 3 populations, 500 samples, and 500 variants...\n",
      "2020-08-05 17:56:44 Hail: INFO: Coerced sorted dataset\n",
      "2020-08-05 17:56:50 Hail: INFO: wrote matrix table with 500 rows and 500 columns in 8 partitions to balding_nichols_data.mt\n",
      "2020-08-05 17:56:51 Hail: INFO: Ordering unsorted dataset with network shuffle\n",
      "2020-08-05 17:56:53 Hail: INFO: wrote table with 16 rows in 8 partitions to /tmp/test_table.ht\n",
      "2020-08-05 17:56:54 Hail: INFO: Coerced sorted dataset\n",
      "2020-08-05 17:56:55 Hail: INFO: Coerced sorted dataset\n"
     ]
    },
    {
     "name": "stdout",
     "output_type": "stream",
     "text": [
      "loop attempt  40  with m: 1000 , n: 10 , m*n = 10000 , and q: 1\n"
     ]
    },
    {
     "name": "stderr",
     "output_type": "stream",
     "text": [
      "2020-08-05 17:56:55 Hail: INFO: balding_nichols_model: generating genotypes for 3 populations, 10 samples, and 1000 variants...\n",
      "2020-08-05 17:56:55 Hail: INFO: Coerced sorted dataset\n",
      "2020-08-05 17:57:01 Hail: INFO: wrote matrix table with 1000 rows and 10 columns in 8 partitions to balding_nichols_data.mt\n",
      "2020-08-05 17:57:02 Hail: INFO: Ordering unsorted dataset with network shuffle\n",
      "2020-08-05 17:57:05 Hail: INFO: wrote table with 500 rows in 8 partitions to /tmp/test_table.ht\n",
      "2020-08-05 17:57:07 Hail: INFO: Coerced sorted dataset\n"
     ]
    },
    {
     "name": "stdout",
     "output_type": "stream",
     "text": [
      "index 10 is out of bounds for axis 0 with size 10\n",
      "failed during blanczos algorithm with  (1000, 10)\n",
      "loop attempt  41  with m: 1000 , n: 10 , m*n = 10000 , and q: 1\n"
     ]
    },
    {
     "name": "stderr",
     "output_type": "stream",
     "text": [
      "2020-08-05 17:57:07 Hail: INFO: balding_nichols_model: generating genotypes for 3 populations, 10 samples, and 1000 variants...\n",
      "2020-08-05 17:57:08 Hail: INFO: Coerced sorted dataset\n",
      "2020-08-05 17:57:15 Hail: INFO: wrote matrix table with 1000 rows and 10 columns in 8 partitions to balding_nichols_data.mt\n",
      "2020-08-05 17:57:16 Hail: INFO: Ordering unsorted dataset with network shuffle\n",
      "2020-08-05 17:57:19 Hail: INFO: wrote table with 250 rows in 8 partitions to /tmp/test_table.ht\n",
      "2020-08-05 17:57:21 Hail: INFO: Coerced sorted dataset\n"
     ]
    },
    {
     "name": "stdout",
     "output_type": "stream",
     "text": [
      "index 10 is out of bounds for axis 0 with size 10\n",
      "failed during blanczos algorithm with  (1000, 10)\n",
      "loop attempt  42  with m: 1000 , n: 10 , m*n = 10000 , and q: 1\n"
     ]
    },
    {
     "name": "stderr",
     "output_type": "stream",
     "text": [
      "2020-08-05 17:57:21 Hail: INFO: balding_nichols_model: generating genotypes for 3 populations, 10 samples, and 1000 variants...\n",
      "2020-08-05 17:57:21 Hail: INFO: Coerced sorted dataset\n",
      "2020-08-05 17:57:27 Hail: INFO: wrote matrix table with 1000 rows and 10 columns in 8 partitions to balding_nichols_data.mt\n",
      "2020-08-05 17:57:27 Hail: INFO: Ordering unsorted dataset with network shuffle\n",
      "2020-08-05 17:57:30 Hail: INFO: wrote table with 125 rows in 8 partitions to /tmp/test_table.ht\n",
      "2020-08-05 17:57:31 Hail: INFO: Coerced sorted dataset\n"
     ]
    },
    {
     "name": "stdout",
     "output_type": "stream",
     "text": [
      "index 10 is out of bounds for axis 0 with size 10\n",
      "failed during blanczos algorithm with  (1000, 10)\n",
      "loop attempt  43  with m: 1000 , n: 10 , m*n = 10000 , and q: 1\n"
     ]
    },
    {
     "name": "stderr",
     "output_type": "stream",
     "text": [
      "2020-08-05 17:57:32 Hail: INFO: balding_nichols_model: generating genotypes for 3 populations, 10 samples, and 1000 variants...\n",
      "2020-08-05 17:57:32 Hail: INFO: Coerced sorted dataset\n",
      "2020-08-05 17:57:38 Hail: INFO: wrote matrix table with 1000 rows and 10 columns in 8 partitions to balding_nichols_data.mt\n",
      "2020-08-05 17:57:39 Hail: INFO: Ordering unsorted dataset with network shuffle\n",
      "2020-08-05 17:57:41 Hail: INFO: wrote table with 63 rows in 8 partitions to /tmp/test_table.ht\n",
      "2020-08-05 17:57:43 Hail: INFO: Coerced sorted dataset\n"
     ]
    },
    {
     "name": "stdout",
     "output_type": "stream",
     "text": [
      "index 10 is out of bounds for axis 0 with size 10\n",
      "failed during blanczos algorithm with  (1000, 10)\n",
      "loop attempt  44  with m: 1000 , n: 10 , m*n = 10000 , and q: 1\n"
     ]
    },
    {
     "name": "stderr",
     "output_type": "stream",
     "text": [
      "2020-08-05 17:57:43 Hail: INFO: balding_nichols_model: generating genotypes for 3 populations, 10 samples, and 1000 variants...\n",
      "2020-08-05 17:57:43 Hail: INFO: Coerced sorted dataset\n",
      "2020-08-05 17:57:51 Hail: INFO: wrote matrix table with 1000 rows and 10 columns in 8 partitions to balding_nichols_data.mt\n",
      "2020-08-05 17:57:51 Hail: INFO: Ordering unsorted dataset with network shuffle\n",
      "2020-08-05 17:57:55 Hail: INFO: wrote table with 32 rows in 8 partitions to /tmp/test_table.ht\n",
      "2020-08-05 17:57:56 Hail: INFO: Coerced sorted dataset\n"
     ]
    },
    {
     "name": "stdout",
     "output_type": "stream",
     "text": [
      "index 10 is out of bounds for axis 0 with size 10\n",
      "failed during blanczos algorithm with  (1000, 10)\n",
      "loop attempt  45  with m: 1000 , n: 50 , m*n = 50000 , and q: 1\n"
     ]
    },
    {
     "name": "stderr",
     "output_type": "stream",
     "text": [
      "2020-08-05 17:57:56 Hail: INFO: balding_nichols_model: generating genotypes for 3 populations, 50 samples, and 1000 variants...\n",
      "2020-08-05 17:57:57 Hail: INFO: Coerced sorted dataset\n",
      "2020-08-05 17:58:04 Hail: INFO: wrote matrix table with 1000 rows and 50 columns in 8 partitions to balding_nichols_data.mt\n",
      "2020-08-05 17:58:04 Hail: INFO: Ordering unsorted dataset with network shuffle\n",
      "2020-08-05 17:58:07 Hail: INFO: wrote table with 500 rows in 8 partitions to /tmp/test_table.ht\n",
      "2020-08-05 17:58:09 Hail: INFO: Coerced sorted dataset\n",
      "2020-08-05 17:58:10 Hail: INFO: Coerced sorted dataset\n"
     ]
    },
    {
     "name": "stdout",
     "output_type": "stream",
     "text": [
      "loop attempt  46  with m: 1000 , n: 50 , m*n = 50000 , and q: 1\n"
     ]
    },
    {
     "name": "stderr",
     "output_type": "stream",
     "text": [
      "2020-08-05 17:58:10 Hail: INFO: balding_nichols_model: generating genotypes for 3 populations, 50 samples, and 1000 variants...\n",
      "2020-08-05 17:58:10 Hail: INFO: Coerced sorted dataset\n",
      "2020-08-05 17:58:16 Hail: INFO: wrote matrix table with 1000 rows and 50 columns in 8 partitions to balding_nichols_data.mt\n",
      "2020-08-05 17:58:16 Hail: INFO: Ordering unsorted dataset with network shuffle\n",
      "2020-08-05 17:58:19 Hail: INFO: wrote table with 250 rows in 8 partitions to /tmp/test_table.ht\n",
      "2020-08-05 17:58:21 Hail: INFO: Coerced sorted dataset\n",
      "2020-08-05 17:58:21 Hail: INFO: Coerced sorted dataset\n"
     ]
    },
    {
     "name": "stdout",
     "output_type": "stream",
     "text": [
      "loop attempt  47  with m: 1000 , n: 50 , m*n = 50000 , and q: 1\n"
     ]
    },
    {
     "name": "stderr",
     "output_type": "stream",
     "text": [
      "2020-08-05 17:58:21 Hail: INFO: balding_nichols_model: generating genotypes for 3 populations, 50 samples, and 1000 variants...\n",
      "2020-08-05 17:58:22 Hail: INFO: Coerced sorted dataset\n",
      "2020-08-05 17:58:29 Hail: INFO: wrote matrix table with 1000 rows and 50 columns in 8 partitions to balding_nichols_data.mt\n",
      "2020-08-05 17:58:30 Hail: INFO: Ordering unsorted dataset with network shuffle\n",
      "2020-08-05 17:58:33 Hail: INFO: wrote table with 125 rows in 8 partitions to /tmp/test_table.ht\n",
      "2020-08-05 17:58:35 Hail: INFO: Coerced sorted dataset\n",
      "2020-08-05 17:58:35 Hail: INFO: Coerced sorted dataset\n"
     ]
    },
    {
     "name": "stdout",
     "output_type": "stream",
     "text": [
      "loop attempt  48  with m: 1000 , n: 50 , m*n = 50000 , and q: 1\n"
     ]
    },
    {
     "name": "stderr",
     "output_type": "stream",
     "text": [
      "2020-08-05 17:58:36 Hail: INFO: balding_nichols_model: generating genotypes for 3 populations, 50 samples, and 1000 variants...\n",
      "2020-08-05 17:58:36 Hail: INFO: Coerced sorted dataset\n",
      "2020-08-05 17:58:42 Hail: INFO: wrote matrix table with 1000 rows and 50 columns in 8 partitions to balding_nichols_data.mt\n",
      "2020-08-05 17:58:43 Hail: INFO: Ordering unsorted dataset with network shuffle\n",
      "2020-08-05 17:58:46 Hail: INFO: wrote table with 63 rows in 8 partitions to /tmp/test_table.ht\n",
      "2020-08-05 17:58:48 Hail: INFO: Coerced sorted dataset\n",
      "2020-08-05 17:58:48 Hail: INFO: Coerced sorted dataset\n"
     ]
    },
    {
     "name": "stdout",
     "output_type": "stream",
     "text": [
      "loop attempt  49  with m: 1000 , n: 50 , m*n = 50000 , and q: 1\n"
     ]
    },
    {
     "name": "stderr",
     "output_type": "stream",
     "text": [
      "2020-08-05 17:58:49 Hail: INFO: balding_nichols_model: generating genotypes for 3 populations, 50 samples, and 1000 variants...\n",
      "2020-08-05 17:58:49 Hail: INFO: Coerced sorted dataset\n",
      "2020-08-05 17:58:56 Hail: INFO: wrote matrix table with 1000 rows and 50 columns in 8 partitions to balding_nichols_data.mt\n",
      "2020-08-05 17:58:57 Hail: INFO: Ordering unsorted dataset with network shuffle\n",
      "2020-08-05 17:58:59 Hail: INFO: wrote table with 32 rows in 8 partitions to /tmp/test_table.ht\n",
      "2020-08-05 17:59:00 Hail: INFO: Coerced sorted dataset\n",
      "2020-08-05 17:59:01 Hail: INFO: Coerced sorted dataset\n"
     ]
    },
    {
     "name": "stdout",
     "output_type": "stream",
     "text": [
      "loop attempt  50  with m: 1000 , n: 100 , m*n = 100000 , and q: 1\n"
     ]
    },
    {
     "name": "stderr",
     "output_type": "stream",
     "text": [
      "2020-08-05 17:59:01 Hail: INFO: balding_nichols_model: generating genotypes for 3 populations, 100 samples, and 1000 variants...\n",
      "2020-08-05 17:59:01 Hail: INFO: Coerced sorted dataset\n",
      "2020-08-05 17:59:08 Hail: INFO: wrote matrix table with 1000 rows and 100 columns in 8 partitions to balding_nichols_data.mt\n",
      "2020-08-05 17:59:09 Hail: INFO: Ordering unsorted dataset with network shuffle\n",
      "2020-08-05 17:59:12 Hail: INFO: wrote table with 500 rows in 8 partitions to /tmp/test_table.ht\n",
      "2020-08-05 17:59:14 Hail: INFO: Coerced sorted dataset\n",
      "2020-08-05 17:59:15 Hail: INFO: Coerced sorted dataset\n"
     ]
    },
    {
     "name": "stdout",
     "output_type": "stream",
     "text": [
      "loop attempt  51  with m: 1000 , n: 100 , m*n = 100000 , and q: 1\n"
     ]
    },
    {
     "name": "stderr",
     "output_type": "stream",
     "text": [
      "2020-08-05 17:59:15 Hail: INFO: balding_nichols_model: generating genotypes for 3 populations, 100 samples, and 1000 variants...\n",
      "2020-08-05 17:59:15 Hail: INFO: Coerced sorted dataset\n",
      "2020-08-05 17:59:21 Hail: INFO: wrote matrix table with 1000 rows and 100 columns in 8 partitions to balding_nichols_data.mt\n",
      "2020-08-05 17:59:22 Hail: INFO: Ordering unsorted dataset with network shuffle\n",
      "2020-08-05 17:59:24 Hail: INFO: wrote table with 250 rows in 8 partitions to /tmp/test_table.ht\n",
      "2020-08-05 17:59:26 Hail: INFO: Coerced sorted dataset\n",
      "2020-08-05 17:59:27 Hail: INFO: Coerced sorted dataset\n"
     ]
    },
    {
     "name": "stdout",
     "output_type": "stream",
     "text": [
      "loop attempt  52  with m: 1000 , n: 100 , m*n = 100000 , and q: 1\n"
     ]
    },
    {
     "name": "stderr",
     "output_type": "stream",
     "text": [
      "2020-08-05 17:59:27 Hail: INFO: balding_nichols_model: generating genotypes for 3 populations, 100 samples, and 1000 variants...\n",
      "2020-08-05 17:59:27 Hail: INFO: Coerced sorted dataset\n",
      "2020-08-05 17:59:33 Hail: INFO: wrote matrix table with 1000 rows and 100 columns in 8 partitions to balding_nichols_data.mt\n",
      "2020-08-05 17:59:34 Hail: INFO: Ordering unsorted dataset with network shuffle\n",
      "2020-08-05 17:59:37 Hail: INFO: wrote table with 125 rows in 8 partitions to /tmp/test_table.ht\n",
      "2020-08-05 17:59:39 Hail: INFO: Coerced sorted dataset\n",
      "2020-08-05 17:59:39 Hail: INFO: Coerced sorted dataset\n"
     ]
    },
    {
     "name": "stdout",
     "output_type": "stream",
     "text": [
      "loop attempt  53  with m: 1000 , n: 100 , m*n = 100000 , and q: 1\n"
     ]
    },
    {
     "name": "stderr",
     "output_type": "stream",
     "text": [
      "2020-08-05 17:59:40 Hail: INFO: balding_nichols_model: generating genotypes for 3 populations, 100 samples, and 1000 variants...\n",
      "2020-08-05 17:59:40 Hail: INFO: Coerced sorted dataset\n",
      "2020-08-05 17:59:46 Hail: INFO: wrote matrix table with 1000 rows and 100 columns in 8 partitions to balding_nichols_data.mt\n",
      "2020-08-05 17:59:47 Hail: INFO: Ordering unsorted dataset with network shuffle\n",
      "2020-08-05 17:59:50 Hail: INFO: wrote table with 63 rows in 8 partitions to /tmp/test_table.ht\n",
      "2020-08-05 17:59:52 Hail: INFO: Coerced sorted dataset\n",
      "2020-08-05 17:59:52 Hail: INFO: Coerced sorted dataset\n"
     ]
    },
    {
     "name": "stdout",
     "output_type": "stream",
     "text": [
      "loop attempt  54  with m: 1000 , n: 100 , m*n = 100000 , and q: 1\n"
     ]
    },
    {
     "name": "stderr",
     "output_type": "stream",
     "text": [
      "2020-08-05 17:59:52 Hail: INFO: balding_nichols_model: generating genotypes for 3 populations, 100 samples, and 1000 variants...\n",
      "2020-08-05 17:59:53 Hail: INFO: Coerced sorted dataset\n",
      "2020-08-05 18:00:00 Hail: INFO: wrote matrix table with 1000 rows and 100 columns in 8 partitions to balding_nichols_data.mt\n",
      "2020-08-05 18:00:00 Hail: INFO: Ordering unsorted dataset with network shuffle\n",
      "2020-08-05 18:00:03 Hail: INFO: wrote table with 32 rows in 8 partitions to /tmp/test_table.ht\n",
      "2020-08-05 18:00:04 Hail: INFO: Coerced sorted dataset\n",
      "2020-08-05 18:00:05 Hail: INFO: Coerced sorted dataset\n"
     ]
    },
    {
     "name": "stdout",
     "output_type": "stream",
     "text": [
      "loop attempt  55  with m: 1000 , n: 500 , m*n = 500000 , and q: 1\n"
     ]
    },
    {
     "name": "stderr",
     "output_type": "stream",
     "text": [
      "2020-08-05 18:00:05 Hail: INFO: balding_nichols_model: generating genotypes for 3 populations, 500 samples, and 1000 variants...\n",
      "2020-08-05 18:00:05 Hail: INFO: Coerced sorted dataset\n",
      "2020-08-05 18:00:12 Hail: INFO: wrote matrix table with 1000 rows and 500 columns in 8 partitions to balding_nichols_data.mt\n",
      "2020-08-05 18:00:13 Hail: INFO: Ordering unsorted dataset with network shuffle\n",
      "2020-08-05 18:00:16 Hail: INFO: wrote table with 500 rows in 8 partitions to /tmp/test_table.ht\n",
      "2020-08-05 18:00:18 Hail: INFO: Coerced sorted dataset\n",
      "2020-08-05 18:00:19 Hail: INFO: Coerced sorted dataset\n"
     ]
    },
    {
     "name": "stdout",
     "output_type": "stream",
     "text": [
      "loop attempt  56  with m: 1000 , n: 500 , m*n = 500000 , and q: 1\n"
     ]
    },
    {
     "name": "stderr",
     "output_type": "stream",
     "text": [
      "2020-08-05 18:00:19 Hail: INFO: balding_nichols_model: generating genotypes for 3 populations, 500 samples, and 1000 variants...\n",
      "2020-08-05 18:00:20 Hail: INFO: Coerced sorted dataset\n",
      "2020-08-05 18:00:25 Hail: INFO: wrote matrix table with 1000 rows and 500 columns in 8 partitions to balding_nichols_data.mt\n",
      "2020-08-05 18:00:26 Hail: INFO: Ordering unsorted dataset with network shuffle\n",
      "2020-08-05 18:00:29 Hail: INFO: wrote table with 250 rows in 8 partitions to /tmp/test_table.ht\n",
      "2020-08-05 18:00:31 Hail: INFO: Coerced sorted dataset\n",
      "2020-08-05 18:00:32 Hail: INFO: Coerced sorted dataset\n"
     ]
    },
    {
     "name": "stdout",
     "output_type": "stream",
     "text": [
      "loop attempt  57  with m: 1000 , n: 500 , m*n = 500000 , and q: 1\n"
     ]
    },
    {
     "name": "stderr",
     "output_type": "stream",
     "text": [
      "2020-08-05 18:00:32 Hail: INFO: balding_nichols_model: generating genotypes for 3 populations, 500 samples, and 1000 variants...\n",
      "2020-08-05 18:00:32 Hail: INFO: Coerced sorted dataset\n",
      "2020-08-05 18:00:39 Hail: INFO: wrote matrix table with 1000 rows and 500 columns in 8 partitions to balding_nichols_data.mt\n",
      "2020-08-05 18:00:39 Hail: INFO: Ordering unsorted dataset with network shuffle\n",
      "2020-08-05 18:00:42 Hail: INFO: wrote table with 125 rows in 8 partitions to /tmp/test_table.ht\n",
      "2020-08-05 18:00:44 Hail: INFO: Coerced sorted dataset\n",
      "2020-08-05 18:00:45 Hail: INFO: Coerced sorted dataset\n"
     ]
    },
    {
     "name": "stdout",
     "output_type": "stream",
     "text": [
      "loop attempt  58  with m: 1000 , n: 500 , m*n = 500000 , and q: 1\n"
     ]
    },
    {
     "name": "stderr",
     "output_type": "stream",
     "text": [
      "2020-08-05 18:00:45 Hail: INFO: balding_nichols_model: generating genotypes for 3 populations, 500 samples, and 1000 variants...\n",
      "2020-08-05 18:00:45 Hail: INFO: Coerced sorted dataset\n",
      "2020-08-05 18:00:53 Hail: INFO: wrote matrix table with 1000 rows and 500 columns in 8 partitions to balding_nichols_data.mt\n",
      "2020-08-05 18:00:53 Hail: INFO: Ordering unsorted dataset with network shuffle\n",
      "2020-08-05 18:00:56 Hail: INFO: wrote table with 63 rows in 8 partitions to /tmp/test_table.ht\n",
      "2020-08-05 18:00:58 Hail: INFO: Coerced sorted dataset\n",
      "2020-08-05 18:00:59 Hail: INFO: Coerced sorted dataset\n"
     ]
    },
    {
     "name": "stdout",
     "output_type": "stream",
     "text": [
      "loop attempt  59  with m: 1000 , n: 500 , m*n = 500000 , and q: 1\n"
     ]
    },
    {
     "name": "stderr",
     "output_type": "stream",
     "text": [
      "2020-08-05 18:00:59 Hail: INFO: balding_nichols_model: generating genotypes for 3 populations, 500 samples, and 1000 variants...\n",
      "2020-08-05 18:00:59 Hail: INFO: Coerced sorted dataset\n",
      "2020-08-05 18:01:05 Hail: INFO: wrote matrix table with 1000 rows and 500 columns in 8 partitions to balding_nichols_data.mt\n",
      "2020-08-05 18:01:05 Hail: INFO: Ordering unsorted dataset with network shuffle\n",
      "2020-08-05 18:01:08 Hail: INFO: wrote table with 32 rows in 8 partitions to /tmp/test_table.ht\n",
      "2020-08-05 18:01:10 Hail: INFO: Coerced sorted dataset\n",
      "2020-08-05 18:01:10 Hail: INFO: Coerced sorted dataset\n"
     ]
    },
    {
     "name": "stdout",
     "output_type": "stream",
     "text": [
      "loop attempt  60  with m: 5000 , n: 10 , m*n = 50000 , and q: 1\n"
     ]
    },
    {
     "name": "stderr",
     "output_type": "stream",
     "text": [
      "2020-08-05 18:01:10 Hail: INFO: balding_nichols_model: generating genotypes for 3 populations, 10 samples, and 5000 variants...\n",
      "2020-08-05 18:01:11 Hail: INFO: Coerced sorted dataset\n",
      "2020-08-05 18:01:16 Hail: INFO: wrote matrix table with 5000 rows and 10 columns in 8 partitions to balding_nichols_data.mt\n",
      "2020-08-05 18:01:17 Hail: INFO: Ordering unsorted dataset with network shuffle\n",
      "2020-08-05 18:01:21 Hail: INFO: wrote table with 2500 rows in 8 partitions to /tmp/test_table.ht\n",
      "2020-08-05 18:01:26 Hail: INFO: Coerced sorted dataset\n"
     ]
    },
    {
     "name": "stdout",
     "output_type": "stream",
     "text": [
      "index 10 is out of bounds for axis 0 with size 10\n",
      "failed during blanczos algorithm with  (5000, 10)\n",
      "loop attempt  61  with m: 5000 , n: 10 , m*n = 50000 , and q: 1\n"
     ]
    },
    {
     "name": "stderr",
     "output_type": "stream",
     "text": [
      "2020-08-05 18:01:26 Hail: INFO: balding_nichols_model: generating genotypes for 3 populations, 10 samples, and 5000 variants...\n",
      "2020-08-05 18:01:26 Hail: INFO: Coerced sorted dataset\n",
      "2020-08-05 18:01:33 Hail: INFO: wrote matrix table with 5000 rows and 10 columns in 8 partitions to balding_nichols_data.mt\n",
      "2020-08-05 18:01:34 Hail: INFO: Ordering unsorted dataset with network shuffle\n",
      "2020-08-05 18:01:37 Hail: INFO: wrote table with 1250 rows in 8 partitions to /tmp/test_table.ht\n",
      "2020-08-05 18:01:40 Hail: INFO: Coerced sorted dataset\n"
     ]
    },
    {
     "name": "stdout",
     "output_type": "stream",
     "text": [
      "index 10 is out of bounds for axis 0 with size 10\n",
      "failed during blanczos algorithm with  (5000, 10)\n",
      "loop attempt  62  with m: 5000 , n: 10 , m*n = 50000 , and q: 1\n"
     ]
    },
    {
     "name": "stderr",
     "output_type": "stream",
     "text": [
      "2020-08-05 18:01:41 Hail: INFO: balding_nichols_model: generating genotypes for 3 populations, 10 samples, and 5000 variants...\n",
      "2020-08-05 18:01:41 Hail: INFO: Coerced sorted dataset\n",
      "2020-08-05 18:01:48 Hail: INFO: wrote matrix table with 5000 rows and 10 columns in 8 partitions to balding_nichols_data.mt\n",
      "2020-08-05 18:01:49 Hail: INFO: Ordering unsorted dataset with network shuffle\n",
      "2020-08-05 18:01:52 Hail: INFO: wrote table with 625 rows in 8 partitions to /tmp/test_table.ht\n",
      "2020-08-05 18:01:55 Hail: INFO: Coerced sorted dataset\n"
     ]
    },
    {
     "name": "stdout",
     "output_type": "stream",
     "text": [
      "index 10 is out of bounds for axis 0 with size 10\n",
      "failed during blanczos algorithm with  (5000, 10)\n",
      "loop attempt  63  with m: 5000 , n: 10 , m*n = 50000 , and q: 1\n"
     ]
    },
    {
     "name": "stderr",
     "output_type": "stream",
     "text": [
      "2020-08-05 18:01:55 Hail: INFO: balding_nichols_model: generating genotypes for 3 populations, 10 samples, and 5000 variants...\n",
      "2020-08-05 18:01:55 Hail: INFO: Coerced sorted dataset\n",
      "2020-08-05 18:02:02 Hail: INFO: wrote matrix table with 5000 rows and 10 columns in 8 partitions to balding_nichols_data.mt\n",
      "2020-08-05 18:02:03 Hail: INFO: Ordering unsorted dataset with network shuffle\n",
      "2020-08-05 18:02:07 Hail: INFO: wrote table with 313 rows in 8 partitions to /tmp/test_table.ht\n",
      "2020-08-05 18:02:09 Hail: INFO: Coerced sorted dataset\n"
     ]
    },
    {
     "name": "stdout",
     "output_type": "stream",
     "text": [
      "index 10 is out of bounds for axis 0 with size 10\n",
      "failed during blanczos algorithm with  (5000, 10)\n",
      "loop attempt  64  with m: 5000 , n: 10 , m*n = 50000 , and q: 1\n"
     ]
    },
    {
     "name": "stderr",
     "output_type": "stream",
     "text": [
      "2020-08-05 18:02:10 Hail: INFO: balding_nichols_model: generating genotypes for 3 populations, 10 samples, and 5000 variants...\n",
      "2020-08-05 18:02:10 Hail: INFO: Coerced sorted dataset\n",
      "2020-08-05 18:02:17 Hail: INFO: wrote matrix table with 5000 rows and 10 columns in 8 partitions to balding_nichols_data.mt\n",
      "2020-08-05 18:02:18 Hail: INFO: Ordering unsorted dataset with network shuffle\n",
      "2020-08-05 18:02:21 Hail: INFO: wrote table with 157 rows in 8 partitions to /tmp/test_table.ht\n",
      "2020-08-05 18:02:24 Hail: INFO: Coerced sorted dataset\n"
     ]
    },
    {
     "name": "stdout",
     "output_type": "stream",
     "text": [
      "index 10 is out of bounds for axis 0 with size 10\n",
      "failed during blanczos algorithm with  (5000, 10)\n",
      "loop attempt  65  with m: 5000 , n: 50 , m*n = 250000 , and q: 1\n"
     ]
    },
    {
     "name": "stderr",
     "output_type": "stream",
     "text": [
      "2020-08-05 18:02:24 Hail: INFO: balding_nichols_model: generating genotypes for 3 populations, 50 samples, and 5000 variants...\n",
      "2020-08-05 18:02:24 Hail: INFO: Coerced sorted dataset\n",
      "2020-08-05 18:02:32 Hail: INFO: wrote matrix table with 5000 rows and 50 columns in 8 partitions to balding_nichols_data.mt\n",
      "2020-08-05 18:02:32 Hail: INFO: Ordering unsorted dataset with network shuffle\n",
      "2020-08-05 18:02:35 Hail: INFO: wrote table with 2500 rows in 8 partitions to /tmp/test_table.ht\n",
      "2020-08-05 18:02:40 Hail: INFO: Coerced sorted dataset\n",
      "2020-08-05 18:02:42 Hail: INFO: Coerced sorted dataset\n"
     ]
    },
    {
     "name": "stdout",
     "output_type": "stream",
     "text": [
      "loop attempt  66  with m: 5000 , n: 50 , m*n = 250000 , and q: 1\n"
     ]
    },
    {
     "name": "stderr",
     "output_type": "stream",
     "text": [
      "2020-08-05 18:02:43 Hail: INFO: balding_nichols_model: generating genotypes for 3 populations, 50 samples, and 5000 variants...\n",
      "2020-08-05 18:02:43 Hail: INFO: Coerced sorted dataset\n",
      "2020-08-05 18:02:50 Hail: INFO: wrote matrix table with 5000 rows and 50 columns in 8 partitions to balding_nichols_data.mt\n",
      "2020-08-05 18:02:51 Hail: INFO: Ordering unsorted dataset with network shuffle\n",
      "2020-08-05 18:02:54 Hail: INFO: wrote table with 1250 rows in 8 partitions to /tmp/test_table.ht\n",
      "2020-08-05 18:02:58 Hail: INFO: Coerced sorted dataset\n",
      "2020-08-05 18:03:00 Hail: INFO: Coerced sorted dataset\n"
     ]
    },
    {
     "name": "stdout",
     "output_type": "stream",
     "text": [
      "loop attempt  67  with m: 5000 , n: 50 , m*n = 250000 , and q: 1\n"
     ]
    },
    {
     "name": "stderr",
     "output_type": "stream",
     "text": [
      "2020-08-05 18:03:00 Hail: INFO: balding_nichols_model: generating genotypes for 3 populations, 50 samples, and 5000 variants...\n",
      "2020-08-05 18:03:01 Hail: INFO: Coerced sorted dataset\n",
      "2020-08-05 18:03:07 Hail: INFO: wrote matrix table with 5000 rows and 50 columns in 8 partitions to balding_nichols_data.mt\n",
      "2020-08-05 18:03:07 Hail: INFO: Ordering unsorted dataset with network shuffle\n",
      "2020-08-05 18:03:10 Hail: INFO: wrote table with 625 rows in 8 partitions to /tmp/test_table.ht\n",
      "2020-08-05 18:03:13 Hail: INFO: Coerced sorted dataset\n",
      "2020-08-05 18:03:15 Hail: INFO: Coerced sorted dataset\n"
     ]
    },
    {
     "name": "stdout",
     "output_type": "stream",
     "text": [
      "loop attempt  68  with m: 5000 , n: 50 , m*n = 250000 , and q: 1\n"
     ]
    },
    {
     "name": "stderr",
     "output_type": "stream",
     "text": [
      "2020-08-05 18:03:15 Hail: INFO: balding_nichols_model: generating genotypes for 3 populations, 50 samples, and 5000 variants...\n",
      "2020-08-05 18:03:15 Hail: INFO: Coerced sorted dataset\n",
      "2020-08-05 18:03:23 Hail: INFO: wrote matrix table with 5000 rows and 50 columns in 8 partitions to balding_nichols_data.mt\n",
      "2020-08-05 18:03:23 Hail: INFO: Ordering unsorted dataset with network shuffle\n",
      "2020-08-05 18:03:27 Hail: INFO: wrote table with 313 rows in 8 partitions to /tmp/test_table.ht\n",
      "2020-08-05 18:03:30 Hail: INFO: Coerced sorted dataset\n",
      "2020-08-05 18:03:32 Hail: INFO: Coerced sorted dataset\n"
     ]
    },
    {
     "name": "stdout",
     "output_type": "stream",
     "text": [
      "loop attempt  69  with m: 5000 , n: 50 , m*n = 250000 , and q: 1\n"
     ]
    },
    {
     "name": "stderr",
     "output_type": "stream",
     "text": [
      "2020-08-05 18:03:32 Hail: INFO: balding_nichols_model: generating genotypes for 3 populations, 50 samples, and 5000 variants...\n",
      "2020-08-05 18:03:32 Hail: INFO: Coerced sorted dataset\n",
      "2020-08-05 18:03:39 Hail: INFO: wrote matrix table with 5000 rows and 50 columns in 8 partitions to balding_nichols_data.mt\n",
      "2020-08-05 18:03:40 Hail: INFO: Ordering unsorted dataset with network shuffle\n",
      "2020-08-05 18:03:43 Hail: INFO: wrote table with 157 rows in 8 partitions to /tmp/test_table.ht\n",
      "2020-08-05 18:03:46 Hail: INFO: Coerced sorted dataset\n",
      "2020-08-05 18:03:47 Hail: INFO: Coerced sorted dataset\n"
     ]
    },
    {
     "name": "stdout",
     "output_type": "stream",
     "text": [
      "loop attempt  70  with m: 5000 , n: 100 , m*n = 500000 , and q: 1\n"
     ]
    },
    {
     "name": "stderr",
     "output_type": "stream",
     "text": [
      "2020-08-05 18:03:48 Hail: INFO: balding_nichols_model: generating genotypes for 3 populations, 100 samples, and 5000 variants...\n",
      "2020-08-05 18:03:48 Hail: INFO: Coerced sorted dataset\n",
      "2020-08-05 18:03:55 Hail: INFO: wrote matrix table with 5000 rows and 100 columns in 8 partitions to balding_nichols_data.mt\n",
      "2020-08-05 18:03:56 Hail: INFO: Ordering unsorted dataset with network shuffle\n",
      "2020-08-05 18:04:00 Hail: INFO: wrote table with 2500 rows in 8 partitions to /tmp/test_table.ht\n",
      "2020-08-05 18:04:05 Hail: INFO: Coerced sorted dataset\n",
      "2020-08-05 18:04:07 Hail: INFO: Coerced sorted dataset\n"
     ]
    },
    {
     "name": "stdout",
     "output_type": "stream",
     "text": [
      "loop attempt  71  with m: 5000 , n: 100 , m*n = 500000 , and q: 1\n"
     ]
    },
    {
     "name": "stderr",
     "output_type": "stream",
     "text": [
      "2020-08-05 18:04:08 Hail: INFO: balding_nichols_model: generating genotypes for 3 populations, 100 samples, and 5000 variants...\n",
      "2020-08-05 18:04:08 Hail: INFO: Coerced sorted dataset\n",
      "2020-08-05 18:04:15 Hail: INFO: wrote matrix table with 5000 rows and 100 columns in 8 partitions to balding_nichols_data.mt\n",
      "2020-08-05 18:04:16 Hail: INFO: Ordering unsorted dataset with network shuffle\n",
      "2020-08-05 18:04:19 Hail: INFO: wrote table with 1250 rows in 8 partitions to /tmp/test_table.ht\n",
      "2020-08-05 18:04:23 Hail: INFO: Coerced sorted dataset\n",
      "2020-08-05 18:04:25 Hail: INFO: Coerced sorted dataset\n"
     ]
    },
    {
     "name": "stdout",
     "output_type": "stream",
     "text": [
      "loop attempt  72  with m: 5000 , n: 100 , m*n = 500000 , and q: 1\n"
     ]
    },
    {
     "name": "stderr",
     "output_type": "stream",
     "text": [
      "2020-08-05 18:04:26 Hail: INFO: balding_nichols_model: generating genotypes for 3 populations, 100 samples, and 5000 variants...\n",
      "2020-08-05 18:04:26 Hail: INFO: Coerced sorted dataset\n",
      "2020-08-05 18:04:32 Hail: INFO: wrote matrix table with 5000 rows and 100 columns in 8 partitions to balding_nichols_data.mt\n",
      "2020-08-05 18:04:33 Hail: INFO: Ordering unsorted dataset with network shuffle\n",
      "2020-08-05 18:04:37 Hail: INFO: wrote table with 625 rows in 8 partitions to /tmp/test_table.ht\n",
      "2020-08-05 18:04:40 Hail: INFO: Coerced sorted dataset\n",
      "2020-08-05 18:04:42 Hail: INFO: Coerced sorted dataset\n"
     ]
    },
    {
     "name": "stdout",
     "output_type": "stream",
     "text": [
      "loop attempt  73  with m: 5000 , n: 100 , m*n = 500000 , and q: 1\n"
     ]
    },
    {
     "name": "stderr",
     "output_type": "stream",
     "text": [
      "2020-08-05 18:04:42 Hail: INFO: balding_nichols_model: generating genotypes for 3 populations, 100 samples, and 5000 variants...\n",
      "2020-08-05 18:04:42 Hail: INFO: Coerced sorted dataset\n",
      "2020-08-05 18:04:49 Hail: INFO: wrote matrix table with 5000 rows and 100 columns in 8 partitions to balding_nichols_data.mt\n",
      "2020-08-05 18:04:50 Hail: INFO: Ordering unsorted dataset with network shuffle\n",
      "2020-08-05 18:04:53 Hail: INFO: wrote table with 313 rows in 8 partitions to /tmp/test_table.ht\n",
      "2020-08-05 18:04:56 Hail: INFO: Coerced sorted dataset\n",
      "2020-08-05 18:04:58 Hail: INFO: Coerced sorted dataset\n"
     ]
    },
    {
     "name": "stdout",
     "output_type": "stream",
     "text": [
      "loop attempt  74  with m: 5000 , n: 100 , m*n = 500000 , and q: 1\n"
     ]
    },
    {
     "name": "stderr",
     "output_type": "stream",
     "text": [
      "2020-08-05 18:04:58 Hail: INFO: balding_nichols_model: generating genotypes for 3 populations, 100 samples, and 5000 variants...\n",
      "2020-08-05 18:04:58 Hail: INFO: Coerced sorted dataset\n",
      "2020-08-05 18:05:05 Hail: INFO: wrote matrix table with 5000 rows and 100 columns in 8 partitions to balding_nichols_data.mt\n",
      "2020-08-05 18:05:06 Hail: INFO: Ordering unsorted dataset with network shuffle\n",
      "2020-08-05 18:05:09 Hail: INFO: wrote table with 157 rows in 8 partitions to /tmp/test_table.ht\n",
      "2020-08-05 18:05:12 Hail: INFO: Coerced sorted dataset\n",
      "2020-08-05 18:05:13 Hail: INFO: Coerced sorted dataset\n"
     ]
    },
    {
     "name": "stdout",
     "output_type": "stream",
     "text": [
      "loop attempt  75  with m: 5000 , n: 500 , m*n = 2500000 , and q: 1\n"
     ]
    },
    {
     "name": "stderr",
     "output_type": "stream",
     "text": [
      "2020-08-05 18:05:13 Hail: INFO: balding_nichols_model: generating genotypes for 3 populations, 500 samples, and 5000 variants...\n",
      "2020-08-05 18:05:14 Hail: INFO: Coerced sorted dataset\n",
      "2020-08-05 18:05:21 Hail: INFO: wrote matrix table with 5000 rows and 500 columns in 8 partitions to balding_nichols_data.mt\n",
      "2020-08-05 18:05:22 Hail: INFO: Ordering unsorted dataset with network shuffle\n",
      "2020-08-05 18:05:26 Hail: INFO: wrote table with 2500 rows in 8 partitions to /tmp/test_table.ht\n",
      "2020-08-05 18:05:33 Hail: INFO: Coerced sorted dataset\n",
      "2020-08-05 18:05:35 Hail: INFO: Coerced sorted dataset\n"
     ]
    },
    {
     "name": "stdout",
     "output_type": "stream",
     "text": [
      "loop attempt  76  with m: 5000 , n: 500 , m*n = 2500000 , and q: 1\n"
     ]
    },
    {
     "name": "stderr",
     "output_type": "stream",
     "text": [
      "2020-08-05 18:05:36 Hail: INFO: balding_nichols_model: generating genotypes for 3 populations, 500 samples, and 5000 variants...\n",
      "2020-08-05 18:05:36 Hail: INFO: Coerced sorted dataset\n",
      "2020-08-05 18:05:44 Hail: INFO: wrote matrix table with 5000 rows and 500 columns in 8 partitions to balding_nichols_data.mt\n",
      "2020-08-05 18:05:44 Hail: INFO: Ordering unsorted dataset with network shuffle\n",
      "2020-08-05 18:05:47 Hail: INFO: wrote table with 1250 rows in 8 partitions to /tmp/test_table.ht\n",
      "2020-08-05 18:05:53 Hail: INFO: Coerced sorted dataset\n",
      "2020-08-05 18:05:55 Hail: INFO: Coerced sorted dataset\n"
     ]
    },
    {
     "name": "stdout",
     "output_type": "stream",
     "text": [
      "loop attempt  77  with m: 5000 , n: 500 , m*n = 2500000 , and q: 1\n"
     ]
    },
    {
     "name": "stderr",
     "output_type": "stream",
     "text": [
      "2020-08-05 18:05:56 Hail: INFO: balding_nichols_model: generating genotypes for 3 populations, 500 samples, and 5000 variants...\n",
      "2020-08-05 18:05:56 Hail: INFO: Coerced sorted dataset\n",
      "2020-08-05 18:06:03 Hail: INFO: wrote matrix table with 5000 rows and 500 columns in 8 partitions to balding_nichols_data.mt\n",
      "2020-08-05 18:06:04 Hail: INFO: Ordering unsorted dataset with network shuffle\n",
      "2020-08-05 18:06:08 Hail: INFO: wrote table with 625 rows in 8 partitions to /tmp/test_table.ht\n",
      "2020-08-05 18:06:13 Hail: INFO: Coerced sorted dataset\n",
      "2020-08-05 18:06:14 Hail: INFO: Coerced sorted dataset\n"
     ]
    },
    {
     "name": "stdout",
     "output_type": "stream",
     "text": [
      "loop attempt  78  with m: 5000 , n: 500 , m*n = 2500000 , and q: 1\n"
     ]
    },
    {
     "name": "stderr",
     "output_type": "stream",
     "text": [
      "2020-08-05 18:06:15 Hail: INFO: balding_nichols_model: generating genotypes for 3 populations, 500 samples, and 5000 variants...\n",
      "2020-08-05 18:06:15 Hail: INFO: Coerced sorted dataset\n",
      "2020-08-05 18:06:23 Hail: INFO: wrote matrix table with 5000 rows and 500 columns in 8 partitions to balding_nichols_data.mt\n",
      "2020-08-05 18:06:24 Hail: INFO: Ordering unsorted dataset with network shuffle\n",
      "2020-08-05 18:06:27 Hail: INFO: wrote table with 313 rows in 8 partitions to /tmp/test_table.ht\n",
      "2020-08-05 18:06:32 Hail: INFO: Coerced sorted dataset\n",
      "2020-08-05 18:06:34 Hail: INFO: Coerced sorted dataset\n"
     ]
    },
    {
     "name": "stdout",
     "output_type": "stream",
     "text": [
      "loop attempt  79  with m: 5000 , n: 500 , m*n = 2500000 , and q: 1\n"
     ]
    },
    {
     "name": "stderr",
     "output_type": "stream",
     "text": [
      "2020-08-05 18:06:34 Hail: INFO: balding_nichols_model: generating genotypes for 3 populations, 500 samples, and 5000 variants...\n",
      "2020-08-05 18:06:34 Hail: INFO: Coerced sorted dataset\n",
      "2020-08-05 18:06:40 Hail: INFO: wrote matrix table with 5000 rows and 500 columns in 8 partitions to balding_nichols_data.mt\n",
      "2020-08-05 18:06:40 Hail: INFO: Ordering unsorted dataset with network shuffle\n",
      "2020-08-05 18:06:43 Hail: INFO: wrote table with 157 rows in 8 partitions to /tmp/test_table.ht\n",
      "2020-08-05 18:06:48 Hail: INFO: Coerced sorted dataset\n",
      "2020-08-05 18:06:49 Hail: INFO: Coerced sorted dataset\n"
     ]
    },
    {
     "name": "stdout",
     "output_type": "stream",
     "text": [
      "loop attempt  80  with m: 100 , n: 10 , m*n = 1000 , and q: 2\n"
     ]
    },
    {
     "name": "stderr",
     "output_type": "stream",
     "text": [
      "2020-08-05 18:06:50 Hail: INFO: balding_nichols_model: generating genotypes for 3 populations, 10 samples, and 100 variants...\n",
      "2020-08-05 18:06:50 Hail: INFO: Coerced sorted dataset\n",
      "2020-08-05 18:06:54 Hail: INFO: wrote matrix table with 100 rows and 10 columns in 8 partitions to balding_nichols_data.mt\n",
      "2020-08-05 18:06:54 Hail: INFO: Ordering unsorted dataset with network shuffle\n",
      "2020-08-05 18:06:58 Hail: INFO: wrote table with 50 rows in 8 partitions to /tmp/test_table.ht\n",
      "2020-08-05 18:06:59 Hail: INFO: Coerced sorted dataset\n"
     ]
    },
    {
     "name": "stdout",
     "output_type": "stream",
     "text": [
      "index 10 is out of bounds for axis 0 with size 10\n",
      "failed during blanczos algorithm with  (100, 10)\n",
      "loop attempt  81  with m: 100 , n: 10 , m*n = 1000 , and q: 2\n"
     ]
    },
    {
     "name": "stderr",
     "output_type": "stream",
     "text": [
      "2020-08-05 18:06:59 Hail: INFO: balding_nichols_model: generating genotypes for 3 populations, 10 samples, and 100 variants...\n",
      "2020-08-05 18:07:00 Hail: INFO: Coerced sorted dataset\n",
      "2020-08-05 18:07:06 Hail: INFO: wrote matrix table with 100 rows and 10 columns in 8 partitions to balding_nichols_data.mt\n",
      "2020-08-05 18:07:07 Hail: INFO: Ordering unsorted dataset with network shuffle\n",
      "2020-08-05 18:07:10 Hail: INFO: wrote table with 25 rows in 8 partitions to /tmp/test_table.ht\n",
      "2020-08-05 18:07:12 Hail: INFO: Coerced sorted dataset\n"
     ]
    },
    {
     "name": "stdout",
     "output_type": "stream",
     "text": [
      "index 10 is out of bounds for axis 0 with size 10\n",
      "failed during blanczos algorithm with  (100, 10)\n",
      "loop attempt  82  with m: 100 , n: 10 , m*n = 1000 , and q: 2\n"
     ]
    },
    {
     "name": "stderr",
     "output_type": "stream",
     "text": [
      "2020-08-05 18:07:12 Hail: INFO: balding_nichols_model: generating genotypes for 3 populations, 10 samples, and 100 variants...\n",
      "2020-08-05 18:07:12 Hail: INFO: Coerced sorted dataset\n",
      "2020-08-05 18:07:19 Hail: INFO: wrote matrix table with 100 rows and 10 columns in 8 partitions to balding_nichols_data.mt\n",
      "2020-08-05 18:07:20 Hail: INFO: Ordering unsorted dataset with network shuffle\n",
      "2020-08-05 18:07:22 Hail: INFO: wrote table with 13 rows in 8 partitions to /tmp/test_table.ht\n",
      "2020-08-05 18:07:24 Hail: INFO: Coerced sorted dataset\n"
     ]
    },
    {
     "name": "stdout",
     "output_type": "stream",
     "text": [
      "index 10 is out of bounds for axis 0 with size 10\n",
      "failed during blanczos algorithm with  (100, 10)\n",
      "loop attempt  83  with m: 100 , n: 10 , m*n = 1000 , and q: 2\n"
     ]
    },
    {
     "name": "stderr",
     "output_type": "stream",
     "text": [
      "2020-08-05 18:07:24 Hail: INFO: balding_nichols_model: generating genotypes for 3 populations, 10 samples, and 100 variants...\n",
      "2020-08-05 18:07:24 Hail: INFO: Coerced sorted dataset\n",
      "2020-08-05 18:07:31 Hail: INFO: wrote matrix table with 100 rows and 10 columns in 8 partitions to balding_nichols_data.mt\n",
      "2020-08-05 18:07:32 Hail: INFO: Coerced sorted dataset\n",
      "2020-08-05 18:07:32 Hail: INFO: Coerced dataset with out-of-order partitions.\n",
      "2020-08-05 18:07:35 Hail: INFO: wrote table with 7 rows in 5 partitions to /tmp/test_table.ht\n",
      "2020-08-05 18:07:36 Hail: INFO: Coerced sorted dataset\n"
     ]
    },
    {
     "name": "stdout",
     "output_type": "stream",
     "text": [
      "index 10 is out of bounds for axis 0 with size 10\n",
      "failed during blanczos algorithm with  (100, 10)\n",
      "loop attempt  84  with m: 100 , n: 10 , m*n = 1000 , and q: 2\n"
     ]
    },
    {
     "name": "stderr",
     "output_type": "stream",
     "text": [
      "2020-08-05 18:07:36 Hail: INFO: balding_nichols_model: generating genotypes for 3 populations, 10 samples, and 100 variants...\n",
      "2020-08-05 18:07:36 Hail: INFO: Coerced sorted dataset\n",
      "2020-08-05 18:07:41 Hail: INFO: wrote matrix table with 100 rows and 10 columns in 8 partitions to balding_nichols_data.mt\n",
      "2020-08-05 18:07:42 Hail: INFO: Coerced sorted dataset\n",
      "2020-08-05 18:07:42 Hail: INFO: Coerced dataset with out-of-order partitions.\n",
      "2020-08-05 18:07:45 Hail: INFO: wrote table with 4 rows in 3 partitions to /tmp/test_table.ht\n",
      "2020-08-05 18:07:46 Hail: INFO: Coerced sorted dataset\n"
     ]
    },
    {
     "name": "stdout",
     "output_type": "stream",
     "text": [
      "index 10 is out of bounds for axis 0 with size 10\n",
      "failed during blanczos algorithm with  (100, 10)\n",
      "loop attempt  85  with m: 100 , n: 50 , m*n = 5000 , and q: 2\n"
     ]
    },
    {
     "name": "stderr",
     "output_type": "stream",
     "text": [
      "2020-08-05 18:07:47 Hail: INFO: balding_nichols_model: generating genotypes for 3 populations, 50 samples, and 100 variants...\n",
      "2020-08-05 18:07:47 Hail: INFO: Coerced sorted dataset\n",
      "2020-08-05 18:07:53 Hail: INFO: wrote matrix table with 100 rows and 50 columns in 8 partitions to balding_nichols_data.mt\n",
      "2020-08-05 18:07:54 Hail: INFO: Ordering unsorted dataset with network shuffle\n",
      "2020-08-05 18:07:57 Hail: INFO: wrote table with 50 rows in 8 partitions to /tmp/test_table.ht\n",
      "2020-08-05 18:07:59 Hail: INFO: Coerced sorted dataset\n",
      "2020-08-05 18:07:59 Hail: INFO: Coerced sorted dataset\n",
      "2020-08-05 18:07:59 Hail: INFO: balding_nichols_model: generating genotypes for 3 populations, 50 samples, and 100 variants...\n"
     ]
    },
    {
     "name": "stdout",
     "output_type": "stream",
     "text": [
      "loop attempt  86  with m: 100 , n: 50 , m*n = 5000 , and q: 2\n"
     ]
    },
    {
     "name": "stderr",
     "output_type": "stream",
     "text": [
      "2020-08-05 18:07:59 Hail: INFO: Coerced sorted dataset\n",
      "2020-08-05 18:08:05 Hail: INFO: wrote matrix table with 100 rows and 50 columns in 8 partitions to balding_nichols_data.mt\n",
      "2020-08-05 18:08:05 Hail: INFO: Ordering unsorted dataset with network shuffle\n",
      "2020-08-05 18:08:07 Hail: INFO: wrote table with 25 rows in 8 partitions to /tmp/test_table.ht\n",
      "2020-08-05 18:08:09 Hail: INFO: Coerced sorted dataset\n",
      "2020-08-05 18:08:09 Hail: INFO: Coerced sorted dataset\n",
      "2020-08-05 18:08:09 Hail: INFO: balding_nichols_model: generating genotypes for 3 populations, 50 samples, and 100 variants...\n"
     ]
    },
    {
     "name": "stdout",
     "output_type": "stream",
     "text": [
      "loop attempt  87  with m: 100 , n: 50 , m*n = 5000 , and q: 2\n"
     ]
    },
    {
     "name": "stderr",
     "output_type": "stream",
     "text": [
      "2020-08-05 18:08:10 Hail: INFO: Coerced sorted dataset\n",
      "2020-08-05 18:08:16 Hail: INFO: wrote matrix table with 100 rows and 50 columns in 8 partitions to balding_nichols_data.mt\n",
      "2020-08-05 18:08:17 Hail: INFO: Ordering unsorted dataset with network shuffle\n",
      "2020-08-05 18:08:20 Hail: INFO: wrote table with 13 rows in 8 partitions to /tmp/test_table.ht\n",
      "2020-08-05 18:08:22 Hail: INFO: Coerced sorted dataset\n",
      "2020-08-05 18:08:22 Hail: INFO: Coerced sorted dataset\n",
      "2020-08-05 18:08:22 Hail: INFO: balding_nichols_model: generating genotypes for 3 populations, 50 samples, and 100 variants...\n"
     ]
    },
    {
     "name": "stdout",
     "output_type": "stream",
     "text": [
      "loop attempt  88  with m: 100 , n: 50 , m*n = 5000 , and q: 2\n"
     ]
    },
    {
     "name": "stderr",
     "output_type": "stream",
     "text": [
      "2020-08-05 18:08:22 Hail: INFO: Coerced sorted dataset\n",
      "2020-08-05 18:08:28 Hail: INFO: wrote matrix table with 100 rows and 50 columns in 8 partitions to balding_nichols_data.mt\n",
      "2020-08-05 18:08:29 Hail: INFO: Coerced sorted dataset\n",
      "2020-08-05 18:08:29 Hail: INFO: Coerced dataset with out-of-order partitions.\n",
      "2020-08-05 18:08:31 Hail: INFO: wrote table with 7 rows in 5 partitions to /tmp/test_table.ht\n",
      "2020-08-05 18:08:32 Hail: INFO: Coerced sorted dataset\n",
      "2020-08-05 18:08:32 Hail: INFO: Coerced sorted dataset\n",
      "2020-08-05 18:08:33 Hail: INFO: balding_nichols_model: generating genotypes for 3 populations, 50 samples, and 100 variants...\n"
     ]
    },
    {
     "name": "stdout",
     "output_type": "stream",
     "text": [
      "loop attempt  89  with m: 100 , n: 50 , m*n = 5000 , and q: 2\n"
     ]
    },
    {
     "name": "stderr",
     "output_type": "stream",
     "text": [
      "2020-08-05 18:08:33 Hail: INFO: Coerced sorted dataset\n",
      "2020-08-05 18:08:40 Hail: INFO: wrote matrix table with 100 rows and 50 columns in 8 partitions to balding_nichols_data.mt\n",
      "2020-08-05 18:08:40 Hail: INFO: Coerced sorted dataset\n",
      "2020-08-05 18:08:40 Hail: INFO: Coerced dataset with out-of-order partitions.\n",
      "2020-08-05 18:08:42 Hail: INFO: wrote table with 4 rows in 3 partitions to /tmp/test_table.ht\n",
      "2020-08-05 18:08:44 Hail: INFO: Coerced sorted dataset\n",
      "2020-08-05 18:08:44 Hail: INFO: Coerced sorted dataset\n",
      "2020-08-05 18:08:44 Hail: INFO: balding_nichols_model: generating genotypes for 3 populations, 100 samples, and 100 variants...\n"
     ]
    },
    {
     "name": "stdout",
     "output_type": "stream",
     "text": [
      "loop attempt  90  with m: 100 , n: 100 , m*n = 10000 , and q: 2\n"
     ]
    },
    {
     "name": "stderr",
     "output_type": "stream",
     "text": [
      "2020-08-05 18:08:45 Hail: INFO: Coerced sorted dataset\n",
      "2020-08-05 18:08:51 Hail: INFO: wrote matrix table with 100 rows and 100 columns in 8 partitions to balding_nichols_data.mt\n",
      "2020-08-05 18:08:51 Hail: INFO: Ordering unsorted dataset with network shuffle\n",
      "2020-08-05 18:08:55 Hail: INFO: wrote table with 50 rows in 8 partitions to /tmp/test_table.ht\n",
      "2020-08-05 18:08:57 Hail: INFO: Coerced sorted dataset\n",
      "2020-08-05 18:08:57 Hail: INFO: Coerced sorted dataset\n",
      "2020-08-05 18:08:57 Hail: INFO: balding_nichols_model: generating genotypes for 3 populations, 100 samples, and 100 variants...\n"
     ]
    },
    {
     "name": "stdout",
     "output_type": "stream",
     "text": [
      "loop attempt  91  with m: 100 , n: 100 , m*n = 10000 , and q: 2\n"
     ]
    },
    {
     "name": "stderr",
     "output_type": "stream",
     "text": [
      "2020-08-05 18:08:57 Hail: INFO: Coerced sorted dataset\n",
      "2020-08-05 18:09:04 Hail: INFO: wrote matrix table with 100 rows and 100 columns in 8 partitions to balding_nichols_data.mt\n",
      "2020-08-05 18:09:04 Hail: INFO: Ordering unsorted dataset with network shuffle\n",
      "2020-08-05 18:09:08 Hail: INFO: wrote table with 25 rows in 8 partitions to /tmp/test_table.ht\n",
      "2020-08-05 18:09:09 Hail: INFO: Coerced sorted dataset\n",
      "2020-08-05 18:09:10 Hail: INFO: Coerced sorted dataset\n",
      "2020-08-05 18:09:10 Hail: INFO: balding_nichols_model: generating genotypes for 3 populations, 100 samples, and 100 variants...\n"
     ]
    },
    {
     "name": "stdout",
     "output_type": "stream",
     "text": [
      "loop attempt  92  with m: 100 , n: 100 , m*n = 10000 , and q: 2\n"
     ]
    },
    {
     "name": "stderr",
     "output_type": "stream",
     "text": [
      "2020-08-05 18:09:10 Hail: INFO: Coerced sorted dataset\n",
      "2020-08-05 18:09:16 Hail: INFO: wrote matrix table with 100 rows and 100 columns in 8 partitions to balding_nichols_data.mt\n",
      "2020-08-05 18:09:16 Hail: INFO: Ordering unsorted dataset with network shuffle\n",
      "2020-08-05 18:09:20 Hail: INFO: wrote table with 13 rows in 8 partitions to /tmp/test_table.ht\n",
      "2020-08-05 18:09:21 Hail: INFO: Coerced sorted dataset\n",
      "2020-08-05 18:09:22 Hail: INFO: Coerced sorted dataset\n",
      "2020-08-05 18:09:22 Hail: INFO: balding_nichols_model: generating genotypes for 3 populations, 100 samples, and 100 variants...\n"
     ]
    },
    {
     "name": "stdout",
     "output_type": "stream",
     "text": [
      "loop attempt  93  with m: 100 , n: 100 , m*n = 10000 , and q: 2\n"
     ]
    },
    {
     "name": "stderr",
     "output_type": "stream",
     "text": [
      "2020-08-05 18:09:22 Hail: INFO: Coerced sorted dataset\n",
      "2020-08-05 18:09:29 Hail: INFO: wrote matrix table with 100 rows and 100 columns in 8 partitions to balding_nichols_data.mt\n",
      "2020-08-05 18:09:30 Hail: INFO: Coerced sorted dataset\n",
      "2020-08-05 18:09:30 Hail: INFO: Coerced dataset with out-of-order partitions.\n",
      "2020-08-05 18:09:32 Hail: INFO: wrote table with 7 rows in 5 partitions to /tmp/test_table.ht\n",
      "2020-08-05 18:09:34 Hail: INFO: Coerced sorted dataset\n",
      "2020-08-05 18:09:34 Hail: INFO: Coerced sorted dataset\n",
      "2020-08-05 18:09:34 Hail: INFO: balding_nichols_model: generating genotypes for 3 populations, 100 samples, and 100 variants...\n"
     ]
    },
    {
     "name": "stdout",
     "output_type": "stream",
     "text": [
      "loop attempt  94  with m: 100 , n: 100 , m*n = 10000 , and q: 2\n"
     ]
    },
    {
     "name": "stderr",
     "output_type": "stream",
     "text": [
      "2020-08-05 18:09:34 Hail: INFO: Coerced sorted dataset\n",
      "2020-08-05 18:09:41 Hail: INFO: wrote matrix table with 100 rows and 100 columns in 8 partitions to balding_nichols_data.mt\n",
      "2020-08-05 18:09:41 Hail: INFO: Coerced sorted dataset\n",
      "2020-08-05 18:09:41 Hail: INFO: Coerced dataset with out-of-order partitions.\n",
      "2020-08-05 18:09:45 Hail: INFO: wrote table with 4 rows in 3 partitions to /tmp/test_table.ht\n",
      "2020-08-05 18:09:46 Hail: INFO: Coerced sorted dataset\n",
      "2020-08-05 18:09:47 Hail: INFO: Coerced sorted dataset\n",
      "2020-08-05 18:09:47 Hail: INFO: balding_nichols_model: generating genotypes for 3 populations, 10 samples, and 500 variants...\n"
     ]
    },
    {
     "name": "stdout",
     "output_type": "stream",
     "text": [
      "loop attempt  95  with m: 100 , n: 500 , m*n = 50000 , and q: 2\n",
      "\n",
      "loop attempt  96  with m: 100 , n: 500 , m*n = 50000 , and q: 2\n",
      "\n",
      "loop attempt  97  with m: 100 , n: 500 , m*n = 50000 , and q: 2\n",
      "\n",
      "loop attempt  98  with m: 100 , n: 500 , m*n = 50000 , and q: 2\n",
      "\n",
      "loop attempt  99  with m: 100 , n: 500 , m*n = 50000 , and q: 2\n",
      "\n",
      "loop attempt  100  with m: 500 , n: 10 , m*n = 5000 , and q: 2\n"
     ]
    },
    {
     "name": "stderr",
     "output_type": "stream",
     "text": [
      "2020-08-05 18:09:47 Hail: INFO: Coerced sorted dataset\n",
      "2020-08-05 18:09:54 Hail: INFO: wrote matrix table with 500 rows and 10 columns in 8 partitions to balding_nichols_data.mt\n",
      "2020-08-05 18:09:55 Hail: INFO: Ordering unsorted dataset with network shuffle\n",
      "2020-08-05 18:09:59 Hail: INFO: wrote table with 250 rows in 8 partitions to /tmp/test_table.ht\n",
      "2020-08-05 18:10:01 Hail: INFO: Coerced sorted dataset\n"
     ]
    },
    {
     "name": "stdout",
     "output_type": "stream",
     "text": [
      "index 10 is out of bounds for axis 0 with size 10\n",
      "failed during blanczos algorithm with  (500, 10)\n",
      "loop attempt  101  with m: 500 , n: 10 , m*n = 5000 , and q: 2\n"
     ]
    },
    {
     "name": "stderr",
     "output_type": "stream",
     "text": [
      "2020-08-05 18:10:01 Hail: INFO: balding_nichols_model: generating genotypes for 3 populations, 10 samples, and 500 variants...\n",
      "2020-08-05 18:10:01 Hail: INFO: Coerced sorted dataset\n",
      "2020-08-05 18:10:07 Hail: INFO: wrote matrix table with 500 rows and 10 columns in 8 partitions to balding_nichols_data.mt\n",
      "2020-08-05 18:10:08 Hail: INFO: Ordering unsorted dataset with network shuffle\n",
      "2020-08-05 18:10:09 Hail: INFO: wrote table with 125 rows in 8 partitions to /tmp/test_table.ht\n",
      "2020-08-05 18:10:11 Hail: INFO: Coerced sorted dataset\n"
     ]
    },
    {
     "name": "stdout",
     "output_type": "stream",
     "text": [
      "index 10 is out of bounds for axis 0 with size 10\n",
      "failed during blanczos algorithm with  (500, 10)\n",
      "loop attempt  102  with m: 500 , n: 10 , m*n = 5000 , and q: 2\n"
     ]
    },
    {
     "name": "stderr",
     "output_type": "stream",
     "text": [
      "2020-08-05 18:10:11 Hail: INFO: balding_nichols_model: generating genotypes for 3 populations, 10 samples, and 500 variants...\n",
      "2020-08-05 18:10:12 Hail: INFO: Coerced sorted dataset\n",
      "2020-08-05 18:10:17 Hail: INFO: wrote matrix table with 500 rows and 10 columns in 8 partitions to balding_nichols_data.mt\n",
      "2020-08-05 18:10:17 Hail: INFO: Ordering unsorted dataset with network shuffle\n",
      "2020-08-05 18:10:19 Hail: INFO: wrote table with 63 rows in 8 partitions to /tmp/test_table.ht\n",
      "2020-08-05 18:10:21 Hail: INFO: Coerced sorted dataset\n"
     ]
    },
    {
     "name": "stdout",
     "output_type": "stream",
     "text": [
      "index 10 is out of bounds for axis 0 with size 10\n",
      "failed during blanczos algorithm with  (500, 10)\n",
      "loop attempt  103  with m: 500 , n: 10 , m*n = 5000 , and q: 2\n"
     ]
    },
    {
     "name": "stderr",
     "output_type": "stream",
     "text": [
      "2020-08-05 18:10:21 Hail: INFO: balding_nichols_model: generating genotypes for 3 populations, 10 samples, and 500 variants...\n",
      "2020-08-05 18:10:22 Hail: INFO: Coerced sorted dataset\n",
      "2020-08-05 18:10:28 Hail: INFO: wrote matrix table with 500 rows and 10 columns in 8 partitions to balding_nichols_data.mt\n",
      "2020-08-05 18:10:29 Hail: INFO: Ordering unsorted dataset with network shuffle\n",
      "2020-08-05 18:10:31 Hail: INFO: wrote table with 32 rows in 8 partitions to /tmp/test_table.ht\n",
      "2020-08-05 18:10:33 Hail: INFO: Coerced sorted dataset\n"
     ]
    },
    {
     "name": "stdout",
     "output_type": "stream",
     "text": [
      "index 10 is out of bounds for axis 0 with size 10\n",
      "failed during blanczos algorithm with  (500, 10)\n",
      "loop attempt  104  with m: 500 , n: 10 , m*n = 5000 , and q: 2\n"
     ]
    },
    {
     "name": "stderr",
     "output_type": "stream",
     "text": [
      "2020-08-05 18:10:33 Hail: INFO: balding_nichols_model: generating genotypes for 3 populations, 10 samples, and 500 variants...\n",
      "2020-08-05 18:10:33 Hail: INFO: Coerced sorted dataset\n",
      "2020-08-05 18:10:39 Hail: INFO: wrote matrix table with 500 rows and 10 columns in 8 partitions to balding_nichols_data.mt\n",
      "2020-08-05 18:10:39 Hail: INFO: Ordering unsorted dataset with network shuffle\n",
      "2020-08-05 18:10:42 Hail: INFO: wrote table with 16 rows in 8 partitions to /tmp/test_table.ht\n",
      "2020-08-05 18:10:44 Hail: INFO: Coerced sorted dataset\n"
     ]
    },
    {
     "name": "stdout",
     "output_type": "stream",
     "text": [
      "index 10 is out of bounds for axis 0 with size 10\n",
      "failed during blanczos algorithm with  (500, 10)\n",
      "loop attempt  105  with m: 500 , n: 50 , m*n = 25000 , and q: 2\n"
     ]
    },
    {
     "name": "stderr",
     "output_type": "stream",
     "text": [
      "2020-08-05 18:10:44 Hail: INFO: balding_nichols_model: generating genotypes for 3 populations, 50 samples, and 500 variants...\n",
      "2020-08-05 18:10:45 Hail: INFO: Coerced sorted dataset\n",
      "2020-08-05 18:10:50 Hail: INFO: wrote matrix table with 500 rows and 50 columns in 8 partitions to balding_nichols_data.mt\n",
      "2020-08-05 18:10:50 Hail: INFO: Ordering unsorted dataset with network shuffle\n",
      "2020-08-05 18:10:52 Hail: INFO: wrote table with 250 rows in 8 partitions to /tmp/test_table.ht\n",
      "2020-08-05 18:10:54 Hail: INFO: Coerced sorted dataset\n",
      "2020-08-05 18:10:55 Hail: INFO: Coerced sorted dataset\n"
     ]
    },
    {
     "name": "stdout",
     "output_type": "stream",
     "text": [
      "loop attempt  106  with m: 500 , n: 50 , m*n = 25000 , and q: 2\n"
     ]
    },
    {
     "name": "stderr",
     "output_type": "stream",
     "text": [
      "2020-08-05 18:10:55 Hail: INFO: balding_nichols_model: generating genotypes for 3 populations, 50 samples, and 500 variants...\n",
      "2020-08-05 18:10:55 Hail: INFO: Coerced sorted dataset\n",
      "2020-08-05 18:11:02 Hail: INFO: wrote matrix table with 500 rows and 50 columns in 8 partitions to balding_nichols_data.mt\n",
      "2020-08-05 18:11:03 Hail: INFO: Ordering unsorted dataset with network shuffle\n",
      "2020-08-05 18:11:05 Hail: INFO: wrote table with 125 rows in 8 partitions to /tmp/test_table.ht\n",
      "2020-08-05 18:11:07 Hail: INFO: Coerced sorted dataset\n",
      "2020-08-05 18:11:07 Hail: INFO: Coerced sorted dataset\n"
     ]
    },
    {
     "name": "stdout",
     "output_type": "stream",
     "text": [
      "loop attempt  107  with m: 500 , n: 50 , m*n = 25000 , and q: 2\n"
     ]
    },
    {
     "name": "stderr",
     "output_type": "stream",
     "text": [
      "2020-08-05 18:11:08 Hail: INFO: balding_nichols_model: generating genotypes for 3 populations, 50 samples, and 500 variants...\n",
      "2020-08-05 18:11:08 Hail: INFO: Coerced sorted dataset\n",
      "2020-08-05 18:11:14 Hail: INFO: wrote matrix table with 500 rows and 50 columns in 8 partitions to balding_nichols_data.mt\n",
      "2020-08-05 18:11:15 Hail: INFO: Ordering unsorted dataset with network shuffle\n",
      "2020-08-05 18:11:18 Hail: INFO: wrote table with 63 rows in 8 partitions to /tmp/test_table.ht\n",
      "2020-08-05 18:11:20 Hail: INFO: Coerced sorted dataset\n",
      "2020-08-05 18:11:20 Hail: INFO: Coerced sorted dataset\n"
     ]
    },
    {
     "name": "stdout",
     "output_type": "stream",
     "text": [
      "loop attempt  108  with m: 500 , n: 50 , m*n = 25000 , and q: 2\n"
     ]
    },
    {
     "name": "stderr",
     "output_type": "stream",
     "text": [
      "2020-08-05 18:11:21 Hail: INFO: balding_nichols_model: generating genotypes for 3 populations, 50 samples, and 500 variants...\n",
      "2020-08-05 18:11:21 Hail: INFO: Coerced sorted dataset\n",
      "2020-08-05 18:11:26 Hail: INFO: wrote matrix table with 500 rows and 50 columns in 8 partitions to balding_nichols_data.mt\n",
      "2020-08-05 18:11:27 Hail: INFO: Ordering unsorted dataset with network shuffle\n",
      "2020-08-05 18:11:29 Hail: INFO: wrote table with 32 rows in 8 partitions to /tmp/test_table.ht\n",
      "2020-08-05 18:11:31 Hail: INFO: Coerced sorted dataset\n",
      "2020-08-05 18:11:31 Hail: INFO: Coerced sorted dataset\n",
      "2020-08-05 18:11:31 Hail: INFO: balding_nichols_model: generating genotypes for 3 populations, 50 samples, and 500 variants...\n"
     ]
    },
    {
     "name": "stdout",
     "output_type": "stream",
     "text": [
      "loop attempt  109  with m: 500 , n: 50 , m*n = 25000 , and q: 2\n"
     ]
    },
    {
     "name": "stderr",
     "output_type": "stream",
     "text": [
      "2020-08-05 18:11:32 Hail: INFO: Coerced sorted dataset\n",
      "2020-08-05 18:11:37 Hail: INFO: wrote matrix table with 500 rows and 50 columns in 8 partitions to balding_nichols_data.mt\n",
      "2020-08-05 18:11:38 Hail: INFO: Ordering unsorted dataset with network shuffle\n",
      "2020-08-05 18:11:42 Hail: INFO: wrote table with 16 rows in 8 partitions to /tmp/test_table.ht\n",
      "2020-08-05 18:11:43 Hail: INFO: Coerced sorted dataset\n",
      "2020-08-05 18:11:44 Hail: INFO: Coerced sorted dataset\n"
     ]
    },
    {
     "name": "stdout",
     "output_type": "stream",
     "text": [
      "loop attempt  110  with m: 500 , n: 100 , m*n = 50000 , and q: 2\n"
     ]
    },
    {
     "name": "stderr",
     "output_type": "stream",
     "text": [
      "2020-08-05 18:11:44 Hail: INFO: balding_nichols_model: generating genotypes for 3 populations, 100 samples, and 500 variants...\n",
      "2020-08-05 18:11:44 Hail: INFO: Coerced sorted dataset\n",
      "2020-08-05 18:11:50 Hail: INFO: wrote matrix table with 500 rows and 100 columns in 8 partitions to balding_nichols_data.mt\n",
      "2020-08-05 18:11:51 Hail: INFO: Ordering unsorted dataset with network shuffle\n",
      "2020-08-05 18:11:54 Hail: INFO: wrote table with 250 rows in 8 partitions to /tmp/test_table.ht\n",
      "2020-08-05 18:11:56 Hail: INFO: Coerced sorted dataset\n",
      "2020-08-05 18:11:57 Hail: INFO: Coerced sorted dataset\n"
     ]
    },
    {
     "name": "stdout",
     "output_type": "stream",
     "text": [
      "loop attempt  111  with m: 500 , n: 100 , m*n = 50000 , and q: 2\n"
     ]
    },
    {
     "name": "stderr",
     "output_type": "stream",
     "text": [
      "2020-08-05 18:11:57 Hail: INFO: balding_nichols_model: generating genotypes for 3 populations, 100 samples, and 500 variants...\n",
      "2020-08-05 18:11:57 Hail: INFO: Coerced sorted dataset\n",
      "2020-08-05 18:12:02 Hail: INFO: wrote matrix table with 500 rows and 100 columns in 8 partitions to balding_nichols_data.mt\n",
      "2020-08-05 18:12:03 Hail: INFO: Ordering unsorted dataset with network shuffle\n",
      "2020-08-05 18:12:06 Hail: INFO: wrote table with 125 rows in 8 partitions to /tmp/test_table.ht\n",
      "2020-08-05 18:12:08 Hail: INFO: Coerced sorted dataset\n",
      "2020-08-05 18:12:08 Hail: INFO: Coerced sorted dataset\n"
     ]
    },
    {
     "name": "stdout",
     "output_type": "stream",
     "text": [
      "loop attempt  112  with m: 500 , n: 100 , m*n = 50000 , and q: 2\n"
     ]
    },
    {
     "name": "stderr",
     "output_type": "stream",
     "text": [
      "2020-08-05 18:12:08 Hail: INFO: balding_nichols_model: generating genotypes for 3 populations, 100 samples, and 500 variants...\n",
      "2020-08-05 18:12:09 Hail: INFO: Coerced sorted dataset\n",
      "2020-08-05 18:12:15 Hail: INFO: wrote matrix table with 500 rows and 100 columns in 8 partitions to balding_nichols_data.mt\n",
      "2020-08-05 18:12:16 Hail: INFO: Ordering unsorted dataset with network shuffle\n",
      "2020-08-05 18:12:18 Hail: INFO: wrote table with 63 rows in 8 partitions to /tmp/test_table.ht\n",
      "2020-08-05 18:12:20 Hail: INFO: Coerced sorted dataset\n",
      "2020-08-05 18:12:20 Hail: INFO: Coerced sorted dataset\n",
      "2020-08-05 18:12:21 Hail: INFO: balding_nichols_model: generating genotypes for 3 populations, 100 samples, and 500 variants...\n"
     ]
    },
    {
     "name": "stdout",
     "output_type": "stream",
     "text": [
      "loop attempt  113  with m: 500 , n: 100 , m*n = 50000 , and q: 2\n"
     ]
    },
    {
     "name": "stderr",
     "output_type": "stream",
     "text": [
      "2020-08-05 18:12:21 Hail: INFO: Coerced sorted dataset\n",
      "2020-08-05 18:12:26 Hail: INFO: wrote matrix table with 500 rows and 100 columns in 8 partitions to balding_nichols_data.mt\n",
      "2020-08-05 18:12:26 Hail: INFO: Ordering unsorted dataset with network shuffle\n",
      "2020-08-05 18:12:30 Hail: INFO: wrote table with 32 rows in 8 partitions to /tmp/test_table.ht\n",
      "2020-08-05 18:12:32 Hail: INFO: Coerced sorted dataset\n",
      "2020-08-05 18:12:32 Hail: INFO: Coerced sorted dataset\n"
     ]
    },
    {
     "name": "stdout",
     "output_type": "stream",
     "text": [
      "loop attempt  114  with m: 500 , n: 100 , m*n = 50000 , and q: 2\n"
     ]
    },
    {
     "name": "stderr",
     "output_type": "stream",
     "text": [
      "2020-08-05 18:12:32 Hail: INFO: balding_nichols_model: generating genotypes for 3 populations, 100 samples, and 500 variants...\n",
      "2020-08-05 18:12:32 Hail: INFO: Coerced sorted dataset\n",
      "2020-08-05 18:12:38 Hail: INFO: wrote matrix table with 500 rows and 100 columns in 8 partitions to balding_nichols_data.mt\n",
      "2020-08-05 18:12:39 Hail: INFO: Ordering unsorted dataset with network shuffle\n",
      "2020-08-05 18:12:41 Hail: INFO: wrote table with 16 rows in 8 partitions to /tmp/test_table.ht\n",
      "2020-08-05 18:12:43 Hail: INFO: Coerced sorted dataset\n",
      "2020-08-05 18:12:43 Hail: INFO: Coerced sorted dataset\n"
     ]
    },
    {
     "name": "stdout",
     "output_type": "stream",
     "text": [
      "loop attempt  115  with m: 500 , n: 500 , m*n = 250000 , and q: 2\n"
     ]
    },
    {
     "name": "stderr",
     "output_type": "stream",
     "text": [
      "2020-08-05 18:12:44 Hail: INFO: balding_nichols_model: generating genotypes for 3 populations, 500 samples, and 500 variants...\n",
      "2020-08-05 18:12:44 Hail: INFO: Coerced sorted dataset\n",
      "2020-08-05 18:12:48 Hail: INFO: wrote matrix table with 500 rows and 500 columns in 8 partitions to balding_nichols_data.mt\n",
      "2020-08-05 18:12:49 Hail: INFO: Ordering unsorted dataset with network shuffle\n",
      "2020-08-05 18:12:51 Hail: INFO: wrote table with 250 rows in 8 partitions to /tmp/test_table.ht\n",
      "2020-08-05 18:12:53 Hail: INFO: Coerced sorted dataset\n",
      "2020-08-05 18:12:54 Hail: INFO: Coerced sorted dataset\n"
     ]
    },
    {
     "name": "stdout",
     "output_type": "stream",
     "text": [
      "loop attempt  116  with m: 500 , n: 500 , m*n = 250000 , and q: 2\n"
     ]
    },
    {
     "name": "stderr",
     "output_type": "stream",
     "text": [
      "2020-08-05 18:12:54 Hail: INFO: balding_nichols_model: generating genotypes for 3 populations, 500 samples, and 500 variants...\n",
      "2020-08-05 18:12:55 Hail: INFO: Coerced sorted dataset\n",
      "2020-08-05 18:13:00 Hail: INFO: wrote matrix table with 500 rows and 500 columns in 8 partitions to balding_nichols_data.mt\n",
      "2020-08-05 18:13:01 Hail: INFO: Ordering unsorted dataset with network shuffle\n",
      "2020-08-05 18:13:05 Hail: INFO: wrote table with 125 rows in 8 partitions to /tmp/test_table.ht\n",
      "2020-08-05 18:13:07 Hail: INFO: Coerced sorted dataset\n",
      "2020-08-05 18:13:08 Hail: INFO: Coerced sorted dataset\n"
     ]
    },
    {
     "name": "stdout",
     "output_type": "stream",
     "text": [
      "loop attempt  117  with m: 500 , n: 500 , m*n = 250000 , and q: 2\n"
     ]
    },
    {
     "name": "stderr",
     "output_type": "stream",
     "text": [
      "2020-08-05 18:13:08 Hail: INFO: balding_nichols_model: generating genotypes for 3 populations, 500 samples, and 500 variants...\n",
      "2020-08-05 18:13:08 Hail: INFO: Coerced sorted dataset\n",
      "2020-08-05 18:13:14 Hail: INFO: wrote matrix table with 500 rows and 500 columns in 8 partitions to balding_nichols_data.mt\n",
      "2020-08-05 18:13:15 Hail: INFO: Ordering unsorted dataset with network shuffle\n",
      "2020-08-05 18:13:17 Hail: INFO: wrote table with 63 rows in 8 partitions to /tmp/test_table.ht\n",
      "2020-08-05 18:13:20 Hail: INFO: Coerced sorted dataset\n",
      "2020-08-05 18:13:20 Hail: INFO: Coerced sorted dataset\n"
     ]
    },
    {
     "name": "stdout",
     "output_type": "stream",
     "text": [
      "loop attempt  118  with m: 500 , n: 500 , m*n = 250000 , and q: 2\n"
     ]
    },
    {
     "name": "stderr",
     "output_type": "stream",
     "text": [
      "2020-08-05 18:13:21 Hail: INFO: balding_nichols_model: generating genotypes for 3 populations, 500 samples, and 500 variants...\n",
      "2020-08-05 18:13:21 Hail: INFO: Coerced sorted dataset\n",
      "2020-08-05 18:13:25 Hail: INFO: wrote matrix table with 500 rows and 500 columns in 8 partitions to balding_nichols_data.mt\n",
      "2020-08-05 18:13:26 Hail: INFO: Ordering unsorted dataset with network shuffle\n",
      "2020-08-05 18:13:27 Hail: INFO: wrote table with 32 rows in 8 partitions to /tmp/test_table.ht\n",
      "2020-08-05 18:13:30 Hail: INFO: Coerced sorted dataset\n",
      "2020-08-05 18:13:30 Hail: INFO: Coerced sorted dataset\n"
     ]
    },
    {
     "name": "stdout",
     "output_type": "stream",
     "text": [
      "loop attempt  119  with m: 500 , n: 500 , m*n = 250000 , and q: 2\n"
     ]
    },
    {
     "name": "stderr",
     "output_type": "stream",
     "text": [
      "2020-08-05 18:13:30 Hail: INFO: balding_nichols_model: generating genotypes for 3 populations, 500 samples, and 500 variants...\n",
      "2020-08-05 18:13:31 Hail: INFO: Coerced sorted dataset\n",
      "2020-08-05 18:13:38 Hail: INFO: wrote matrix table with 500 rows and 500 columns in 8 partitions to balding_nichols_data.mt\n",
      "2020-08-05 18:13:38 Hail: INFO: Ordering unsorted dataset with network shuffle\n",
      "2020-08-05 18:13:41 Hail: INFO: wrote table with 16 rows in 8 partitions to /tmp/test_table.ht\n",
      "2020-08-05 18:13:43 Hail: INFO: Coerced sorted dataset\n",
      "2020-08-05 18:13:44 Hail: INFO: Coerced sorted dataset\n"
     ]
    },
    {
     "name": "stdout",
     "output_type": "stream",
     "text": [
      "loop attempt  120  with m: 1000 , n: 10 , m*n = 10000 , and q: 2\n"
     ]
    },
    {
     "name": "stderr",
     "output_type": "stream",
     "text": [
      "2020-08-05 18:13:44 Hail: INFO: balding_nichols_model: generating genotypes for 3 populations, 10 samples, and 1000 variants...\n",
      "2020-08-05 18:13:44 Hail: INFO: Coerced sorted dataset\n",
      "2020-08-05 18:13:49 Hail: INFO: wrote matrix table with 1000 rows and 10 columns in 8 partitions to balding_nichols_data.mt\n",
      "2020-08-05 18:13:50 Hail: INFO: Ordering unsorted dataset with network shuffle\n",
      "2020-08-05 18:13:53 Hail: INFO: wrote table with 500 rows in 8 partitions to /tmp/test_table.ht\n",
      "2020-08-05 18:13:55 Hail: INFO: Coerced sorted dataset\n"
     ]
    },
    {
     "name": "stdout",
     "output_type": "stream",
     "text": [
      "index 10 is out of bounds for axis 0 with size 10\n",
      "failed during blanczos algorithm with  (1000, 10)\n",
      "loop attempt  121  with m: 1000 , n: 10 , m*n = 10000 , and q: 2\n"
     ]
    },
    {
     "name": "stderr",
     "output_type": "stream",
     "text": [
      "2020-08-05 18:13:55 Hail: INFO: balding_nichols_model: generating genotypes for 3 populations, 10 samples, and 1000 variants...\n",
      "2020-08-05 18:13:56 Hail: INFO: Coerced sorted dataset\n",
      "2020-08-05 18:14:02 Hail: INFO: wrote matrix table with 1000 rows and 10 columns in 8 partitions to balding_nichols_data.mt\n",
      "2020-08-05 18:14:02 Hail: INFO: Ordering unsorted dataset with network shuffle\n",
      "2020-08-05 18:14:05 Hail: INFO: wrote table with 250 rows in 8 partitions to /tmp/test_table.ht\n",
      "2020-08-05 18:14:07 Hail: INFO: Coerced sorted dataset\n"
     ]
    },
    {
     "name": "stdout",
     "output_type": "stream",
     "text": [
      "index 10 is out of bounds for axis 0 with size 10\n",
      "failed during blanczos algorithm with  (1000, 10)\n",
      "loop attempt  122  with m: 1000 , n: 10 , m*n = 10000 , and q: 2\n"
     ]
    },
    {
     "name": "stderr",
     "output_type": "stream",
     "text": [
      "2020-08-05 18:14:08 Hail: INFO: balding_nichols_model: generating genotypes for 3 populations, 10 samples, and 1000 variants...\n",
      "2020-08-05 18:14:08 Hail: INFO: Coerced sorted dataset\n",
      "2020-08-05 18:14:14 Hail: INFO: wrote matrix table with 1000 rows and 10 columns in 8 partitions to balding_nichols_data.mt\n",
      "2020-08-05 18:14:14 Hail: INFO: Ordering unsorted dataset with network shuffle\n",
      "2020-08-05 18:14:17 Hail: INFO: wrote table with 125 rows in 8 partitions to /tmp/test_table.ht\n",
      "2020-08-05 18:14:19 Hail: INFO: Coerced sorted dataset\n"
     ]
    },
    {
     "name": "stdout",
     "output_type": "stream",
     "text": [
      "index 10 is out of bounds for axis 0 with size 10\n",
      "failed during blanczos algorithm with  (1000, 10)\n",
      "loop attempt  123  with m: 1000 , n: 10 , m*n = 10000 , and q: 2\n"
     ]
    },
    {
     "name": "stderr",
     "output_type": "stream",
     "text": [
      "2020-08-05 18:14:19 Hail: INFO: balding_nichols_model: generating genotypes for 3 populations, 10 samples, and 1000 variants...\n",
      "2020-08-05 18:14:19 Hail: INFO: Coerced sorted dataset\n",
      "2020-08-05 18:14:24 Hail: INFO: wrote matrix table with 1000 rows and 10 columns in 8 partitions to balding_nichols_data.mt\n",
      "2020-08-05 18:14:24 Hail: INFO: Ordering unsorted dataset with network shuffle\n",
      "2020-08-05 18:14:27 Hail: INFO: wrote table with 63 rows in 8 partitions to /tmp/test_table.ht\n",
      "2020-08-05 18:14:29 Hail: INFO: Coerced sorted dataset\n"
     ]
    },
    {
     "name": "stdout",
     "output_type": "stream",
     "text": [
      "index 10 is out of bounds for axis 0 with size 10\n",
      "failed during blanczos algorithm with  (1000, 10)\n",
      "loop attempt  124  with m: 1000 , n: 10 , m*n = 10000 , and q: 2\n"
     ]
    },
    {
     "name": "stderr",
     "output_type": "stream",
     "text": [
      "2020-08-05 18:14:29 Hail: INFO: balding_nichols_model: generating genotypes for 3 populations, 10 samples, and 1000 variants...\n",
      "2020-08-05 18:14:29 Hail: INFO: Coerced sorted dataset\n",
      "2020-08-05 18:14:34 Hail: INFO: wrote matrix table with 1000 rows and 10 columns in 8 partitions to balding_nichols_data.mt\n",
      "2020-08-05 18:14:34 Hail: INFO: Ordering unsorted dataset with network shuffle\n",
      "2020-08-05 18:14:38 Hail: INFO: wrote table with 32 rows in 8 partitions to /tmp/test_table.ht\n",
      "2020-08-05 18:14:39 Hail: INFO: Coerced sorted dataset\n"
     ]
    },
    {
     "name": "stdout",
     "output_type": "stream",
     "text": [
      "index 10 is out of bounds for axis 0 with size 10\n",
      "failed during blanczos algorithm with  (1000, 10)\n",
      "loop attempt  125  with m: 1000 , n: 50 , m*n = 50000 , and q: 2\n"
     ]
    },
    {
     "name": "stderr",
     "output_type": "stream",
     "text": [
      "2020-08-05 18:14:40 Hail: INFO: balding_nichols_model: generating genotypes for 3 populations, 50 samples, and 1000 variants...\n",
      "2020-08-05 18:14:40 Hail: INFO: Coerced sorted dataset\n",
      "2020-08-05 18:14:45 Hail: INFO: wrote matrix table with 1000 rows and 50 columns in 8 partitions to balding_nichols_data.mt\n",
      "2020-08-05 18:14:46 Hail: INFO: Ordering unsorted dataset with network shuffle\n",
      "2020-08-05 18:14:47 Hail: INFO: wrote table with 500 rows in 8 partitions to /tmp/test_table.ht\n",
      "2020-08-05 18:14:50 Hail: INFO: Coerced sorted dataset\n",
      "2020-08-05 18:14:51 Hail: INFO: Coerced sorted dataset\n"
     ]
    },
    {
     "name": "stdout",
     "output_type": "stream",
     "text": [
      "loop attempt  126  with m: 1000 , n: 50 , m*n = 50000 , and q: 2\n"
     ]
    },
    {
     "name": "stderr",
     "output_type": "stream",
     "text": [
      "2020-08-05 18:14:51 Hail: INFO: balding_nichols_model: generating genotypes for 3 populations, 50 samples, and 1000 variants...\n",
      "2020-08-05 18:14:51 Hail: INFO: Coerced sorted dataset\n",
      "2020-08-05 18:14:57 Hail: INFO: wrote matrix table with 1000 rows and 50 columns in 8 partitions to balding_nichols_data.mt\n",
      "2020-08-05 18:14:58 Hail: INFO: Ordering unsorted dataset with network shuffle\n",
      "2020-08-05 18:15:00 Hail: INFO: wrote table with 250 rows in 8 partitions to /tmp/test_table.ht\n",
      "2020-08-05 18:15:02 Hail: INFO: Coerced sorted dataset\n",
      "2020-08-05 18:15:03 Hail: INFO: Coerced sorted dataset\n"
     ]
    },
    {
     "name": "stdout",
     "output_type": "stream",
     "text": [
      "loop attempt  127  with m: 1000 , n: 50 , m*n = 50000 , and q: 2\n"
     ]
    },
    {
     "name": "stderr",
     "output_type": "stream",
     "text": [
      "2020-08-05 18:15:03 Hail: INFO: balding_nichols_model: generating genotypes for 3 populations, 50 samples, and 1000 variants...\n",
      "2020-08-05 18:15:03 Hail: INFO: Coerced sorted dataset\n",
      "2020-08-05 18:15:07 Hail: INFO: wrote matrix table with 1000 rows and 50 columns in 8 partitions to balding_nichols_data.mt\n",
      "2020-08-05 18:15:08 Hail: INFO: Ordering unsorted dataset with network shuffle\n",
      "2020-08-05 18:15:11 Hail: INFO: wrote table with 125 rows in 8 partitions to /tmp/test_table.ht\n",
      "2020-08-05 18:15:13 Hail: INFO: Coerced sorted dataset\n",
      "2020-08-05 18:15:14 Hail: INFO: Coerced sorted dataset\n"
     ]
    },
    {
     "name": "stdout",
     "output_type": "stream",
     "text": [
      "loop attempt  128  with m: 1000 , n: 50 , m*n = 50000 , and q: 2\n"
     ]
    },
    {
     "name": "stderr",
     "output_type": "stream",
     "text": [
      "2020-08-05 18:15:14 Hail: INFO: balding_nichols_model: generating genotypes for 3 populations, 50 samples, and 1000 variants...\n",
      "2020-08-05 18:15:14 Hail: INFO: Coerced sorted dataset\n",
      "2020-08-05 18:15:19 Hail: INFO: wrote matrix table with 1000 rows and 50 columns in 8 partitions to balding_nichols_data.mt\n",
      "2020-08-05 18:15:19 Hail: INFO: Ordering unsorted dataset with network shuffle\n",
      "2020-08-05 18:15:21 Hail: INFO: wrote table with 63 rows in 8 partitions to /tmp/test_table.ht\n",
      "2020-08-05 18:15:23 Hail: INFO: Coerced sorted dataset\n",
      "2020-08-05 18:15:24 Hail: INFO: Coerced sorted dataset\n"
     ]
    },
    {
     "name": "stdout",
     "output_type": "stream",
     "text": [
      "loop attempt  129  with m: 1000 , n: 50 , m*n = 50000 , and q: 2\n"
     ]
    },
    {
     "name": "stderr",
     "output_type": "stream",
     "text": [
      "2020-08-05 18:15:24 Hail: INFO: balding_nichols_model: generating genotypes for 3 populations, 50 samples, and 1000 variants...\n",
      "2020-08-05 18:15:24 Hail: INFO: Coerced sorted dataset\n",
      "2020-08-05 18:15:31 Hail: INFO: wrote matrix table with 1000 rows and 50 columns in 8 partitions to balding_nichols_data.mt\n",
      "2020-08-05 18:15:31 Hail: INFO: Ordering unsorted dataset with network shuffle\n",
      "2020-08-05 18:15:35 Hail: INFO: wrote table with 32 rows in 8 partitions to /tmp/test_table.ht\n",
      "2020-08-05 18:15:37 Hail: INFO: Coerced sorted dataset\n",
      "2020-08-05 18:15:37 Hail: INFO: Coerced sorted dataset\n"
     ]
    },
    {
     "name": "stdout",
     "output_type": "stream",
     "text": [
      "loop attempt  130  with m: 1000 , n: 100 , m*n = 100000 , and q: 2\n"
     ]
    },
    {
     "name": "stderr",
     "output_type": "stream",
     "text": [
      "2020-08-05 18:15:37 Hail: INFO: balding_nichols_model: generating genotypes for 3 populations, 100 samples, and 1000 variants...\n",
      "2020-08-05 18:15:38 Hail: INFO: Coerced sorted dataset\n",
      "2020-08-05 18:15:45 Hail: INFO: wrote matrix table with 1000 rows and 100 columns in 8 partitions to balding_nichols_data.mt\n",
      "2020-08-05 18:15:45 Hail: INFO: Ordering unsorted dataset with network shuffle\n",
      "2020-08-05 18:15:47 Hail: INFO: wrote table with 500 rows in 8 partitions to /tmp/test_table.ht\n",
      "2020-08-05 18:15:50 Hail: INFO: Coerced sorted dataset\n",
      "2020-08-05 18:15:51 Hail: INFO: Coerced sorted dataset\n"
     ]
    },
    {
     "name": "stdout",
     "output_type": "stream",
     "text": [
      "loop attempt  131  with m: 1000 , n: 100 , m*n = 100000 , and q: 2\n"
     ]
    },
    {
     "name": "stderr",
     "output_type": "stream",
     "text": [
      "2020-08-05 18:15:51 Hail: INFO: balding_nichols_model: generating genotypes for 3 populations, 100 samples, and 1000 variants...\n",
      "2020-08-05 18:15:51 Hail: INFO: Coerced sorted dataset\n",
      "2020-08-05 18:15:56 Hail: INFO: wrote matrix table with 1000 rows and 100 columns in 8 partitions to balding_nichols_data.mt\n",
      "2020-08-05 18:15:57 Hail: INFO: Ordering unsorted dataset with network shuffle\n",
      "2020-08-05 18:16:00 Hail: INFO: wrote table with 250 rows in 8 partitions to /tmp/test_table.ht\n",
      "2020-08-05 18:16:02 Hail: INFO: Coerced sorted dataset\n",
      "2020-08-05 18:16:03 Hail: INFO: Coerced sorted dataset\n"
     ]
    },
    {
     "name": "stdout",
     "output_type": "stream",
     "text": [
      "loop attempt  132  with m: 1000 , n: 100 , m*n = 100000 , and q: 2\n"
     ]
    },
    {
     "name": "stderr",
     "output_type": "stream",
     "text": [
      "2020-08-05 18:16:03 Hail: INFO: balding_nichols_model: generating genotypes for 3 populations, 100 samples, and 1000 variants...\n",
      "2020-08-05 18:16:03 Hail: INFO: Coerced sorted dataset\n",
      "2020-08-05 18:16:09 Hail: INFO: wrote matrix table with 1000 rows and 100 columns in 8 partitions to balding_nichols_data.mt\n",
      "2020-08-05 18:16:09 Hail: INFO: Ordering unsorted dataset with network shuffle\n",
      "2020-08-05 18:16:13 Hail: INFO: wrote table with 125 rows in 8 partitions to /tmp/test_table.ht\n",
      "2020-08-05 18:16:15 Hail: INFO: Coerced sorted dataset\n",
      "2020-08-05 18:16:16 Hail: INFO: Coerced sorted dataset\n"
     ]
    },
    {
     "name": "stdout",
     "output_type": "stream",
     "text": [
      "loop attempt  133  with m: 1000 , n: 100 , m*n = 100000 , and q: 2\n"
     ]
    },
    {
     "name": "stderr",
     "output_type": "stream",
     "text": [
      "2020-08-05 18:16:16 Hail: INFO: balding_nichols_model: generating genotypes for 3 populations, 100 samples, and 1000 variants...\n",
      "2020-08-05 18:16:16 Hail: INFO: Coerced sorted dataset\n",
      "2020-08-05 18:16:22 Hail: INFO: wrote matrix table with 1000 rows and 100 columns in 8 partitions to balding_nichols_data.mt\n",
      "2020-08-05 18:16:23 Hail: INFO: Ordering unsorted dataset with network shuffle\n",
      "2020-08-05 18:16:25 Hail: INFO: wrote table with 63 rows in 8 partitions to /tmp/test_table.ht\n",
      "2020-08-05 18:16:28 Hail: INFO: Coerced sorted dataset\n",
      "2020-08-05 18:16:28 Hail: INFO: Coerced sorted dataset\n"
     ]
    },
    {
     "name": "stdout",
     "output_type": "stream",
     "text": [
      "loop attempt  134  with m: 1000 , n: 100 , m*n = 100000 , and q: 2\n"
     ]
    },
    {
     "name": "stderr",
     "output_type": "stream",
     "text": [
      "2020-08-05 18:16:28 Hail: INFO: balding_nichols_model: generating genotypes for 3 populations, 100 samples, and 1000 variants...\n",
      "2020-08-05 18:16:29 Hail: INFO: Coerced sorted dataset\n",
      "2020-08-05 18:16:34 Hail: INFO: wrote matrix table with 1000 rows and 100 columns in 8 partitions to balding_nichols_data.mt\n",
      "2020-08-05 18:16:35 Hail: INFO: Ordering unsorted dataset with network shuffle\n",
      "2020-08-05 18:16:39 Hail: INFO: wrote table with 32 rows in 8 partitions to /tmp/test_table.ht\n",
      "2020-08-05 18:16:41 Hail: INFO: Coerced sorted dataset\n",
      "2020-08-05 18:16:42 Hail: INFO: Coerced sorted dataset\n"
     ]
    },
    {
     "name": "stdout",
     "output_type": "stream",
     "text": [
      "loop attempt  135  with m: 1000 , n: 500 , m*n = 500000 , and q: 2\n"
     ]
    },
    {
     "name": "stderr",
     "output_type": "stream",
     "text": [
      "2020-08-05 18:16:42 Hail: INFO: balding_nichols_model: generating genotypes for 3 populations, 500 samples, and 1000 variants...\n",
      "2020-08-05 18:16:42 Hail: INFO: Coerced sorted dataset\n",
      "2020-08-05 18:16:48 Hail: INFO: wrote matrix table with 1000 rows and 500 columns in 8 partitions to balding_nichols_data.mt\n",
      "2020-08-05 18:16:48 Hail: INFO: Ordering unsorted dataset with network shuffle\n",
      "2020-08-05 18:16:49 Hail: INFO: wrote table with 500 rows in 8 partitions to /tmp/test_table.ht\n",
      "2020-08-05 18:16:52 Hail: INFO: Coerced sorted dataset\n",
      "2020-08-05 18:16:53 Hail: INFO: Coerced sorted dataset\n"
     ]
    },
    {
     "name": "stdout",
     "output_type": "stream",
     "text": [
      "loop attempt  136  with m: 1000 , n: 500 , m*n = 500000 , and q: 2\n"
     ]
    },
    {
     "name": "stderr",
     "output_type": "stream",
     "text": [
      "2020-08-05 18:16:54 Hail: INFO: balding_nichols_model: generating genotypes for 3 populations, 500 samples, and 1000 variants...\n",
      "2020-08-05 18:16:54 Hail: INFO: Coerced sorted dataset\n",
      "2020-08-05 18:16:59 Hail: INFO: wrote matrix table with 1000 rows and 500 columns in 8 partitions to balding_nichols_data.mt\n",
      "2020-08-05 18:17:00 Hail: INFO: Ordering unsorted dataset with network shuffle\n",
      "2020-08-05 18:17:03 Hail: INFO: wrote table with 250 rows in 8 partitions to /tmp/test_table.ht\n",
      "2020-08-05 18:17:06 Hail: INFO: Coerced sorted dataset\n",
      "2020-08-05 18:17:07 Hail: INFO: Coerced sorted dataset\n"
     ]
    },
    {
     "name": "stdout",
     "output_type": "stream",
     "text": [
      "loop attempt  137  with m: 1000 , n: 500 , m*n = 500000 , and q: 2\n"
     ]
    },
    {
     "name": "stderr",
     "output_type": "stream",
     "text": [
      "2020-08-05 18:17:07 Hail: INFO: balding_nichols_model: generating genotypes for 3 populations, 500 samples, and 1000 variants...\n",
      "2020-08-05 18:17:07 Hail: INFO: Coerced sorted dataset\n",
      "2020-08-05 18:17:12 Hail: INFO: wrote matrix table with 1000 rows and 500 columns in 8 partitions to balding_nichols_data.mt\n",
      "2020-08-05 18:17:13 Hail: INFO: Ordering unsorted dataset with network shuffle\n",
      "2020-08-05 18:17:16 Hail: INFO: wrote table with 125 rows in 8 partitions to /tmp/test_table.ht\n",
      "2020-08-05 18:17:19 Hail: INFO: Coerced sorted dataset\n",
      "2020-08-05 18:17:20 Hail: INFO: Coerced sorted dataset\n"
     ]
    },
    {
     "name": "stdout",
     "output_type": "stream",
     "text": [
      "loop attempt  138  with m: 1000 , n: 500 , m*n = 500000 , and q: 2\n"
     ]
    },
    {
     "name": "stderr",
     "output_type": "stream",
     "text": [
      "2020-08-05 18:17:20 Hail: INFO: balding_nichols_model: generating genotypes for 3 populations, 500 samples, and 1000 variants...\n",
      "2020-08-05 18:17:20 Hail: INFO: Coerced sorted dataset\n",
      "2020-08-05 18:17:26 Hail: INFO: wrote matrix table with 1000 rows and 500 columns in 8 partitions to balding_nichols_data.mt\n",
      "2020-08-05 18:17:27 Hail: INFO: Ordering unsorted dataset with network shuffle\n",
      "2020-08-05 18:17:30 Hail: INFO: wrote table with 63 rows in 8 partitions to /tmp/test_table.ht\n",
      "2020-08-05 18:17:33 Hail: INFO: Coerced sorted dataset\n",
      "2020-08-05 18:17:34 Hail: INFO: Coerced sorted dataset\n"
     ]
    },
    {
     "name": "stdout",
     "output_type": "stream",
     "text": [
      "loop attempt  139  with m: 1000 , n: 500 , m*n = 500000 , and q: 2\n"
     ]
    },
    {
     "name": "stderr",
     "output_type": "stream",
     "text": [
      "2020-08-05 18:17:34 Hail: INFO: balding_nichols_model: generating genotypes for 3 populations, 500 samples, and 1000 variants...\n",
      "2020-08-05 18:17:34 Hail: INFO: Coerced sorted dataset\n",
      "2020-08-05 18:17:41 Hail: INFO: wrote matrix table with 1000 rows and 500 columns in 8 partitions to balding_nichols_data.mt\n",
      "2020-08-05 18:17:41 Hail: INFO: Ordering unsorted dataset with network shuffle\n",
      "2020-08-05 18:17:43 Hail: INFO: wrote table with 32 rows in 8 partitions to /tmp/test_table.ht\n",
      "2020-08-05 18:17:46 Hail: INFO: Coerced sorted dataset\n",
      "2020-08-05 18:17:47 Hail: INFO: Coerced sorted dataset\n"
     ]
    },
    {
     "name": "stdout",
     "output_type": "stream",
     "text": [
      "loop attempt  140  with m: 5000 , n: 10 , m*n = 50000 , and q: 2\n"
     ]
    },
    {
     "name": "stderr",
     "output_type": "stream",
     "text": [
      "2020-08-05 18:17:47 Hail: INFO: balding_nichols_model: generating genotypes for 3 populations, 10 samples, and 5000 variants...\n",
      "2020-08-05 18:17:48 Hail: INFO: Coerced sorted dataset\n"
     ]
    }
   ],
   "source": [
    "df = pd.DataFrame(columns=['M', 'N', 'block size', 'K', 'L', 'Q', 'blanczos time', 'numpy time'])\n",
    "\n",
    "# references a dataframe df not passed into the function\n",
    "def loop(i, m, n, block_size, k, l, q):\n",
    "    \n",
    "    print(\"loop attempt \", i, ' with m:', m, ', n:', n, ', m*n =', m*n, ', and q:', q)\n",
    "\n",
    "    try: \n",
    "        assert l > k\n",
    "        assert n <= m\n",
    "    except Exception as e:\n",
    "        print(e)\n",
    "        return\n",
    "\n",
    "    try:\n",
    "        table, mat = makeSharedData((3, n, m), block_size)\n",
    "    except Exception as e:\n",
    "        print(e)\n",
    "        print('failed to make data with ', (m, n))\n",
    "        return\n",
    "    \n",
    "    try:\n",
    "        G = hl.nd.array(np.random.normal(0, 1, (n,l)))\n",
    "        _, S, _, _, _, hail_time  = hailBlanczos(table, G, m, n, k, l, q, block_size)\n",
    "        numpy_time = timeNumpyLibrary(mat)\n",
    "        df.loc[i] = [m, n, block_size, k, l, q, hail_time, numpy_time]\n",
    "    except Exception as e:\n",
    "        print(e)\n",
    "        print('failed during blanczos algorithm with ', (m, n))\n",
    "        return\n",
    "        \n",
    "    return\n",
    "\n",
    "\n",
    "# for i in range(1, 5):\n",
    "    \n",
    "#     randN = randint(100, 1000) #100\n",
    "#     randM = randint(1000, 10000) #1000\n",
    "#     randBlockSize = choice([2, 4, 8, 16])\n",
    "#     K = 10\n",
    "#     randL = randint(1, 20) + K\n",
    "#     randQ = randint(1, 4)\n",
    "    \n",
    "#     loop(i, randM, randN, randBlockSize, K, randL, randQ)\n",
    "    \n",
    "#     df.to_csv('blanczos_data_random.csv')\n",
    "    \n",
    "\n",
    "K = 10\n",
    "i = 0\n",
    "\n",
    "for L in [K + 2, 2 * K]:\n",
    "    \n",
    "    for Q in [1, 2, 3]: \n",
    "        \n",
    "        for m in [100, 500, 1000, 5000]:\n",
    "            \n",
    "            for n in [50, 100, 500]:\n",
    "                \n",
    "                for block_size in [2, 4, 8, 16, 32]:\n",
    "                    \n",
    "                    loop(i, m, n, block_size, K, L, Q)\n",
    "                    df.to_csv('blanczos_data_combinatorial.csv')\n",
    "                    i += 1\n",
    "    "
   ]
  },
  {
   "cell_type": "code",
   "execution_count": 12,
   "metadata": {
    "scrolled": true
   },
   "outputs": [
    {
     "data": {
      "text/html": [
       "<div>\n",
       "<style scoped>\n",
       "    .dataframe tbody tr th:only-of-type {\n",
       "        vertical-align: middle;\n",
       "    }\n",
       "\n",
       "    .dataframe tbody tr th {\n",
       "        vertical-align: top;\n",
       "    }\n",
       "\n",
       "    .dataframe thead th {\n",
       "        text-align: right;\n",
       "    }\n",
       "</style>\n",
       "<table border=\"1\" class=\"dataframe\">\n",
       "  <thead>\n",
       "    <tr style=\"text-align: right;\">\n",
       "      <th></th>\n",
       "      <th>Unnamed: 0</th>\n",
       "      <th>M</th>\n",
       "      <th>N</th>\n",
       "      <th>block size</th>\n",
       "      <th>K</th>\n",
       "      <th>L</th>\n",
       "      <th>Q</th>\n",
       "      <th>blanczos time</th>\n",
       "      <th>numpy time</th>\n",
       "      <th>MxN</th>\n",
       "    </tr>\n",
       "  </thead>\n",
       "  <tbody>\n",
       "    <tr>\n",
       "      <th>0</th>\n",
       "      <td>0</td>\n",
       "      <td>100.0</td>\n",
       "      <td>50.0</td>\n",
       "      <td>2.0</td>\n",
       "      <td>10.0</td>\n",
       "      <td>12.0</td>\n",
       "      <td>1.0</td>\n",
       "      <td>2.719306</td>\n",
       "      <td>0.005315</td>\n",
       "      <td>5000.0</td>\n",
       "    </tr>\n",
       "    <tr>\n",
       "      <th>1</th>\n",
       "      <td>1</td>\n",
       "      <td>100.0</td>\n",
       "      <td>50.0</td>\n",
       "      <td>4.0</td>\n",
       "      <td>10.0</td>\n",
       "      <td>12.0</td>\n",
       "      <td>1.0</td>\n",
       "      <td>1.779193</td>\n",
       "      <td>0.001401</td>\n",
       "      <td>5000.0</td>\n",
       "    </tr>\n",
       "    <tr>\n",
       "      <th>2</th>\n",
       "      <td>2</td>\n",
       "      <td>100.0</td>\n",
       "      <td>50.0</td>\n",
       "      <td>8.0</td>\n",
       "      <td>10.0</td>\n",
       "      <td>12.0</td>\n",
       "      <td>1.0</td>\n",
       "      <td>1.675353</td>\n",
       "      <td>0.001228</td>\n",
       "      <td>5000.0</td>\n",
       "    </tr>\n",
       "    <tr>\n",
       "      <th>3</th>\n",
       "      <td>3</td>\n",
       "      <td>100.0</td>\n",
       "      <td>50.0</td>\n",
       "      <td>16.0</td>\n",
       "      <td>10.0</td>\n",
       "      <td>12.0</td>\n",
       "      <td>1.0</td>\n",
       "      <td>1.427350</td>\n",
       "      <td>0.001386</td>\n",
       "      <td>5000.0</td>\n",
       "    </tr>\n",
       "    <tr>\n",
       "      <th>4</th>\n",
       "      <td>4</td>\n",
       "      <td>100.0</td>\n",
       "      <td>50.0</td>\n",
       "      <td>32.0</td>\n",
       "      <td>10.0</td>\n",
       "      <td>12.0</td>\n",
       "      <td>1.0</td>\n",
       "      <td>1.375496</td>\n",
       "      <td>0.001397</td>\n",
       "      <td>5000.0</td>\n",
       "    </tr>\n",
       "    <tr>\n",
       "      <th>...</th>\n",
       "      <td>...</td>\n",
       "      <td>...</td>\n",
       "      <td>...</td>\n",
       "      <td>...</td>\n",
       "      <td>...</td>\n",
       "      <td>...</td>\n",
       "      <td>...</td>\n",
       "      <td>...</td>\n",
       "      <td>...</td>\n",
       "      <td>...</td>\n",
       "    </tr>\n",
       "    <tr>\n",
       "      <th>117</th>\n",
       "      <td>192</td>\n",
       "      <td>50000.0</td>\n",
       "      <td>1000.0</td>\n",
       "      <td>8.0</td>\n",
       "      <td>10.0</td>\n",
       "      <td>12.0</td>\n",
       "      <td>1.0</td>\n",
       "      <td>40.563137</td>\n",
       "      <td>2.375593</td>\n",
       "      <td>50000000.0</td>\n",
       "    </tr>\n",
       "    <tr>\n",
       "      <th>118</th>\n",
       "      <td>193</td>\n",
       "      <td>50000.0</td>\n",
       "      <td>1000.0</td>\n",
       "      <td>16.0</td>\n",
       "      <td>10.0</td>\n",
       "      <td>12.0</td>\n",
       "      <td>1.0</td>\n",
       "      <td>37.206307</td>\n",
       "      <td>2.434065</td>\n",
       "      <td>50000000.0</td>\n",
       "    </tr>\n",
       "    <tr>\n",
       "      <th>119</th>\n",
       "      <td>194</td>\n",
       "      <td>50000.0</td>\n",
       "      <td>1000.0</td>\n",
       "      <td>32.0</td>\n",
       "      <td>10.0</td>\n",
       "      <td>12.0</td>\n",
       "      <td>1.0</td>\n",
       "      <td>35.526451</td>\n",
       "      <td>2.403668</td>\n",
       "      <td>50000000.0</td>\n",
       "    </tr>\n",
       "    <tr>\n",
       "      <th>120</th>\n",
       "      <td>195</td>\n",
       "      <td>50000.0</td>\n",
       "      <td>5000.0</td>\n",
       "      <td>2.0</td>\n",
       "      <td>10.0</td>\n",
       "      <td>12.0</td>\n",
       "      <td>1.0</td>\n",
       "      <td>94.781509</td>\n",
       "      <td>49.736327</td>\n",
       "      <td>250000000.0</td>\n",
       "    </tr>\n",
       "    <tr>\n",
       "      <th>121</th>\n",
       "      <td>196</td>\n",
       "      <td>50000.0</td>\n",
       "      <td>5000.0</td>\n",
       "      <td>4.0</td>\n",
       "      <td>10.0</td>\n",
       "      <td>12.0</td>\n",
       "      <td>1.0</td>\n",
       "      <td>60.275769</td>\n",
       "      <td>56.006077</td>\n",
       "      <td>250000000.0</td>\n",
       "    </tr>\n",
       "  </tbody>\n",
       "</table>\n",
       "<p>122 rows × 10 columns</p>\n",
       "</div>"
      ],
      "text/plain": [
       "     Unnamed: 0        M       N  block size     K     L    Q  blanczos time  \\\n",
       "0             0    100.0    50.0         2.0  10.0  12.0  1.0       2.719306   \n",
       "1             1    100.0    50.0         4.0  10.0  12.0  1.0       1.779193   \n",
       "2             2    100.0    50.0         8.0  10.0  12.0  1.0       1.675353   \n",
       "3             3    100.0    50.0        16.0  10.0  12.0  1.0       1.427350   \n",
       "4             4    100.0    50.0        32.0  10.0  12.0  1.0       1.375496   \n",
       "..          ...      ...     ...         ...   ...   ...  ...            ...   \n",
       "117         192  50000.0  1000.0         8.0  10.0  12.0  1.0      40.563137   \n",
       "118         193  50000.0  1000.0        16.0  10.0  12.0  1.0      37.206307   \n",
       "119         194  50000.0  1000.0        32.0  10.0  12.0  1.0      35.526451   \n",
       "120         195  50000.0  5000.0         2.0  10.0  12.0  1.0      94.781509   \n",
       "121         196  50000.0  5000.0         4.0  10.0  12.0  1.0      60.275769   \n",
       "\n",
       "     numpy time          MxN  \n",
       "0      0.005315       5000.0  \n",
       "1      0.001401       5000.0  \n",
       "2      0.001228       5000.0  \n",
       "3      0.001386       5000.0  \n",
       "4      0.001397       5000.0  \n",
       "..          ...          ...  \n",
       "117    2.375593   50000000.0  \n",
       "118    2.434065   50000000.0  \n",
       "119    2.403668   50000000.0  \n",
       "120   49.736327  250000000.0  \n",
       "121   56.006077  250000000.0  \n",
       "\n",
       "[122 rows x 10 columns]"
      ]
     },
     "execution_count": 12,
     "metadata": {},
     "output_type": "execute_result"
    }
   ],
   "source": [
    "big_df = pd.read_csv('gs://aotoole/blanczos_data_combinatorial.csv')\n",
    "big_df['MxN'] = big_df.apply(lambda row: row.M * row.N, axis=1)\n",
    "big_df"
   ]
  },
  {
   "cell_type": "code",
   "execution_count": 13,
   "metadata": {
    "scrolled": true
   },
   "outputs": [
    {
     "ename": "KeyError",
     "evalue": "'hail pca time'",
     "output_type": "error",
     "traceback": [
      "\u001b[0;31m---------------------------------------------------------------------------\u001b[0m",
      "\u001b[0;31mKeyError\u001b[0m                                  Traceback (most recent call last)",
      "\u001b[0;32m/opt/conda/miniconda3/lib/python3.6/site-packages/pandas/core/indexes/base.py\u001b[0m in \u001b[0;36mget_loc\u001b[0;34m(self, key, method, tolerance)\u001b[0m\n\u001b[1;32m   2896\u001b[0m             \u001b[0;32mtry\u001b[0m\u001b[0;34m:\u001b[0m\u001b[0;34m\u001b[0m\u001b[0;34m\u001b[0m\u001b[0m\n\u001b[0;32m-> 2897\u001b[0;31m                 \u001b[0;32mreturn\u001b[0m \u001b[0mself\u001b[0m\u001b[0;34m.\u001b[0m\u001b[0m_engine\u001b[0m\u001b[0;34m.\u001b[0m\u001b[0mget_loc\u001b[0m\u001b[0;34m(\u001b[0m\u001b[0mkey\u001b[0m\u001b[0;34m)\u001b[0m\u001b[0;34m\u001b[0m\u001b[0;34m\u001b[0m\u001b[0m\n\u001b[0m\u001b[1;32m   2898\u001b[0m             \u001b[0;32mexcept\u001b[0m \u001b[0mKeyError\u001b[0m\u001b[0;34m:\u001b[0m\u001b[0;34m\u001b[0m\u001b[0;34m\u001b[0m\u001b[0m\n",
      "\u001b[0;32mpandas/_libs/index.pyx\u001b[0m in \u001b[0;36mpandas._libs.index.IndexEngine.get_loc\u001b[0;34m()\u001b[0m\n",
      "\u001b[0;32mpandas/_libs/index.pyx\u001b[0m in \u001b[0;36mpandas._libs.index.IndexEngine.get_loc\u001b[0;34m()\u001b[0m\n",
      "\u001b[0;32mpandas/_libs/hashtable_class_helper.pxi\u001b[0m in \u001b[0;36mpandas._libs.hashtable.PyObjectHashTable.get_item\u001b[0;34m()\u001b[0m\n",
      "\u001b[0;32mpandas/_libs/hashtable_class_helper.pxi\u001b[0m in \u001b[0;36mpandas._libs.hashtable.PyObjectHashTable.get_item\u001b[0;34m()\u001b[0m\n",
      "\u001b[0;31mKeyError\u001b[0m: 'hail pca time'",
      "\nDuring handling of the above exception, another exception occurred:\n",
      "\u001b[0;31mKeyError\u001b[0m                                  Traceback (most recent call last)",
      "\u001b[0;32m<ipython-input-13-f47aa1980596>\u001b[0m in \u001b[0;36m<module>\u001b[0;34m\u001b[0m\n\u001b[1;32m      1\u001b[0m \u001b[0mbig_df\u001b[0m\u001b[0;34m.\u001b[0m\u001b[0mplot\u001b[0m\u001b[0;34m(\u001b[0m\u001b[0mkind\u001b[0m\u001b[0;34m=\u001b[0m\u001b[0;34m'scatter'\u001b[0m\u001b[0;34m,\u001b[0m\u001b[0mx\u001b[0m\u001b[0;34m=\u001b[0m\u001b[0;34m'MxN'\u001b[0m\u001b[0;34m,\u001b[0m\u001b[0my\u001b[0m\u001b[0;34m=\u001b[0m\u001b[0;34m'blanczos time'\u001b[0m\u001b[0;34m,\u001b[0m\u001b[0mcolor\u001b[0m\u001b[0;34m=\u001b[0m\u001b[0;34m'red'\u001b[0m\u001b[0;34m)\u001b[0m\u001b[0;34m\u001b[0m\u001b[0;34m\u001b[0m\u001b[0m\n\u001b[0;32m----> 2\u001b[0;31m \u001b[0mbig_df\u001b[0m\u001b[0;34m.\u001b[0m\u001b[0mplot\u001b[0m\u001b[0;34m(\u001b[0m\u001b[0mkind\u001b[0m\u001b[0;34m=\u001b[0m\u001b[0;34m'scatter'\u001b[0m\u001b[0;34m,\u001b[0m\u001b[0mx\u001b[0m\u001b[0;34m=\u001b[0m\u001b[0;34m'MxN'\u001b[0m\u001b[0;34m,\u001b[0m\u001b[0my\u001b[0m\u001b[0;34m=\u001b[0m\u001b[0;34m'hail pca time'\u001b[0m\u001b[0;34m,\u001b[0m\u001b[0mcolor\u001b[0m\u001b[0;34m=\u001b[0m\u001b[0;34m'blue'\u001b[0m\u001b[0;34m)\u001b[0m\u001b[0;34m\u001b[0m\u001b[0;34m\u001b[0m\u001b[0m\n\u001b[0m\u001b[1;32m      3\u001b[0m \u001b[0mplt\u001b[0m\u001b[0;34m.\u001b[0m\u001b[0mshow\u001b[0m\u001b[0;34m(\u001b[0m\u001b[0;34m)\u001b[0m\u001b[0;34m\u001b[0m\u001b[0;34m\u001b[0m\u001b[0m\n",
      "\u001b[0;32m/opt/conda/miniconda3/lib/python3.6/site-packages/pandas/plotting/_core.py\u001b[0m in \u001b[0;36m__call__\u001b[0;34m(self, *args, **kwargs)\u001b[0m\n\u001b[1;32m    736\u001b[0m         \u001b[0;32mif\u001b[0m \u001b[0mkind\u001b[0m \u001b[0;32min\u001b[0m \u001b[0mself\u001b[0m\u001b[0;34m.\u001b[0m\u001b[0m_dataframe_kinds\u001b[0m\u001b[0;34m:\u001b[0m\u001b[0;34m\u001b[0m\u001b[0;34m\u001b[0m\u001b[0m\n\u001b[1;32m    737\u001b[0m             \u001b[0;32mif\u001b[0m \u001b[0misinstance\u001b[0m\u001b[0;34m(\u001b[0m\u001b[0mdata\u001b[0m\u001b[0;34m,\u001b[0m \u001b[0mABCDataFrame\u001b[0m\u001b[0;34m)\u001b[0m\u001b[0;34m:\u001b[0m\u001b[0;34m\u001b[0m\u001b[0;34m\u001b[0m\u001b[0m\n\u001b[0;32m--> 738\u001b[0;31m                 \u001b[0;32mreturn\u001b[0m \u001b[0mplot_backend\u001b[0m\u001b[0;34m.\u001b[0m\u001b[0mplot\u001b[0m\u001b[0;34m(\u001b[0m\u001b[0mdata\u001b[0m\u001b[0;34m,\u001b[0m \u001b[0mx\u001b[0m\u001b[0;34m=\u001b[0m\u001b[0mx\u001b[0m\u001b[0;34m,\u001b[0m \u001b[0my\u001b[0m\u001b[0;34m=\u001b[0m\u001b[0my\u001b[0m\u001b[0;34m,\u001b[0m \u001b[0mkind\u001b[0m\u001b[0;34m=\u001b[0m\u001b[0mkind\u001b[0m\u001b[0;34m,\u001b[0m \u001b[0;34m**\u001b[0m\u001b[0mkwargs\u001b[0m\u001b[0;34m)\u001b[0m\u001b[0;34m\u001b[0m\u001b[0;34m\u001b[0m\u001b[0m\n\u001b[0m\u001b[1;32m    739\u001b[0m             \u001b[0;32melse\u001b[0m\u001b[0;34m:\u001b[0m\u001b[0;34m\u001b[0m\u001b[0;34m\u001b[0m\u001b[0m\n\u001b[1;32m    740\u001b[0m                 raise ValueError(\n",
      "\u001b[0;32m/opt/conda/miniconda3/lib/python3.6/site-packages/pandas/plotting/_matplotlib/__init__.py\u001b[0m in \u001b[0;36mplot\u001b[0;34m(data, kind, **kwargs)\u001b[0m\n\u001b[1;32m     59\u001b[0m                 \u001b[0max\u001b[0m \u001b[0;34m=\u001b[0m \u001b[0mplt\u001b[0m\u001b[0;34m.\u001b[0m\u001b[0mgca\u001b[0m\u001b[0;34m(\u001b[0m\u001b[0;34m)\u001b[0m\u001b[0;34m\u001b[0m\u001b[0;34m\u001b[0m\u001b[0m\n\u001b[1;32m     60\u001b[0m             \u001b[0mkwargs\u001b[0m\u001b[0;34m[\u001b[0m\u001b[0;34m\"ax\"\u001b[0m\u001b[0;34m]\u001b[0m \u001b[0;34m=\u001b[0m \u001b[0mgetattr\u001b[0m\u001b[0;34m(\u001b[0m\u001b[0max\u001b[0m\u001b[0;34m,\u001b[0m \u001b[0;34m\"left_ax\"\u001b[0m\u001b[0;34m,\u001b[0m \u001b[0max\u001b[0m\u001b[0;34m)\u001b[0m\u001b[0;34m\u001b[0m\u001b[0;34m\u001b[0m\u001b[0m\n\u001b[0;32m---> 61\u001b[0;31m     \u001b[0mplot_obj\u001b[0m \u001b[0;34m=\u001b[0m \u001b[0mPLOT_CLASSES\u001b[0m\u001b[0;34m[\u001b[0m\u001b[0mkind\u001b[0m\u001b[0;34m]\u001b[0m\u001b[0;34m(\u001b[0m\u001b[0mdata\u001b[0m\u001b[0;34m,\u001b[0m \u001b[0;34m**\u001b[0m\u001b[0mkwargs\u001b[0m\u001b[0;34m)\u001b[0m\u001b[0;34m\u001b[0m\u001b[0;34m\u001b[0m\u001b[0m\n\u001b[0m\u001b[1;32m     62\u001b[0m     \u001b[0mplot_obj\u001b[0m\u001b[0;34m.\u001b[0m\u001b[0mgenerate\u001b[0m\u001b[0;34m(\u001b[0m\u001b[0;34m)\u001b[0m\u001b[0;34m\u001b[0m\u001b[0;34m\u001b[0m\u001b[0m\n\u001b[1;32m     63\u001b[0m     \u001b[0mplot_obj\u001b[0m\u001b[0;34m.\u001b[0m\u001b[0mdraw\u001b[0m\u001b[0;34m(\u001b[0m\u001b[0;34m)\u001b[0m\u001b[0;34m\u001b[0m\u001b[0;34m\u001b[0m\u001b[0m\n",
      "\u001b[0;32m/opt/conda/miniconda3/lib/python3.6/site-packages/pandas/plotting/_matplotlib/core.py\u001b[0m in \u001b[0;36m__init__\u001b[0;34m(self, data, x, y, s, c, **kwargs)\u001b[0m\n\u001b[1;32m    928\u001b[0m             \u001b[0;31m# the handling of this argument later\u001b[0m\u001b[0;34m\u001b[0m\u001b[0;34m\u001b[0m\u001b[0;34m\u001b[0m\u001b[0m\n\u001b[1;32m    929\u001b[0m             \u001b[0ms\u001b[0m \u001b[0;34m=\u001b[0m \u001b[0;36m20\u001b[0m\u001b[0;34m\u001b[0m\u001b[0;34m\u001b[0m\u001b[0m\n\u001b[0;32m--> 930\u001b[0;31m         \u001b[0msuper\u001b[0m\u001b[0;34m(\u001b[0m\u001b[0;34m)\u001b[0m\u001b[0;34m.\u001b[0m\u001b[0m__init__\u001b[0m\u001b[0;34m(\u001b[0m\u001b[0mdata\u001b[0m\u001b[0;34m,\u001b[0m \u001b[0mx\u001b[0m\u001b[0;34m,\u001b[0m \u001b[0my\u001b[0m\u001b[0;34m,\u001b[0m \u001b[0ms\u001b[0m\u001b[0;34m=\u001b[0m\u001b[0ms\u001b[0m\u001b[0;34m,\u001b[0m \u001b[0;34m**\u001b[0m\u001b[0mkwargs\u001b[0m\u001b[0;34m)\u001b[0m\u001b[0;34m\u001b[0m\u001b[0;34m\u001b[0m\u001b[0m\n\u001b[0m\u001b[1;32m    931\u001b[0m         \u001b[0;32mif\u001b[0m \u001b[0mis_integer\u001b[0m\u001b[0;34m(\u001b[0m\u001b[0mc\u001b[0m\u001b[0;34m)\u001b[0m \u001b[0;32mand\u001b[0m \u001b[0;32mnot\u001b[0m \u001b[0mself\u001b[0m\u001b[0;34m.\u001b[0m\u001b[0mdata\u001b[0m\u001b[0;34m.\u001b[0m\u001b[0mcolumns\u001b[0m\u001b[0;34m.\u001b[0m\u001b[0mholds_integer\u001b[0m\u001b[0;34m(\u001b[0m\u001b[0;34m)\u001b[0m\u001b[0;34m:\u001b[0m\u001b[0;34m\u001b[0m\u001b[0;34m\u001b[0m\u001b[0m\n\u001b[1;32m    932\u001b[0m             \u001b[0mc\u001b[0m \u001b[0;34m=\u001b[0m \u001b[0mself\u001b[0m\u001b[0;34m.\u001b[0m\u001b[0mdata\u001b[0m\u001b[0;34m.\u001b[0m\u001b[0mcolumns\u001b[0m\u001b[0;34m[\u001b[0m\u001b[0mc\u001b[0m\u001b[0;34m]\u001b[0m\u001b[0;34m\u001b[0m\u001b[0;34m\u001b[0m\u001b[0m\n",
      "\u001b[0;32m/opt/conda/miniconda3/lib/python3.6/site-packages/pandas/plotting/_matplotlib/core.py\u001b[0m in \u001b[0;36m__init__\u001b[0;34m(self, data, x, y, **kwargs)\u001b[0m\n\u001b[1;32m    869\u001b[0m         \u001b[0;32mif\u001b[0m \u001b[0mlen\u001b[0m\u001b[0;34m(\u001b[0m\u001b[0mself\u001b[0m\u001b[0;34m.\u001b[0m\u001b[0mdata\u001b[0m\u001b[0;34m[\u001b[0m\u001b[0mx\u001b[0m\u001b[0;34m]\u001b[0m\u001b[0;34m.\u001b[0m\u001b[0m_get_numeric_data\u001b[0m\u001b[0;34m(\u001b[0m\u001b[0;34m)\u001b[0m\u001b[0;34m)\u001b[0m \u001b[0;34m==\u001b[0m \u001b[0;36m0\u001b[0m\u001b[0;34m:\u001b[0m\u001b[0;34m\u001b[0m\u001b[0;34m\u001b[0m\u001b[0m\n\u001b[1;32m    870\u001b[0m             \u001b[0;32mraise\u001b[0m \u001b[0mValueError\u001b[0m\u001b[0;34m(\u001b[0m\u001b[0mself\u001b[0m\u001b[0;34m.\u001b[0m\u001b[0m_kind\u001b[0m \u001b[0;34m+\u001b[0m \u001b[0;34m\" requires x column to be numeric\"\u001b[0m\u001b[0;34m)\u001b[0m\u001b[0;34m\u001b[0m\u001b[0;34m\u001b[0m\u001b[0m\n\u001b[0;32m--> 871\u001b[0;31m         \u001b[0;32mif\u001b[0m \u001b[0mlen\u001b[0m\u001b[0;34m(\u001b[0m\u001b[0mself\u001b[0m\u001b[0;34m.\u001b[0m\u001b[0mdata\u001b[0m\u001b[0;34m[\u001b[0m\u001b[0my\u001b[0m\u001b[0;34m]\u001b[0m\u001b[0;34m.\u001b[0m\u001b[0m_get_numeric_data\u001b[0m\u001b[0;34m(\u001b[0m\u001b[0;34m)\u001b[0m\u001b[0;34m)\u001b[0m \u001b[0;34m==\u001b[0m \u001b[0;36m0\u001b[0m\u001b[0;34m:\u001b[0m\u001b[0;34m\u001b[0m\u001b[0;34m\u001b[0m\u001b[0m\n\u001b[0m\u001b[1;32m    872\u001b[0m             \u001b[0;32mraise\u001b[0m \u001b[0mValueError\u001b[0m\u001b[0;34m(\u001b[0m\u001b[0mself\u001b[0m\u001b[0;34m.\u001b[0m\u001b[0m_kind\u001b[0m \u001b[0;34m+\u001b[0m \u001b[0;34m\" requires y column to be numeric\"\u001b[0m\u001b[0;34m)\u001b[0m\u001b[0;34m\u001b[0m\u001b[0;34m\u001b[0m\u001b[0m\n\u001b[1;32m    873\u001b[0m \u001b[0;34m\u001b[0m\u001b[0m\n",
      "\u001b[0;32m/opt/conda/miniconda3/lib/python3.6/site-packages/pandas/core/frame.py\u001b[0m in \u001b[0;36m__getitem__\u001b[0;34m(self, key)\u001b[0m\n\u001b[1;32m   2993\u001b[0m             \u001b[0;32mif\u001b[0m \u001b[0mself\u001b[0m\u001b[0;34m.\u001b[0m\u001b[0mcolumns\u001b[0m\u001b[0;34m.\u001b[0m\u001b[0mnlevels\u001b[0m \u001b[0;34m>\u001b[0m \u001b[0;36m1\u001b[0m\u001b[0;34m:\u001b[0m\u001b[0;34m\u001b[0m\u001b[0;34m\u001b[0m\u001b[0m\n\u001b[1;32m   2994\u001b[0m                 \u001b[0;32mreturn\u001b[0m \u001b[0mself\u001b[0m\u001b[0;34m.\u001b[0m\u001b[0m_getitem_multilevel\u001b[0m\u001b[0;34m(\u001b[0m\u001b[0mkey\u001b[0m\u001b[0;34m)\u001b[0m\u001b[0;34m\u001b[0m\u001b[0;34m\u001b[0m\u001b[0m\n\u001b[0;32m-> 2995\u001b[0;31m             \u001b[0mindexer\u001b[0m \u001b[0;34m=\u001b[0m \u001b[0mself\u001b[0m\u001b[0;34m.\u001b[0m\u001b[0mcolumns\u001b[0m\u001b[0;34m.\u001b[0m\u001b[0mget_loc\u001b[0m\u001b[0;34m(\u001b[0m\u001b[0mkey\u001b[0m\u001b[0;34m)\u001b[0m\u001b[0;34m\u001b[0m\u001b[0;34m\u001b[0m\u001b[0m\n\u001b[0m\u001b[1;32m   2996\u001b[0m             \u001b[0;32mif\u001b[0m \u001b[0mis_integer\u001b[0m\u001b[0;34m(\u001b[0m\u001b[0mindexer\u001b[0m\u001b[0;34m)\u001b[0m\u001b[0;34m:\u001b[0m\u001b[0;34m\u001b[0m\u001b[0;34m\u001b[0m\u001b[0m\n\u001b[1;32m   2997\u001b[0m                 \u001b[0mindexer\u001b[0m \u001b[0;34m=\u001b[0m \u001b[0;34m[\u001b[0m\u001b[0mindexer\u001b[0m\u001b[0;34m]\u001b[0m\u001b[0;34m\u001b[0m\u001b[0;34m\u001b[0m\u001b[0m\n",
      "\u001b[0;32m/opt/conda/miniconda3/lib/python3.6/site-packages/pandas/core/indexes/base.py\u001b[0m in \u001b[0;36mget_loc\u001b[0;34m(self, key, method, tolerance)\u001b[0m\n\u001b[1;32m   2897\u001b[0m                 \u001b[0;32mreturn\u001b[0m \u001b[0mself\u001b[0m\u001b[0;34m.\u001b[0m\u001b[0m_engine\u001b[0m\u001b[0;34m.\u001b[0m\u001b[0mget_loc\u001b[0m\u001b[0;34m(\u001b[0m\u001b[0mkey\u001b[0m\u001b[0;34m)\u001b[0m\u001b[0;34m\u001b[0m\u001b[0;34m\u001b[0m\u001b[0m\n\u001b[1;32m   2898\u001b[0m             \u001b[0;32mexcept\u001b[0m \u001b[0mKeyError\u001b[0m\u001b[0;34m:\u001b[0m\u001b[0;34m\u001b[0m\u001b[0;34m\u001b[0m\u001b[0m\n\u001b[0;32m-> 2899\u001b[0;31m                 \u001b[0;32mreturn\u001b[0m \u001b[0mself\u001b[0m\u001b[0;34m.\u001b[0m\u001b[0m_engine\u001b[0m\u001b[0;34m.\u001b[0m\u001b[0mget_loc\u001b[0m\u001b[0;34m(\u001b[0m\u001b[0mself\u001b[0m\u001b[0;34m.\u001b[0m\u001b[0m_maybe_cast_indexer\u001b[0m\u001b[0;34m(\u001b[0m\u001b[0mkey\u001b[0m\u001b[0;34m)\u001b[0m\u001b[0;34m)\u001b[0m\u001b[0;34m\u001b[0m\u001b[0;34m\u001b[0m\u001b[0m\n\u001b[0m\u001b[1;32m   2900\u001b[0m         \u001b[0mindexer\u001b[0m \u001b[0;34m=\u001b[0m \u001b[0mself\u001b[0m\u001b[0;34m.\u001b[0m\u001b[0mget_indexer\u001b[0m\u001b[0;34m(\u001b[0m\u001b[0;34m[\u001b[0m\u001b[0mkey\u001b[0m\u001b[0;34m]\u001b[0m\u001b[0;34m,\u001b[0m \u001b[0mmethod\u001b[0m\u001b[0;34m=\u001b[0m\u001b[0mmethod\u001b[0m\u001b[0;34m,\u001b[0m \u001b[0mtolerance\u001b[0m\u001b[0;34m=\u001b[0m\u001b[0mtolerance\u001b[0m\u001b[0;34m)\u001b[0m\u001b[0;34m\u001b[0m\u001b[0;34m\u001b[0m\u001b[0m\n\u001b[1;32m   2901\u001b[0m         \u001b[0;32mif\u001b[0m \u001b[0mindexer\u001b[0m\u001b[0;34m.\u001b[0m\u001b[0mndim\u001b[0m \u001b[0;34m>\u001b[0m \u001b[0;36m1\u001b[0m \u001b[0;32mor\u001b[0m \u001b[0mindexer\u001b[0m\u001b[0;34m.\u001b[0m\u001b[0msize\u001b[0m \u001b[0;34m>\u001b[0m \u001b[0;36m1\u001b[0m\u001b[0;34m:\u001b[0m\u001b[0;34m\u001b[0m\u001b[0;34m\u001b[0m\u001b[0m\n",
      "\u001b[0;32mpandas/_libs/index.pyx\u001b[0m in \u001b[0;36mpandas._libs.index.IndexEngine.get_loc\u001b[0;34m()\u001b[0m\n",
      "\u001b[0;32mpandas/_libs/index.pyx\u001b[0m in \u001b[0;36mpandas._libs.index.IndexEngine.get_loc\u001b[0;34m()\u001b[0m\n",
      "\u001b[0;32mpandas/_libs/hashtable_class_helper.pxi\u001b[0m in \u001b[0;36mpandas._libs.hashtable.PyObjectHashTable.get_item\u001b[0;34m()\u001b[0m\n",
      "\u001b[0;32mpandas/_libs/hashtable_class_helper.pxi\u001b[0m in \u001b[0;36mpandas._libs.hashtable.PyObjectHashTable.get_item\u001b[0;34m()\u001b[0m\n",
      "\u001b[0;31mKeyError\u001b[0m: 'hail pca time'"
     ]
    },
    {
     "data": {
      "image/png": "[encoded data removed]",
      "text/plain": [
       "<Figure size 432x288 with 1 Axes>"
      ]
     },
     "metadata": {
      "needs_background": "light"
     },
     "output_type": "display_data"
    }
   ],
   "source": [
    "big_df.plot(kind='scatter',x='MxN',y='blanczos time',color='red')\n",
    "big_df.plot(kind='scatter',x='MxN',y='hail pca time',color='blue')\n",
    "plt.show()"
   ]
  },
  {
   "cell_type": "code",
   "execution_count": null,
   "metadata": {},
   "outputs": [],
   "source": []
  },
  {
   "cell_type": "code",
   "execution_count": null,
   "metadata": {},
   "outputs": [],
   "source": []
  }
 ],
 "metadata": {
  "kernelspec": {
   "display_name": "Python 3",
   "language": "python",
   "name": "python3"
  },
  "language_info": {
   "codemirror_mode": {
    "name": "ipython",
    "version": 3
   },
   "file_extension": ".py",
   "mimetype": "text/x-python",
   "name": "python",
   "nbconvert_exporter": "python",
   "pygments_lexer": "ipython3",
   "version": "3.6.10"
  }
 },
 "nbformat": 4,
 "nbformat_minor": 4
}