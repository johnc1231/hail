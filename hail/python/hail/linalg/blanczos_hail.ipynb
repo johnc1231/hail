{
 "cells": [
  {
   "cell_type": "code",
   "execution_count": 1,
   "metadata": {},
   "outputs": [
    {
     "name": "stdout",
     "output_type": "stream",
     "text": [
      "Requirement already satisfied: matplotlib in /opt/conda/miniconda3/lib/python3.6/site-packages (3.3.0)\r\n",
      "Requirement already satisfied: cycler>=0.10 in /opt/conda/miniconda3/lib/python3.6/site-packages (from matplotlib) (0.10.0)\r\n",
      "Requirement already satisfied: python-dateutil>=2.1 in /opt/conda/miniconda3/lib/python3.6/site-packages (from matplotlib) (2.8.1)\r\n",
      "Requirement already satisfied: pillow>=6.2.0 in /opt/conda/miniconda3/lib/python3.6/site-packages (from matplotlib) (7.2.0)\r\n",
      "Requirement already satisfied: pyparsing!=2.0.4,!=2.1.2,!=2.1.6,>=2.0.3 in /opt/conda/miniconda3/lib/python3.6/site-packages (from matplotlib) (2.4.7)\r\n",
      "Requirement already satisfied: numpy>=1.15 in /opt/conda/miniconda3/lib/python3.6/site-packages (from matplotlib) (1.18.5)\r\n",
      "Requirement already satisfied: kiwisolver>=1.0.1 in /opt/conda/miniconda3/lib/python3.6/site-packages (from matplotlib) (1.2.0)\r\n",
      "Requirement already satisfied: six in /opt/conda/miniconda3/lib/python3.6/site-packages (from cycler>=0.10->matplotlib) (1.15.0)\r\n"
     ]
    }
   ],
   "source": [
    "!/opt/conda/default/bin/pip install matplotlib"
   ]
  },
  {
   "cell_type": "code",
   "execution_count": 2,
   "metadata": {},
   "outputs": [],
   "source": [
    "import numpy as np\n",
    "import hail as hl\n",
    "from hail import methods\n",
    "from hail.expr import matrix_table_source\n",
    "import scipy as sp\n",
    "import pandas as pd\n",
    "from math import sqrt, pi, ceil\n",
    "from random import randint, choice\n",
    "import matplotlib.pyplot as plt\n",
    "import pandas as pd\n",
    "import time"
   ]
  },
  {
   "cell_type": "markdown",
   "metadata": {},
   "source": [
    "## Grouping and NDArray methods from Tim and Dan"
   ]
  },
  {
   "cell_type": "code",
   "execution_count": 3,
   "metadata": {},
   "outputs": [],
   "source": [
    "# Functions for operating with Tables of ndarrays in Hail (from Tim)\n",
    "\n",
    "from hail.expr import Expression, ExpressionException, \\\n",
    "    expr_float64, expr_call, expr_any, expr_numeric, expr_array, \\\n",
    "    expr_locus, \\\n",
    "    analyze, check_entry_indexed, check_row_indexed, \\\n",
    "    matrix_table_source, table_source\n",
    "\n",
    "# Only groups by rows, NOT COLUMNS\n",
    "def matrix_table_to_table_of_ndarrays(field, group_size, tmp_path = '/tmp/nd_table.ht'):\n",
    "    \"\"\"\n",
    "\n",
    "    The returned table has two fields: 'row_group_number' and 'ndarray'.\n",
    "\n",
    "    Examples\n",
    "    --------\n",
    "    >>> ht = matrix_table_to_table_of_ndarrays(mt.GT.n_alt_alleles(), 100)\n",
    "\n",
    "    Parameters\n",
    "    ----------\n",
    "    field\n",
    "    group_size\n",
    "    tmp_path\n",
    "\n",
    "    Returns\n",
    "    -------\n",
    "\n",
    "    \"\"\"\n",
    "    mt = matrix_table_source('matrix_table_to_table_of_ndarrays/x', field)\n",
    "    mt = mt.select_entries(x = field)\n",
    "    ht = mt.localize_entries(entries_array_field_name='entries')\n",
    "    # now ht.entries is an array of structs with one field, x\n",
    "\n",
    "    # we'll also want to mean-impute/variance-normalize/etc here\n",
    "    ht = ht.select(xs = ht.entries.map(lambda e: e['x']))\n",
    "    # now ht.xs is an array of float64\n",
    "\n",
    "    # now need to produce groups of G\n",
    "    ht = ht.add_index()\n",
    "    ht = ht.group_by(row_group_number= hl.int32(ht.idx // group_size)) \\\n",
    "        .aggregate(ndarray=hl.nd.array(hl.agg.collect(ht.xs)))\n",
    "    # may require a .T on ndarray\n",
    "\n",
    "    return ht.checkpoint(tmp_path, overwrite=True)\n",
    "\n",
    "def chunk_ndarray(a, group_size):\n",
    "    \"\"\"Chunks a NDarray along the first axis in chunks of `group_size`.\n",
    "    Parameters\n",
    "    ----------\n",
    "    a\n",
    "    group_size\n",
    "    -------\n",
    "\n",
    "    \"\"\"\n",
    "    n_groups = ceil(a.shape[0] / group_size)\n",
    "    groups = []\n",
    "    for i in range(n_groups):\n",
    "        start = i * group_size\n",
    "        if i == n_groups - 1:\n",
    "            end = a.shape[0]\n",
    "        else:\n",
    "            end = (i + 1) * group_size\n",
    "        groups.append(a[start:end, :])\n",
    "    return groups\n",
    "\n",
    "\n",
    "# Concatenate the ndarrays with a blocked Table\n",
    "def concatBlocked(A):\n",
    "    blocks = A.ndarray.collect()\n",
    "    big_mat = np.concatenate(blocks, axis=0)\n",
    "    ht = ndarray_to_table([big_mat])\n",
    "    return ht\n",
    "\n",
    "def concatToNumpy(A):\n",
    "    blocks = A.ndarray.collect()\n",
    "    big_mat = np.concatenate(blocks, axis=0)\n",
    "    return big_mat\n",
    "\n",
    "def ndarray_to_table(chunked_arr):\n",
    "    structs = [hl.struct(row_group_number = idx, ndarray = block)\n",
    "               for idx, block in enumerate(chunked_arr)]\n",
    "    ht = hl.Table.parallelize(structs)\n",
    "    ht = ht.key_by('row_group_number')\n",
    "    return ht\n",
    "\n",
    "# function to multiply two blocks, given the two blocks\n",
    "# returns struct in form of array but not ndarray, includes the shape in the struct\n",
    "# to change the result product directly back into a ndarray we need to use from_column_major\n",
    "def block_product(left, right):\n",
    "    product = left @ right     \n",
    "    n_rows, n_cols = product.shape\n",
    "    return hl.struct(\n",
    "        shape=product.shape,\n",
    "        block=hl.range(hl.int(n_rows * n_cols)).map(\n",
    "            lambda absolute: product[absolute % n_rows, absolute // n_rows]))\n",
    "\n",
    "# takes in output of block_product\n",
    "def block_aggregate(prod):\n",
    "    shape = prod.shape\n",
    "    block = prod.block\n",
    "    return hl.nd.from_column_major(\n",
    "        hl.agg.array_sum(block),\n",
    "        hl.agg.take(shape, 1)[0])\n",
    "\n",
    "# returns flat array\n",
    "def to_column_major(ndarray):\n",
    "    n_rows, n_cols = ndarray.shape\n",
    "    return hl.range(hl.int(n_rows * n_cols)).map(\n",
    "        lambda absolute: ndarray[absolute % n_rows, absolute // n_rows])\n",
    "\n",
    "# hl.nd.from_column_major(thing.the_sum, thing.the_shape)"
   ]
  },
  {
   "cell_type": "markdown",
   "metadata": {},
   "source": [
    "## Blanczos Algorithm"
   ]
  },
  {
   "cell_type": "code",
   "execution_count": 4,
   "metadata": {
    "scrolled": false
   },
   "outputs": [],
   "source": [
    "# Algorithm step: multiplying H0 = A @ G\n",
    "\n",
    "# METHOD\n",
    "# Multiply a row-blocked matrix by a local non-blocked matrix\n",
    "# First step of algorithm\n",
    "\n",
    "# Usage:\n",
    "# assumes blocks in blocked matrix are named ndarray\n",
    "# A is a table, B is a Hail ndarray\n",
    "# returns a table\n",
    "\n",
    "# Example:\n",
    "# H0 = matmul_rowblocked_nonblocked(data, G)\n",
    "\n",
    "def matmul_rowblocked_nonblocked(A, B):\n",
    "    temp = A.annotate_globals(mat = B)\n",
    "    temp = temp.annotate(ndarray = temp.ndarray @ temp.mat)\n",
    "    temp = temp.select(temp.ndarray)\n",
    "    temp = temp.drop(temp.mat)\n",
    "    return temp\n",
    "\n",
    "\n",
    "# Algorithm step: intermediate operation of multiplying At @ (A @ G) = At @ H0\n",
    "\n",
    "# METHOD\n",
    "# Multiply a column-blocked matrix by a row-blocked matrix \n",
    "# as a blockmatrix multiplcation and then sum\n",
    "# Second step of algorithm\n",
    "\n",
    "# Usage:\n",
    "# pass in matrix A normally, blocked in rows - this specifically expects A to need to be transposed\n",
    "# assumes blocks in blocked matrix are named ndarray\n",
    "# A and B are both tables\n",
    "# returns a hail ndarray\n",
    "\n",
    "# Example:\n",
    "# G1 = matmul_colblocked_rowblocked(data, H0)\n",
    "\n",
    "def matmul_colblocked_rowblocked(A, B):\n",
    "    temp = A.transmute(ndarray = block_product(A.ndarray.transpose(), B[A.row_group_number].ndarray))\n",
    "    result_arr_sum = temp.aggregate(block_aggregate(temp.ndarray))\n",
    "    return result_arr_sum\n",
    "\n",
    "# def matmul_colblocked_rowblocked(A, B):\n",
    "#     temp = A.transmute(ndarray = A.ndarray.transpose() @ B[A.row_group_number].ndarray)\n",
    "#     return temp.aggregate(hl.agg.ndarray_sum(temp.ndarray))\n",
    "\n",
    "# Algorithm step: perform QR decomposition of Hq and compute T = Q^T @ A\n",
    "# Perform QR decomposition of a row-blocked matrix\n",
    "# Third and fourth step of algorithm\n",
    "\n",
    "# def computeNextH(A, H):\n",
    "#     nextG = matmul_colblocked_rowblocked(A, H)\n",
    "#     return matmul_rowblocked_nonblocked(A, nextG)\n",
    "\n",
    "# def q_iteration(A, G):\n",
    "#     temp = A.annotate(H_i = A.ndarray @ G.ndarray)\n",
    "#     temp = temp.annotate(G_i_intermediate = temp.ndarray.T @ temp.H_i)\n",
    "#     result = temp.aggregate(hl.struct(Hi_chunks = hl.agg.collect(temp.H_i), G_i = hl.agg.ndarray_sum(temp.G_i)))\n",
    "#     localized_H_i = np.concat(result.Hi_chunks, axis = 1)\n",
    "#     G_i = result.G_i\n",
    "#     return localized_H_i, G_i\n",
    "\n",
    " "
   ]
  },
  {
   "cell_type": "code",
   "execution_count": 5,
   "metadata": {},
   "outputs": [],
   "source": [
    "def hailBlanczos(A, G, m, n, k, l, q, block_size):\n",
    "    \n",
    "    # assert l > k\n",
    "    # assert (q+1)*l <= (n - k)\n",
    "    # assert n <= m\n",
    "    \n",
    "    start = time.time()\n",
    "    \n",
    "    h_list = []\n",
    "    G_i = G\n",
    "\n",
    "    for j in range(0, q + 1):\n",
    "        temp = A.annotate(H_i = A.ndarray @ G_i)\n",
    "        temp = temp.annotate(G_i_intermediate = temp.ndarray.T @ temp.H_i)\n",
    "        result = temp.aggregate(hl.struct(Hi_chunks = hl.agg.collect(temp.H_i), G_i = hl.agg.ndarray_sum(temp.G_i_intermediate)))\n",
    "        localized_H_i = np.vstack(result.Hi_chunks)\n",
    "#         localized_H_i = np.concatenate(result.Hi_chunks, axis = 1)\n",
    "        h_list.append(localized_H_i)\n",
    "        G_i = result.G_i\n",
    "    \n",
    "    H = np.hstack(h_list)        \n",
    "                            \n",
    "    # assert npH.shape == (m, (q+1)*l)\n",
    "    # perform QR decomposition on unblocked version of H\n",
    "    Q, R = np.linalg.qr(H)\n",
    "    # assert Q.shape == (m, (q+1)*l)\n",
    "    # block Q's rows into the same number of blocks that A has\n",
    "    blocked_Q_table = ndarray_to_table(chunk_ndarray(Q, block_size))\n",
    "    \n",
    "    T = matmul_colblocked_rowblocked(blocked_Q_table, A)\n",
    "    # assert T.shape == ((q+1)*l, n)\n",
    "    \n",
    "    U, S, W = np.linalg.svd(T, full_matrices=False)\n",
    "    # assert U.shape == ((q+1)*l, n)\n",
    "    # assert S.shape == (n,)\n",
    "    # assert W.shape == (n, n)\n",
    "    \n",
    "    sing_val = S[k]\n",
    "    \n",
    "    V = matmul_rowblocked_nonblocked(blocked_Q_table, U)\n",
    "    arr_V = concatToNumpy(V)\n",
    "    \n",
    "    end = time.time()\n",
    "    \n",
    "    truncV = arr_V[:,:k]\n",
    "    truncS = S[:k]\n",
    "    truncW = W[:k,:]\n",
    "    \n",
    "    #bound, satC = blanczosErrorB(truncV, np.diag(truncS), truncW.transpose(), m, n, k, q, concatToNumpy(A), sing_val)\n",
    "    \n",
    "    return truncV, truncS, truncW, sing_val, Q, end - start #, bound, satC\n"
   ]
  },
  {
   "cell_type": "markdown",
   "metadata": {},
   "source": [
    "## NumPy implementation from other notebook"
   ]
  },
  {
   "cell_type": "code",
   "execution_count": 6,
   "metadata": {},
   "outputs": [],
   "source": [
    "# ALL TRANSPOSED FROM ABOVE IMPLEMENTATION\n",
    "\n",
    "def hwe_normalize(call_expr):\n",
    "    mt = call_expr._indices.source\n",
    "    mt = mt.select_entries(__gt=call_expr.n_alt_alleles())\n",
    "    mt = mt.annotate_rows(__AC=hl.agg.sum(mt.__gt),\n",
    "                          __n_called=hl.agg.count_where(hl.is_defined(mt.__gt)))\n",
    "    mt = mt.filter_rows((mt.__AC > 0) & (mt.__AC < 2 * mt.__n_called))\n",
    "\n",
    "    n_variants = mt.count_rows()\n",
    "    if n_variants == 0:\n",
    "        raise FatalError(\"hwe_normalized: found 0 variants after filtering out monomorphic sites.\")\n",
    "\n",
    "    mt = mt.annotate_rows(__mean_gt=mt.__AC / mt.__n_called)\n",
    "    mt = mt.annotate_rows(\n",
    "        __hwe_scaled_std_dev=hl.sqrt(mt.__mean_gt * (2 - mt.__mean_gt) * n_variants / 2))\n",
    "    mt = mt.unfilter_entries()\n",
    "\n",
    "    normalized_gt = hl.or_else((mt.__gt - mt.__mean_gt) / mt.__hwe_scaled_std_dev, 0.0)\n",
    "    return normalized_gt\n",
    "\n",
    "#Blanczos paper error bound 4.23\n",
    "def blanczosErrorA(U, S, V, m, n, k, q, A, k1th_sing_val):\n",
    "    norm_diff = np.linalg.norm(A - U @ S @ V.transpose())\n",
    "    bound = 100 * l * (((m-k)/l) ** (1/(4*q + 2))) * k1th_sing_val\n",
    "    print('value:', norm_diff, 'bound/upper limit:', bound)\n",
    "    return norm_diff <= bound\n",
    "\n",
    "def blanczosErrorB(U, S, V, m, n, k, q, A, k1th_sing_val):\n",
    "    C = 1\n",
    "    norm_diff = np.linalg.norm(A - U @ S @ V.transpose())\n",
    "    bound = C * (m ** (1/(4*q))) * k1th_sing_val\n",
    "    satisfyingC = norm_diff / bound\n",
    "    print('difference A - USV:', norm_diff, 'bound/upper limit:', bound)\n",
    "    print('C constant needed to satisfy bound:', satisfyingC)\n",
    "    return norm_diff <= bound, satisfyingC\n",
    "\n",
    "def normQQtA(A, Q):\n",
    "    return np.linalg.norm(A - Q @ Q.transpose() @ A)\n",
    "\n",
    "def numpyBlanczos(A, m, n, k, l, q, G):\n",
    "\n",
    "    assert l > k\n",
    "    # assert (q+1)*l <= (m - k)\n",
    "    assert m <= n\n",
    "\n",
    "    # G = np.random.normal(0, 1, (l, m))\n",
    "    R = G @ A\n",
    "    # AtA = A.transpose() @ A\n",
    "    listR = [R]\n",
    "    for i in range(0, q):\n",
    "        Ri = (listR[i] @ A.transpose()) @ A\n",
    "        listR.append(Ri)\n",
    "        R = np.concatenate((R, Ri), axis=0)\n",
    "\n",
    "    assert R.shape == ((q+1)*l, n)\n",
    "    (Q, S) = np.linalg.qr(R.transpose())\n",
    "    assert Q.shape == (n, (q+1)*l)\n",
    "    assert S.shape == ((q+1)*l, (q+1)*l)\n",
    "\n",
    "    T = A @ Q\n",
    "    assert T.shape == (m, (q+1)*l)\n",
    "    \n",
    "    (Tu, Ts, Tw) = np.linalg.svd(T, full_matrices=False)\n",
    "    assert Tu.shape, (m, (q+1)*l)\n",
    "    print(Ts.shape, (q+1)*l)\n",
    "    assert Ts.shape == ((q+1)*l,)\n",
    "    assert Tw.shape == ((q+1)*l, (q+1)*l)\n",
    "    \n",
    "    sing_val = Ts[k]\n",
    "    \n",
    "    V = Q @ Tw\n",
    "    \n",
    "    bound = blanczosErrorB(Tu, np.diag(Ts), V, m, n, k, q, A, sing_val)\n",
    "    \n",
    "    return Tu[:,:k], Ts[:k], V[:k,:], sing_val, Q\n"
   ]
  },
  {
   "cell_type": "markdown",
   "metadata": {},
   "source": [
    "## Run NumPy and Hail implementations on the same data"
   ]
  },
  {
   "cell_type": "code",
   "execution_count": 8,
   "metadata": {
    "scrolled": false
   },
   "outputs": [
    {
     "name": "stderr",
     "output_type": "stream",
     "text": [
      "2020-08-12 13:11:33 Hail: INFO: balding_nichols_model: generating genotypes for 3 populations, 97 samples, and 1117 variants...\n",
      "2020-08-12 13:11:34 Hail: INFO: Coerced sorted dataset\n",
      "2020-08-12 13:11:38 Hail: INFO: wrote matrix table with 1117 rows and 97 columns in 8 partitions to balding_nichols_data.mt\n",
      "2020-08-12 13:11:41 Hail: INFO: Ordering unsorted dataset with network shuffle\n",
      "2020-08-12 13:11:45 Hail: INFO: wrote table with 280 rows in 8 partitions to /tmp/test_table.ht\n"
     ]
    }
   ],
   "source": [
    "def makeSharedData(model_input, block_size):\n",
    "    \n",
    "    # we should have m > n for hail implementation\n",
    "    mt = hl.balding_nichols_model(*model_input)\n",
    "    \n",
    "    mt.write(\"balding_nichols_data.mt\", overwrite=True)\n",
    "    mt = hl.read_matrix_table(\"balding_nichols_data.mt\")\n",
    "    \n",
    "    mt = mt.transmute_entries(n_alt = hl.float64(mt.GT.n_alt_alleles())) \n",
    "    table = matrix_table_to_table_of_ndarrays(mt.n_alt, block_size, tmp_path='/tmp/test_table.ht')\n",
    "    \n",
    "    # for numpy implementation we want transposed version so m < n\n",
    "    np_matrix = np.asmatrix(concatToNumpy(table))\n",
    "\n",
    "    return table, np_matrix, mt # THIS WAS PREVIOUSLY JUST RETURNING table, np_matrix\n",
    "\n",
    "m = 1117\n",
    "n = 97\n",
    "block_size = 4\n",
    "hailA, numpyA, _ = makeSharedData((3, n, m), block_size)\n",
    "\n",
    "# doesn't account for differences due to transposing\n",
    "# hailV not necessarily supposed to be the same as blanczosU"
   ]
  },
  {
   "cell_type": "code",
   "execution_count": 9,
   "metadata": {},
   "outputs": [],
   "source": [
    "k = 10\n",
    "l = k + 2\n",
    "q = 3\n",
    "G = np.random.normal(0, 1, (n,l))"
   ]
  },
  {
   "cell_type": "code",
   "execution_count": 10,
   "metadata": {},
   "outputs": [],
   "source": [
    "def timeNumpyLibrary(data):\n",
    "    start = time.time()\n",
    "    _, S, _ = np.linalg.svd(data, full_matrices=False)\n",
    "    end = time.time()\n",
    "    return end - start\n",
    "\n",
    "def convertSVDtoPCA(data, U, S, V):\n",
    "    # might need to center data first??\n",
    "    m = data.shape[0]\n",
    "    scores = sqrt(m - 1) * U\n",
    "    loadings = V @ S / sqrt(m - 1)\n",
    "    eigens = S @ S / sqrt(m - 1)\n",
    "    return eigens, scores, loadings"
   ]
  },
  {
   "cell_type": "code",
   "execution_count": 11,
   "metadata": {
    "scrolled": false
   },
   "outputs": [
    {
     "name": "stderr",
     "output_type": "stream",
     "text": [
      "2020-08-12 13:11:49 Hail: INFO: Coerced sorted dataset\n",
      "2020-08-12 13:11:50 Hail: INFO: Coerced sorted dataset\n"
     ]
    }
   ],
   "source": [
    "hailV, hailS, hailW, hailSingVal, hailQ, _ = hailBlanczos(hailA, hl.nd.array(G), m, n, k, l, q, block_size)"
   ]
  },
  {
   "cell_type": "code",
   "execution_count": 12,
   "metadata": {},
   "outputs": [
    {
     "data": {
      "text/plain": [
       "array([ 1.13686838e-13, -1.01727196e-08, -8.05608451e-08, -6.01293499e-02,\n",
       "       -5.16519339e-02, -9.19718443e-02, -1.57618317e-01, -1.35818268e-01,\n",
       "       -2.18426688e-01, -3.25082225e-01])"
      ]
     },
     "execution_count": 12,
     "metadata": {},
     "output_type": "execute_result"
    }
   ],
   "source": [
    "_, npS, _ = np.linalg.svd(numpyA.T, full_matrices=False)\n",
    "\n",
    "hailS - npS[:k]"
   ]
  },
  {
   "cell_type": "code",
   "execution_count": null,
   "metadata": {
    "scrolled": true
   },
   "outputs": [],
   "source": [
    "#numpyU, numpyS, numpyV, numpySingVal, numpyQ = numpyBlanczos(numpyA.transpose(), n, m, k, l, q, G.transpose())"
   ]
  },
  {
   "cell_type": "code",
   "execution_count": null,
   "metadata": {
    "scrolled": true
   },
   "outputs": [],
   "source": [
    "# print('largest singular value from hail:', hailS[0])\n",
    "# print('smallest singular value from hail:', hailS[k-1])\n",
    "# print(hailS.shape)\n",
    "# print(numpyS.shape)\n",
    "# hailS - numpyS"
   ]
  },
  {
   "cell_type": "code",
   "execution_count": null,
   "metadata": {},
   "outputs": [],
   "source": [
    "# normQQtA(numpyA.transpose(), hailQ)"
   ]
  },
  {
   "cell_type": "code",
   "execution_count": null,
   "metadata": {},
   "outputs": [],
   "source": [
    "# print(numpyA.shape)\n",
    "# print(numpyQ.shape)\n",
    "# normQQtA(numpyA, numpyQ.transpose())"
   ]
  },
  {
   "cell_type": "code",
   "execution_count": null,
   "metadata": {
    "scrolled": true
   },
   "outputs": [],
   "source": [
    "def test_blanczos_against_hail():\n",
    "        \n",
    "#     hl.utils.get_1kg('data/')\n",
    "#     hl.import_vcf('data/1kg.vcf.bgz').write('data/1kg.mt', overwrite=True)\n",
    "#     mt = hl.read_matrix_table('data/1kg.mt')\n",
    "    \n",
    "#     mt = hl.balding_nichols_model(3, 100, 1000)\n",
    "#     mt = mt.transmute_entries(n_alt = hl.float64(mt.GT.n_alt_alleles()))\n",
    "\n",
    "#     ht = mt.localize_entries(\"ent\", \"sample\") \n",
    "#     ht = ht.transmute(n_alt = hl.nd.array(mt.n_alt))\n",
    "#     rows = ht.n_alt.collect()\n",
    "#     np_matrix = np.asmatrix(np.concatenate(rows, axis=0))\n",
    "\n",
    "    _, np_matrix, mt = makeSharedData((3, 100, 1000), 4)\n",
    "\n",
    "    blanczos_u, blanczos_s, blanczos_v = hl._blanczos_pca(hl.int(hl.is_defined(mt.n_alt)), k=3)\n",
    "    blanczos_eigens, blanczos_scores, blanczos_loadings = convertSVDtoPCA(np_matrix, blanczos_u, blanczos_s, blanczos_v)\n",
    "    eigens, scores, loadings = hl.pca(hl.int(hl.is_defined(mt.n_alt)), k=3)\n",
    "    #diff = blanczos_vals - np_vals\n",
    "    print(blanczos_vals)\n",
    "    #print(hail_vals)\n",
    "    return \n",
    "\n",
    "test_blanczos_against_hail()"
   ]
  },
  {
   "cell_type": "code",
   "execution_count": 15,
   "metadata": {},
   "outputs": [],
   "source": [
    "def cleanMissingData(mt):\n",
    "\n",
    "    call_expr = mt.GT\n",
    "    mt = call_expr._indices.source\n",
    "    mt = mt.select_entries(__gt=call_expr.n_alt_alleles())\n",
    "    mt = mt.annotate_rows(__AC=hl.agg.sum(mt.__gt),\n",
    "                          __n_called=hl.agg.count_where(hl.is_defined(mt.__gt)))\n",
    "    mt = mt.filter_rows((mt.__AC > 0) & (mt.__AC < 2 * mt.__n_called))\n",
    "\n",
    "    n_variants = mt.count_rows()\n",
    "    if n_variants == 0:\n",
    "        raise FatalError(\"hwe_normalized: found 0 variants after filtering out monomorphic sites.\")\n",
    "\n",
    "    mt = mt.annotate_rows(__mean_gt=mt.__AC / mt.__n_called)\n",
    "    mt = mt.annotate_rows(__hwe_scaled_std_dev=hl.sqrt(mt.__mean_gt * (2 - mt.__mean_gt) * n_variants / 2))\n",
    "    mt = mt.unfilter_entries()\n",
    "    mt = mt.annotate_entries(__gt = hl.or_else((mt.__gt - mt.__mean_gt) / mt.__hwe_scaled_std_dev, 0.0))\n",
    "    \n",
    "    return mt"
   ]
  },
  {
   "cell_type": "code",
   "execution_count": 21,
   "metadata": {},
   "outputs": [
    {
     "name": "stderr",
     "output_type": "stream",
     "text": [
      "2020-08-12 13:16:02 Hail: INFO: 1KG files found\n",
      "2020-08-12 13:16:03 Hail: INFO: Coerced sorted dataset\n",
      "2020-08-12 13:16:14 Hail: INFO: wrote matrix table with 10879 rows and 284 columns in 1 partition to data/1kg.mt\n"
     ]
    },
    {
     "data": {
      "text/plain": [
       "(10879, 284)"
      ]
     },
     "execution_count": 21,
     "metadata": {},
     "output_type": "execute_result"
    }
   ],
   "source": [
    "hl.utils.get_1kg('data/')\n",
    "hl.import_vcf('data/1kg.vcf.bgz').write('data/1kg.mt', overwrite=True)\n",
    "small_data = hl.read_matrix_table('data/1kg.mt')\n",
    "small_data.count()"
   ]
  },
  {
   "cell_type": "code",
   "execution_count": 24,
   "metadata": {},
   "outputs": [
    {
     "data": {
      "text/plain": [
       "(1622134, 2504)"
      ]
     },
     "execution_count": 24,
     "metadata": {},
     "output_type": "execute_result"
    }
   ],
   "source": [
    "medium_data = hl.experimental.load_dataset(name='1000_Genomes_autosomes', version='phase_3' ,reference_genome='GRCh38')\n",
    "medium_data = medium_data.filter_rows(medium_data.variant_qc.AF[1] > 0.6) \n",
    "medium_data.count()"
   ]
  },
  {
   "cell_type": "code",
   "execution_count": 31,
   "metadata": {},
   "outputs": [
    {
     "name": "stdout",
     "output_type": "stream",
     "text": [
      "----------------------------------------\n",
      "Global fields:\n",
      "    'metadata': struct {\n",
      "        name: str, \n",
      "        version: str, \n",
      "        reference_genome: str, \n",
      "        n_rows: int32, \n",
      "        n_cols: int32, \n",
      "        n_partitions: int32\n",
      "    }\n",
      "----------------------------------------\n",
      "Column fields:\n",
      "    's': str\n",
      "    'population': str\n",
      "    'super_population': str\n",
      "    'is_female': bool\n",
      "    'family_id': str\n",
      "    'relationship_role': str\n",
      "    'maternal_id': str\n",
      "    'paternal_id': str\n",
      "    'children_ids': array<str>\n",
      "    'sibling_ids': array<str>\n",
      "    'second_order_relationship_ids': array<str>\n",
      "    'third_order_relationship_ids': array<str>\n",
      "    'sample_qc': struct {\n",
      "        call_rate: float64, \n",
      "        n_called: int64, \n",
      "        n_not_called: int64, \n",
      "        n_hom_ref: int64, \n",
      "        n_het: int64, \n",
      "        n_hom_var: int64, \n",
      "        n_non_ref: int64, \n",
      "        n_singleton: int64, \n",
      "        n_snp: int64, \n",
      "        n_insertion: int64, \n",
      "        n_deletion: int64, \n",
      "        n_transition: int64, \n",
      "        n_transversion: int64, \n",
      "        n_star: int64, \n",
      "        r_ti_tv: float64, \n",
      "        r_het_hom_var: float64, \n",
      "        r_insertion_deletion: float64\n",
      "    }\n",
      "----------------------------------------\n",
      "Row fields:\n",
      "    'locus': locus<GRCh38>\n",
      "    'alleles': array<str>\n",
      "    'rsid': str\n",
      "    'qual': float64\n",
      "    'filters': set<str>\n",
      "    'info': struct {\n",
      "        CIEND: int32, \n",
      "        CIPOS: int32, \n",
      "        CS: str, \n",
      "        END: int32, \n",
      "        IMPRECISE: bool, \n",
      "        MC: array<str>, \n",
      "        MEINFO: array<str>, \n",
      "        MEND: int32, \n",
      "        MLEN: int32, \n",
      "        MSTART: int32, \n",
      "        SVLEN: array<int32>, \n",
      "        SVTYPE: str, \n",
      "        TSD: str, \n",
      "        AC: int32, \n",
      "        AF: float64, \n",
      "        NS: int32, \n",
      "        AN: int32, \n",
      "        EAS_AF: float64, \n",
      "        EUR_AF: float64, \n",
      "        AFR_AF: float64, \n",
      "        AMR_AF: float64, \n",
      "        SAS_AF: float64, \n",
      "        DP: int32, \n",
      "        AA: str, \n",
      "        VT: str, \n",
      "        EX_TARGET: bool, \n",
      "        MULTI_ALLELIC: bool, \n",
      "        STRAND_FLIP: bool, \n",
      "        REF_SWITCH: bool, \n",
      "        DEPRECATED_RSID: array<str>, \n",
      "        RSID_REMOVED: array<str>, \n",
      "        GRCH37_38_REF_STRING_MATCH: bool, \n",
      "        NOT_ALL_RSIDS_STRAND_CHANGE_OR_REF_SWITCH: bool, \n",
      "        GRCH37_POS: int32, \n",
      "        GRCH37_REF: str, \n",
      "        ALLELE_TRANSFORM: bool, \n",
      "        REF_NEW_ALLELE: bool, \n",
      "        CHROM_CHANGE_BETWEEN_ASSEMBLIES: str\n",
      "    }\n",
      "    'a_index': int32\n",
      "    'was_split': bool\n",
      "    'old_locus': locus<GRCh38>\n",
      "    'old_alleles': array<str>\n",
      "    'variant_qc': struct {\n",
      "        AC: array<int32>, \n",
      "        AF: array<float64>, \n",
      "        AN: int32, \n",
      "        homozygote_count: array<int32>, \n",
      "        n_called: int64, \n",
      "        n_not_called: int64, \n",
      "        call_rate: float32, \n",
      "        n_het: int64, \n",
      "        n_non_ref: int64, \n",
      "        het_freq_hwe: float64, \n",
      "        p_value_hwe: float64\n",
      "    }\n",
      "    '__AC': int64\n",
      "    '__n_called': int64\n",
      "    '__mean_gt': float32\n",
      "    '__hwe_scaled_std_dev': float64\n",
      "----------------------------------------\n",
      "Entry fields:\n",
      "    '__gt': float64\n",
      "----------------------------------------\n",
      "Column key: ['s']\n",
      "Row key: ['locus', 'alleles']\n",
      "----------------------------------------\n"
     ]
    }
   ],
   "source": [
    "medium_data = cleanMissingData(medium_data)\n",
    "medium_data.describe()"
   ]
  },
  {
   "cell_type": "code",
   "execution_count": null,
   "metadata": {},
   "outputs": [],
   "source": [
    "small_data = cleanMissingData(small_data)\n",
    "hl._blanczos_pca(small_data.__gt, k=10, q_iterations=1, oversampling_param=2, block_size=100)"
   ]
  },
  {
   "cell_type": "code",
   "execution_count": 18,
   "metadata": {
    "scrolled": true
   },
   "outputs": [
    {
     "data": {
      "text/html": [
       "<div>\n",
       "<style scoped>\n",
       "    .dataframe tbody tr th:only-of-type {\n",
       "        vertical-align: middle;\n",
       "    }\n",
       "\n",
       "    .dataframe tbody tr th {\n",
       "        vertical-align: top;\n",
       "    }\n",
       "\n",
       "    .dataframe thead th {\n",
       "        text-align: right;\n",
       "    }\n",
       "</style>\n",
       "<table border=\"1\" class=\"dataframe\">\n",
       "  <thead>\n",
       "    <tr style=\"text-align: right;\">\n",
       "      <th></th>\n",
       "      <th>Unnamed: 0</th>\n",
       "      <th>M</th>\n",
       "      <th>N</th>\n",
       "      <th>block size</th>\n",
       "      <th>K</th>\n",
       "      <th>L</th>\n",
       "      <th>Q</th>\n",
       "      <th>blanczos time</th>\n",
       "      <th>numpy time</th>\n",
       "      <th>MxN</th>\n",
       "    </tr>\n",
       "  </thead>\n",
       "  <tbody>\n",
       "    <tr>\n",
       "      <th>0</th>\n",
       "      <td>0</td>\n",
       "      <td>100.0</td>\n",
       "      <td>50.0</td>\n",
       "      <td>2.0</td>\n",
       "      <td>10.0</td>\n",
       "      <td>12.0</td>\n",
       "      <td>1.0</td>\n",
       "      <td>2.719306</td>\n",
       "      <td>0.005315</td>\n",
       "      <td>5000.0</td>\n",
       "    </tr>\n",
       "    <tr>\n",
       "      <th>1</th>\n",
       "      <td>1</td>\n",
       "      <td>100.0</td>\n",
       "      <td>50.0</td>\n",
       "      <td>4.0</td>\n",
       "      <td>10.0</td>\n",
       "      <td>12.0</td>\n",
       "      <td>1.0</td>\n",
       "      <td>1.779193</td>\n",
       "      <td>0.001401</td>\n",
       "      <td>5000.0</td>\n",
       "    </tr>\n",
       "    <tr>\n",
       "      <th>2</th>\n",
       "      <td>2</td>\n",
       "      <td>100.0</td>\n",
       "      <td>50.0</td>\n",
       "      <td>8.0</td>\n",
       "      <td>10.0</td>\n",
       "      <td>12.0</td>\n",
       "      <td>1.0</td>\n",
       "      <td>1.675353</td>\n",
       "      <td>0.001228</td>\n",
       "      <td>5000.0</td>\n",
       "    </tr>\n",
       "    <tr>\n",
       "      <th>3</th>\n",
       "      <td>3</td>\n",
       "      <td>100.0</td>\n",
       "      <td>50.0</td>\n",
       "      <td>16.0</td>\n",
       "      <td>10.0</td>\n",
       "      <td>12.0</td>\n",
       "      <td>1.0</td>\n",
       "      <td>1.427350</td>\n",
       "      <td>0.001386</td>\n",
       "      <td>5000.0</td>\n",
       "    </tr>\n",
       "    <tr>\n",
       "      <th>4</th>\n",
       "      <td>4</td>\n",
       "      <td>100.0</td>\n",
       "      <td>50.0</td>\n",
       "      <td>32.0</td>\n",
       "      <td>10.0</td>\n",
       "      <td>12.0</td>\n",
       "      <td>1.0</td>\n",
       "      <td>1.375496</td>\n",
       "      <td>0.001397</td>\n",
       "      <td>5000.0</td>\n",
       "    </tr>\n",
       "    <tr>\n",
       "      <th>...</th>\n",
       "      <td>...</td>\n",
       "      <td>...</td>\n",
       "      <td>...</td>\n",
       "      <td>...</td>\n",
       "      <td>...</td>\n",
       "      <td>...</td>\n",
       "      <td>...</td>\n",
       "      <td>...</td>\n",
       "      <td>...</td>\n",
       "      <td>...</td>\n",
       "    </tr>\n",
       "    <tr>\n",
       "      <th>117</th>\n",
       "      <td>192</td>\n",
       "      <td>50000.0</td>\n",
       "      <td>1000.0</td>\n",
       "      <td>8.0</td>\n",
       "      <td>10.0</td>\n",
       "      <td>12.0</td>\n",
       "      <td>1.0</td>\n",
       "      <td>40.563137</td>\n",
       "      <td>2.375593</td>\n",
       "      <td>50000000.0</td>\n",
       "    </tr>\n",
       "    <tr>\n",
       "      <th>118</th>\n",
       "      <td>193</td>\n",
       "      <td>50000.0</td>\n",
       "      <td>1000.0</td>\n",
       "      <td>16.0</td>\n",
       "      <td>10.0</td>\n",
       "      <td>12.0</td>\n",
       "      <td>1.0</td>\n",
       "      <td>37.206307</td>\n",
       "      <td>2.434065</td>\n",
       "      <td>50000000.0</td>\n",
       "    </tr>\n",
       "    <tr>\n",
       "      <th>119</th>\n",
       "      <td>194</td>\n",
       "      <td>50000.0</td>\n",
       "      <td>1000.0</td>\n",
       "      <td>32.0</td>\n",
       "      <td>10.0</td>\n",
       "      <td>12.0</td>\n",
       "      <td>1.0</td>\n",
       "      <td>35.526451</td>\n",
       "      <td>2.403668</td>\n",
       "      <td>50000000.0</td>\n",
       "    </tr>\n",
       "    <tr>\n",
       "      <th>120</th>\n",
       "      <td>195</td>\n",
       "      <td>50000.0</td>\n",
       "      <td>5000.0</td>\n",
       "      <td>2.0</td>\n",
       "      <td>10.0</td>\n",
       "      <td>12.0</td>\n",
       "      <td>1.0</td>\n",
       "      <td>94.781509</td>\n",
       "      <td>49.736327</td>\n",
       "      <td>250000000.0</td>\n",
       "    </tr>\n",
       "    <tr>\n",
       "      <th>121</th>\n",
       "      <td>196</td>\n",
       "      <td>50000.0</td>\n",
       "      <td>5000.0</td>\n",
       "      <td>4.0</td>\n",
       "      <td>10.0</td>\n",
       "      <td>12.0</td>\n",
       "      <td>1.0</td>\n",
       "      <td>60.275769</td>\n",
       "      <td>56.006077</td>\n",
       "      <td>250000000.0</td>\n",
       "    </tr>\n",
       "  </tbody>\n",
       "</table>\n",
       "<p>122 rows × 10 columns</p>\n",
       "</div>"
      ],
      "text/plain": [
       "     Unnamed: 0        M       N  block size     K     L    Q  blanczos time  \\\n",
       "0             0    100.0    50.0         2.0  10.0  12.0  1.0       2.719306   \n",
       "1             1    100.0    50.0         4.0  10.0  12.0  1.0       1.779193   \n",
       "2             2    100.0    50.0         8.0  10.0  12.0  1.0       1.675353   \n",
       "3             3    100.0    50.0        16.0  10.0  12.0  1.0       1.427350   \n",
       "4             4    100.0    50.0        32.0  10.0  12.0  1.0       1.375496   \n",
       "..          ...      ...     ...         ...   ...   ...  ...            ...   \n",
       "117         192  50000.0  1000.0         8.0  10.0  12.0  1.0      40.563137   \n",
       "118         193  50000.0  1000.0        16.0  10.0  12.0  1.0      37.206307   \n",
       "119         194  50000.0  1000.0        32.0  10.0  12.0  1.0      35.526451   \n",
       "120         195  50000.0  5000.0         2.0  10.0  12.0  1.0      94.781509   \n",
       "121         196  50000.0  5000.0         4.0  10.0  12.0  1.0      60.275769   \n",
       "\n",
       "     numpy time          MxN  \n",
       "0      0.005315       5000.0  \n",
       "1      0.001401       5000.0  \n",
       "2      0.001228       5000.0  \n",
       "3      0.001386       5000.0  \n",
       "4      0.001397       5000.0  \n",
       "..          ...          ...  \n",
       "117    2.375593   50000000.0  \n",
       "118    2.434065   50000000.0  \n",
       "119    2.403668   50000000.0  \n",
       "120   49.736327  250000000.0  \n",
       "121   56.006077  250000000.0  \n",
       "\n",
       "[122 rows x 10 columns]"
      ]
     },
     "execution_count": 18,
     "metadata": {},
     "output_type": "execute_result"
    }
   ],
   "source": [
    "big_df = pd.read_csv('gs://aotoole/blanczos_data_combinatorial.csv')\n",
    "big_df['MxN'] = big_df.apply(lambda row: row.M * row.N, axis=1)\n",
    "big_df"
   ]
  },
  {
   "cell_type": "code",
   "execution_count": 19,
   "metadata": {
    "scrolled": false
   },
   "outputs": [
    {
     "data": {
      "image/png": "[encoded data removed]",
      "text/plain": [
       "<Figure size 432x288 with 1 Axes>"
      ]
     },
     "metadata": {
      "needs_background": "light"
     },
     "output_type": "display_data"
    },
    {
     "data": {
      "image/png": "[encoded data removed]",
      "text/plain": [
       "<Figure size 432x288 with 1 Axes>"
      ]
     },
     "metadata": {
      "needs_background": "light"
     },
     "output_type": "display_data"
    }
   ],
   "source": [
    "big_df.plot(kind='scatter',x='MxN',y='blanczos time',color='red')\n",
    "big_df.plot(kind='scatter',x='MxN',y='numpy time',color='blue')\n",
    "plt.show()"
   ]
  },
  {
   "cell_type": "code",
   "execution_count": 20,
   "metadata": {},
   "outputs": [
    {
     "data": {
      "image/png": "[encoded data removed]",
      "text/plain": [
       "<Figure size 432x288 with 1 Axes>"
      ]
     },
     "metadata": {
      "needs_background": "light"
     },
     "output_type": "display_data"
    },
    {
     "data": {
      "image/png": "[encoded data removed]",
      "text/plain": [
       "<Figure size 432x288 with 1 Axes>"
      ]
     },
     "metadata": {
      "needs_background": "light"
     },
     "output_type": "display_data"
    }
   ],
   "source": [
    "newdata_small = pd.read_csv('gs://aotoole/blanczos_newsmalldata_times.csv')\n",
    "newdata_small['MxN'] = newdata_small.apply(lambda row: row.M * row.N, axis=1)\n",
    "newdata_small.plot(kind='scatter',x='MxN',y='blanczos time',color='red')\n",
    "newdata_small.plot(kind='scatter',x='MxN',y='hail pca time',color='blue')\n",
    "plt.show()"
   ]
  },
  {
   "cell_type": "code",
   "execution_count": 21,
   "metadata": {},
   "outputs": [
    {
     "data": {
      "image/png": "[encoded data removed]",
      "text/plain": [
       "<Figure size 432x288 with 1 Axes>"
      ]
     },
     "metadata": {
      "needs_background": "light"
     },
     "output_type": "display_data"
    }
   ],
   "source": [
    "newdata_small.plot(kind='scatter',x='block size',y='blanczos time',color='red')\n",
    "# newdata_small.plot(kind='scatter',x='MxN',y='hail pca time',color='blue')\n",
    "plt.show()"
   ]
  },
  {
   "cell_type": "code",
   "execution_count": 3,
   "metadata": {},
   "outputs": [
    {
     "data": {
      "text/html": [
       "<div>\n",
       "<style scoped>\n",
       "    .dataframe tbody tr th:only-of-type {\n",
       "        vertical-align: middle;\n",
       "    }\n",
       "\n",
       "    .dataframe tbody tr th {\n",
       "        vertical-align: top;\n",
       "    }\n",
       "\n",
       "    .dataframe thead th {\n",
       "        text-align: right;\n",
       "    }\n",
       "</style>\n",
       "<table border=\"1\" class=\"dataframe\">\n",
       "  <thead>\n",
       "    <tr style=\"text-align: right;\">\n",
       "      <th></th>\n",
       "      <th>Unnamed: 0</th>\n",
       "      <th>M</th>\n",
       "      <th>N</th>\n",
       "      <th>block size</th>\n",
       "      <th>K</th>\n",
       "      <th>L</th>\n",
       "      <th>Q</th>\n",
       "      <th>blanczos time</th>\n",
       "      <th>hail pca time</th>\n",
       "      <th>blanczos output</th>\n",
       "      <th>hail output</th>\n",
       "    </tr>\n",
       "  </thead>\n",
       "  <tbody>\n",
       "    <tr>\n",
       "      <th>0</th>\n",
       "      <td>0</td>\n",
       "      <td>1599585</td>\n",
       "      <td>2504</td>\n",
       "      <td>256</td>\n",
       "      <td>10</td>\n",
       "      <td>12</td>\n",
       "      <td>0</td>\n",
       "      <td>755.496970</td>\n",
       "      <td>58.248801</td>\n",
       "      <td>(array([[-4.65046397e-04,  4.82042981e-04,  7....</td>\n",
       "      <td>([250.27135042341726, 89.34425314724118, 24.42...</td>\n",
       "    </tr>\n",
       "    <tr>\n",
       "      <th>1</th>\n",
       "      <td>1</td>\n",
       "      <td>1599585</td>\n",
       "      <td>2504</td>\n",
       "      <td>1000</td>\n",
       "      <td>10</td>\n",
       "      <td>12</td>\n",
       "      <td>0</td>\n",
       "      <td>644.729220</td>\n",
       "      <td>57.548807</td>\n",
       "      <td>(array([[-3.90421150e-04,  1.10379127e-03, -8....</td>\n",
       "      <td>([250.27135042341732, 89.34425314724115, 24.42...</td>\n",
       "    </tr>\n",
       "    <tr>\n",
       "      <th>2</th>\n",
       "      <td>2</td>\n",
       "      <td>1599585</td>\n",
       "      <td>2504</td>\n",
       "      <td>256</td>\n",
       "      <td>10</td>\n",
       "      <td>12</td>\n",
       "      <td>2</td>\n",
       "      <td>1849.359635</td>\n",
       "      <td>57.519628</td>\n",
       "      <td>(array([[-9.21273159e-05,  1.01328084e-04,  1....</td>\n",
       "      <td>([250.2713504234171, 89.34425314724115, 24.429...</td>\n",
       "    </tr>\n",
       "  </tbody>\n",
       "</table>\n",
       "</div>"
      ],
      "text/plain": [
       "   Unnamed: 0        M     N  block size   K   L  Q  blanczos time  \\\n",
       "0           0  1599585  2504         256  10  12  0     755.496970   \n",
       "1           1  1599585  2504        1000  10  12  0     644.729220   \n",
       "2           2  1599585  2504         256  10  12  2    1849.359635   \n",
       "\n",
       "   hail pca time                                    blanczos output  \\\n",
       "0      58.248801  (array([[-4.65046397e-04,  4.82042981e-04,  7....   \n",
       "1      57.548807  (array([[-3.90421150e-04,  1.10379127e-03, -8....   \n",
       "2      57.519628  (array([[-9.21273159e-05,  1.01328084e-04,  1....   \n",
       "\n",
       "                                         hail output  \n",
       "0  ([250.27135042341726, 89.34425314724118, 24.42...  \n",
       "1  ([250.27135042341732, 89.34425314724115, 24.42...  \n",
       "2  ([250.2713504234171, 89.34425314724115, 24.429...  "
      ]
     },
     "execution_count": 3,
     "metadata": {},
     "output_type": "execute_result"
    }
   ],
   "source": [
    "smallblocks_mediumdata = pd.read_csv('gs://aotoole/blanczos_medium_data_times.csv')\n",
    "smallblocks_mediumdata\n",
    "# newdata_medium['MxN'] = newdata_medium.apply(lambda row: row.M * row.N, axis=1)\n",
    "# newdata_medium.plot(kind='scatter',x='MxN',y='blanczos time',color='red')\n",
    "# newdata_medium.plot(kind='scatter',x='MxN',y='hail pca time',color='blue')\n",
    "# plt.show()"
   ]
  },
  {
   "cell_type": "code",
   "execution_count": 4,
   "metadata": {},
   "outputs": [
    {
     "data": {
      "text/html": [
       "<div>\n",
       "<style scoped>\n",
       "    .dataframe tbody tr th:only-of-type {\n",
       "        vertical-align: middle;\n",
       "    }\n",
       "\n",
       "    .dataframe tbody tr th {\n",
       "        vertical-align: top;\n",
       "    }\n",
       "\n",
       "    .dataframe thead th {\n",
       "        text-align: right;\n",
       "    }\n",
       "</style>\n",
       "<table border=\"1\" class=\"dataframe\">\n",
       "  <thead>\n",
       "    <tr style=\"text-align: right;\">\n",
       "      <th></th>\n",
       "      <th>Unnamed: 0</th>\n",
       "      <th>M</th>\n",
       "      <th>N</th>\n",
       "      <th>block size</th>\n",
       "      <th>K</th>\n",
       "      <th>L</th>\n",
       "      <th>Q</th>\n",
       "      <th>blanczos time</th>\n",
       "      <th>hail pca time</th>\n",
       "      <th>blanczos output</th>\n",
       "      <th>hail output</th>\n",
       "    </tr>\n",
       "  </thead>\n",
       "  <tbody>\n",
       "    <tr>\n",
       "      <th>0</th>\n",
       "      <td>0</td>\n",
       "      <td>1599585</td>\n",
       "      <td>2504</td>\n",
       "      <td>3000</td>\n",
       "      <td>10</td>\n",
       "      <td>12</td>\n",
       "      <td>0</td>\n",
       "      <td>696.734156</td>\n",
       "      <td>60.124476</td>\n",
       "      <td>(array([[-1.50240819e-04, -3.83569401e-05,  1....</td>\n",
       "      <td>([250.27135042341737, 89.34425314724125, 24.42...</td>\n",
       "    </tr>\n",
       "    <tr>\n",
       "      <th>1</th>\n",
       "      <td>1</td>\n",
       "      <td>1599585</td>\n",
       "      <td>2504</td>\n",
       "      <td>5000</td>\n",
       "      <td>10</td>\n",
       "      <td>12</td>\n",
       "      <td>0</td>\n",
       "      <td>697.822858</td>\n",
       "      <td>60.546290</td>\n",
       "      <td>(array([[ 1.97655647e-04, -1.77442317e-04, -7....</td>\n",
       "      <td>([250.27135042341732, 89.34425314724115, 24.42...</td>\n",
       "    </tr>\n",
       "  </tbody>\n",
       "</table>\n",
       "</div>"
      ],
      "text/plain": [
       "   Unnamed: 0        M     N  block size   K   L  Q  blanczos time  \\\n",
       "0           0  1599585  2504        3000  10  12  0     696.734156   \n",
       "1           1  1599585  2504        5000  10  12  0     697.822858   \n",
       "\n",
       "   hail pca time                                    blanczos output  \\\n",
       "0      60.124476  (array([[-1.50240819e-04, -3.83569401e-05,  1....   \n",
       "1      60.546290  (array([[ 1.97655647e-04, -1.77442317e-04, -7....   \n",
       "\n",
       "                                         hail output  \n",
       "0  ([250.27135042341737, 89.34425314724125, 24.42...  \n",
       "1  ([250.27135042341732, 89.34425314724115, 24.42...  "
      ]
     },
     "execution_count": 4,
     "metadata": {},
     "output_type": "execute_result"
    }
   ],
   "source": [
    "mediumblocks_mediumdata = pd.read_csv('gs://aotoole/blanczos_medium_data_times_blocks3k5k.csv')\n",
    "mediumblocks_mediumdata"
   ]
  },
  {
   "cell_type": "code",
   "execution_count": null,
   "metadata": {},
   "outputs": [],
   "source": []
  }
 ],
 "metadata": {
  "kernelspec": {
   "display_name": "Python 3",
   "language": "python",
   "name": "python3"
  },
  "language_info": {
   "codemirror_mode": {
    "name": "ipython",
    "version": 3
   },
   "file_extension": ".py",
   "mimetype": "text/x-python",
   "name": "python",
   "nbconvert_exporter": "python",
   "pygments_lexer": "ipython3",
   "version": "3.6.10"
  }
 },
 "nbformat": 4,
 "nbformat_minor": 4
}