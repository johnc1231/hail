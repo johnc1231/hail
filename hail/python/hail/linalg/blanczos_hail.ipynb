{
 "cells": [
  {
   "cell_type": "code",
   "execution_count": 5,
   "metadata": {},
   "outputs": [],
   "source": [
    "import numpy as np\n",
    "import hail as hl\n",
    "from hail import methods\n",
    "import scipy as sp\n",
    "import pandas as pd\n",
    "from math import sqrt, pi"
   ]
  },
  {
   "cell_type": "markdown",
   "metadata": {},
   "source": [
    "## CREATE GENETIC DATA (and clean/process/edit)"
   ]
  },
  {
   "cell_type": "code",
   "execution_count": 7,
   "metadata": {},
   "outputs": [
    {
     "name": "stderr",
     "output_type": "stream",
     "text": [
      "2020-07-20 11:34:17 Hail: INFO: balding_nichols_model: generating genotypes for 3 populations, 100 samples, and 1000 variants...\n",
      "2020-07-20 11:34:18 Hail: INFO: Coerced sorted dataset\n",
      "2020-07-20 11:34:21 Hail: INFO: wrote matrix table with 1000 rows and 100 columns in 8 partitions to balding_nichols_3_100_1000.mt\n"
     ]
    }
   ],
   "source": [
    "# Create genetic data and write to disk\n",
    "bnm_mt = hl.balding_nichols_model(3, 100, 1000)\n",
    "bnm_mt.write(\"balding_nichols_3_100_1000.mt\")"
   ]
  },
  {
   "cell_type": "code",
   "execution_count": 8,
   "metadata": {},
   "outputs": [
    {
     "name": "stdout",
     "output_type": "stream",
     "text": [
      "----------------------------------------\n",
      "Global fields:\n",
      "    'bn': struct {\n",
      "        n_populations: int32, \n",
      "        n_samples: int32, \n",
      "        n_variants: int32, \n",
      "        n_partitions: int32, \n",
      "        pop_dist: array<int32>, \n",
      "        fst: array<float64>, \n",
      "        mixture: bool\n",
      "    }\n",
      "----------------------------------------\n",
      "Column fields:\n",
      "    'sample_idx': int32\n",
      "    'pop': int32\n",
      "----------------------------------------\n",
      "Row fields:\n",
      "    'locus': locus<GRCh37>\n",
      "    'alleles': array<str>\n",
      "    'ancestral_af': float64\n",
      "    'af': array<float64>\n",
      "----------------------------------------\n",
      "Entry fields:\n",
      "    'n_alt': float64\n",
      "----------------------------------------\n",
      "Column key: ['sample_idx']\n",
      "Row key: ['locus', 'alleles']\n",
      "----------------------------------------\n"
     ]
    }
   ],
   "source": [
    "# Read first MatrixTable and clean\n",
    "\n",
    "# entries are now calls: An object that represents an individual’s call at a genomic locus\n",
    "mt = hl.read_matrix_table(\"balding_nichols_3_100_1000.mt\")\n",
    "\n",
    "# don't understand meaning of this: returns the count of non-reference alleles from each call\n",
    "mt = mt.transmute_entries(n_alt = hl.float64(mt.GT.n_alt_alleles())) \n",
    "\n",
    "mt.describe()"
   ]
  },
  {
   "cell_type": "code",
   "execution_count": 9,
   "metadata": {},
   "outputs": [
    {
     "name": "stdout",
     "output_type": "stream",
     "text": [
      "----------------------------------------\n",
      "Global fields:\n",
      "    'bn': struct {\n",
      "        n_populations: int32, \n",
      "        n_samples: int32, \n",
      "        n_variants: int32, \n",
      "        n_partitions: int32, \n",
      "        pop_dist: array<int32>, \n",
      "        fst: array<float64>, \n",
      "        mixture: bool\n",
      "    } \n",
      "    'sample': array<struct {\n",
      "        sample_idx: int32, \n",
      "        pop: int32\n",
      "    }> \n",
      "----------------------------------------\n",
      "Row fields:\n",
      "    'locus': locus<GRCh37> \n",
      "    'alleles': array<str> \n",
      "    'ancestral_af': float64 \n",
      "    'af': array<float64> \n",
      "    'ent': array<struct {\n",
      "        n_alt: float64\n",
      "    }> \n",
      "----------------------------------------\n",
      "Key: ['locus', 'alleles']\n",
      "----------------------------------------\n"
     ]
    },
    {
     "name": "stderr",
     "output_type": "stream",
     "text": [
      "2020-07-20 11:34:26 Hail: WARN: Name collision: field 'sample' already in object dict. \n",
      "  This field must be referenced with __getitem__ syntax: obj['sample']\n"
     ]
    }
   ],
   "source": [
    "# Turn MatrixTable into Table\n",
    "\n",
    "ht = mt.localize_entries(\"ent\", \"sample\")\n",
    "ht.describe()"
   ]
  },
  {
   "cell_type": "markdown",
   "metadata": {},
   "source": [
    "## Grouping and NDArray methods from Tim and Dan"
   ]
  },
  {
   "cell_type": "code",
   "execution_count": 10,
   "metadata": {},
   "outputs": [],
   "source": [
    "# Functions for operating with Tables of ndarrays in Hail (from Tim)\n",
    "\n",
    "from hail.expr import Expression, ExpressionException, \\\n",
    "    expr_float64, expr_call, expr_any, expr_numeric, expr_array, \\\n",
    "    expr_locus, \\\n",
    "    analyze, check_entry_indexed, check_row_indexed, \\\n",
    "    matrix_table_source, table_source\n",
    "\n",
    "# Only groups by rows, NOT COLUMNS\n",
    "def matrix_table_to_table_of_ndarrays(field, group_size, tmp_path = '/tmp/nd_table.ht'):\n",
    "    \"\"\"\n",
    "\n",
    "    The returned table has two fields: 'row_group_number' and 'ndarray'.\n",
    "\n",
    "    Examples\n",
    "    --------\n",
    "    >>> ht = matrix_table_to_table_of_ndarrays(mt.GT.n_alt_alleles(), 100)\n",
    "\n",
    "    Parameters\n",
    "    ----------\n",
    "    field\n",
    "    group_size\n",
    "    tmp_path\n",
    "\n",
    "    Returns\n",
    "    -------\n",
    "\n",
    "    \"\"\"\n",
    "    mt = matrix_table_source('matrix_table_to_table_of_ndarrays/x', field)\n",
    "    mt = mt.select_entries(x = field)\n",
    "    ht = mt.localize_entries(entries_array_field_name='entries')\n",
    "    # now ht.entries is an array of structs with one field, x\n",
    "\n",
    "    # we'll also want to mean-impute/variance-normalize/etc here\n",
    "    ht = ht.select(xs = ht.entries.map(lambda e: e['x']))\n",
    "    # now ht.xs is an array of float64\n",
    "\n",
    "    # now need to produce groups of G\n",
    "    ht = ht.add_index()\n",
    "    ht = ht.group_by(row_group_number=ht.idx // group_size) \\\n",
    "        .aggregate(ndarray=hl.nd.array(hl.agg.collect(ht.xs)))\n",
    "    # may require a .T on ndarray\n",
    "\n",
    "    return ht.checkpoint(tmp_path, overwrite=True)\n",
    "\n",
    "def chunk_ndarray(a, group_size):\n",
    "    \"\"\"Chunks a NDarray along the first axis in chunks of `group_size`.\n",
    "    Parameters\n",
    "    ----------\n",
    "    a\n",
    "    group_size\n",
    "\n",
    "    Returns\n",
    "    -------\n",
    "\n",
    "    \"\"\"\n",
    "    n_groups = a.shape[0] // group_size\n",
    "    groups = []\n",
    "    for i in range(a.shape[0] // group_size):\n",
    "        start = i * group_size\n",
    "        end = (i + 1) * group_size\n",
    "        groups.append(a[start:end, :])\n",
    "    return groups"
   ]
  },
  {
   "cell_type": "code",
   "execution_count": 11,
   "metadata": {},
   "outputs": [],
   "source": [
    "# function to multiply two blocks, given the two blocks\n",
    "# returns struct in form of array but not ndarray, includes the shape in the struct\n",
    "# to change the result product directly back into a ndarray we need to use from_column_major\n",
    "def block_product(left, right):\n",
    "    product = left @ right\n",
    "    n_rows, n_cols = product.shape\n",
    "    return hl.struct(\n",
    "        shape=product.shape,\n",
    "        block=hl.range(hl.int(n_rows * n_cols)).map(\n",
    "            lambda absolute: product[absolute % n_rows, absolute // n_rows]))\n",
    "\n",
    "# takes in output of block_product\n",
    "def block_aggregate(prod):\n",
    "    shape = prod.shape\n",
    "    block = prod.block\n",
    "    return hl.nd.from_column_major(\n",
    "        hl.agg.array_sum(block),\n",
    "        hl.agg.take(shape, 1)[0])\n",
    "\n",
    "# returns flat array\n",
    "def to_column_major(ndarray):\n",
    "    n_rows, n_cols = ndarray.shape\n",
    "    return hl.range(hl.int(n_rows * n_cols)).map(\n",
    "        lambda absolute: ndarray[absolute % n_rows, absolute // n_rows])\n",
    "\n",
    "# hl.nd.from_column_major(thing.the_sum, thing.the_shape)"
   ]
  },
  {
   "cell_type": "code",
   "execution_count": 12,
   "metadata": {
    "scrolled": false
   },
   "outputs": [
    {
     "name": "stderr",
     "output_type": "stream",
     "text": [
      "2020-07-20 11:34:32 Hail: INFO: Ordering unsorted dataset with network shuffle\n",
      "2020-07-20 11:34:33 Hail: INFO: wrote table with 100 rows in 8 partitions to /tmp/nd_table.ht\n"
     ]
    }
   ],
   "source": [
    "new_ht = matrix_table_to_table_of_ndarrays(mt.n_alt, 10)"
   ]
  },
  {
   "cell_type": "code",
   "execution_count": 13,
   "metadata": {},
   "outputs": [
    {
     "name": "stdout",
     "output_type": "stream",
     "text": [
      "----------------------------------------\n",
      "Global fields:\n",
      "    'bn': struct {\n",
      "        n_populations: int32, \n",
      "        n_samples: int32, \n",
      "        n_variants: int32, \n",
      "        n_partitions: int32, \n",
      "        pop_dist: array<int32>, \n",
      "        fst: array<float64>, \n",
      "        mixture: bool\n",
      "    } \n",
      "----------------------------------------\n",
      "Row fields:\n",
      "    'row_group_number': int64 \n",
      "    'ndarray': ndarray<float64, 2> \n",
      "----------------------------------------\n",
      "Key: ['row_group_number']\n",
      "----------------------------------------\n"
     ]
    }
   ],
   "source": [
    "new_ht.describe()"
   ]
  },
  {
   "cell_type": "markdown",
   "metadata": {},
   "source": [
    "## Blanczos Algorithm"
   ]
  },
  {
   "cell_type": "code",
   "execution_count": 14,
   "metadata": {},
   "outputs": [
    {
     "name": "stderr",
     "output_type": "stream",
     "text": [
      "2020-07-20 11:34:33 Hail: INFO: balding_nichols_model: generating genotypes for 3 populations, 100 samples, and 1000 variants...\n",
      "2020-07-20 11:34:34 Hail: INFO: Coerced sorted dataset\n",
      "2020-07-20 11:34:36 Hail: INFO: wrote matrix table with 1000 rows and 100 columns in 8 partitions to balding_nichols_test.mt\n",
      "2020-07-20 11:34:38 Hail: INFO: Ordering unsorted dataset with network shuffle\n",
      "2020-07-20 11:34:40 Hail: INFO: wrote table with 250 rows in 8 partitions to /tmp/test_table.ht\n"
     ]
    }
   ],
   "source": [
    "def makeData(model_input, group_size):\n",
    "    hold_mt = hl.balding_nichols_model(*model_input)\n",
    "    hold_mt.write(\"balding_nichols_test.mt\")\n",
    "    hold_mt = hl.read_matrix_table(\"balding_nichols_test.mt\")\n",
    "    hold_mt = hold_mt.transmute_entries(n_alt = hl.float64(hold_mt.GT.n_alt_alleles())) \n",
    "    table = hold_mt.localize_entries(\"ent\", \"sample\")\n",
    "    return matrix_table_to_table_of_ndarrays(hold_mt.n_alt, group_size, tmp_path='/tmp/test_table.ht')\n",
    "    \n",
    "data = makeData((3, 100, 1000), 4)\n"
   ]
  },
  {
   "cell_type": "code",
   "execution_count": 15,
   "metadata": {},
   "outputs": [],
   "source": [
    "(n, m) = (100, 1000)\n",
    "k = 50\n",
    "l = k + 2\n",
    "q = 0"
   ]
  },
  {
   "cell_type": "code",
   "execution_count": 16,
   "metadata": {},
   "outputs": [],
   "source": [
    "G = hl.nd.array(np.random.normal(0, 1, (n,l)))"
   ]
  },
  {
   "cell_type": "code",
   "execution_count": 22,
   "metadata": {
    "scrolled": false
   },
   "outputs": [],
   "source": [
    "# Algorithm step: multiplying H0 = A @ G\n",
    "\n",
    "# METHOD\n",
    "# Multiply a row-blocked matrix by a local non-blocked matrix\n",
    "# First step of algorithm\n",
    "\n",
    "# usage:\n",
    "# assumes blocks in blocked matrix are named ndarray\n",
    "def matmul_rowblocked_nonblocked(A, B):\n",
    "    temp = A.annotate_globals(mat = B)\n",
    "    temp = temp.annotate(prod = block_product(temp.ndarray, temp.mat))\n",
    "    temp = temp.annotate(ndarray = hl.nd.from_column_major(temp.prod.block, temp.prod.shape))\n",
    "    #temp = temp.annotate(ndarray = hl.nd.from_column_major(temp.prod.block, hl.agg.take(temp.prod.shape, 1)[0]))\n",
    "    temp = temp.select(temp.ndarray)\n",
    "    temp = temp.drop(temp.mat)\n",
    "    return temp\n",
    "\n",
    "H0 = matmul_rowblocked_nonblocked(data, G)\n",
    "\n",
    "## old attempted version ##\n",
    "\n",
    "# temp_matrix = data.annotate_globals(G = G)\n",
    "# # do matrix multiplication by converting from ndarray to array\n",
    "# AG = temp_matrix.annotate(prod = block_product(temp_matrix.ndarray, temp_matrix.G))\n",
    "# # convert back to ndarray\n",
    "# AG = AG.annotate(ndarray = hl.nd.from_column_major(AG.prod.block, hl.agg.take(AG.prod.shape, 1)[0] ))\n",
    "# #AG = AG.group_by(AG.prod).aggregate(result = block_aggregate(AG.prod)) # this actually sums all the blocks up\n",
    "# # drop extra information\n",
    "# AG = AG.select(AG.ndarray)\n",
    "# H0 = AG.drop(AG.G)\n",
    "# # final_result.describe()\n",
    "# # final_result.show() # NOTE: THIS GIVES KeyError 'row' when called - is this from John's ndarray show bug??\n"
   ]
  },
  {
   "cell_type": "code",
   "execution_count": 23,
   "metadata": {},
   "outputs": [
    {
     "name": "stdout",
     "output_type": "stream",
     "text": [
      "----------------------------------------\n",
      "Global fields:\n",
      "    'bn': struct {\n",
      "        n_populations: int32, \n",
      "        n_samples: int32, \n",
      "        n_variants: int32, \n",
      "        n_partitions: int32, \n",
      "        pop_dist: array<int32>, \n",
      "        fst: array<float64>, \n",
      "        mixture: bool\n",
      "    } \n",
      "----------------------------------------\n",
      "Row fields:\n",
      "    'row_group_number': int64 \n",
      "    'ndarray': ndarray<float64, 2> \n",
      "----------------------------------------\n",
      "Key: ['row_group_number']\n",
      "----------------------------------------\n"
     ]
    }
   ],
   "source": [
    "H0.describe()"
   ]
  },
  {
   "cell_type": "code",
   "execution_count": 31,
   "metadata": {},
   "outputs": [],
   "source": [
    "# Algorithm step: intermediate operation of multiplying At @ (A @ G) = At @ H0\n",
    "\n",
    "# METHOD\n",
    "# Multiply a column-blocked matrix by a row-blocked matrix \n",
    "# as a blockmatrix multiplcation and then sum\n",
    "# Second step of algorithm\n",
    "\n",
    "# usage:\n",
    "# pass in matrix A normally, blocked in rows - this specifically expects A to need to be transposed\n",
    "# assumes blocks in blocked matrix are named ndarray\n",
    "def matmul_colblocked_rowblocked(A, B):\n",
    "    temp = A.transmute(prod = block_product(A.ndarray.transpose(), B[A.row_group_number].ndarray))\n",
    "    temp.aggregate(block_aggregate(temp.prod))\n",
    "    temp = temp.annotate(ndarray = hl.nd.from_column_major(temp.prod.block, temp.prod.shape))\n",
    "    temp = temp.select(temp.ndarray)\n",
    "    return temp\n",
    "\n",
    "G1 = matmul_colblocked_rowblocked(data, H0)\n",
    "\n",
    "## old attempted version ##\n",
    "\n",
    "# temp = data.annotate_globals(mat = H0)\n",
    "# temp = temp.annotate(prod = block_product(temp.ndarray.transpose(), temp.mat))\n",
    "# temp = temp.group_by(temp.prod).aggregate(ndarray = block_aggregate(temp.prod))\n",
    "# temp = temp.select(temp.ndarray)\n",
    "# temp = temp.drop(temp.mat)\n"
   ]
  },
  {
   "cell_type": "code",
   "execution_count": null,
   "metadata": {},
   "outputs": [],
   "source": [
    "# METHOD\n",
    "# Concatenate the ndarrays with a blocked Table\n",
    "\n",
    "def concatBlocked(A):\n",
    "    pass"
   ]
  },
  {
   "cell_type": "code",
   "execution_count": null,
   "metadata": {},
   "outputs": [],
   "source": [
    "# Algorithm step: perform QR decomposition of Hq\n",
    "\n",
    "# METHOD\n",
    "# Perform QR decomposition of a row-blocked matrix\n",
    "# Third step of algorithm"
   ]
  },
  {
   "cell_type": "code",
   "execution_count": null,
   "metadata": {},
   "outputs": [],
   "source": [
    "data.describe()\n",
    "G.describe()\n",
    "#ht.transmute(ent = ht.ent.map(lambda x: x.n_alt))\n",
    "AG = data.annotate_globals(G = G)\n",
    "AG.describe()\n",
    "AG = AG.annotate(prod = (AG.ndarray @ AG.G))\n",
    "\n",
    "\n",
    "AG.describe()\n",
    "AG.show()\n",
    "matmul_product = AG.aggregate(hl.agg.array_agg(lambda element: hl.agg.sum(element), AG.prod))\n",
    "\n",
    "#(hl.agg.array_sum([data.ndarray @ G]))"
   ]
  },
  {
   "cell_type": "markdown",
   "metadata": {},
   "source": [
    "## Practice Scraps - linalg operations on small data, experimenting with Hail"
   ]
  },
  {
   "cell_type": "code",
   "execution_count": null,
   "metadata": {},
   "outputs": [],
   "source": [
    "# annotate_{rows, cols, entries}\n",
    "# can annotate without aggregating but can also do an aggregation that is called an annotation?\n",
    "\n",
    "# mt.annotate_rows(sum_of_ef1_by_row=hl.agg.sum(mt.ef1))\n",
    "# Aggregate along each row of entries to create a new row annotation. Can\n",
    "# reference column and entry fields in aggregations.\n",
    "\n",
    "# mt.annotate_cols(sum_of_ef1_by_col=hl.agg.sum(mt.ef1))\n",
    "# Aggregate along each column of entries to create a new col annotation.\n",
    "# Can reference row and entry fields in aggregations\n",
    "\n",
    "# need map-like aggregator to create \"new\" MatrixTable that is a product"
   ]
  },
  {
   "cell_type": "code",
   "execution_count": null,
   "metadata": {},
   "outputs": [],
   "source": [
    "# Practice doing a matrix multiplication and a transpose\n",
    "\n",
    "# Make some python ndarrays\n",
    "a = np.arange(30).reshape((5, 6))\n",
    "b = np.arange(24).reshape((6, 4))\n",
    "\n",
    "# Make Hail ndarrays\n",
    "matrix_5_6 = hl.nd.array(a)\n",
    "matrix_6_4 = hl.nd.array(b)\n",
    "\n",
    "# Make MatrixTables from pandas dataframes\n",
    "dfA = pd.DataFrame(data=a[1:,1:], index=a[1:,0], columns=a[0,1:])\n",
    "dfB = pd.DataFrame(data=b[1:,1:], index=b[1:,0], columns=b[0,1:])\n",
    "\n",
    "# How do these hail ndarrys carry across into MatrixTable use?"
   ]
  },
  {
   "cell_type": "code",
   "execution_count": null,
   "metadata": {},
   "outputs": [],
   "source": [
    "hl.eval(matrix_5_6) "
   ]
  },
  {
   "cell_type": "code",
   "execution_count": null,
   "metadata": {},
   "outputs": [],
   "source": [
    "# dfA\n",
    "# tableA = hl.Table.from_pandas(dfA)\n",
    "# tableA.show()\n",
    "# mtA = tableA.to_matrix_table(row_key=['1'], col_key=['2'])\n",
    "# mtA.describe()\n",
    "# new_htA = matrix_table_to_table_of_ndarrays(mtA.1, 2, PATH???)\n",
    "# tableA.group_by(row_group_number=tableA.idx // 2)"
   ]
  },
  {
   "cell_type": "code",
   "execution_count": null,
   "metadata": {},
   "outputs": [],
   "source": []
  }
 ],
 "metadata": {
  "kernelspec": {
   "display_name": "Python 3",
   "language": "python",
   "name": "python3"
  },
  "language_info": {
   "codemirror_mode": {
    "name": "ipython",
    "version": 3
   },
   "file_extension": ".py",
   "mimetype": "text/x-python",
   "name": "python",
   "nbconvert_exporter": "python",
   "pygments_lexer": "ipython3",
   "version": "3.7.7"
  }
 },
 "nbformat": 4,
 "nbformat_minor": 4
}
