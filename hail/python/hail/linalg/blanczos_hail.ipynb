{
 "cells": [
  {
   "cell_type": "code",
   "execution_count": 5,
   "metadata": {},
   "outputs": [],
   "source": [
    "import numpy as np\n",
    "import hail as hl\n",
    "from hail import methods\n",
    "import scipy as sp\n",
    "import pandas as pd\n",
    "from math import sqrt, pi"
   ]
  },
  {
   "cell_type": "markdown",
   "metadata": {},
   "source": [
    "## Create genetic data (and clean/process/edit, these cells are retired now, the code to run is in the last cell at the bottom of the notebook)"
   ]
  },
  {
   "cell_type": "code",
   "execution_count": 10,
   "metadata": {},
   "outputs": [],
   "source": [
    "# retired - no longer using for data generation\n",
    "def makeData(model_input, group_size):\n",
    "    mt = hl.balding_nichols_model(*model_input)\n",
    "    mt.write(\"balding_nichols_test.mt\")\n",
    "    mt = hl.read_matrix_table(\"balding_nichols_test.mt\")\n",
    "    mt = mt.transmute_entries(n_alt = hl.float64(mt.GT.n_alt_alleles())) \n",
    "    table = mt.localize_entries(\"ent\", \"sample\")\n",
    "    table = matrix_table_to_table_of_ndarrays(mt.n_alt, group_size, tmp_path='/tmp/test_table.ht')\n",
    "#     table = table.key_by(hl.int32(table.row_group_number))\n",
    "    return table\n",
    "    \n",
    "# data = makeData((3, 100, 1000), 4)\n",
    "\n",
    "# (n, m) = (100, 1000)\n",
    "# k = 50\n",
    "# l = k + 2\n",
    "# q = 0\n",
    "\n",
    "# G = hl.nd.array(np.random.normal(0, 1, (n,l)))"
   ]
  },
  {
   "cell_type": "markdown",
   "metadata": {},
   "source": [
    "## Grouping and NDArray methods from Tim and Dan"
   ]
  },
  {
   "cell_type": "code",
   "execution_count": 11,
   "metadata": {},
   "outputs": [],
   "source": [
    "# Functions for operating with Tables of ndarrays in Hail (from Tim)\n",
    "\n",
    "from hail.expr import Expression, ExpressionException, \\\n",
    "    expr_float64, expr_call, expr_any, expr_numeric, expr_array, \\\n",
    "    expr_locus, \\\n",
    "    analyze, check_entry_indexed, check_row_indexed, \\\n",
    "    matrix_table_source, table_source\n",
    "\n",
    "# Only groups by rows, NOT COLUMNS\n",
    "def matrix_table_to_table_of_ndarrays(field, group_size, tmp_path = '/tmp/nd_table.ht'):\n",
    "    \"\"\"\n",
    "\n",
    "    The returned table has two fields: 'row_group_number' and 'ndarray'.\n",
    "\n",
    "    Examples\n",
    "    --------\n",
    "    >>> ht = matrix_table_to_table_of_ndarrays(mt.GT.n_alt_alleles(), 100)\n",
    "\n",
    "    Parameters\n",
    "    ----------\n",
    "    field\n",
    "    group_size\n",
    "    tmp_path\n",
    "\n",
    "    Returns\n",
    "    -------\n",
    "\n",
    "    \"\"\"\n",
    "    mt = matrix_table_source('matrix_table_to_table_of_ndarrays/x', field)\n",
    "    mt = mt.select_entries(x = field)\n",
    "    ht = mt.localize_entries(entries_array_field_name='entries')\n",
    "    # now ht.entries is an array of structs with one field, x\n",
    "\n",
    "    # we'll also want to mean-impute/variance-normalize/etc here\n",
    "    ht = ht.select(xs = ht.entries.map(lambda e: e['x']))\n",
    "    # now ht.xs is an array of float64\n",
    "\n",
    "    # now need to produce groups of G\n",
    "    ht = ht.add_index()\n",
    "    ht = ht.group_by(row_group_number= hl.int32(ht.idx // group_size)) \\\n",
    "        .aggregate(ndarray=hl.nd.array(hl.agg.collect(ht.xs)))\n",
    "    # may require a .T on ndarray\n",
    "\n",
    "    return ht.checkpoint(tmp_path, overwrite=True)\n",
    "\n",
    "def chunk_ndarray(a, group_size):\n",
    "    \"\"\"Chunks a NDarray along the first axis in chunks of `group_size`.\n",
    "    Parameters\n",
    "    ----------\n",
    "    a\n",
    "    group_size\n",
    "    -------\n",
    "\n",
    "    \"\"\"\n",
    "    n_groups = a.shape[0] // group_size\n",
    "    groups = []\n",
    "    for i in range(a.shape[0] // group_size):\n",
    "        start = i * group_size\n",
    "        end = (i + 1) * group_size\n",
    "        groups.append(a[start:end, :])\n",
    "    return groups\n",
    "\n",
    "\n",
    "# Concatenate the ndarrays with a blocked Table\n",
    "def concatBlocked(A):\n",
    "    blocks = A.ndarray.collect()\n",
    "    big_mat = np.concatenate(blocks, axis=0)\n",
    "    ht = ndarray_to_table([big_mat])\n",
    "    \n",
    "    block_shape = blocks[0].shape\n",
    "    \n",
    "    tup = ht.ndarray.collect()[0].shape\n",
    "    assert tup == (len(blocks) * block_shape[0], block_shape[1])\n",
    "    \n",
    "    return ht\n",
    "\n",
    "def concatToNumpy(A):\n",
    "    blocks = A.ndarray.collect()\n",
    "    big_mat = np.concatenate(blocks, axis=0)\n",
    "    block_shape = blocks[0].shape\n",
    "    num_blocks = len(blocks)\n",
    "    assert big_mat.shape == (num_blocks*block_shape[0], block_shape[1])\n",
    "    return big_mat\n",
    "\n",
    "def ndarray_to_table(chunked_arr):\n",
    "    structs = [hl.struct(row_group_number = idx, ndarray = block)\n",
    "               for idx, block in enumerate(chunked_arr)]\n",
    "    ht = hl.Table.parallelize(structs)\n",
    "    ht = ht.key_by('row_group_number')\n",
    "    return ht\n",
    "\n",
    "# function to multiply two blocks, given the two blocks\n",
    "# returns struct in form of array but not ndarray, includes the shape in the struct\n",
    "# to change the result product directly back into a ndarray we need to use from_column_major\n",
    "def block_product(left, right):\n",
    "    product = left @ right\n",
    "    n_rows, n_cols = product.shape\n",
    "    return hl.struct(\n",
    "        shape=product.shape,\n",
    "        block=hl.range(hl.int(n_rows * n_cols)).map(\n",
    "            lambda absolute: product[absolute % n_rows, absolute // n_rows]))\n",
    "\n",
    "# takes in output of block_product\n",
    "def block_aggregate(prod):\n",
    "    shape = prod.shape\n",
    "    block = prod.block\n",
    "    return hl.nd.from_column_major(\n",
    "        hl.agg.array_sum(block),\n",
    "        hl.agg.take(shape, 1)[0])\n",
    "\n",
    "# returns flat array\n",
    "def to_column_major(ndarray):\n",
    "    n_rows, n_cols = ndarray.shape\n",
    "    return hl.range(hl.int(n_rows * n_cols)).map(\n",
    "        lambda absolute: ndarray[absolute % n_rows, absolute // n_rows])\n",
    "\n",
    "# hl.nd.from_column_major(thing.the_sum, thing.the_shape)"
   ]
  },
  {
   "cell_type": "markdown",
   "metadata": {},
   "source": [
    "## Blanczos Algorithm"
   ]
  },
  {
   "cell_type": "code",
   "execution_count": 28,
   "metadata": {
    "scrolled": false
   },
   "outputs": [],
   "source": [
    "# Algorithm step: multiplying H0 = A @ G\n",
    "\n",
    "# METHOD\n",
    "# Multiply a row-blocked matrix by a local non-blocked matrix\n",
    "# First step of algorithm\n",
    "\n",
    "# Usage:\n",
    "# assumes blocks in blocked matrix are named ndarray\n",
    "# A is a table, B is a Hail ndarray\n",
    "# returns a table\n",
    "\n",
    "# Example:\n",
    "# H0 = matmul_rowblocked_nonblocked(data, G)\n",
    "\n",
    "def matmul_rowblocked_nonblocked(A, B):\n",
    "    temp = A.annotate_globals(mat = B)\n",
    "    temp = temp.annotate(ndarray = temp.ndarray @ temp.mat)\n",
    "    temp = temp.select(temp.ndarray)\n",
    "    temp = temp.drop(temp.mat)\n",
    "    return temp\n",
    "\n",
    "\n",
    "# Algorithm step: intermediate operation of multiplying At @ (A @ G) = At @ H0\n",
    "\n",
    "# METHOD\n",
    "# Multiply a column-blocked matrix by a row-blocked matrix \n",
    "# as a blockmatrix multiplcation and then sum\n",
    "# Second step of algorithm\n",
    "\n",
    "# Usage:\n",
    "# pass in matrix A normally, blocked in rows - this specifically expects A to need to be transposed\n",
    "# assumes blocks in blocked matrix are named ndarray\n",
    "# A and B are both tables\n",
    "# returns a hail ndarray\n",
    "\n",
    "# Example:\n",
    "# G1 = matmul_colblocked_rowblocked(data, H0)\n",
    "\n",
    "def matmul_colblocked_rowblocked(A, B):\n",
    "    temp = A.transmute(ndarray = block_product(A.ndarray.transpose(), B[A.row_group_number].ndarray))\n",
    "    result_arr_sum = temp.aggregate(block_aggregate(temp.ndarray))\n",
    "    return result_arr_sum\n",
    "\n",
    "\n",
    "def matmul_nonblocked_rowblocked(B, A):\n",
    "    pass\n",
    "\n",
    "\n",
    "# Algorithm step: perform QR decomposition of Hq and compute T = Q^T @ A\n",
    "# Perform QR decomposition of a row-blocked matrix\n",
    "# Third and fourth step of algorithm\n",
    "\n",
    "def computeNextH(A, H):\n",
    "    nextG = matmul_colblocked_rowblocked(A, H)\n",
    "    return matmul_rowblocked_nonblocked(A, nextG)"
   ]
  },
  {
   "cell_type": "code",
   "execution_count": 21,
   "metadata": {},
   "outputs": [],
   "source": [
    "def hailBlanczos(A, G, m, n, k, l, q):\n",
    "    \n",
    "    assert l > k\n",
    "    #assert (q+1)*l <= (n - k)\n",
    "    assert n <= m\n",
    "    \n",
    "    Hi = matmul_rowblocked_nonblocked(A, G)\n",
    "    npH = concatToNumpy(Hi)\n",
    "    for j in range(0, q):\n",
    "        Hj = computeNextH(A, Hi)\n",
    "        npH = np.concatenate((npH, concatToNumpy(Hj)), axis=1)\n",
    "        Hi = Hj\n",
    "    \n",
    "    assert npH.shape == (m, (q+1)*l)\n",
    "    # perform QR decomposition on unblocked version of H\n",
    "    Q, R = np.linalg.qr(npH)\n",
    "    assert Q.shape == (m, (q+1)*l)\n",
    "    \n",
    "    # block Q's rows into the same number of blocks that A has\n",
    "    num_blocks = A.count() # fix\n",
    "    group_size_Q = Q.shape[0] // num_blocks\n",
    "    #assert group_size_Q * num_blocks == m\n",
    "    blocked_Q_table = ndarray_to_table(chunk_ndarray(Q, group_size_Q))\n",
    "    \n",
    "    T = matmul_colblocked_rowblocked(blocked_Q_table, A)\n",
    "    assert T.shape == ((q+1)*l, n)\n",
    "    U, S, W = np.linalg.svd(T, full_matrices=False)\n",
    "#     assert U.shape == ((q+1)*l, n)\n",
    "#     assert S.shape == (n,)\n",
    "#     assert W.shape == (n, n)\n",
    "    \n",
    "    sing_val = S[k]\n",
    "    \n",
    "    V = matmul_rowblocked_nonblocked(blocked_Q_table, U)\n",
    "    arr_V = concatToNumpy(V)\n",
    "    \n",
    "    truncV = arr_V[:,:k]\n",
    "    truncS = S[:k]\n",
    "    truncW = W[:k,:]\n",
    "    \n",
    "    bound = blanczosErrorB(truncV, np.diag(truncS), truncW.transpose(), m, n, k, q, concatToNumpy(A), sing_val)\n",
    "    print(\"Satisfies Blanczos error bound equation 4.3 if C=1: \", bound)\n",
    "    \n",
    "    print(npH)\n",
    "    print(npH.shape)\n",
    "    \n",
    "    return truncV, truncS, truncW, sing_val, Q\n",
    "\n",
    "# def hailBlanczos(A, G):\n",
    "#     H0 = matmul_rowblocked_nonblocked(A, G)\n",
    "#     T, Q, table_Q = processH(H0, A)\n",
    "#     u, s, w = processT(T)\n",
    "#     V, S, W = computeV(u, s, w, table_Q)\n",
    "#     return V, S, W"
   ]
  },
  {
   "cell_type": "code",
   "execution_count": 348,
   "metadata": {
    "scrolled": true
   },
   "outputs": [],
   "source": [
    "# T, Q, table_Q = processH(H0, data)\n",
    "# print('Q shape', Q.shape)\n",
    "\n",
    "# u, s, w = processT(T)\n",
    "# V, S, W = computeV(u, s, w, table_Q)\n",
    "# arr_V = concatToNumpy(V)\n",
    "# print('V shape:', arr_V.shape, 'S shape:', S.shape, 'W shape:', W.shape)"
   ]
  },
  {
   "cell_type": "markdown",
   "metadata": {},
   "source": [
    "## NumPy implementation from other notebook"
   ]
  },
  {
   "cell_type": "code",
   "execution_count": 20,
   "metadata": {},
   "outputs": [],
   "source": [
    "# ALL TRANSPOSED FROM ABOVE IMPLEMENTATION\n",
    "\n",
    "def hwe_normalize(call_expr):\n",
    "    mt = call_expr._indices.source\n",
    "    mt = mt.select_entries(__gt=call_expr.n_alt_alleles())\n",
    "    mt = mt.annotate_rows(__AC=hl.agg.sum(mt.__gt),\n",
    "                          __n_called=hl.agg.count_where(hl.is_defined(mt.__gt)))\n",
    "    mt = mt.filter_rows((mt.__AC > 0) & (mt.__AC < 2 * mt.__n_called))\n",
    "\n",
    "    n_variants = mt.count_rows()\n",
    "    if n_variants == 0:\n",
    "        raise FatalError(\"hwe_normalized: found 0 variants after filtering out monomorphic sites.\")\n",
    "\n",
    "    mt = mt.annotate_rows(__mean_gt=mt.__AC / mt.__n_called)\n",
    "    mt = mt.annotate_rows(\n",
    "        __hwe_scaled_std_dev=hl.sqrt(mt.__mean_gt * (2 - mt.__mean_gt) * n_variants / 2))\n",
    "    mt = mt.unfilter_entries()\n",
    "\n",
    "    normalized_gt = hl.or_else((mt.__gt - mt.__mean_gt) / mt.__hwe_scaled_std_dev, 0.0)\n",
    "    return normalized_gt\n",
    "\n",
    "#Blanczos paper error bound 4.23\n",
    "def blanczosErrorA(U, S, V, m, n, k, q, A, k1th_sing_val):\n",
    "    norm_diff = np.linalg.norm(A - U @ S @ V.transpose())\n",
    "    bound = 100 * l * (((m-k)/l) ** (1/(4*q + 2))) * k1th_sing_val\n",
    "    print('value:', norm_diff, 'bound/upper limit:', bound)\n",
    "    return norm_diff <= bound\n",
    "\n",
    "def blanczosErrorB(U, S, V, m, n, k, q, A, k1th_sing_val):\n",
    "    C = 1\n",
    "    norm_diff = np.linalg.norm(A - U @ S @ V.transpose())\n",
    "    bound = C * (m ** (1/(4*q))) * k1th_sing_val\n",
    "    satisfyingC = norm_diff / bound\n",
    "    print('difference A - USV:', norm_diff, 'bound/upper limit:', bound)\n",
    "    print('C constant needed to satisfy bound:', satisfyingC)\n",
    "    return norm_diff <= bound\n",
    "\n",
    "def normQQtA(A, Q):\n",
    "    return np.linalg.norm(A - Q @ Q.transpose() @ A)\n",
    "\n",
    "def numpyBlanczos(A, m, n, k, l, q, G):\n",
    "\n",
    "    assert l > k\n",
    "    assert (q+1)*l <= (m - k)\n",
    "    assert m <= n\n",
    "\n",
    "    # G = np.random.normal(0, 1, (l, m))\n",
    "    R = G @ A\n",
    "    # AtA = A.transpose() @ A\n",
    "    listR = [R]\n",
    "    for i in range(0, q):\n",
    "        Ri = (listR[i] @ A.transpose()) @ A\n",
    "        listR.append(Ri)\n",
    "        R = np.concatenate((R, Ri), axis=0)\n",
    "\n",
    "    assert R.shape == ((q+1)*l, n)\n",
    "    (Q, S) = np.linalg.qr(R.transpose())\n",
    "    assert Q.shape == (n, (q+1)*l)\n",
    "    assert S.shape == ((q+1)*l, (q+1)*l)\n",
    "\n",
    "    T = A @ Q\n",
    "    assert T.shape == (m, (q+1)*l)\n",
    "    \n",
    "    (Tu, Ts, Tw) = np.linalg.svd(T, full_matrices=False)\n",
    "    assert Tu.shape, (m, (q+1)*l)\n",
    "    assert Ts.shape == ((q+1)*l,)\n",
    "    assert Tw.shape == ((q+1)*l, (q+1)*l)\n",
    "    \n",
    "    sing_val = Ts[k]\n",
    "    \n",
    "    V = Q @ Tw\n",
    "    \n",
    "    bound = blanczosErrorB(Tu, np.diag(Ts), V, m, n, k, q, A, sing_val)\n",
    "    print(\"Satisfies Blanczos error bound equation 4.3 if C=1: \", bound)\n",
    "    \n",
    "    return Tu[:,:k], Ts[:k], V[:k,:], sing_val, Q\n",
    "\n",
    "\n",
    "# mt = hl.balding_nichols_model(3, 10000, 1000)\n",
    "# norm_gt = hwe_normalize(mt.GT)\n",
    "# np_matrix = hl.linalg.BlockMatrix.from_entry_expr(norm_gt).to_numpy()\n",
    "\n",
    "# npA = np.asmatrix(np_matrix)\n",
    "# print(npA.shape)\n",
    "# npm, npn = npA.shape\n",
    "# npk = 50\n",
    "# npl = npk + 2\n",
    "# npq = 0\n",
    "\n",
    "# (blanczosU, blanczosS, blanczosV) = blanczosSVD(npA, npm, npn, npk, npl, npq)"
   ]
  },
  {
   "cell_type": "markdown",
   "metadata": {},
   "source": [
    "## Run NumPy and Hail implementations on the same data"
   ]
  },
  {
   "cell_type": "code",
   "execution_count": 17,
   "metadata": {
    "scrolled": false
   },
   "outputs": [
    {
     "name": "stderr",
     "output_type": "stream",
     "text": [
      "2020-07-31 16:59:18 Hail: INFO: balding_nichols_model: generating genotypes for 3 populations, 500 samples, and 1500 variants...\n",
      "2020-07-31 16:59:19 Hail: INFO: Coerced sorted dataset\n",
      "2020-07-31 16:59:21 Hail: INFO: wrote matrix table with 1500 rows and 500 columns in 8 partitions to balding_nichols_data.mt\n",
      "2020-07-31 16:59:23 Hail: INFO: Ordering unsorted dataset with network shuffle\n",
      "2020-07-31 16:59:26 Hail: INFO: wrote table with 375 rows in 8 partitions to /tmp/test_table.ht\n"
     ]
    }
   ],
   "source": [
    "def makeSharedData(model_input, block_size):\n",
    "    \n",
    "    # we should have m > n for hail implementation\n",
    "    mt = hl.balding_nichols_model(*model_input)\n",
    "    \n",
    "    mt.write(\"balding_nichols_data.mt\", overwrite=True)\n",
    "    mt = hl.read_matrix_table(\"balding_nichols_data.mt\")\n",
    "    \n",
    "    mt = mt.transmute_entries(n_alt = hl.float64(mt.GT.n_alt_alleles())) \n",
    "    table = mt.localize_entries(\"ent\", \"sample\") # does this do nothing?\n",
    "    table = matrix_table_to_table_of_ndarrays(mt.n_alt, block_size, tmp_path='/tmp/test_table.ht')\n",
    "    # table = table.key_by(hl.int32(table.row_group_number))\n",
    "\n",
    "    # for numpy implementation we want transposed version so m < n\n",
    "    np_matrix = np.asmatrix(concatToNumpy(table).transpose())\n",
    "\n",
    "    return table, np_matrix\n",
    "\n",
    "m = 1500\n",
    "n = 500\n",
    "block_size = 4\n",
    "hailA, numpyA = makeSharedData((3, n, m), block_size)\n",
    "\n",
    "# doesn't account for differences due to transposing\n",
    "# hailV not necessarily supposed to be the same as blanczosU"
   ]
  },
  {
   "cell_type": "code",
   "execution_count": 24,
   "metadata": {},
   "outputs": [],
   "source": [
    "k = 30\n",
    "l = k + 2\n",
    "q = 5\n",
    "G = np.random.normal(0, 1, (n,l))"
   ]
  },
  {
   "cell_type": "code",
   "execution_count": 22,
   "metadata": {},
   "outputs": [
    {
     "name": "stderr",
     "output_type": "stream",
     "text": [
      "2020-07-31 17:00:49 Hail: INFO: Coerced sorted dataset\n",
      "2020-07-31 17:00:59 Hail: INFO: Coerced sorted dataset\n"
     ]
    },
    {
     "name": "stdout",
     "output_type": "stream",
     "text": [
      "difference A - USV: 481.8575848257704 bound/upper limit: 47.878435836582625\n",
      "C constant needed to satisfy bound: 10.064188113213088\n",
      "Satisfies Blanczos error bound equation 4.3 if C=1:  False\n",
      "[[-1.34958523e+01 -2.75643587e+01 -1.16964093e+01 ... -2.34091402e+30\n",
      "   3.13257450e+30 -7.77137141e+30]\n",
      " [ 7.31140118e+00 -1.12056003e+01 -4.91561312e+01 ... -3.22810755e+30\n",
      "   4.31980307e+30 -1.07166784e+31]\n",
      " [ 6.93704340e+00 -2.15948344e+01 -3.52439281e+00 ... -2.77607802e+30\n",
      "   3.71490430e+30 -9.21602998e+30]\n",
      " ...\n",
      " [ 4.12352816e+00 -2.86602486e+01 -1.84415095e+01 ... -8.59329484e+29\n",
      "   1.14994122e+30 -2.85280379e+30]\n",
      " [-1.71453683e+00 -4.01429886e+01 -8.29487187e+00 ... -4.21079789e+30\n",
      "   5.63482389e+30 -1.39790159e+31]\n",
      " [ 1.47336663e+01 -4.27057179e+01 -4.60733299e+00 ... -3.34322270e+30\n",
      "   4.47384843e+30 -1.10988380e+31]]\n",
      "(1500, 192)\n"
     ]
    }
   ],
   "source": [
    "hailV, hailS, hailW, hailSingVal, hailQ = hailBlanczos(hailA, hl.nd.array(G), m, n, k, l, q)"
   ]
  },
  {
   "cell_type": "code",
   "execution_count": 26,
   "metadata": {},
   "outputs": [
    {
     "name": "stdout",
     "output_type": "stream",
     "text": [
      "difference A - USV: 1557.6028293375512 bound/upper limit: 45.19214022946785\n",
      "C constant needed to satisfy bound: 34.46623287652806\n",
      "Satisfies Blanczos error bound equation 4.3 if C=1:  False\n"
     ]
    }
   ],
   "source": [
    "numpyU, numpyS, numpyV, numpySingVal, numpyQ = numpyBlanczos(numpyA, n, m, k, l, q, G.transpose())"
   ]
  },
  {
   "cell_type": "code",
   "execution_count": 27,
   "metadata": {
    "scrolled": true
   },
   "outputs": [
    {
     "name": "stdout",
     "output_type": "stream",
     "text": [
      "largest singular value from hail: 966.1294775382974\n",
      "smallest singular value from hail: 33.26281863715185\n",
      "(30,)\n",
      "(30,)\n"
     ]
    },
    {
     "data": {
      "text/plain": [
       "array([ 6.82121026e-13,  1.98951966e-13,  0.00000000e+00, -1.90899290e-03,\n",
       "       -3.15912005e-02, -7.71909413e-03,  1.75006902e-02, -3.69450511e-02,\n",
       "        2.23779550e-02,  6.15236523e-03, -3.05995307e-02, -6.39988929e-02,\n",
       "       -8.75268699e-02,  1.15666274e-03, -4.50767458e-03,  3.63650114e-02,\n",
       "        2.11225976e-01,  7.56042811e-02, -1.86698024e-02,  5.36356531e-02,\n",
       "       -9.76274284e-02, -1.03006995e-01,  4.17191336e-03, -1.03963576e-01,\n",
       "       -5.27496196e-02, -9.63692640e-02, -8.70163498e-02, -7.85781898e-02,\n",
       "        2.88261055e-02, -1.07614409e-01])"
      ]
     },
     "execution_count": 27,
     "metadata": {},
     "output_type": "execute_result"
    }
   ],
   "source": [
    "print('largest singular value from hail:', hailS[0])\n",
    "print('smallest singular value from hail:', hailS[k-1])\n",
    "print(hailS.shape)\n",
    "print(numpyS.shape)\n",
    "hailS - numpyS"
   ]
  },
  {
   "cell_type": "code",
   "execution_count": 465,
   "metadata": {},
   "outputs": [
    {
     "data": {
      "text/plain": [
       "392.6023860761228"
      ]
     },
     "execution_count": 465,
     "metadata": {},
     "output_type": "execute_result"
    }
   ],
   "source": [
    "normQQtA(numpyA.transpose(), hailQ)"
   ]
  },
  {
   "cell_type": "code",
   "execution_count": 467,
   "metadata": {},
   "outputs": [
    {
     "name": "stdout",
     "output_type": "stream",
     "text": [
      "(500, 1500)\n",
      "(1500, 192)\n"
     ]
    },
    {
     "ename": "ValueError",
     "evalue": "matmul: Input operand 1 has a mismatch in its core dimension 0, with gufunc signature (n?,k),(k,m?)->(n?,m?) (size 500 is different from 192)",
     "output_type": "error",
     "traceback": [
      "\u001b[0;31m---------------------------------------------------------------------------\u001b[0m",
      "\u001b[0;31mValueError\u001b[0m                                Traceback (most recent call last)",
      "\u001b[0;32m<ipython-input-467-b65059f27e5d>\u001b[0m in \u001b[0;36m<module>\u001b[0;34m\u001b[0m\n\u001b[1;32m      1\u001b[0m \u001b[0mprint\u001b[0m\u001b[0;34m(\u001b[0m\u001b[0mnumpyA\u001b[0m\u001b[0;34m.\u001b[0m\u001b[0mshape\u001b[0m\u001b[0;34m)\u001b[0m\u001b[0;34m\u001b[0m\u001b[0;34m\u001b[0m\u001b[0m\n\u001b[1;32m      2\u001b[0m \u001b[0mprint\u001b[0m\u001b[0;34m(\u001b[0m\u001b[0mnumpyQ\u001b[0m\u001b[0;34m.\u001b[0m\u001b[0mshape\u001b[0m\u001b[0;34m)\u001b[0m\u001b[0;34m\u001b[0m\u001b[0;34m\u001b[0m\u001b[0m\n\u001b[0;32m----> 3\u001b[0;31m \u001b[0mnormQQtA\u001b[0m\u001b[0;34m(\u001b[0m\u001b[0mnumpyA\u001b[0m\u001b[0;34m,\u001b[0m \u001b[0mnumpyQ\u001b[0m\u001b[0;34m.\u001b[0m\u001b[0mtranspose\u001b[0m\u001b[0;34m(\u001b[0m\u001b[0;34m)\u001b[0m\u001b[0;34m)\u001b[0m\u001b[0;34m\u001b[0m\u001b[0;34m\u001b[0m\u001b[0m\n\u001b[0m",
      "\u001b[0;32m<ipython-input-457-6ed1447635b5>\u001b[0m in \u001b[0;36mnormQQtA\u001b[0;34m(A, Q)\u001b[0m\n\u001b[1;32m     37\u001b[0m \u001b[0;34m\u001b[0m\u001b[0m\n\u001b[1;32m     38\u001b[0m \u001b[0;32mdef\u001b[0m \u001b[0mnormQQtA\u001b[0m\u001b[0;34m(\u001b[0m\u001b[0mA\u001b[0m\u001b[0;34m,\u001b[0m \u001b[0mQ\u001b[0m\u001b[0;34m)\u001b[0m\u001b[0;34m:\u001b[0m\u001b[0;34m\u001b[0m\u001b[0;34m\u001b[0m\u001b[0m\n\u001b[0;32m---> 39\u001b[0;31m     \u001b[0;32mreturn\u001b[0m \u001b[0mnp\u001b[0m\u001b[0;34m.\u001b[0m\u001b[0mlinalg\u001b[0m\u001b[0;34m.\u001b[0m\u001b[0mnorm\u001b[0m\u001b[0;34m(\u001b[0m\u001b[0mA\u001b[0m \u001b[0;34m-\u001b[0m \u001b[0mQ\u001b[0m \u001b[0;34m@\u001b[0m \u001b[0mQ\u001b[0m\u001b[0;34m.\u001b[0m\u001b[0mtranspose\u001b[0m\u001b[0;34m(\u001b[0m\u001b[0;34m)\u001b[0m \u001b[0;34m@\u001b[0m \u001b[0mA\u001b[0m\u001b[0;34m)\u001b[0m\u001b[0;34m\u001b[0m\u001b[0;34m\u001b[0m\u001b[0m\n\u001b[0m\u001b[1;32m     40\u001b[0m \u001b[0;34m\u001b[0m\u001b[0m\n\u001b[1;32m     41\u001b[0m \u001b[0;32mdef\u001b[0m \u001b[0mnumpyBlanczos\u001b[0m\u001b[0;34m(\u001b[0m\u001b[0mA\u001b[0m\u001b[0;34m,\u001b[0m \u001b[0mm\u001b[0m\u001b[0;34m,\u001b[0m \u001b[0mn\u001b[0m\u001b[0;34m,\u001b[0m \u001b[0mk\u001b[0m\u001b[0;34m,\u001b[0m \u001b[0ml\u001b[0m\u001b[0;34m,\u001b[0m \u001b[0mq\u001b[0m\u001b[0;34m,\u001b[0m \u001b[0mG\u001b[0m\u001b[0;34m)\u001b[0m\u001b[0;34m:\u001b[0m\u001b[0;34m\u001b[0m\u001b[0;34m\u001b[0m\u001b[0m\n",
      "\u001b[0;31mValueError\u001b[0m: matmul: Input operand 1 has a mismatch in its core dimension 0, with gufunc signature (n?,k),(k,m?)->(n?,m?) (size 500 is different from 192)"
     ]
    }
   ],
   "source": [
    "print(numpyA.shape)\n",
    "print(numpyQ.shape)\n",
    "normQQtA(numpyA, numpyQ.transpose())"
   ]
  },
  {
   "cell_type": "code",
   "execution_count": 480,
   "metadata": {},
   "outputs": [
    {
     "name": "stdout",
     "output_type": "stream",
     "text": [
      "----------------------------------------\n",
      "Global fields:\n",
      "    'bn': struct {\n",
      "        n_populations: int32, \n",
      "        n_samples: int32, \n",
      "        n_variants: int32, \n",
      "        n_partitions: int32, \n",
      "        pop_dist: array<int32>, \n",
      "        fst: array<float64>, \n",
      "        mixture: bool\n",
      "    } \n",
      "----------------------------------------\n",
      "Row fields:\n",
      "    'row_group_number': int32 \n",
      "    'ndarray': ndarray<float64, 2> \n",
      "----------------------------------------\n",
      "Key: ['row_group_number']\n",
      "----------------------------------------\n"
     ]
    }
   ],
   "source": [
    "hailA.describe()"
   ]
  },
  {
   "cell_type": "code",
   "execution_count": null,
   "metadata": {},
   "outputs": [],
   "source": []
  }
 ],
 "metadata": {
  "kernelspec": {
   "display_name": "Python 3",
   "language": "python",
   "name": "python3"
  },
  "language_info": {
   "codemirror_mode": {
    "name": "ipython",
    "version": 3
   },
   "file_extension": ".py",
   "mimetype": "text/x-python",
   "name": "python",
   "nbconvert_exporter": "python",
   "pygments_lexer": "ipython3",
   "version": "3.7.7"
  }
 },
 "nbformat": 4,
 "nbformat_minor": 4
}
