{
 "cells": [
  {
   "cell_type": "code",
   "execution_count": 22,
   "metadata": {},
   "outputs": [],
   "source": [
    "import numpy as np\n",
    "import hail as hl\n",
    "from hail import methods\n",
    "import scipy as sp\n",
    "import pandas as pd\n",
    "from math import sqrt, pi"
   ]
  },
  {
   "cell_type": "code",
   "execution_count": 23,
   "metadata": {},
   "outputs": [],
   "source": [
    "def fastSVD(A, m, n, k, q):\n",
    "    \n",
    "    # STAGE A\n",
    "    \n",
    "    omega = np.random.normal(0, 100, (n, 2*k))\n",
    "    adjointA = A.getH()\n",
    "    AA = A @ adjointA\n",
    "    AOmega = A @ omega\n",
    "\n",
    "    Y = AOmega\n",
    "    for i in range(0, q):\n",
    "        Y = AA @ Y\n",
    "\n",
    "    (Q, R) = np.linalg.qr(Y)\n",
    "\n",
    "    # STAGE B\n",
    "\n",
    "    adjointQ = Q.getH()\n",
    "    B = adjointQ @ A\n",
    "    (tildeU, S, V) = np.linalg.svd(B)\n",
    "    U = Q @ tildeU\n",
    "    \n",
    "    return U, S, V, Q, adjointQ"
   ]
  },
  {
   "cell_type": "code",
   "execution_count": 24,
   "metadata": {},
   "outputs": [],
   "source": [
    "# Error bound formulas\n",
    "# pass in singular values, m, n, k, p\n",
    "\n",
    "# ||A - QQ*A|| < [1 + 9 sqrt(k + p) sqrt(min(m,n))] * k + 1st largest singular value of A\n",
    "def errorBound1(S, m, n, k, p):\n",
    "    singularVal = S[k]\n",
    "    return (1 + 9 * sqrt(k + p) * sqrt(min(m,n))) * singularVal\n",
    "\n",
    "# A Posteriori Error Estimation\n",
    "def aPosterioriError(S, m, n, k, Q, adjointQ, A):\n",
    "    r = 100\n",
    "    diff = A - Q @ adjointQ @ A\n",
    "    max = 0\n",
    "    for i in range(0,r):\n",
    "        norm = np.linalg.norm(diff @ np.random.normal(0, 1, (n, 1)), 2)\n",
    "        if max < norm:\n",
    "            max = norm\n",
    "    return max\n",
    "\n",
    "# Blanczos paper error bound 4.3\n",
    "def blanczosError(U, S, V, m, n, k, q, A, k1th_sing_val):\n",
    "    norm_diff = np.linalg.norm(A - U @ S @ V.transpose())\n",
    "    bound = 100 * l * (((m-k)/l) ** (1/(4*q + 2))) * k1th_sing_val\n",
    "    return norm_diff <= bound"
   ]
  },
  {
   "cell_type": "code",
   "execution_count": 25,
   "metadata": {
    "scrolled": true
   },
   "outputs": [
    {
     "name": "stdout",
     "output_type": "stream",
     "text": [
      "maximum singular value difference:  8.881784197001252e-15\n",
      "L2 norm error of ||A - QQ*A||:  1.6191411675362965e-14\n"
     ]
    }
   ],
   "source": [
    "# Run on random data\n",
    "\n",
    "def makeRandomData():\n",
    "    m = np.random.randint(50, 300)\n",
    "    n = np.random.randint(50, 300)\n",
    "    A = np.asmatrix(np.random.rand(m, n))\n",
    "    k = int((m + n)/4) # this is based on nothing, just picking some k\n",
    "    q = 2\n",
    "    return (A, m, n, k, q)\n",
    "\n",
    "A, m, n, k, q = makeRandomData()\n",
    "U, S, V, Q, adjointQ = fastSVD(A, m, n, k, q)\n",
    "\n",
    "# Look at differences:\n",
    "\n",
    "(u, s, v) = np.linalg.svd(A)\n",
    "simple_diff = s - S\n",
    "#print(\"subtracted difference between singular values: \", simple_diff)\n",
    "print(\"maximum singular value difference: \", max(simple_diff))\n",
    "\n",
    "diff = A - Q @ adjointQ @ A\n",
    "norm_diff = np.linalg.norm(diff, 2)\n",
    "print(\"L2 norm error of ||A - QQ*A||: \", norm_diff)"
   ]
  },
  {
   "cell_type": "code",
   "execution_count": 26,
   "metadata": {},
   "outputs": [],
   "source": [
    "# Define Hardy-Weinberg population normalization function (from John)\n",
    "\n",
    "def hwe_normalize(call_expr):\n",
    "    mt = call_expr._indices.source\n",
    "    mt = mt.select_entries(__gt=call_expr.n_alt_alleles())\n",
    "    mt = mt.annotate_rows(__AC=hl.agg.sum(mt.__gt),\n",
    "                          __n_called=hl.agg.count_where(hl.is_defined(mt.__gt)))\n",
    "    mt = mt.filter_rows((mt.__AC > 0) & (mt.__AC < 2 * mt.__n_called))\n",
    "\n",
    "    n_variants = mt.count_rows()\n",
    "    if n_variants == 0:\n",
    "        raise FatalError(\"hwe_normalized: found 0 variants after filtering out monomorphic sites.\")\n",
    "\n",
    "    mt = mt.annotate_rows(__mean_gt=mt.__AC / mt.__n_called)\n",
    "    mt = mt.annotate_rows(\n",
    "        __hwe_scaled_std_dev=hl.sqrt(mt.__mean_gt * (2 - mt.__mean_gt) * n_variants / 2))\n",
    "    mt = mt.unfilter_entries()\n",
    "\n",
    "    normalized_gt = hl.or_else((mt.__gt - mt.__mean_gt) / mt.__hwe_scaled_std_dev, 0.0)\n",
    "    return normalized_gt"
   ]
  },
  {
   "cell_type": "code",
   "execution_count": 27,
   "metadata": {},
   "outputs": [
    {
     "name": "stderr",
     "output_type": "stream",
     "text": [
      "2020-07-13 11:38:31 Hail: INFO: balding_nichols_model: generating genotypes for 3 populations, 1000 samples, and 10000 variants...\n",
      "2020-07-13 11:38:33 Hail: INFO: Coerced sorted dataset\n",
      "2020-07-13 11:38:36 Hail: INFO: Wrote all 3 blocks of 10000 x 1000 matrix with block size 4096.\n"
     ]
    }
   ],
   "source": [
    "# Import/generate genetic data in Hardy-Weinberg equilibrium\n",
    "# to run algorithm on more-realistic data\n",
    "mt = hl.balding_nichols_model(3, 1000, 10000)\n",
    "norm_gt = hwe_normalize(mt.GT)\n",
    "np_matrix = hl.linalg.BlockMatrix.from_entry_expr(norm_gt).to_numpy()"
   ]
  },
  {
   "cell_type": "code",
   "execution_count": 28,
   "metadata": {},
   "outputs": [
    {
     "name": "stdout",
     "output_type": "stream",
     "text": [
      "maximum singular value difference:  4.187487943684641e-07\n",
      "True\n"
     ]
    }
   ],
   "source": [
    "# Run fastPCA on genetic data\n",
    "\n",
    "A = np.asmatrix(np_matrix)\n",
    "m, n = np_matrix.shape\n",
    "k = int((m + n)/4)\n",
    "q = 2\n",
    "\n",
    "U, S, V, Q, adjointQ = fastSVD(A, m, n, k, q)\n",
    "\n",
    "# Look at differences:\n",
    "\n",
    "(u, s, v) = np.linalg.svd(A)\n",
    "simple_diff = s - S\n",
    "# print(\"subtracted difference between singular values: \", simple_diff)\n",
    "print(\"maximum singular value difference: \", max(simple_diff))\n",
    "\n",
    "diff = A - Q @ adjointQ @ A\n",
    "norm_diff = np.linalg.norm(diff, 2)\n",
    "\n",
    "# this method of error calculation not actually applicable?\n",
    "# print(\"L2 norm error of ||A - QQ*A||: \", norm_diff)\n",
    "# print(norm_diff < errorBound1(S, m, n, k, q))\n",
    "\n",
    "print(norm_diff < aPosterioriError(S, m, n, k, Q, adjointQ, A))"
   ]
  },
  {
   "cell_type": "code",
   "execution_count": 29,
   "metadata": {
    "scrolled": false
   },
   "outputs": [
    {
     "name": "stderr",
     "output_type": "stream",
     "text": [
      "2020-07-13 11:42:37 Hail: INFO: balding_nichols_model: generating genotypes for 3 populations, 1000 samples, and 1000 variants...\n",
      "2020-07-13 11:42:41 Hail: INFO: Coerced sorted dataset\n",
      "2020-07-13 11:42:42 Hail: INFO: Wrote all 1 blocks of 1000 x 1000 matrix with block size 4096.\n"
     ]
    },
    {
     "name": "stdout",
     "output_type": "stream",
     "text": [
      "m, n:  1000 1000\n",
      "k:  125\n",
      "l:  500\n",
      "Q (1000, 500) (500, 125)\n",
      "S (500, 500) (125, 1000)\n",
      "(500, 500) (1000, 500)\n",
      "(500,) 500\n",
      "(1000, 1000) (500, 500)\n",
      "T (1000, 500) (1000, 125)\n"
     ]
    },
    {
     "ename": "AssertionError",
     "evalue": "",
     "output_type": "error",
     "traceback": [
      "\u001b[0;31m------------------------------------------------\u001b[0m",
      "\u001b[0;31mAssertionError\u001b[0m Traceback (most recent call last)",
      "\u001b[0;32m<ipython-input-29-c9ca787080b2>\u001b[0m in \u001b[0;36m<module>\u001b[0;34m\u001b[0m\n\u001b[1;32m     53\u001b[0m \u001b[0mT\u001b[0m \u001b[0;34m=\u001b[0m \u001b[0mA\u001b[0m \u001b[0;34m@\u001b[0m \u001b[0mQ\u001b[0m\u001b[0;34m\u001b[0m\u001b[0;34m\u001b[0m\u001b[0m\n\u001b[1;32m     54\u001b[0m \u001b[0mprint\u001b[0m\u001b[0;34m(\u001b[0m\u001b[0;34m\"T\"\u001b[0m\u001b[0;34m,\u001b[0m \u001b[0mT\u001b[0m\u001b[0;34m.\u001b[0m\u001b[0mshape\u001b[0m\u001b[0;34m,\u001b[0m \u001b[0;34m(\u001b[0m\u001b[0mm\u001b[0m\u001b[0;34m,\u001b[0m \u001b[0mk\u001b[0m\u001b[0;34m)\u001b[0m\u001b[0;34m)\u001b[0m\u001b[0;34m\u001b[0m\u001b[0;34m\u001b[0m\u001b[0m\n\u001b[0;32m---> 55\u001b[0;31m \u001b[0;32massert\u001b[0m \u001b[0mT\u001b[0m\u001b[0;34m.\u001b[0m\u001b[0mshape\u001b[0m \u001b[0;34m==\u001b[0m \u001b[0;34m(\u001b[0m\u001b[0mm\u001b[0m\u001b[0;34m,\u001b[0m \u001b[0mk\u001b[0m\u001b[0;34m)\u001b[0m\u001b[0;34m\u001b[0m\u001b[0;34m\u001b[0m\u001b[0m\n\u001b[0m\u001b[1;32m     56\u001b[0m \u001b[0;34m(\u001b[0m\u001b[0mTu\u001b[0m\u001b[0;34m,\u001b[0m \u001b[0mTs\u001b[0m\u001b[0;34m,\u001b[0m \u001b[0mTw\u001b[0m\u001b[0;34m)\u001b[0m \u001b[0;34m=\u001b[0m \u001b[0mnp\u001b[0m\u001b[0;34m.\u001b[0m\u001b[0mlinalg\u001b[0m\u001b[0;34m.\u001b[0m\u001b[0msvd\u001b[0m\u001b[0;34m(\u001b[0m\u001b[0mT\u001b[0m\u001b[0;34m)\u001b[0m\u001b[0;34m\u001b[0m\u001b[0;34m\u001b[0m\u001b[0m\n\u001b[1;32m     57\u001b[0m \u001b[0mV\u001b[0m \u001b[0;34m=\u001b[0m \u001b[0mQ\u001b[0m \u001b[0;34m@\u001b[0m \u001b[0mTw\u001b[0m\u001b[0;34m\u001b[0m\u001b[0;34m\u001b[0m\u001b[0m\n",
      "\u001b[0;31mAssertionError\u001b[0m: "
     ]
    }
   ],
   "source": [
    "# Basic algorithm from Banczos paper\n",
    "# HAS DIMENSIONALITY ISSUES, will fail\n",
    "\n",
    "mt2 = hl.balding_nichols_model(3, 1000, 1000)\n",
    "norm_gt2 = hwe_normalize(mt2.GT)\n",
    "np_matrix2 = hl.linalg.BlockMatrix.from_entry_expr(norm_gt2).to_numpy()\n",
    "\n",
    "\n",
    "# again we use:\n",
    "A = np.asmatrix(np_matrix2)\n",
    "m, n = np_matrix2.shape\n",
    "k = int((m + n)/16)\n",
    "q = 2\n",
    "i = 5\n",
    "\n",
    "print(\"m, n: \", m, n)\n",
    "print(\"k: \", k)\n",
    "\n",
    "assert 2*k < m <= n\n",
    "\n",
    "# we choose an integer l > k such that l ≤ m − k\n",
    "l = int(m/2)\n",
    "print(\"l: \", l)\n",
    "assert l > k and l <= m - k\n",
    "\n",
    "G = np.random.normal(0, 1, (l, m))\n",
    "AAt = A @ A.transpose()\n",
    "AAti = AAt @ AAt\n",
    "for j in range(0,i):\n",
    "    AAti = AAti @ AAt\n",
    "R = G @ AAti @ A\n",
    "assert R.shape == (l, n)\n",
    "\n",
    "# having dimension issues here because it does not use\n",
    "# the method of creating Q from the paper\n",
    "(Q, S) = np.linalg.qr(R.transpose())\n",
    "print(\"Q\", Q.shape, (l, k))\n",
    "print(\"S\", S.shape, (k, n))\n",
    "\n",
    "(Ru, Rs, Rv) = np.linalg.svd(R)\n",
    "print(Ru.shape, (n, l))\n",
    "print(Rs.shape, l)\n",
    "print(Rv.shape, (l, l))\n",
    "s_sorted = np.sort(Rs)\n",
    "\n",
    "# print(s_sorted)\n",
    "# print(reverse(s))\n",
    "# assert (s == s_sorted).all()\n",
    "\n",
    "k_largest = s[k]\n",
    "assert np.linalg.norm(Q @ S - R.transpose(), 2) < k_largest\n",
    "\n",
    "T = A @ Q\n",
    "print(\"T\", T.shape, (m, k))\n",
    "assert T.shape == (m, k)\n",
    "(Tu, Ts, Tw) = np.linalg.svd(T)\n",
    "V = Q @ Tw\n",
    "\n"
   ]
  },
  {
   "cell_type": "code",
   "execution_count": 31,
   "metadata": {},
   "outputs": [
    {
     "name": "stderr",
     "output_type": "stream",
     "text": [
      "2020-07-13 11:46:13 Hail: INFO: balding_nichols_model: generating genotypes for 3 populations, 10000 samples, and 1000 variants...\n",
      "2020-07-13 11:46:17 Hail: INFO: Coerced sorted dataset\n",
      "2020-07-13 11:46:20 Hail: INFO: Wrote all 3 blocks of 1000 x 10000 matrix with block size 4096.\n"
     ]
    },
    {
     "name": "stdout",
     "output_type": "stream",
     "text": [
      "Satisfies Blanczos error bound equation 4.3:  True\n"
     ]
    }
   ],
   "source": [
    "# Banczos algorithm\n",
    "\n",
    "def blanczosSVD(A, m, n, k, l, q):\n",
    "\n",
    "    assert l > k\n",
    "    assert (q+1)*l <= (m - k)\n",
    "    assert m <= n\n",
    "\n",
    "    G = np.random.normal(0, 1, (l, m))\n",
    "    R = G @ A\n",
    "    #AtA = A.transpose() @ A\n",
    "    listR = [R]\n",
    "    for i in range(0, q):\n",
    "        Ri = (listR[i] @ A.transpose()) @ A\n",
    "        listR.append(Ri)\n",
    "        R = np.concatenate((R, Ri), axis=0)\n",
    "\n",
    "    (Q, S) = np.linalg.qr(R.transpose())\n",
    "    assert(Q.shape == (n, (q+1)*l))\n",
    "    assert(S.shape == ((q+1)*l, (q+1)*l))\n",
    "\n",
    "    T = A @ Q\n",
    "    assert(T.shape == (m, (q+1)*l))\n",
    "    \n",
    "    (Tu, Ts, Tw) = np.linalg.svd(T, full_matrices=False)\n",
    "    assert(Tu.shape, (m, (q+1)*l))\n",
    "    assert(Ts.shape == ((q+1)*l,))\n",
    "    assert(Tw.shape == ((q+1)*l, (q+1)*l))\n",
    "    \n",
    "    \n",
    "    V = Q @ Tw\n",
    "    \n",
    "    bound = blanczosError(Tu, np.diag(Ts), V, m, n, k, q, A, Ts[k])\n",
    "    print(\"Satisfies Blanczos error bound equation 4.3: \", bound)\n",
    "\n",
    "    return (Tu, Ts, V)\n",
    "\n",
    "\n",
    "mt3 = hl.balding_nichols_model(3, 10000, 1000)\n",
    "norm_gt3 = hwe_normalize(mt3.GT)\n",
    "np_matrix3 = hl.linalg.BlockMatrix.from_entry_expr(norm_gt3).to_numpy()\n",
    "\n",
    "A = np.asmatrix(np_matrix3)\n",
    "(m, n) = A.shape\n",
    "k = 50\n",
    "l = k + 2\n",
    "q = 8\n",
    "\n",
    "(blanczosU, blanczosS, blanczosV) = blanczosSVD(A, m, n, k, l, q)"
   ]
  },
  {
   "cell_type": "code",
   "execution_count": 79,
   "metadata": {},
   "outputs": [
    {
     "name": "stderr",
     "output_type": "stream",
     "text": [
      "2020-07-15 11:30:39 Hail: INFO: balding_nichols_model: generating genotypes for 3 populations, 1000 samples, and 10000 variants...\n",
      "2020-07-15 11:30:44 Hail: INFO: Coerced sorted dataset\n",
      "2020-07-15 11:30:49 Hail: INFO: Wrote all 3 blocks of 10000 x 1000 matrix with block size 4096.\n"
     ]
    }
   ],
   "source": [
    "# Manual blocked implementation\n",
    "# Uses direction of multiplication matching Patrick's notes instead of the paper\n",
    "\n",
    "mt4 = hl.balding_nichols_model(3, 1000, 10000)\n",
    "norm_gt4 = hwe_normalize(mt4.GT)\n",
    "np_matrix4 = hl.linalg.BlockMatrix.from_entry_expr(norm_gt4).to_numpy()\n",
    "\n",
    "A = np.asmatrix(np_matrix4)\n",
    "(m, n) = A.shape\n",
    "k = 50\n",
    "l = k + 2\n",
    "q = 0\n",
    "\n",
    "def makeBlockedA(A):\n",
    "    # doesn't make use of block_size yet...\n",
    "    return [A[i,:] for i in range(0,m)]\n",
    "\n",
    "# if C blocked by columns\n",
    "def matmulColBlocked(C, D):\n",
    "    prod = C[0] @ D\n",
    "    for i in range(1, len(C)):\n",
    "        prod = np.concatenate((prod, A[i] @ B), axis=0) \n",
    "\n",
    "def matmulRightRowBlocked(A, B):\n",
    "    prod = A[0] @ B\n",
    "    for i in range(1, m):\n",
    "        prod = np.concatenate((prod, A[i] @ B), axis=0) \n",
    "    return prod\n",
    "\n",
    "def matmulLeftRowBlocked(A, B):\n",
    "    prod = B @ A[0]\n",
    "    for i in range(0, m):\n",
    "        prod = np.concatenate((prod, A[i] @ B), axis=0) \n",
    "    return prod\n",
    "\n",
    "\n",
    "def blockedBlanczosSVD(A, blockedA, m, n, k, l, q):\n",
    "\n",
    "    assert l > k\n",
    "    assert (q+1)*l <= (m - k)\n",
    "    assert n <= m\n",
    "\n",
    "    G = np.random.normal(0, 1, (n,l))\n",
    "    \n",
    "    # if q = 0 this is all we need\n",
    "    H = blockedA[0] @ G\n",
    "    for i in range(1,m):\n",
    "        H = np.concatenate((H, blockedA[i] @ G), axis=0) \n",
    "        \n",
    "    assert(H.shape == (m, (q+1)*l))\n",
    "    \n",
    "    listH = [H]\n",
    "    for i in range(0, q):\n",
    "        Hi = A @ (A.transpose() @ listH[i] )\n",
    "        listH.append(Hi)\n",
    "        H = np.concatenate((H, Hi), axis=0)\n",
    "\n",
    "    (Q, R) = np.linalg.qr(H)\n",
    "    assert(Q.shape == (m, (q+1)*l))\n",
    "    assert(R.shape == ((q+1)*l, (q+1)*l))\n",
    "\n",
    "    print(\"Q\", Q.shape)\n",
    "    print(\"A\", A.shape)\n",
    "    \n",
    "    T = Q.transpose() @ A\n",
    "    assert(T.shape == ((q+1)*l), m)\n",
    "    \n",
    "    (Tu, Ts, Tw) = np.linalg.svd(T, full_matrices=False)\n",
    "    assert(Tu.shape, (m, (q+1)*l))\n",
    "    assert(Ts.shape == ((q+1)*l,))\n",
    "    assert(Tw.shape == ((q+1)*l, (q+1)*l))\n",
    "    \n",
    "    \n",
    "    V = Q @ Tw\n",
    "    \n",
    "    bound = blanczosError(Tu, np.diag(Ts), V, m, n, k, q, A, Ts[k])\n",
    "    print(\"Satisfies Blanczos error bound equation 4.3: \", bound)\n",
    "\n",
    "    return (Tu, Ts, V)\n"
   ]
  },
  {
   "cell_type": "code",
   "execution_count": 77,
   "metadata": {},
   "outputs": [
    {
     "name": "stdout",
     "output_type": "stream",
     "text": [
      "Q (10000, 52)\n"
     ]
    },
    {
     "ename": "AttributeError",
     "evalue": "'list' object has no attribute 'shape'",
     "output_type": "error",
     "traceback": [
      "\u001b[0;31m---------------------------------------------------------------------------\u001b[0m",
      "\u001b[0;31mAttributeError\u001b[0m                            Traceback (most recent call last)",
      "\u001b[0;32m<ipython-input-77-7634bf9081ce>\u001b[0m in \u001b[0;36m<module>\u001b[0;34m\u001b[0m\n\u001b[0;32m----> 1\u001b[0;31m \u001b[0mblockedBlanczosSVD\u001b[0m\u001b[0;34m(\u001b[0m\u001b[0mmakeBlockedA\u001b[0m\u001b[0;34m(\u001b[0m\u001b[0;36m1\u001b[0m\u001b[0;34m)\u001b[0m\u001b[0;34m,\u001b[0m \u001b[0mm\u001b[0m\u001b[0;34m,\u001b[0m \u001b[0mn\u001b[0m\u001b[0;34m,\u001b[0m \u001b[0mk\u001b[0m\u001b[0;34m,\u001b[0m \u001b[0ml\u001b[0m\u001b[0;34m,\u001b[0m \u001b[0mq\u001b[0m\u001b[0;34m)\u001b[0m\u001b[0;34m\u001b[0m\u001b[0;34m\u001b[0m\u001b[0m\n\u001b[0m",
      "\u001b[0;32m<ipython-input-76-41a6f995ca31>\u001b[0m in \u001b[0;36mblockedBlanczosSVD\u001b[0;34m(A, m, n, k, l, q)\u001b[0m\n\u001b[1;32m     49\u001b[0m \u001b[0;34m\u001b[0m\u001b[0m\n\u001b[1;32m     50\u001b[0m     \u001b[0mprint\u001b[0m\u001b[0;34m(\u001b[0m\u001b[0;34m\"Q\"\u001b[0m\u001b[0;34m,\u001b[0m \u001b[0mQ\u001b[0m\u001b[0;34m.\u001b[0m\u001b[0mshape\u001b[0m\u001b[0;34m)\u001b[0m\u001b[0;34m\u001b[0m\u001b[0;34m\u001b[0m\u001b[0m\n\u001b[0;32m---> 51\u001b[0;31m     \u001b[0mprint\u001b[0m\u001b[0;34m(\u001b[0m\u001b[0;34m\"A\"\u001b[0m\u001b[0;34m,\u001b[0m \u001b[0mA\u001b[0m\u001b[0;34m.\u001b[0m\u001b[0mshape\u001b[0m\u001b[0;34m)\u001b[0m\u001b[0;34m\u001b[0m\u001b[0;34m\u001b[0m\u001b[0m\n\u001b[0m\u001b[1;32m     52\u001b[0m \u001b[0;34m\u001b[0m\u001b[0m\n\u001b[1;32m     53\u001b[0m     \u001b[0mT\u001b[0m \u001b[0;34m=\u001b[0m \u001b[0mQ\u001b[0m\u001b[0;34m.\u001b[0m\u001b[0mtranspose\u001b[0m\u001b[0;34m(\u001b[0m\u001b[0;34m)\u001b[0m \u001b[0;34m@\u001b[0m \u001b[0mA\u001b[0m\u001b[0;34m\u001b[0m\u001b[0;34m\u001b[0m\u001b[0m\n",
      "\u001b[0;31mAttributeError\u001b[0m: 'list' object has no attribute 'shape'"
     ]
    }
   ],
   "source": [
    "blockedBlanczosSVD(makeBlockedA(A), m, n, k, l, q)"
   ]
  },
  {
   "cell_type": "code",
   "execution_count": 78,
   "metadata": {},
   "outputs": [],
   "source": []
  },
  {
   "cell_type": "code",
   "execution_count": null,
   "metadata": {},
   "outputs": [],
   "source": []
  }
 ],
 "metadata": {
  "kernelspec": {
   "display_name": "Python 3",
   "language": "python",
   "name": "python3"
  },
  "language_info": {
   "codemirror_mode": {
    "name": "ipython",
    "version": 3
   },
   "file_extension": ".py",
   "mimetype": "text/x-python",
   "name": "python",
   "nbconvert_exporter": "python",
   "pygments_lexer": "ipython3",
   "version": "3.7.7"
  }
 },
 "nbformat": 4,
 "nbformat_minor": 4
}
